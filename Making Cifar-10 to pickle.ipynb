{
 "cells": [
  {
   "cell_type": "code",
   "execution_count": 1,
   "id": "e6dc0499",
   "metadata": {},
   "outputs": [],
   "source": [
    "import pickle\n",
    "import tensorflow as tf\n",
    "import matplotlib.pyplot as plt\n",
    "import numpy as np\n",
    "from tensorflow.keras import datasets\n",
    "from PIL import Image\n",
    "import os"
   ]
  },
  {
   "cell_type": "code",
   "execution_count": 2,
   "id": "0497e8fe",
   "metadata": {},
   "outputs": [],
   "source": [
    "import tensorflow as tf\n",
    "from tensorflow.keras import datasets,layers,models\n",
    "import matplotlib.pyplot as plt\n",
    "import numpy as np\n",
    "from sklearn.metrics import confusion_matrix,classification_report"
   ]
  },
  {
   "cell_type": "code",
   "execution_count": 3,
   "id": "0060177c",
   "metadata": {},
   "outputs": [],
   "source": [
    "(X_train,y_train),(X_test,y_test)=datasets.cifar10.load_data()"
   ]
  },
  {
   "cell_type": "code",
   "execution_count": 4,
   "id": "c6cc34a8",
   "metadata": {},
   "outputs": [
    {
     "data": {
      "text/plain": [
       "(50000, 32, 32, 3)"
      ]
     },
     "execution_count": 4,
     "metadata": {},
     "output_type": "execute_result"
    }
   ],
   "source": [
    "X_train.shape\n",
    "#So each image has been defined in 32*32 pixel in each pixel there are 3 channel for R,G,B value as red ,green,blue \n",
    "#can be used to define any color"
   ]
  },
  {
   "cell_type": "code",
   "execution_count": 5,
   "id": "89ef7260",
   "metadata": {},
   "outputs": [
    {
     "data": {
      "text/plain": [
       "(10000, 32, 32, 3)"
      ]
     },
     "execution_count": 5,
     "metadata": {},
     "output_type": "execute_result"
    }
   ],
   "source": [
    "X_test.shape"
   ]
  },
  {
   "cell_type": "code",
   "execution_count": 6,
   "id": "366b2024",
   "metadata": {},
   "outputs": [
    {
     "data": {
      "text/plain": [
       "(50000, 1)"
      ]
     },
     "execution_count": 6,
     "metadata": {},
     "output_type": "execute_result"
    }
   ],
   "source": [
    "y_train.shape"
   ]
  },
  {
   "cell_type": "code",
   "execution_count": 7,
   "id": "51aeb6bb",
   "metadata": {},
   "outputs": [
    {
     "data": {
      "text/plain": [
       "(10000, 1)"
      ]
     },
     "execution_count": 7,
     "metadata": {},
     "output_type": "execute_result"
    }
   ],
   "source": [
    "y_test.shape"
   ]
  },
  {
   "cell_type": "code",
   "execution_count": 8,
   "id": "6b6d2211",
   "metadata": {},
   "outputs": [
    {
     "data": {
      "text/plain": [
       "array([[[ 59,  62,  63],\n",
       "        [ 43,  46,  45],\n",
       "        [ 50,  48,  43],\n",
       "        ...,\n",
       "        [158, 132, 108],\n",
       "        [152, 125, 102],\n",
       "        [148, 124, 103]],\n",
       "\n",
       "       [[ 16,  20,  20],\n",
       "        [  0,   0,   0],\n",
       "        [ 18,   8,   0],\n",
       "        ...,\n",
       "        [123,  88,  55],\n",
       "        [119,  83,  50],\n",
       "        [122,  87,  57]],\n",
       "\n",
       "       [[ 25,  24,  21],\n",
       "        [ 16,   7,   0],\n",
       "        [ 49,  27,   8],\n",
       "        ...,\n",
       "        [118,  84,  50],\n",
       "        [120,  84,  50],\n",
       "        [109,  73,  42]],\n",
       "\n",
       "       ...,\n",
       "\n",
       "       [[208, 170,  96],\n",
       "        [201, 153,  34],\n",
       "        [198, 161,  26],\n",
       "        ...,\n",
       "        [160, 133,  70],\n",
       "        [ 56,  31,   7],\n",
       "        [ 53,  34,  20]],\n",
       "\n",
       "       [[180, 139,  96],\n",
       "        [173, 123,  42],\n",
       "        [186, 144,  30],\n",
       "        ...,\n",
       "        [184, 148,  94],\n",
       "        [ 97,  62,  34],\n",
       "        [ 83,  53,  34]],\n",
       "\n",
       "       [[177, 144, 116],\n",
       "        [168, 129,  94],\n",
       "        [179, 142,  87],\n",
       "        ...,\n",
       "        [216, 184, 140],\n",
       "        [151, 118,  84],\n",
       "        [123,  92,  72]]], dtype=uint8)"
      ]
     },
     "execution_count": 8,
     "metadata": {},
     "output_type": "execute_result"
    }
   ],
   "source": [
    "X_train[0]"
   ]
  },
  {
   "cell_type": "code",
   "execution_count": 9,
   "id": "e4984c98",
   "metadata": {},
   "outputs": [],
   "source": [
    "resized_X_train = tf.image.resize(X_train, (24, 24))\n",
    "resized_X_test = tf.image.resize(X_test, (24, 24))"
   ]
  },
  {
   "cell_type": "code",
   "execution_count": 10,
   "id": "0ea8c14d",
   "metadata": {},
   "outputs": [],
   "source": [
    "#resized_X_train=tf.image.adjust_contrast(resized_X_train,1)\n",
    "#resized_X_test=tf.image.adjust_contrast(resized_X_test,1)"
   ]
  },
  {
   "cell_type": "code",
   "execution_count": 11,
   "id": "82584cbe",
   "metadata": {},
   "outputs": [],
   "source": [
    "#resized_X_train=tf.image.adjust_brightness(resized_X_train,2.855)\n",
    "#resized_X_test=tf.image.adjust_brightness(resized_X_test,2.855)"
   ]
  },
  {
   "cell_type": "code",
   "execution_count": 12,
   "id": "c76d4395",
   "metadata": {},
   "outputs": [
    {
     "data": {
      "text/plain": [
       "TensorShape([50000, 24, 24, 3])"
      ]
     },
     "execution_count": 12,
     "metadata": {},
     "output_type": "execute_result"
    }
   ],
   "source": [
    "resized_X_train.shape"
   ]
  },
  {
   "cell_type": "code",
   "execution_count": 13,
   "id": "b306a4fa",
   "metadata": {},
   "outputs": [
    {
     "data": {
      "text/plain": [
       "TensorShape([50000, 24, 24, 3])"
      ]
     },
     "execution_count": 13,
     "metadata": {},
     "output_type": "execute_result"
    }
   ],
   "source": [
    "resized_X_train.shape"
   ]
  },
  {
   "cell_type": "code",
   "execution_count": 14,
   "id": "1dacd46f",
   "metadata": {},
   "outputs": [
    {
     "data": {
      "text/plain": [
       "<tf.Tensor: shape=(24, 24, 3), dtype=float32, numpy=\n",
       "array([[[ 49.166664,  52.22222 ,  52.77778 ],\n",
       "        [ 40.25    ,  39.833332,  36.666664],\n",
       "        [ 61.75    ,  48.13889 ,  36.25    ],\n",
       "        ...,\n",
       "        [153.55556 , 124.38889 ,  97.083336],\n",
       "        [149.33333 , 121.333336,  96.25    ],\n",
       "        [144.13889 , 117.86111 ,  95.      ]],\n",
       "\n",
       "       [[ 18.416666,  18.916666,  17.083332],\n",
       "        [ 20.75    ,  10.5     ,   2.      ],\n",
       "        [ 61.416676,  35.000004,  13.583335],\n",
       "        ...,\n",
       "        [129.66666 ,  93.499985,  57.916656],\n",
       "        [120.      ,  84.75    ,  51.25    ],\n",
       "        [116.166664,  80.58333 ,  49.583332]],\n",
       "\n",
       "       [[ 32.11111 ,  23.666666,  15.277777],\n",
       "        [ 57.500004,  33.66667 ,  12.750002],\n",
       "        [ 98.58334 ,  58.944447,  26.333336],\n",
       "        ...,\n",
       "        [128.97221 ,  89.97222 ,  51.111107],\n",
       "        [122.333336,  85.666664,  49.166668],\n",
       "        [100.55554 ,  67.33332 ,  38.194435]],\n",
       "\n",
       "       ...,\n",
       "\n",
       "       [[215.16666 , 175.08333 ,  80.52779 ],\n",
       "        [194.5     , 150.33334 ,  24.166676],\n",
       "        [177.30557 , 143.36113 ,  27.25    ],\n",
       "        ...,\n",
       "        [176.6666  , 145.91661 ,  90.41662 ],\n",
       "        [113.41666 ,  85.74999 ,  46.416656],\n",
       "        [ 39.611122,  22.805567,  10.472235]],\n",
       "\n",
       "       [[192.83333 , 151.75    ,  86.33333 ],\n",
       "        [189.5     , 145.25    ,  33.      ],\n",
       "        [192.41667 , 154.58334 ,  26.333332],\n",
       "        ...,\n",
       "        [140.33337 , 106.33339 ,  62.416695],\n",
       "        [124.25    ,  93.5     ,  51.25    ],\n",
       "        [ 69.416664,  43.999996,  25.916672]],\n",
       "\n",
       "       [[176.05556 , 140.63889 , 108.11113 ],\n",
       "        [174.5     , 135.16667 ,  81.4167  ],\n",
       "        [187.52777 , 148.44444 ,  62.91669 ],\n",
       "        ...,\n",
       "        [171.36119 , 139.94453 , 102.19452 ],\n",
       "        [176.33336 , 143.33336 , 104.00003 ],\n",
       "        [120.61112 ,  89.361115,  67.33335 ]]], dtype=float32)>"
      ]
     },
     "execution_count": 14,
     "metadata": {},
     "output_type": "execute_result"
    }
   ],
   "source": [
    "resized_X_train[0]"
   ]
  },
  {
   "cell_type": "code",
   "execution_count": 15,
   "id": "2eda4a6f",
   "metadata": {},
   "outputs": [],
   "source": [
    "train_images_resized_np = np.array(resized_X_train.numpy(), dtype=np.uint8)\n",
    "test_images_resized_np = np.array(resized_X_test.numpy(), dtype=np.uint8)"
   ]
  },
  {
   "cell_type": "code",
   "execution_count": 16,
   "id": "a71bbdeb",
   "metadata": {},
   "outputs": [
    {
     "data": {
      "text/plain": [
       "(50000, 24, 24, 3)"
      ]
     },
     "execution_count": 16,
     "metadata": {},
     "output_type": "execute_result"
    }
   ],
   "source": [
    "train_images_resized_np.shape"
   ]
  },
  {
   "cell_type": "code",
   "execution_count": 17,
   "id": "28f17518",
   "metadata": {},
   "outputs": [
    {
     "data": {
      "text/plain": [
       "array([[[ 49,  52,  52],\n",
       "        [ 40,  39,  36],\n",
       "        [ 61,  48,  36],\n",
       "        ...,\n",
       "        [153, 124,  97],\n",
       "        [149, 121,  96],\n",
       "        [144, 117,  95]],\n",
       "\n",
       "       [[ 18,  18,  17],\n",
       "        [ 20,  10,   2],\n",
       "        [ 61,  35,  13],\n",
       "        ...,\n",
       "        [129,  93,  57],\n",
       "        [120,  84,  51],\n",
       "        [116,  80,  49]],\n",
       "\n",
       "       [[ 32,  23,  15],\n",
       "        [ 57,  33,  12],\n",
       "        [ 98,  58,  26],\n",
       "        ...,\n",
       "        [128,  89,  51],\n",
       "        [122,  85,  49],\n",
       "        [100,  67,  38]],\n",
       "\n",
       "       ...,\n",
       "\n",
       "       [[215, 175,  80],\n",
       "        [194, 150,  24],\n",
       "        [177, 143,  27],\n",
       "        ...,\n",
       "        [176, 145,  90],\n",
       "        [113,  85,  46],\n",
       "        [ 39,  22,  10]],\n",
       "\n",
       "       [[192, 151,  86],\n",
       "        [189, 145,  33],\n",
       "        [192, 154,  26],\n",
       "        ...,\n",
       "        [140, 106,  62],\n",
       "        [124,  93,  51],\n",
       "        [ 69,  43,  25]],\n",
       "\n",
       "       [[176, 140, 108],\n",
       "        [174, 135,  81],\n",
       "        [187, 148,  62],\n",
       "        ...,\n",
       "        [171, 139, 102],\n",
       "        [176, 143, 104],\n",
       "        [120,  89,  67]]], dtype=uint8)"
      ]
     },
     "execution_count": 17,
     "metadata": {},
     "output_type": "execute_result"
    }
   ],
   "source": [
    "train_images_resized_np[0]"
   ]
  },
  {
   "cell_type": "code",
   "execution_count": 18,
   "id": "bf81e2fa",
   "metadata": {},
   "outputs": [
    {
     "data": {
      "text/plain": [
       "<matplotlib.image.AxesImage at 0x1f089f7c3d0>"
      ]
     },
     "execution_count": 18,
     "metadata": {},
     "output_type": "execute_result"
    },
    {
     "data": {
      "image/png": "[encoded data removed]",
      "text/plain": [
       "<Figure size 432x288 with 1 Axes>"
      ]
     },
     "metadata": {
      "needs_background": "light"
     },
     "output_type": "display_data"
    }
   ],
   "source": [
    "#Plotting the resized image \n",
    "plt.figure(figsize=(6,4))\n",
    "plt.imshow(train_images_resized_np[0])"
   ]
  },
  {
   "cell_type": "code",
   "execution_count": 19,
   "id": "f4c02f47",
   "metadata": {},
   "outputs": [
    {
     "data": {
      "text/plain": [
       "<matplotlib.image.AxesImage at 0x1f08ce7ff40>"
      ]
     },
     "execution_count": 19,
     "metadata": {},
     "output_type": "execute_result"
    },
    {
     "data": {
      "image/png": "[encoded data removed]",
      "text/plain": [
       "<Figure size 432x288 with 1 Axes>"
      ]
     },
     "metadata": {
      "needs_background": "light"
     },
     "output_type": "display_data"
    }
   ],
   "source": [
    "#Plotting the resized image \n",
    "plt.figure(figsize=(6,4))\n",
    "plt.imshow(test_images_resized_np[0])"
   ]
  },
  {
   "cell_type": "markdown",
   "id": "78ea6d8d",
   "metadata": {},
   "source": [
    "### The image resizing operation may cause some distortion or loss of information depending on the original image size and the target size. However, if the target size is not too different from the original size, the distortion should be minimal and the image should be still properly visible. In the case of resizing CIFAR-10 images from 32x32x3 to 24x24x3, the distortion should be minimal.\n",
    "### That being said, if you want to avoid any distortion or loss of information, you may want to consider using padding to resize the images instead of directly resizing them. This will add padding around the images to make them fit the target size without changing their aspect ratio. Here is an example code that uses padding to resize CIFAR-10 images to 24x24x3:"
   ]
  },
  {
   "cell_type": "markdown",
   "id": "b0c1063c",
   "metadata": {},
   "source": [
    "#### Different kind of algorithm for interpolation methos\n",
    "#### AREA\t'area'\n",
    "#### BICUBIC\t'bicubic'\n",
    "#### BILINEAR\t'bilinear'\n",
    "#### GAUSSIAN\t'gaussian'\n",
    "#### LANCZOS3\t'lanczos3'\n",
    "#### LANCZOS5\t'lanczos5'\n",
    "#### MITCHELLCUBIC\t'mitchellcubic'\n",
    "#### NEAREST_NEIGHBOR\t'nearest'"
   ]
  },
  {
   "cell_type": "markdown",
   "id": "3ebd6dda",
   "metadata": {},
   "source": [
    "# Here various kinds of interpolation can be applied but in this case it seems that the default interpolation is good  so that has been  taken "
   ]
  },
  {
   "cell_type": "code",
   "execution_count": 20,
   "id": "988df59c",
   "metadata": {},
   "outputs": [],
   "source": [
    "#train_images, train_labels), (test_images, test_labels) = tf.keras.datasets.cifar10.load_data()\n",
    "# add padding to resize images to 24x24x3\n",
    "\n",
    "#Here the target size is 36 for width and height and the X_train width is 32 so target height and width >=current height+ offset\n",
    "#here offset is 4\n",
    "train_images_resized = tf.image.pad_to_bounding_box(X_train,4,4,36,36)\n",
    "test_images_resized = tf.image.pad_to_bounding_box(X_test, 4,4,36,36)\n",
    "'''\n",
    "tf.image.resize(images,size,method=ResizeMethod.BILINEAR,preserve_aspect_ratio=False,antialias=False,name=None)\n",
    "'''\n",
    "'''\n",
    "tf.image.resize() uses the bilinear interpolation algorithm, which computes each new pixel value as a weighted average\n",
    "of the four nearest original pixels. Other interpolation algorithms available in TensorFlow include\n",
    "nearest neighbor, bicubic, and Lanczos.\n",
    "'''\n",
    "train_images_resized1 = tf.image.resize(train_images_resized, (24, 24),antialias=True,method=tf.image.ResizeMethod.MITCHELLCUBIC,\n",
    "                                            preserve_aspect_ratio=True)\n",
    "test_images_resized1 = tf.image.resize(test_images_resized, (24, 24),antialias=True,method=tf.image.ResizeMethod.MITCHELLCUBIC,\n",
    "                                       preserve_aspect_ratio=True)\n",
    "#27-4+1=24 so 24*24 image is found\n",
    "train_images_resized1 = train_images_resized1[:, 4:28, 4:28, :]\n",
    "test_images_resized1 = test_images_resized1[:, 4:28, 4:28, :]\n",
    "\n",
    "# convert resized images to NumPy arrays with dtype uint8\n",
    "train_images_resized_np1 = np.array(train_images_resized1.numpy(), dtype=np.uint8)\n",
    "test_images_resized_np1 = np.array(test_images_resized1.numpy(), dtype=np.uint8)\n"
   ]
  },
  {
   "cell_type": "code",
   "execution_count": 21,
   "id": "8da1b2e0",
   "metadata": {},
   "outputs": [
    {
     "data": {
      "text/plain": [
       "<matplotlib.image.AxesImage at 0x1f08cf0d5b0>"
      ]
     },
     "execution_count": 21,
     "metadata": {},
     "output_type": "execute_result"
    },
    {
     "data": {
      "image/png": "[encoded data removed]",
      "text/plain": [
       "<Figure size 432x288 with 1 Axes>"
      ]
     },
     "metadata": {
      "needs_background": "light"
     },
     "output_type": "display_data"
    }
   ],
   "source": [
    "plt.figure(figsize=(6,4))\n",
    "plt.imshow(train_images_resized_np1[0])"
   ]
  },
  {
   "cell_type": "code",
   "execution_count": 22,
   "id": "39192a87",
   "metadata": {},
   "outputs": [
    {
     "data": {
      "text/plain": [
       "<matplotlib.image.AxesImage at 0x1f08cf7d100>"
      ]
     },
     "execution_count": 22,
     "metadata": {},
     "output_type": "execute_result"
    },
    {
     "data": {
      "image/png": "[encoded data removed]",
      "text/plain": [
       "<Figure size 432x288 with 1 Axes>"
      ]
     },
     "metadata": {
      "needs_background": "light"
     },
     "output_type": "display_data"
    }
   ],
   "source": [
    "#plotting the old image\n",
    "plt.figure(figsize=(6,4))\n",
    "plt.imshow(X_train[0])"
   ]
  },
  {
   "cell_type": "code",
   "execution_count": 23,
   "id": "92832e60",
   "metadata": {},
   "outputs": [
    {
     "data": {
      "text/plain": [
       "<matplotlib.image.AxesImage at 0x1f08cfe9280>"
      ]
     },
     "execution_count": 23,
     "metadata": {},
     "output_type": "execute_result"
    },
    {
     "data": {
      "image/png": "[encoded data removed]",
      "text/plain": [
       "<Figure size 432x288 with 1 Axes>"
      ]
     },
     "metadata": {
      "needs_background": "light"
     },
     "output_type": "display_data"
    }
   ],
   "source": [
    "#plotting the old image\n",
    "plt.figure(figsize=(6,4))\n",
    "plt.imshow(X_test[0])"
   ]
  },
  {
   "cell_type": "markdown",
   "id": "8ab05b87",
   "metadata": {},
   "source": [
    "## Here pickle file is dumped "
   ]
  },
  {
   "cell_type": "code",
   "execution_count": 24,
   "id": "84a885fa",
   "metadata": {},
   "outputs": [],
   "source": [
    "with open('X_train.pkl','wb') as pickle_file: \n",
    "    pickle.dump(train_images_resized_np,pickle_file)"
   ]
  },
  {
   "cell_type": "code",
   "execution_count": 25,
   "id": "62c4cfbb",
   "metadata": {},
   "outputs": [],
   "source": [
    "with open('X_test.pkl','wb') as pickle_file: \n",
    "    pickle.dump(test_images_resized_np,pickle_file)"
   ]
  },
  {
   "cell_type": "code",
   "execution_count": 26,
   "id": "99c84a3f",
   "metadata": {},
   "outputs": [],
   "source": [
    "with open('y_train.pkl','wb') as pickle_file: \n",
    "    pickle.dump(y_train,pickle_file)"
   ]
  },
  {
   "cell_type": "code",
   "execution_count": 27,
   "id": "5587e97b",
   "metadata": {},
   "outputs": [],
   "source": [
    "with open('y_test.pkl','wb') as pickle_file: \n",
    "    pickle.dump(y_test,pickle_file)"
   ]
  },
  {
   "cell_type": "code",
   "execution_count": 28,
   "id": "ccc60665",
   "metadata": {},
   "outputs": [
    {
     "name": "stdout",
     "output_type": "stream",
     "text": [
      "Model: \"sequential\"\n",
      "_________________________________________________________________\n",
      " Layer (type)                Output Shape              Param #   \n",
      "=================================================================\n",
      " conv2d (Conv2D)             (None, 30, 30, 64)        1792      \n",
      "                                                                 \n",
      " max_pooling2d (MaxPooling2D  (None, 15, 15, 64)       0         \n",
      " )                                                               \n",
      "                                                                 \n",
      " conv2d_1 (Conv2D)           (None, 13, 13, 128)       73856     \n",
      "                                                                 \n",
      " max_pooling2d_1 (MaxPooling  (None, 6, 6, 128)        0         \n",
      " 2D)                                                             \n",
      "                                                                 \n",
      " conv2d_2 (Conv2D)           (None, 4, 4, 256)         295168    \n",
      "                                                                 \n",
      " flatten (Flatten)           (None, 4096)              0         \n",
      "                                                                 \n",
      " dense (Dense)               (None, 512)               2097664   \n",
      "                                                                 \n",
      " dense_1 (Dense)             (None, 256)               131328    \n",
      "                                                                 \n",
      " dense_2 (Dense)             (None, 128)               32896     \n",
      "                                                                 \n",
      " dense_3 (Dense)             (None, 64)                8256      \n",
      "                                                                 \n",
      " dense_4 (Dense)             (None, 10)                650       \n",
      "                                                                 \n",
      "=================================================================\n",
      "Total params: 2,641,610\n",
      "Trainable params: 2,641,610\n",
      "Non-trainable params: 0\n",
      "_________________________________________________________________\n"
     ]
    }
   ],
   "source": [
    "global_model = tf.keras.models.Sequential()\n",
    "global_model.add(tf.keras.layers.Conv2D(64, (3, 3), activation='relu', input_shape=(32, 32, 3)))\n",
    "global_model.add(tf.keras.layers.MaxPooling2D((2, 2)))\n",
    "global_model.add(tf.keras.layers.Conv2D(128, (3, 3), activation='relu'))\n",
    "global_model.add(tf.keras.layers.MaxPooling2D((2, 2)))\n",
    "global_model.add(tf.keras.layers.Conv2D(256, (3, 3), activation='relu'))\n",
    "global_model.add(tf.keras.layers.Flatten())\n",
    "global_model.add(tf.keras.layers.Dense(512, activation='relu'))\n",
    "global_model.add(tf.keras.layers.Dense(256, activation='relu'))\n",
    "global_model.add(tf.keras.layers.Dense(128, activation='relu'))\n",
    "global_model.add(tf.keras.layers.Dense(64, activation='relu'))\n",
    "global_model.add(tf.keras.layers.Dense(10, activation='softmax'))\n",
    "global_model.compile(loss='categorical_crossentropy', optimizer='Adam', metrics=['accuracy'])\n",
    "# Print the model summary\n",
    "global_model.summary()"
   ]
  },
  {
   "cell_type": "code",
   "execution_count": 29,
   "id": "99e34026",
   "metadata": {},
   "outputs": [
    {
     "name": "stdout",
     "output_type": "stream",
     "text": [
      "Model: \"sequential_1\"\n",
      "_________________________________________________________________\n",
      " Layer (type)                Output Shape              Param #   \n",
      "=================================================================\n",
      " conv2d_3 (Conv2D)           (None, 22, 22, 32)        896       \n",
      "                                                                 \n",
      " max_pooling2d_2 (MaxPooling  (None, 11, 11, 32)       0         \n",
      " 2D)                                                             \n",
      "                                                                 \n",
      " conv2d_4 (Conv2D)           (None, 9, 9, 64)          18496     \n",
      "                                                                 \n",
      " flatten_1 (Flatten)         (None, 5184)              0         \n",
      "                                                                 \n",
      " dense_5 (Dense)             (None, 180)               933300    \n",
      "                                                                 \n",
      " dense_6 (Dense)             (None, 90)                16290     \n",
      "                                                                 \n",
      " dense_7 (Dense)             (None, 10)                910       \n",
      "                                                                 \n",
      "=================================================================\n",
      "Total params: 969,892\n",
      "Trainable params: 969,892\n",
      "Non-trainable params: 0\n",
      "_________________________________________________________________\n"
     ]
    }
   ],
   "source": [
    "global_model = models.Sequential()\n",
    "global_model.add(tf.keras.layers.Conv2D(32, (3, 3), activation='relu', input_shape=(24,24,3)))\n",
    "global_model.add(tf.keras.layers.MaxPooling2D((2, 2)))\n",
    "global_model.add(tf.keras.layers.Conv2D(64, (3, 3), activation='relu'))\n",
    "global_model.add(tf.keras.layers.Flatten())\n",
    "global_model.add(tf.keras.layers.Dense(180, activation='relu'))\n",
    "global_model.add(tf.keras.layers.Dense(90, activation='relu'))\n",
    "global_model.add(tf.keras.layers.Dense(10, activation='softmax'))\n",
    "global_model.summary()"
   ]
  }
 ],
 "metadata": {
  "kernelspec": {
   "display_name": "Python 3 (ipykernel)",
   "language": "python",
   "name": "python3"
  },
  "language_info": {
   "codemirror_mode": {
    "name": "ipython",
    "version": 3
   },
   "file_extension": ".py",
   "mimetype": "text/x-python",
   "name": "python",
   "nbconvert_exporter": "python",
   "pygments_lexer": "ipython3",
   "version": "3.9.0"
  }
 },
 "nbformat": 4,
 "nbformat_minor": 5
}
