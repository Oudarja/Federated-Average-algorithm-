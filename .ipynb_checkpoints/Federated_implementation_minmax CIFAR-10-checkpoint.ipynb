{
 "cells": [
  {
   "cell_type": "code",
   "execution_count": 2,
   "id": "9968fb05",
   "metadata": {},
   "outputs": [],
   "source": [
    "import numpy as np\n",
    "import random\n",
    "import os\n",
    "import pickle \n",
    "%matplotlib inline\n",
    "import matplotlib as mpl \n",
    "import matplotlib.pyplot as plt\n",
    "from sklearn.model_selection import train_test_split\n",
    "from sklearn.preprocessing import LabelBinarizer \n",
    "from sklearn.model_selection import train_test_split\n",
    "from sklearn.utils import shuffle\n",
    "from sklearn.metrics import accuracy_score\n",
    "#tqdm is a package for Python that enables you to instantly \n",
    "#create progress bars and estimate TTC (Time To Completion) for your functions and loops!\n",
    "from tqdm import tqdm\n",
    "import time\n",
    "import tensorflow as tf\n",
    "from tensorflow.keras.models import Sequential\n",
    "from tensorflow.keras.layers import Conv2D\n",
    "from tensorflow.keras.layers import MaxPooling2D\n",
    "from tensorflow.keras.layers import Activation\n",
    "from tensorflow.keras.layers import Flatten\n",
    "from tensorflow.keras.layers import Dense\n",
    "#from tensorflow.keras.optimizers.legacy import SGD\n",
    "from tensorflow.keras import backend as K"
   ]
  },
  {
   "cell_type": "code",
   "execution_count": 3,
   "id": "91251e95",
   "metadata": {},
   "outputs": [],
   "source": [
    "#Federated_implementation_utils has been imported \n",
    "#from Federated_implementation_utils import *\n",
    "from Federated_implementation_utils_standard_cifar import *"
   ]
  },
  {
   "cell_type": "code",
   "execution_count": 4,
   "id": "6a02dab1",
   "metadata": {},
   "outputs": [],
   "source": [
    "X_train = load('X_train.pkl')\n",
    "X_test=load('X_test.pkl')\n",
    "y_train=pickle.load(open('y_train.pkl','rb'))\n",
    "y_test=pickle.load(open('y_test.pkl','rb'))"
   ]
  },
  {
   "cell_type": "code",
   "execution_count": 5,
   "id": "84039ddc",
   "metadata": {},
   "outputs": [
    {
     "data": {
      "text/plain": [
       "array([[[ 49,  52,  52],\n",
       "        [ 40,  39,  36],\n",
       "        [ 61,  48,  36],\n",
       "        ...,\n",
       "        [153, 124,  97],\n",
       "        [149, 121,  96],\n",
       "        [144, 117,  95]],\n",
       "\n",
       "       [[ 18,  18,  17],\n",
       "        [ 20,  10,   2],\n",
       "        [ 61,  35,  13],\n",
       "        ...,\n",
       "        [129,  93,  57],\n",
       "        [120,  84,  51],\n",
       "        [116,  80,  49]],\n",
       "\n",
       "       [[ 32,  23,  15],\n",
       "        [ 57,  33,  12],\n",
       "        [ 98,  58,  26],\n",
       "        ...,\n",
       "        [128,  89,  51],\n",
       "        [122,  85,  49],\n",
       "        [100,  67,  38]],\n",
       "\n",
       "       ...,\n",
       "\n",
       "       [[215, 175,  80],\n",
       "        [194, 150,  24],\n",
       "        [177, 143,  27],\n",
       "        ...,\n",
       "        [176, 145,  90],\n",
       "        [113,  85,  46],\n",
       "        [ 39,  22,  10]],\n",
       "\n",
       "       [[192, 151,  86],\n",
       "        [189, 145,  33],\n",
       "        [192, 154,  26],\n",
       "        ...,\n",
       "        [140, 106,  62],\n",
       "        [124,  93,  51],\n",
       "        [ 69,  43,  25]],\n",
       "\n",
       "       [[176, 140, 108],\n",
       "        [174, 135,  81],\n",
       "        [187, 148,  62],\n",
       "        ...,\n",
       "        [171, 139, 102],\n",
       "        [176, 143, 104],\n",
       "        [120,  89,  67]]], dtype=uint8)"
      ]
     },
     "execution_count": 5,
     "metadata": {},
     "output_type": "execute_result"
    }
   ],
   "source": [
    "#see the pickle file\n",
    "with open('X_train.pkl','rb') as pickle_file: \n",
    "    new_data=pickle.load(pickle_file)\n",
    "\n",
    "new_data[0]"
   ]
  },
  {
   "cell_type": "code",
   "execution_count": 6,
   "id": "1ed630c6",
   "metadata": {},
   "outputs": [
    {
     "data": {
      "text/plain": [
       "array([[[0.19215686, 0.20392157, 0.20392157],\n",
       "        [0.15686275, 0.15294118, 0.14117647],\n",
       "        [0.23921569, 0.18823529, 0.14117647],\n",
       "        ...,\n",
       "        [0.6       , 0.48627451, 0.38039216],\n",
       "        [0.58431373, 0.4745098 , 0.37647059],\n",
       "        [0.56470588, 0.45882353, 0.37254902]],\n",
       "\n",
       "       [[0.07058824, 0.07058824, 0.06666667],\n",
       "        [0.07843137, 0.03921569, 0.00784314],\n",
       "        [0.23921569, 0.1372549 , 0.05098039],\n",
       "        ...,\n",
       "        [0.50588235, 0.36470588, 0.22352941],\n",
       "        [0.47058824, 0.32941176, 0.2       ],\n",
       "        [0.45490196, 0.31372549, 0.19215686]],\n",
       "\n",
       "       [[0.1254902 , 0.09019608, 0.05882353],\n",
       "        [0.22352941, 0.12941176, 0.04705882],\n",
       "        [0.38431373, 0.22745098, 0.10196078],\n",
       "        ...,\n",
       "        [0.50196078, 0.34901961, 0.2       ],\n",
       "        [0.47843137, 0.33333333, 0.19215686],\n",
       "        [0.39215686, 0.2627451 , 0.14901961]],\n",
       "\n",
       "       ...,\n",
       "\n",
       "       [[0.84313725, 0.68627451, 0.31372549],\n",
       "        [0.76078431, 0.58823529, 0.09411765],\n",
       "        [0.69411765, 0.56078431, 0.10588235],\n",
       "        ...,\n",
       "        [0.69019608, 0.56862745, 0.35294118],\n",
       "        [0.44313725, 0.33333333, 0.18039216],\n",
       "        [0.15294118, 0.08627451, 0.03921569]],\n",
       "\n",
       "       [[0.75294118, 0.59215686, 0.3372549 ],\n",
       "        [0.74117647, 0.56862745, 0.12941176],\n",
       "        [0.75294118, 0.60392157, 0.10196078],\n",
       "        ...,\n",
       "        [0.54901961, 0.41568627, 0.24313725],\n",
       "        [0.48627451, 0.36470588, 0.2       ],\n",
       "        [0.27058824, 0.16862745, 0.09803922]],\n",
       "\n",
       "       [[0.69019608, 0.54901961, 0.42352941],\n",
       "        [0.68235294, 0.52941176, 0.31764706],\n",
       "        [0.73333333, 0.58039216, 0.24313725],\n",
       "        ...,\n",
       "        [0.67058824, 0.54509804, 0.4       ],\n",
       "        [0.69019608, 0.56078431, 0.40784314],\n",
       "        [0.47058824, 0.34901961, 0.2627451 ]]])"
      ]
     },
     "execution_count": 6,
     "metadata": {},
     "output_type": "execute_result"
    }
   ],
   "source": [
    "X_train[0]"
   ]
  },
  {
   "cell_type": "code",
   "execution_count": 7,
   "id": "388f8a0c",
   "metadata": {},
   "outputs": [
    {
     "data": {
      "text/plain": [
       "array([[6],\n",
       "       [9],\n",
       "       [9],\n",
       "       ...,\n",
       "       [9],\n",
       "       [1],\n",
       "       [1]], dtype=uint8)"
      ]
     },
     "execution_count": 7,
     "metadata": {},
     "output_type": "execute_result"
    }
   ],
   "source": [
    "y_train"
   ]
  },
  {
   "cell_type": "code",
   "execution_count": 8,
   "id": "3cbe11eb",
   "metadata": {},
   "outputs": [
    {
     "data": {
      "text/plain": [
       "(50000, 1)"
      ]
     },
     "execution_count": 8,
     "metadata": {},
     "output_type": "execute_result"
    }
   ],
   "source": [
    "y_train.shape"
   ]
  },
  {
   "cell_type": "code",
   "execution_count": 9,
   "id": "e6453c82",
   "metadata": {},
   "outputs": [],
   "source": [
    "y_train=y_train.reshape(-1,)"
   ]
  },
  {
   "cell_type": "code",
   "execution_count": 10,
   "id": "25e8edf9",
   "metadata": {},
   "outputs": [
    {
     "name": "stdout",
     "output_type": "stream",
     "text": [
      "[0, 1, 2, 3, 4, 5, 6, 7, 8, 9]\n"
     ]
    }
   ],
   "source": [
    "#tolist(), used to convert the data elements of an array into a list. \n",
    "#This function returns the array as an a. ndim- levels deep nested list of Python scalars.\n",
    "labels = list(set(y_train.tolist())) #unique labels\n",
    "print(labels)"
   ]
  },
  {
   "cell_type": "code",
   "execution_count": 11,
   "id": "3a77eca1",
   "metadata": {},
   "outputs": [
    {
     "name": "stdout",
     "output_type": "stream",
     "text": [
      "[[0. 0. 0. ... 0. 0. 0.]\n",
      " [0. 0. 0. ... 0. 0. 1.]\n",
      " [0. 0. 0. ... 0. 0. 1.]\n",
      " ...\n",
      " [0. 0. 0. ... 0. 0. 1.]\n",
      " [0. 1. 0. ... 0. 0. 0.]\n",
      " [0. 1. 0. ... 0. 0. 0.]]\n"
     ]
    }
   ],
   "source": [
    "n_values = np.max(y_train)+1\n",
    "\n",
    "'''\n",
    "numpy.eye(R, C = None, k = 0, dtype = type <‘float’>) : –The eye tool returns a 2-D array with  1’s as the diagonal\n",
    "and  0’s elsewhere. The diagonal can be main, upper, or lower depending on the optional parameter k. \n",
    "A positive k is for the upper diagonal, a negative k is for the lower, and a  0 k (default) is for the main diagonal.\n",
    "'''\n",
    "#[[1 0]\n",
    "# [0 1]] is created and depending upon the class value 0 or 1 0 th or 1st row is selected and stored in label_list\n",
    "label_list = np.eye(n_values)[y_train]\n",
    "print(label_list)\n",
    "#Label_list is changed 1 0 when this means that 0 index should have high probabilty to be classified and 0 1 when 1 index \n",
    "#should have high probability to be classified .It is done as because MLP classifier picks up the index of highest probability"
   ]
  },
  {
   "cell_type": "code",
   "execution_count": 12,
   "id": "94752ede",
   "metadata": {},
   "outputs": [],
   "source": [
    "y_train=label_list"
   ]
  },
  {
   "cell_type": "code",
   "execution_count": 13,
   "id": "b48d14f8",
   "metadata": {},
   "outputs": [
    {
     "data": {
      "text/plain": [
       "array([[0., 0., 0., ..., 0., 0., 0.],\n",
       "       [0., 0., 0., ..., 0., 0., 1.],\n",
       "       [0., 0., 0., ..., 0., 0., 1.],\n",
       "       ...,\n",
       "       [0., 0., 0., ..., 0., 0., 1.],\n",
       "       [0., 1., 0., ..., 0., 0., 0.],\n",
       "       [0., 1., 0., ..., 0., 0., 0.]])"
      ]
     },
     "execution_count": 13,
     "metadata": {},
     "output_type": "execute_result"
    }
   ],
   "source": [
    "y_train"
   ]
  },
  {
   "cell_type": "code",
   "execution_count": 14,
   "id": "9312bb13",
   "metadata": {},
   "outputs": [
    {
     "data": {
      "text/plain": [
       "array([[3],\n",
       "       [8],\n",
       "       [8],\n",
       "       ...,\n",
       "       [5],\n",
       "       [1],\n",
       "       [7]], dtype=uint8)"
      ]
     },
     "execution_count": 14,
     "metadata": {},
     "output_type": "execute_result"
    }
   ],
   "source": [
    "y_test"
   ]
  },
  {
   "cell_type": "code",
   "execution_count": 15,
   "id": "8db9e9e4",
   "metadata": {},
   "outputs": [
    {
     "data": {
      "text/plain": [
       "(10000, 1)"
      ]
     },
     "execution_count": 15,
     "metadata": {},
     "output_type": "execute_result"
    }
   ],
   "source": [
    "y_test.shape"
   ]
  },
  {
   "cell_type": "code",
   "execution_count": 16,
   "id": "d2b87696",
   "metadata": {},
   "outputs": [],
   "source": [
    "y_test=y_test.reshape(-1,)"
   ]
  },
  {
   "cell_type": "code",
   "execution_count": 17,
   "id": "a338d278",
   "metadata": {},
   "outputs": [
    {
     "data": {
      "text/plain": [
       "array([3, 8, 8, ..., 5, 1, 7], dtype=uint8)"
      ]
     },
     "execution_count": 17,
     "metadata": {},
     "output_type": "execute_result"
    }
   ],
   "source": [
    "y_test"
   ]
  },
  {
   "cell_type": "code",
   "execution_count": 18,
   "id": "856a1823",
   "metadata": {},
   "outputs": [
    {
     "name": "stdout",
     "output_type": "stream",
     "text": [
      "[0, 1, 2, 3, 4, 5, 6, 7, 8, 9]\n"
     ]
    }
   ],
   "source": [
    "#tolist(), used to convert the data elements of an array into a list. \n",
    "#This function returns the array as an a. ndim- levels deep nested list of Python scalars.\n",
    "labels = list(set(y_test.tolist())) #unique labels\n",
    "print(labels)"
   ]
  },
  {
   "cell_type": "code",
   "execution_count": 19,
   "id": "6fa7accf",
   "metadata": {},
   "outputs": [
    {
     "name": "stdout",
     "output_type": "stream",
     "text": [
      "[[0. 0. 0. ... 0. 0. 0.]\n",
      " [0. 0. 0. ... 0. 1. 0.]\n",
      " [0. 0. 0. ... 0. 1. 0.]\n",
      " ...\n",
      " [0. 0. 0. ... 0. 0. 0.]\n",
      " [0. 1. 0. ... 0. 0. 0.]\n",
      " [0. 0. 0. ... 1. 0. 0.]]\n"
     ]
    }
   ],
   "source": [
    "n_values = np.max(y_test)+1\n",
    "\n",
    "'''\n",
    "numpy.eye(R, C = None, k = 0, dtype = type <‘float’>) : –The eye tool returns a 2-D array with  1’s as the diagonal\n",
    "and  0’s elsewhere. The diagonal can be main, upper, or lower depending on the optional parameter k. \n",
    "A positive k is for the upper diagonal, a negative k is for the lower, and a  0 k (default) is for the main diagonal.\n",
    "'''\n",
    "#[[1 0]\n",
    "# [0 1]] is created and depending upon the class value 0 or 1 0 th or 1st row is selected and stored in label_list\n",
    "label_list = np.eye(n_values)[y_test]\n",
    "print(label_list)\n",
    "#Label_list is changed 1 0 when this means that 0 index should have high probabilty to be classified and 0 1 when 1 index \n",
    "#should have high probability to be classified .It is done as because MLP classifier picks up the index of highest probability"
   ]
  },
  {
   "cell_type": "code",
   "execution_count": 20,
   "id": "21c9dbba",
   "metadata": {},
   "outputs": [],
   "source": [
    "y_test=label_list"
   ]
  },
  {
   "cell_type": "code",
   "execution_count": 21,
   "id": "ca2d5de3",
   "metadata": {},
   "outputs": [
    {
     "data": {
      "text/plain": [
       "array([[0., 0., 0., ..., 0., 0., 0.],\n",
       "       [0., 0., 0., ..., 0., 1., 0.],\n",
       "       [0., 0., 0., ..., 0., 1., 0.],\n",
       "       ...,\n",
       "       [0., 0., 0., ..., 0., 0., 0.],\n",
       "       [0., 1., 0., ..., 0., 0., 0.],\n",
       "       [0., 0., 0., ..., 1., 0., 0.]])"
      ]
     },
     "execution_count": 21,
     "metadata": {},
     "output_type": "execute_result"
    }
   ],
   "source": [
    "y_test"
   ]
  },
  {
   "cell_type": "code",
   "execution_count": 22,
   "id": "06bb6991",
   "metadata": {},
   "outputs": [],
   "source": [
    "#create clients\n",
    "#Here initial is for client1,client2,....clientK client name \n",
    "clients = create_clients_IID(X_train, y_train, num_clients=10, initial='client') "
   ]
  },
  {
   "cell_type": "code",
   "execution_count": 23,
   "id": "339a8374",
   "metadata": {},
   "outputs": [],
   "source": [
    "#clients[:2]"
   ]
  },
  {
   "cell_type": "code",
   "execution_count": 24,
   "id": "e895b2ab",
   "metadata": {},
   "outputs": [
    {
     "data": {
      "text/plain": [
       "10"
      ]
     },
     "execution_count": 24,
     "metadata": {},
     "output_type": "execute_result"
    }
   ],
   "source": [
    "len(clients)"
   ]
  },
  {
   "cell_type": "code",
   "execution_count": 25,
   "id": "0860ee88",
   "metadata": {},
   "outputs": [],
   "source": [
    "#process and batch the training data for each client\n",
    "#Dictionary of clients is created and the key will be client name and the value will be batched data set batch size is 32\n",
    "clients_batched = dict()\n",
    "for (client_name, data) in clients.items():\n",
    "    #Storing batched data on each client dictionary\n",
    "    #batch size is 50\n",
    "    clients_batched[client_name] = batch_data(data,50)"
   ]
  },
  {
   "cell_type": "code",
   "execution_count": 26,
   "id": "ff5c0a9a",
   "metadata": {},
   "outputs": [
    {
     "data": {
      "text/plain": [
       "{'client_1': <BatchDataset element_spec=(TensorSpec(shape=(None, 24, 24, 3), dtype=tf.float64, name=None), TensorSpec(shape=(None, 10), dtype=tf.float64, name=None))>,\n",
       " 'client_2': <BatchDataset element_spec=(TensorSpec(shape=(None, 24, 24, 3), dtype=tf.float64, name=None), TensorSpec(shape=(None, 10), dtype=tf.float64, name=None))>,\n",
       " 'client_3': <BatchDataset element_spec=(TensorSpec(shape=(None, 24, 24, 3), dtype=tf.float64, name=None), TensorSpec(shape=(None, 10), dtype=tf.float64, name=None))>,\n",
       " 'client_4': <BatchDataset element_spec=(TensorSpec(shape=(None, 24, 24, 3), dtype=tf.float64, name=None), TensorSpec(shape=(None, 10), dtype=tf.float64, name=None))>,\n",
       " 'client_5': <BatchDataset element_spec=(TensorSpec(shape=(None, 24, 24, 3), dtype=tf.float64, name=None), TensorSpec(shape=(None, 10), dtype=tf.float64, name=None))>,\n",
       " 'client_6': <BatchDataset element_spec=(TensorSpec(shape=(None, 24, 24, 3), dtype=tf.float64, name=None), TensorSpec(shape=(None, 10), dtype=tf.float64, name=None))>,\n",
       " 'client_7': <BatchDataset element_spec=(TensorSpec(shape=(None, 24, 24, 3), dtype=tf.float64, name=None), TensorSpec(shape=(None, 10), dtype=tf.float64, name=None))>,\n",
       " 'client_8': <BatchDataset element_spec=(TensorSpec(shape=(None, 24, 24, 3), dtype=tf.float64, name=None), TensorSpec(shape=(None, 10), dtype=tf.float64, name=None))>,\n",
       " 'client_9': <BatchDataset element_spec=(TensorSpec(shape=(None, 24, 24, 3), dtype=tf.float64, name=None), TensorSpec(shape=(None, 10), dtype=tf.float64, name=None))>,\n",
       " 'client_10': <BatchDataset element_spec=(TensorSpec(shape=(None, 24, 24, 3), dtype=tf.float64, name=None), TensorSpec(shape=(None, 10), dtype=tf.float64, name=None))>}"
      ]
     },
     "execution_count": 26,
     "metadata": {},
     "output_type": "execute_result"
    }
   ],
   "source": [
    "clients_batched"
   ]
  },
  {
   "cell_type": "code",
   "execution_count": 27,
   "id": "cdebbd04",
   "metadata": {},
   "outputs": [],
   "source": [
    "#process and batch the test set  \n",
    "test_batched = tf.data.Dataset.from_tensor_slices((X_test, y_test)).batch(len(y_test))"
   ]
  },
  {
   "cell_type": "code",
   "execution_count": 28,
   "id": "9d75d36a",
   "metadata": {},
   "outputs": [
    {
     "name": "stdout",
     "output_type": "stream",
     "text": [
      "<BatchDataset element_spec=(TensorSpec(shape=(None, 24, 24, 3), dtype=tf.float64, name=None), TensorSpec(shape=(None, 10), dtype=tf.float64, name=None))>\n"
     ]
    }
   ],
   "source": [
    "print(test_batched)"
   ]
  },
  {
   "cell_type": "code",
   "execution_count": 29,
   "id": "7b65a977",
   "metadata": {},
   "outputs": [
    {
     "name": "stdout",
     "output_type": "stream",
     "text": [
      "Model: \"sequential\"\n",
      "_________________________________________________________________\n",
      " Layer (type)                Output Shape              Param #   \n",
      "=================================================================\n",
      " conv2d (Conv2D)             (None, 22, 22, 32)        896       \n",
      "                                                                 \n",
      " max_pooling2d (MaxPooling2D  (None, 11, 11, 32)       0         \n",
      " )                                                               \n",
      "                                                                 \n",
      " conv2d_1 (Conv2D)           (None, 9, 9, 64)          18496     \n",
      "                                                                 \n",
      " flatten (Flatten)           (None, 5184)              0         \n",
      "                                                                 \n",
      " dense (Dense)               (None, 180)               933300    \n",
      "                                                                 \n",
      " dense_1 (Dense)             (None, 90)                16290     \n",
      "                                                                 \n",
      " dense_2 (Dense)             (None, 10)                910       \n",
      "                                                                 \n",
      "=================================================================\n",
      "Total params: 969,892\n",
      "Trainable params: 969,892\n",
      "Non-trainable params: 0\n",
      "_________________________________________________________________\n"
     ]
    }
   ],
   "source": [
    "comms_round = 50\n",
    "#This is E in algorithm\n",
    "epochs_per_batch = 1\n",
    "global_model = tf.keras.models.Sequential()\n",
    "global_model.add(tf.keras.layers.Conv2D(32, (3, 3), activation='relu', input_shape=(24,24,3)))\n",
    "global_model.add(tf.keras.layers.MaxPooling2D((2, 2)))\n",
    "global_model.add(tf.keras.layers.Conv2D(64, (3, 3), activation='relu'))\n",
    "global_model.add(tf.keras.layers.Flatten())\n",
    "global_model.add(tf.keras.layers.Dense(180, activation='relu'))\n",
    "global_model.add(tf.keras.layers.Dense(90, activation='relu'))\n",
    "global_model.add(tf.keras.layers.Dense(10, activation='softmax'))\n",
    "global_model.compile(loss='categorical_crossentropy', optimizer='Adam', metrics=['accuracy'])\n",
    "global_model.summary()"
   ]
  },
  {
   "cell_type": "code",
   "execution_count": 30,
   "id": "4ae42750",
   "metadata": {},
   "outputs": [],
   "source": [
    "model=global_model"
   ]
  },
  {
   "cell_type": "markdown",
   "id": "1335b5f7",
   "metadata": {},
   "source": [
    "# FedAvg"
   ]
  },
  {
   "cell_type": "code",
   "execution_count": 31,
   "id": "936301d6",
   "metadata": {
    "scrolled": false
   },
   "outputs": [
    {
     "name": "stderr",
     "output_type": "stream",
     "text": [
      "Progress Bar: 100%|████████████████████████████████████████████████████████████████████| 10/10 [01:48<00:00, 10.84s/it]\n"
     ]
    },
    {
     "name": "stdout",
     "output_type": "stream",
     "text": [
      "313/313 [==============================] - 2s 5ms/step\n",
      "comm_round: 0 | global_acc: 32.080% | global_loss: 2.2890138626098633\n"
     ]
    },
    {
     "name": "stderr",
     "output_type": "stream",
     "text": [
      "Progress Bar: 100%|████████████████████████████████████████████████████████████████████| 10/10 [01:48<00:00, 10.81s/it]\n"
     ]
    },
    {
     "name": "stdout",
     "output_type": "stream",
     "text": [
      "313/313 [==============================] - 2s 6ms/step\n",
      "comm_round: 1 | global_acc: 44.640% | global_loss: 2.1473145484924316\n"
     ]
    },
    {
     "name": "stderr",
     "output_type": "stream",
     "text": [
      "Progress Bar: 100%|████████████████████████████████████████████████████████████████████| 10/10 [01:45<00:00, 10.59s/it]\n"
     ]
    },
    {
     "name": "stdout",
     "output_type": "stream",
     "text": [
      "313/313 [==============================] - 2s 5ms/step\n",
      "comm_round: 2 | global_acc: 49.030% | global_loss: 2.09033465385437\n"
     ]
    },
    {
     "name": "stderr",
     "output_type": "stream",
     "text": [
      "Progress Bar: 100%|████████████████████████████████████████████████████████████████████| 10/10 [01:41<00:00, 10.19s/it]\n"
     ]
    },
    {
     "name": "stdout",
     "output_type": "stream",
     "text": [
      "313/313 [==============================] - 2s 5ms/step\n",
      "comm_round: 3 | global_acc: 52.770% | global_loss: 2.049844980239868\n"
     ]
    },
    {
     "name": "stderr",
     "output_type": "stream",
     "text": [
      "Progress Bar: 100%|████████████████████████████████████████████████████████████████████| 10/10 [02:35<00:00, 15.58s/it]\n"
     ]
    },
    {
     "name": "stdout",
     "output_type": "stream",
     "text": [
      "313/313 [==============================] - 2s 7ms/step\n",
      "comm_round: 4 | global_acc: 55.920% | global_loss: 2.028017282485962\n"
     ]
    },
    {
     "name": "stderr",
     "output_type": "stream",
     "text": [
      "Progress Bar: 100%|████████████████████████████████████████████████████████████████████| 10/10 [02:00<00:00, 12.04s/it]\n"
     ]
    },
    {
     "name": "stdout",
     "output_type": "stream",
     "text": [
      "313/313 [==============================] - 2s 5ms/step\n",
      "comm_round: 5 | global_acc: 58.090% | global_loss: 1.9959098100662231\n"
     ]
    },
    {
     "name": "stderr",
     "output_type": "stream",
     "text": [
      "Progress Bar: 100%|████████████████████████████████████████████████████████████████████| 10/10 [02:11<00:00, 13.10s/it]\n"
     ]
    },
    {
     "name": "stdout",
     "output_type": "stream",
     "text": [
      "313/313 [==============================] - 2s 5ms/step\n",
      "comm_round: 6 | global_acc: 58.860% | global_loss: 1.976924180984497\n"
     ]
    },
    {
     "name": "stderr",
     "output_type": "stream",
     "text": [
      "Progress Bar: 100%|████████████████████████████████████████████████████████████████████| 10/10 [02:43<00:00, 16.39s/it]\n"
     ]
    },
    {
     "name": "stdout",
     "output_type": "stream",
     "text": [
      "313/313 [==============================] - 2s 7ms/step\n",
      "comm_round: 7 | global_acc: 60.950% | global_loss: 1.956408977508545\n"
     ]
    },
    {
     "name": "stderr",
     "output_type": "stream",
     "text": [
      "Progress Bar: 100%|████████████████████████████████████████████████████████████████████| 10/10 [02:21<00:00, 14.19s/it]\n"
     ]
    },
    {
     "name": "stdout",
     "output_type": "stream",
     "text": [
      "313/313 [==============================] - 2s 7ms/step\n",
      "comm_round: 8 | global_acc: 61.550% | global_loss: 1.9569265842437744\n"
     ]
    },
    {
     "name": "stderr",
     "output_type": "stream",
     "text": [
      "Progress Bar: 100%|████████████████████████████████████████████████████████████████████| 10/10 [02:35<00:00, 15.57s/it]\n"
     ]
    },
    {
     "name": "stdout",
     "output_type": "stream",
     "text": [
      "313/313 [==============================] - 2s 5ms/step\n",
      "comm_round: 9 | global_acc: 62.520% | global_loss: 1.936503529548645\n"
     ]
    },
    {
     "name": "stderr",
     "output_type": "stream",
     "text": [
      "Progress Bar: 100%|████████████████████████████████████████████████████████████████████| 10/10 [01:46<00:00, 10.70s/it]\n"
     ]
    },
    {
     "name": "stdout",
     "output_type": "stream",
     "text": [
      "313/313 [==============================] - 2s 5ms/step\n",
      "comm_round: 10 | global_acc: 64.050% | global_loss: 1.926619529724121\n"
     ]
    },
    {
     "name": "stderr",
     "output_type": "stream",
     "text": [
      "Progress Bar: 100%|████████████████████████████████████████████████████████████████████| 10/10 [01:43<00:00, 10.40s/it]\n"
     ]
    },
    {
     "name": "stdout",
     "output_type": "stream",
     "text": [
      "313/313 [==============================] - 2s 5ms/step\n",
      "comm_round: 11 | global_acc: 64.650% | global_loss: 1.9143993854522705\n"
     ]
    },
    {
     "name": "stderr",
     "output_type": "stream",
     "text": [
      "Progress Bar: 100%|████████████████████████████████████████████████████████████████████| 10/10 [01:42<00:00, 10.22s/it]\n"
     ]
    },
    {
     "name": "stdout",
     "output_type": "stream",
     "text": [
      "313/313 [==============================] - 2s 5ms/step\n",
      "comm_round: 12 | global_acc: 65.060% | global_loss: 1.9007164239883423\n"
     ]
    },
    {
     "name": "stderr",
     "output_type": "stream",
     "text": [
      "Progress Bar: 100%|████████████████████████████████████████████████████████████████████| 10/10 [01:42<00:00, 10.30s/it]\n"
     ]
    },
    {
     "name": "stdout",
     "output_type": "stream",
     "text": [
      "313/313 [==============================] - 2s 6ms/step\n",
      "comm_round: 13 | global_acc: 66.000% | global_loss: 1.891223430633545\n"
     ]
    },
    {
     "name": "stderr",
     "output_type": "stream",
     "text": [
      "Progress Bar: 100%|████████████████████████████████████████████████████████████████████| 10/10 [01:42<00:00, 10.27s/it]\n"
     ]
    },
    {
     "name": "stdout",
     "output_type": "stream",
     "text": [
      "313/313 [==============================] - 2s 5ms/step\n",
      "comm_round: 14 | global_acc: 66.730% | global_loss: 1.8809257745742798\n"
     ]
    },
    {
     "name": "stderr",
     "output_type": "stream",
     "text": [
      "Progress Bar: 100%|████████████████████████████████████████████████████████████████████| 10/10 [01:43<00:00, 10.34s/it]\n"
     ]
    },
    {
     "name": "stdout",
     "output_type": "stream",
     "text": [
      "313/313 [==============================] - 2s 6ms/step\n",
      "comm_round: 15 | global_acc: 67.020% | global_loss: 1.8745992183685303\n"
     ]
    },
    {
     "name": "stderr",
     "output_type": "stream",
     "text": [
      "Progress Bar: 100%|████████████████████████████████████████████████████████████████████| 10/10 [01:43<00:00, 10.30s/it]\n"
     ]
    },
    {
     "name": "stdout",
     "output_type": "stream",
     "text": [
      "313/313 [==============================] - 2s 5ms/step\n",
      "comm_round: 16 | global_acc: 67.270% | global_loss: 1.8696156740188599\n"
     ]
    },
    {
     "name": "stderr",
     "output_type": "stream",
     "text": [
      "Progress Bar: 100%|████████████████████████████████████████████████████████████████████| 10/10 [01:42<00:00, 10.24s/it]\n"
     ]
    },
    {
     "name": "stdout",
     "output_type": "stream",
     "text": [
      "313/313 [==============================] - 2s 5ms/step\n",
      "comm_round: 17 | global_acc: 67.660% | global_loss: 1.8574267625808716\n"
     ]
    },
    {
     "name": "stderr",
     "output_type": "stream",
     "text": [
      "Progress Bar: 100%|████████████████████████████████████████████████████████████████████| 10/10 [01:47<00:00, 10.72s/it]\n"
     ]
    },
    {
     "name": "stdout",
     "output_type": "stream",
     "text": [
      "313/313 [==============================] - 2s 5ms/step\n",
      "comm_round: 18 | global_acc: 68.050% | global_loss: 1.8532062768936157\n"
     ]
    },
    {
     "name": "stderr",
     "output_type": "stream",
     "text": [
      "Progress Bar: 100%|████████████████████████████████████████████████████████████████████| 10/10 [01:44<00:00, 10.44s/it]\n"
     ]
    },
    {
     "name": "stdout",
     "output_type": "stream",
     "text": [
      "313/313 [==============================] - 2s 5ms/step\n",
      "comm_round: 19 | global_acc: 68.350% | global_loss: 1.8488210439682007\n"
     ]
    },
    {
     "name": "stderr",
     "output_type": "stream",
     "text": [
      "Progress Bar: 100%|████████████████████████████████████████████████████████████████████| 10/10 [01:53<00:00, 11.36s/it]\n"
     ]
    },
    {
     "name": "stdout",
     "output_type": "stream",
     "text": [
      "313/313 [==============================] - 2s 6ms/step\n",
      "comm_round: 20 | global_acc: 68.670% | global_loss: 1.8416160345077515\n"
     ]
    },
    {
     "name": "stderr",
     "output_type": "stream",
     "text": [
      "Progress Bar: 100%|████████████████████████████████████████████████████████████████████| 10/10 [01:45<00:00, 10.52s/it]\n"
     ]
    },
    {
     "name": "stdout",
     "output_type": "stream",
     "text": [
      "313/313 [==============================] - 2s 5ms/step\n",
      "comm_round: 21 | global_acc: 68.490% | global_loss: 1.8391996622085571\n"
     ]
    },
    {
     "name": "stderr",
     "output_type": "stream",
     "text": [
      "Progress Bar: 100%|████████████████████████████████████████████████████████████████████| 10/10 [01:43<00:00, 10.32s/it]\n"
     ]
    },
    {
     "name": "stdout",
     "output_type": "stream",
     "text": [
      "313/313 [==============================] - 2s 5ms/step\n",
      "comm_round: 22 | global_acc: 68.920% | global_loss: 1.8336386680603027\n"
     ]
    },
    {
     "name": "stderr",
     "output_type": "stream",
     "text": [
      "Progress Bar: 100%|████████████████████████████████████████████████████████████████████| 10/10 [01:42<00:00, 10.28s/it]\n"
     ]
    },
    {
     "name": "stdout",
     "output_type": "stream",
     "text": [
      "313/313 [==============================] - 2s 5ms/step\n",
      "comm_round: 23 | global_acc: 69.120% | global_loss: 1.8233704566955566\n"
     ]
    },
    {
     "name": "stderr",
     "output_type": "stream",
     "text": [
      "Progress Bar: 100%|████████████████████████████████████████████████████████████████████| 10/10 [01:44<00:00, 10.41s/it]\n"
     ]
    },
    {
     "name": "stdout",
     "output_type": "stream",
     "text": [
      "313/313 [==============================] - 2s 5ms/step\n",
      "comm_round: 24 | global_acc: 69.110% | global_loss: 1.824108600616455\n"
     ]
    },
    {
     "name": "stderr",
     "output_type": "stream",
     "text": [
      "Progress Bar: 100%|████████████████████████████████████████████████████████████████████| 10/10 [01:44<00:00, 10.40s/it]\n"
     ]
    },
    {
     "name": "stdout",
     "output_type": "stream",
     "text": [
      "313/313 [==============================] - 2s 5ms/step\n",
      "comm_round: 25 | global_acc: 69.480% | global_loss: 1.8164998292922974\n"
     ]
    },
    {
     "name": "stderr",
     "output_type": "stream",
     "text": [
      "Progress Bar: 100%|████████████████████████████████████████████████████████████████████| 10/10 [01:42<00:00, 10.24s/it]\n"
     ]
    },
    {
     "name": "stdout",
     "output_type": "stream",
     "text": [
      "313/313 [==============================] - 2s 5ms/step\n",
      "comm_round: 26 | global_acc: 69.780% | global_loss: 1.815477728843689\n"
     ]
    },
    {
     "name": "stderr",
     "output_type": "stream",
     "text": [
      "Progress Bar: 100%|████████████████████████████████████████████████████████████████████| 10/10 [01:44<00:00, 10.40s/it]\n"
     ]
    },
    {
     "name": "stdout",
     "output_type": "stream",
     "text": [
      "313/313 [==============================] - 2s 5ms/step\n",
      "comm_round: 27 | global_acc: 69.490% | global_loss: 1.8153797388076782\n"
     ]
    },
    {
     "name": "stderr",
     "output_type": "stream",
     "text": [
      "Progress Bar: 100%|████████████████████████████████████████████████████████████████████| 10/10 [01:57<00:00, 11.71s/it]\n"
     ]
    },
    {
     "name": "stdout",
     "output_type": "stream",
     "text": [
      "313/313 [==============================] - 2s 5ms/step\n",
      "comm_round: 28 | global_acc: 69.680% | global_loss: 1.808814287185669\n"
     ]
    },
    {
     "name": "stderr",
     "output_type": "stream",
     "text": [
      "Progress Bar: 100%|████████████████████████████████████████████████████████████████████| 10/10 [02:18<00:00, 13.89s/it]\n"
     ]
    },
    {
     "name": "stdout",
     "output_type": "stream",
     "text": [
      "313/313 [==============================] - 2s 7ms/step\n",
      "comm_round: 29 | global_acc: 69.650% | global_loss: 1.8083692789077759\n"
     ]
    },
    {
     "name": "stderr",
     "output_type": "stream",
     "text": [
      "Progress Bar: 100%|████████████████████████████████████████████████████████████████████| 10/10 [02:08<00:00, 12.88s/it]\n"
     ]
    },
    {
     "name": "stdout",
     "output_type": "stream",
     "text": [
      "313/313 [==============================] - 2s 6ms/step\n",
      "comm_round: 30 | global_acc: 69.290% | global_loss: 1.8086847066879272\n"
     ]
    },
    {
     "name": "stderr",
     "output_type": "stream",
     "text": [
      "Progress Bar: 100%|████████████████████████████████████████████████████████████████████| 10/10 [02:00<00:00, 12.07s/it]\n"
     ]
    },
    {
     "name": "stdout",
     "output_type": "stream",
     "text": [
      "313/313 [==============================] - 2s 5ms/step\n",
      "comm_round: 31 | global_acc: 69.340% | global_loss: 1.801339864730835\n"
     ]
    },
    {
     "name": "stderr",
     "output_type": "stream",
     "text": [
      "Progress Bar: 100%|████████████████████████████████████████████████████████████████████| 10/10 [01:46<00:00, 10.66s/it]\n"
     ]
    },
    {
     "name": "stdout",
     "output_type": "stream",
     "text": [
      "313/313 [==============================] - 2s 5ms/step\n",
      "comm_round: 32 | global_acc: 69.060% | global_loss: 1.803031086921692\n"
     ]
    },
    {
     "name": "stderr",
     "output_type": "stream",
     "text": [
      "Progress Bar: 100%|████████████████████████████████████████████████████████████████████| 10/10 [01:45<00:00, 10.51s/it]\n"
     ]
    },
    {
     "name": "stdout",
     "output_type": "stream",
     "text": [
      "313/313 [==============================] - 2s 6ms/step\n",
      "comm_round: 33 | global_acc: 69.440% | global_loss: 1.7994683980941772\n"
     ]
    },
    {
     "name": "stderr",
     "output_type": "stream",
     "text": [
      "Progress Bar: 100%|████████████████████████████████████████████████████████████████████| 10/10 [02:13<00:00, 13.33s/it]\n"
     ]
    },
    {
     "name": "stdout",
     "output_type": "stream",
     "text": [
      "313/313 [==============================] - 2s 6ms/step\n",
      "comm_round: 34 | global_acc: 69.490% | global_loss: 1.7961392402648926\n"
     ]
    },
    {
     "name": "stderr",
     "output_type": "stream",
     "text": [
      "Progress Bar: 100%|████████████████████████████████████████████████████████████████████| 10/10 [02:13<00:00, 13.33s/it]\n"
     ]
    },
    {
     "name": "stdout",
     "output_type": "stream",
     "text": [
      "313/313 [==============================] - 2s 5ms/step\n",
      "comm_round: 35 | global_acc: 69.650% | global_loss: 1.7969857454299927\n"
     ]
    },
    {
     "name": "stderr",
     "output_type": "stream",
     "text": [
      "Progress Bar: 100%|████████████████████████████████████████████████████████████████████| 10/10 [01:54<00:00, 11.45s/it]\n"
     ]
    },
    {
     "name": "stdout",
     "output_type": "stream",
     "text": [
      "313/313 [==============================] - 2s 6ms/step\n",
      "comm_round: 36 | global_acc: 69.030% | global_loss: 1.795712947845459\n"
     ]
    },
    {
     "name": "stderr",
     "output_type": "stream",
     "text": [
      "Progress Bar: 100%|████████████████████████████████████████████████████████████████████| 10/10 [01:55<00:00, 11.59s/it]\n"
     ]
    },
    {
     "name": "stdout",
     "output_type": "stream",
     "text": [
      "313/313 [==============================] - 2s 5ms/step\n",
      "comm_round: 37 | global_acc: 68.960% | global_loss: 1.7945476770401\n"
     ]
    },
    {
     "name": "stderr",
     "output_type": "stream",
     "text": [
      "Progress Bar: 100%|████████████████████████████████████████████████████████████████████| 10/10 [02:11<00:00, 13.13s/it]\n"
     ]
    },
    {
     "name": "stdout",
     "output_type": "stream",
     "text": [
      "313/313 [==============================] - 2s 6ms/step\n",
      "comm_round: 38 | global_acc: 69.350% | global_loss: 1.791397213935852\n"
     ]
    },
    {
     "name": "stderr",
     "output_type": "stream",
     "text": [
      "Progress Bar: 100%|████████████████████████████████████████████████████████████████████| 10/10 [01:57<00:00, 11.79s/it]\n"
     ]
    },
    {
     "name": "stdout",
     "output_type": "stream",
     "text": [
      "313/313 [==============================] - 2s 7ms/step\n",
      "comm_round: 39 | global_acc: 69.240% | global_loss: 1.7918676137924194\n"
     ]
    },
    {
     "name": "stderr",
     "output_type": "stream",
     "text": [
      "Progress Bar: 100%|████████████████████████████████████████████████████████████████████| 10/10 [01:56<00:00, 11.61s/it]\n"
     ]
    },
    {
     "name": "stdout",
     "output_type": "stream",
     "text": [
      "313/313 [==============================] - 2s 6ms/step\n",
      "comm_round: 40 | global_acc: 68.160% | global_loss: 1.7972861528396606\n"
     ]
    },
    {
     "name": "stderr",
     "output_type": "stream",
     "text": [
      "Progress Bar: 100%|████████████████████████████████████████████████████████████████████| 10/10 [02:10<00:00, 13.03s/it]\n"
     ]
    },
    {
     "name": "stdout",
     "output_type": "stream",
     "text": [
      "313/313 [==============================] - 2s 5ms/step\n",
      "comm_round: 41 | global_acc: 68.850% | global_loss: 1.7909375429153442\n"
     ]
    },
    {
     "name": "stderr",
     "output_type": "stream",
     "text": [
      "Progress Bar: 100%|████████████████████████████████████████████████████████████████████| 10/10 [02:08<00:00, 12.84s/it]\n"
     ]
    },
    {
     "name": "stdout",
     "output_type": "stream",
     "text": [
      "313/313 [==============================] - 2s 6ms/step\n",
      "comm_round: 42 | global_acc: 68.790% | global_loss: 1.7908045053482056\n"
     ]
    },
    {
     "name": "stderr",
     "output_type": "stream",
     "text": [
      "Progress Bar: 100%|████████████████████████████████████████████████████████████████████| 10/10 [01:59<00:00, 11.93s/it]\n"
     ]
    },
    {
     "name": "stdout",
     "output_type": "stream",
     "text": [
      "313/313 [==============================] - 2s 5ms/step\n",
      "comm_round: 43 | global_acc: 68.750% | global_loss: 1.788071870803833\n"
     ]
    },
    {
     "name": "stderr",
     "output_type": "stream",
     "text": [
      "Progress Bar: 100%|████████████████████████████████████████████████████████████████████| 10/10 [01:47<00:00, 10.74s/it]\n"
     ]
    },
    {
     "name": "stdout",
     "output_type": "stream",
     "text": [
      "313/313 [==============================] - 2s 5ms/step\n",
      "comm_round: 44 | global_acc: 68.770% | global_loss: 1.7888495922088623\n"
     ]
    },
    {
     "name": "stderr",
     "output_type": "stream",
     "text": [
      "Progress Bar: 100%|████████████████████████████████████████████████████████████████████| 10/10 [01:46<00:00, 10.61s/it]\n"
     ]
    },
    {
     "name": "stdout",
     "output_type": "stream",
     "text": [
      "313/313 [==============================] - 2s 5ms/step\n",
      "comm_round: 45 | global_acc: 68.650% | global_loss: 1.789380431175232\n"
     ]
    },
    {
     "name": "stderr",
     "output_type": "stream",
     "text": [
      "Progress Bar: 100%|████████████████████████████████████████████████████████████████████| 10/10 [01:51<00:00, 11.15s/it]\n"
     ]
    },
    {
     "name": "stdout",
     "output_type": "stream",
     "text": [
      "313/313 [==============================] - 2s 6ms/step\n",
      "comm_round: 46 | global_acc: 68.630% | global_loss: 1.7875211238861084\n"
     ]
    },
    {
     "name": "stderr",
     "output_type": "stream",
     "text": [
      "Progress Bar: 100%|████████████████████████████████████████████████████████████████████| 10/10 [01:55<00:00, 11.54s/it]\n"
     ]
    },
    {
     "name": "stdout",
     "output_type": "stream",
     "text": [
      "313/313 [==============================] - 2s 5ms/step\n",
      "comm_round: 47 | global_acc: 68.120% | global_loss: 1.7888191938400269\n"
     ]
    },
    {
     "name": "stderr",
     "output_type": "stream",
     "text": [
      "Progress Bar: 100%|████████████████████████████████████████████████████████████████████| 10/10 [01:58<00:00, 11.87s/it]\n"
     ]
    },
    {
     "name": "stdout",
     "output_type": "stream",
     "text": [
      "313/313 [==============================] - 2s 6ms/step\n",
      "comm_round: 48 | global_acc: 68.470% | global_loss: 1.7877918481826782\n"
     ]
    },
    {
     "name": "stderr",
     "output_type": "stream",
     "text": [
      "Progress Bar: 100%|████████████████████████████████████████████████████████████████████| 10/10 [02:10<00:00, 13.03s/it]\n"
     ]
    },
    {
     "name": "stdout",
     "output_type": "stream",
     "text": [
      "313/313 [==============================] - 2s 6ms/step\n",
      "comm_round: 49 | global_acc: 68.400% | global_loss: 1.7866535186767578\n"
     ]
    }
   ],
   "source": [
    "#commence global training loop\n",
    "#participation ratio of clients at each round\n",
    "C=1\n",
    "X_com=[]\n",
    "Y_acc_avg=[]\n",
    "Y_loss_avg=[]\n",
    "\n",
    "for comm_round in range(comms_round):\n",
    "    \n",
    "    # get the global model's weights - will serve as the initial weights for all local models\n",
    "    #This function returns a list consisting of NumPy arrays. The first array gives the weights of the layer and \n",
    "    #the second array gives the biases.\n",
    "    global_weights = global_model.get_weights()\n",
    "    \n",
    "    #initial list to collect local model weights after scalling\n",
    "    scaled_local_weight_list = list()\n",
    "\n",
    "    #randomize client data - using keys\n",
    "    client_names= list(clients_batched.keys()) #Here client name has been stored in client_names\n",
    "    random.shuffle(client_names)\n",
    "    client_names=client_names[0:int(max(C*len(clients),1))]\n",
    "    \n",
    "    #loop through each client and create new local model\n",
    "    for client in tqdm(client_names , desc = 'Progress Bar'):\n",
    "        local_model=model\n",
    "        #set local model weight to the weight of the global model\n",
    "        local_model.set_weights(global_weights)\n",
    "        \n",
    "        #fit local model with client's data\n",
    "        #verbose is the choice that how you want to see the output of your Nural Network while it's training. \n",
    "        #If you set verbose = 0, It will show nothing.\n",
    "        \n",
    "        # get the batched data for the client\n",
    "        client_data = clients_batched[client]\n",
    "        \n",
    "        # get the number of batches in the client's data\n",
    "        num_batches = tf.data.experimental.cardinality(client_data)\n",
    "            \n",
    "        # fit the local model on the batch\n",
    "        #Here this epochs is the local epochs for each client's per batch data\n",
    "        for epoch in range(epochs_per_batch):\n",
    "            for batch in client_data:\n",
    "                X_batch, y_batch = batch\n",
    "                local_model.fit(X_batch, y_batch,epochs=1,verbose=0)\n",
    "            \n",
    "        #scale the model weights and add to list\n",
    "        scaling_factor = weight_scalling_factor(clients_batched, client)\n",
    "        #Now each attributes weights has been multiplied by scalling factor for each client\n",
    "        scaled_weights = scale_model_weights(local_model.get_weights(), scaling_factor)\n",
    "        #scaled weight list now stored for each client\n",
    "        scaled_local_weight_list.append(scaled_weights)\n",
    "        #clear session to free memory after each communication round\n",
    "        K.clear_session()\n",
    "        \n",
    "    #to get the average over all the local model, we simply take the sum of the scaled weights\n",
    "    average_weights = sum_scaled_weights(scaled_local_weight_list)\n",
    "    \n",
    "    #update global model \n",
    "    global_model.set_weights(average_weights)\n",
    "\n",
    "    #test global model and print out metrics after each communications round\n",
    "    for(X_test, Y_test) in test_batched:\n",
    "        global_acc, global_loss = test_model(X_test, Y_test, global_model, comm_round)\n",
    "        X_com.append(comm_round)\n",
    "        Y_acc_avg.append(global_acc)\n",
    "        Y_loss_avg.append(global_loss)\n",
    "        \n"
   ]
  },
  {
   "cell_type": "code",
   "execution_count": 32,
   "id": "8e8c2ceb",
   "metadata": {},
   "outputs": [
    {
     "data": {
      "image/png": "[encoded data removed]",
      "text/plain": [
       "<Figure size 432x288 with 1 Axes>"
      ]
     },
     "metadata": {
      "needs_background": "light"
     },
     "output_type": "display_data"
    }
   ],
   "source": [
    "#Plot of Fedavg in Communication -global accuracy\n",
    "plt.plot(X_com,Y_acc_avg)\n",
    "plt.title('FedAVG accuracy')\n",
    "plt.ylabel('Accuracy')\n",
    "plt.xlabel('Communication round')\n",
    "plt.legend(['train'],loc='upper left')\n",
    "plt.show()\n"
   ]
  },
  {
   "cell_type": "code",
   "execution_count": 33,
   "id": "07d40421",
   "metadata": {},
   "outputs": [
    {
     "data": {
      "image/png": "[encoded data removed]",
      "text/plain": [
       "<Figure size 432x288 with 1 Axes>"
      ]
     },
     "metadata": {
      "needs_background": "light"
     },
     "output_type": "display_data"
    }
   ],
   "source": [
    "#Plot of Fedavg in Communication - global loss\n",
    "plt.plot(X_com,Y_loss_avg)\n",
    "plt.title('FedAVG loss')\n",
    "plt.ylabel('Global loss')\n",
    "\n",
    "plt.xlabel('Communication round')\n",
    "plt.legend(['train'],loc='upper left')\n",
    "plt.show()"
   ]
  },
  {
   "cell_type": "markdown",
   "id": "e3ec37ec",
   "metadata": {},
   "source": [
    "# FedSGD¶"
   ]
  },
  {
   "cell_type": "code",
   "execution_count": 34,
   "id": "42935c79",
   "metadata": {},
   "outputs": [],
   "source": [
    "clients_batched = dict()\n",
    "for (client_name, data) in clients.items():\n",
    "    #Storing batched data on each client dictionary\n",
    "    #Len(data) as full batch data B=inf in case of SGD\n",
    "    clients_batched[client_name] = batch_data(data,len(data))"
   ]
  },
  {
   "cell_type": "code",
   "execution_count": 35,
   "id": "1e1cf967",
   "metadata": {},
   "outputs": [
    {
     "name": "stdout",
     "output_type": "stream",
     "text": [
      "Model: \"sequential\"\n",
      "_________________________________________________________________\n",
      " Layer (type)                Output Shape              Param #   \n",
      "=================================================================\n",
      " conv2d (Conv2D)             (None, 22, 22, 32)        896       \n",
      "                                                                 \n",
      " max_pooling2d (MaxPooling2D  (None, 11, 11, 32)       0         \n",
      " )                                                               \n",
      "                                                                 \n",
      " conv2d_1 (Conv2D)           (None, 9, 9, 64)          18496     \n",
      "                                                                 \n",
      " flatten (Flatten)           (None, 5184)              0         \n",
      "                                                                 \n",
      " dense (Dense)               (None, 180)               933300    \n",
      "                                                                 \n",
      " dense_1 (Dense)             (None, 90)                16290     \n",
      "                                                                 \n",
      " dense_2 (Dense)             (None, 10)                910       \n",
      "                                                                 \n",
      "=================================================================\n",
      "Total params: 969,892\n",
      "Trainable params: 969,892\n",
      "Non-trainable params: 0\n",
      "_________________________________________________________________\n"
     ]
    }
   ],
   "source": [
    "#This is E in algorithm\n",
    "global_model = tf.keras.models.Sequential()\n",
    "global_model.add(tf.keras.layers.Conv2D(32, (3, 3), activation='relu', input_shape=(24,24,3)))\n",
    "global_model.add(tf.keras.layers.MaxPooling2D((2, 2)))\n",
    "global_model.add(tf.keras.layers.Conv2D(64, (3, 3), activation='relu'))\n",
    "global_model.add(tf.keras.layers.Flatten())\n",
    "global_model.add(tf.keras.layers.Dense(180, activation='relu'))\n",
    "global_model.add(tf.keras.layers.Dense(90, activation='relu'))\n",
    "global_model.add(tf.keras.layers.Dense(10, activation='softmax'))\n",
    "global_model.compile(loss='categorical_crossentropy', optimizer='Adam', metrics=['accuracy'])\n",
    "global_model.summary()"
   ]
  },
  {
   "cell_type": "code",
   "execution_count": 37,
   "id": "4193434e",
   "metadata": {},
   "outputs": [
    {
     "name": "stderr",
     "output_type": "stream",
     "text": [
      "Progress Bar: 100%|████████████████████████████████████████████████████████████████████| 10/10 [00:53<00:00,  5.30s/it]\n"
     ]
    },
    {
     "name": "stdout",
     "output_type": "stream",
     "text": [
      "313/313 [==============================] - 2s 7ms/step\n",
      "comm_round: 0 | global_acc: 31.220% | global_loss: 2.286187171936035\n"
     ]
    },
    {
     "name": "stderr",
     "output_type": "stream",
     "text": [
      "Progress Bar: 100%|████████████████████████████████████████████████████████████████████| 10/10 [00:52<00:00,  5.27s/it]\n"
     ]
    },
    {
     "name": "stdout",
     "output_type": "stream",
     "text": [
      "313/313 [==============================] - 2s 6ms/step\n",
      "comm_round: 1 | global_acc: 45.070% | global_loss: 2.1410675048828125\n"
     ]
    },
    {
     "name": "stderr",
     "output_type": "stream",
     "text": [
      "Progress Bar: 100%|████████████████████████████████████████████████████████████████████| 10/10 [00:57<00:00,  5.78s/it]\n"
     ]
    },
    {
     "name": "stdout",
     "output_type": "stream",
     "text": [
      "313/313 [==============================] - 2s 7ms/step\n",
      "comm_round: 2 | global_acc: 48.000% | global_loss: 2.0967423915863037\n"
     ]
    },
    {
     "name": "stderr",
     "output_type": "stream",
     "text": [
      "Progress Bar: 100%|████████████████████████████████████████████████████████████████████| 10/10 [00:54<00:00,  5.42s/it]\n"
     ]
    },
    {
     "name": "stdout",
     "output_type": "stream",
     "text": [
      "313/313 [==============================] - 2s 6ms/step\n",
      "comm_round: 3 | global_acc: 51.280% | global_loss: 2.0699808597564697\n"
     ]
    },
    {
     "name": "stderr",
     "output_type": "stream",
     "text": [
      "Progress Bar: 100%|████████████████████████████████████████████████████████████████████| 10/10 [00:47<00:00,  4.74s/it]\n"
     ]
    },
    {
     "name": "stdout",
     "output_type": "stream",
     "text": [
      "313/313 [==============================] - 2s 5ms/step\n",
      "comm_round: 4 | global_acc: 53.790% | global_loss: 2.0367660522460938\n"
     ]
    },
    {
     "name": "stderr",
     "output_type": "stream",
     "text": [
      "Progress Bar: 100%|████████████████████████████████████████████████████████████████████| 10/10 [00:49<00:00,  4.99s/it]\n"
     ]
    },
    {
     "name": "stdout",
     "output_type": "stream",
     "text": [
      "313/313 [==============================] - 2s 5ms/step\n",
      "comm_round: 5 | global_acc: 55.940% | global_loss: 2.0220136642456055\n"
     ]
    },
    {
     "name": "stderr",
     "output_type": "stream",
     "text": [
      "Progress Bar: 100%|████████████████████████████████████████████████████████████████████| 10/10 [00:51<00:00,  5.15s/it]\n"
     ]
    },
    {
     "name": "stdout",
     "output_type": "stream",
     "text": [
      "313/313 [==============================] - 2s 5ms/step\n",
      "comm_round: 6 | global_acc: 58.040% | global_loss: 1.9958542585372925\n"
     ]
    },
    {
     "name": "stderr",
     "output_type": "stream",
     "text": [
      "Progress Bar: 100%|████████████████████████████████████████████████████████████████████| 10/10 [00:46<00:00,  4.69s/it]\n"
     ]
    },
    {
     "name": "stdout",
     "output_type": "stream",
     "text": [
      "313/313 [==============================] - 2s 6ms/step\n",
      "comm_round: 7 | global_acc: 59.960% | global_loss: 1.9726711511611938\n"
     ]
    },
    {
     "name": "stderr",
     "output_type": "stream",
     "text": [
      "Progress Bar: 100%|████████████████████████████████████████████████████████████████████| 10/10 [00:52<00:00,  5.27s/it]\n"
     ]
    },
    {
     "name": "stdout",
     "output_type": "stream",
     "text": [
      "313/313 [==============================] - 2s 7ms/step\n",
      "comm_round: 8 | global_acc: 61.000% | global_loss: 1.9545488357543945\n"
     ]
    },
    {
     "name": "stderr",
     "output_type": "stream",
     "text": [
      "Progress Bar: 100%|████████████████████████████████████████████████████████████████████| 10/10 [00:50<00:00,  5.09s/it]\n"
     ]
    },
    {
     "name": "stdout",
     "output_type": "stream",
     "text": [
      "313/313 [==============================] - 2s 6ms/step\n",
      "comm_round: 9 | global_acc: 61.560% | global_loss: 1.946381688117981\n"
     ]
    },
    {
     "name": "stderr",
     "output_type": "stream",
     "text": [
      "Progress Bar: 100%|████████████████████████████████████████████████████████████████████| 10/10 [00:53<00:00,  5.32s/it]\n"
     ]
    },
    {
     "name": "stdout",
     "output_type": "stream",
     "text": [
      "313/313 [==============================] - 2s 6ms/step\n",
      "comm_round: 10 | global_acc: 62.770% | global_loss: 1.9285261631011963\n"
     ]
    },
    {
     "name": "stderr",
     "output_type": "stream",
     "text": [
      "Progress Bar: 100%|████████████████████████████████████████████████████████████████████| 10/10 [00:54<00:00,  5.42s/it]\n"
     ]
    },
    {
     "name": "stdout",
     "output_type": "stream",
     "text": [
      "313/313 [==============================] - 2s 7ms/step\n",
      "comm_round: 11 | global_acc: 63.180% | global_loss: 1.9265528917312622\n"
     ]
    },
    {
     "name": "stderr",
     "output_type": "stream",
     "text": [
      "Progress Bar: 100%|████████████████████████████████████████████████████████████████████| 10/10 [00:58<00:00,  5.88s/it]\n"
     ]
    },
    {
     "name": "stdout",
     "output_type": "stream",
     "text": [
      "313/313 [==============================] - 2s 8ms/step\n",
      "comm_round: 12 | global_acc: 64.180% | global_loss: 1.9127566814422607\n"
     ]
    },
    {
     "name": "stderr",
     "output_type": "stream",
     "text": [
      "Progress Bar: 100%|████████████████████████████████████████████████████████████████████| 10/10 [00:51<00:00,  5.10s/it]\n"
     ]
    },
    {
     "name": "stdout",
     "output_type": "stream",
     "text": [
      "313/313 [==============================] - 2s 7ms/step\n",
      "comm_round: 13 | global_acc: 64.780% | global_loss: 1.9013307094573975\n"
     ]
    },
    {
     "name": "stderr",
     "output_type": "stream",
     "text": [
      "Progress Bar: 100%|████████████████████████████████████████████████████████████████████| 10/10 [00:55<00:00,  5.56s/it]\n"
     ]
    },
    {
     "name": "stdout",
     "output_type": "stream",
     "text": [
      "313/313 [==============================] - 2s 6ms/step\n",
      "comm_round: 14 | global_acc: 65.650% | global_loss: 1.8937315940856934\n"
     ]
    },
    {
     "name": "stderr",
     "output_type": "stream",
     "text": [
      "Progress Bar: 100%|████████████████████████████████████████████████████████████████████| 10/10 [00:48<00:00,  4.90s/it]\n"
     ]
    },
    {
     "name": "stdout",
     "output_type": "stream",
     "text": [
      "313/313 [==============================] - 2s 5ms/step\n",
      "comm_round: 15 | global_acc: 66.720% | global_loss: 1.8831160068511963\n"
     ]
    },
    {
     "name": "stderr",
     "output_type": "stream",
     "text": [
      "Progress Bar: 100%|████████████████████████████████████████████████████████████████████| 10/10 [00:47<00:00,  4.70s/it]\n"
     ]
    },
    {
     "name": "stdout",
     "output_type": "stream",
     "text": [
      "313/313 [==============================] - 2s 5ms/step\n",
      "comm_round: 16 | global_acc: 66.700% | global_loss: 1.873565673828125\n"
     ]
    },
    {
     "name": "stderr",
     "output_type": "stream",
     "text": [
      "Progress Bar: 100%|████████████████████████████████████████████████████████████████████| 10/10 [00:46<00:00,  4.66s/it]\n"
     ]
    },
    {
     "name": "stdout",
     "output_type": "stream",
     "text": [
      "313/313 [==============================] - 2s 5ms/step\n",
      "comm_round: 17 | global_acc: 67.710% | global_loss: 1.8686367273330688\n"
     ]
    },
    {
     "name": "stderr",
     "output_type": "stream",
     "text": [
      "Progress Bar: 100%|████████████████████████████████████████████████████████████████████| 10/10 [00:46<00:00,  4.66s/it]\n"
     ]
    },
    {
     "name": "stdout",
     "output_type": "stream",
     "text": [
      "313/313 [==============================] - 2s 5ms/step\n",
      "comm_round: 18 | global_acc: 67.630% | global_loss: 1.8593660593032837\n"
     ]
    },
    {
     "name": "stderr",
     "output_type": "stream",
     "text": [
      "Progress Bar: 100%|████████████████████████████████████████████████████████████████████| 10/10 [00:46<00:00,  4.66s/it]\n"
     ]
    },
    {
     "name": "stdout",
     "output_type": "stream",
     "text": [
      "313/313 [==============================] - 2s 6ms/step\n",
      "comm_round: 19 | global_acc: 68.120% | global_loss: 1.855769157409668\n"
     ]
    },
    {
     "name": "stderr",
     "output_type": "stream",
     "text": [
      "Progress Bar: 100%|████████████████████████████████████████████████████████████████████| 10/10 [00:47<00:00,  4.80s/it]\n"
     ]
    },
    {
     "name": "stdout",
     "output_type": "stream",
     "text": [
      "313/313 [==============================] - 2s 5ms/step\n",
      "comm_round: 20 | global_acc: 68.950% | global_loss: 1.8456865549087524\n"
     ]
    },
    {
     "name": "stderr",
     "output_type": "stream",
     "text": [
      "Progress Bar: 100%|████████████████████████████████████████████████████████████████████| 10/10 [00:46<00:00,  4.69s/it]\n"
     ]
    },
    {
     "name": "stdout",
     "output_type": "stream",
     "text": [
      "313/313 [==============================] - 2s 5ms/step\n",
      "comm_round: 21 | global_acc: 68.960% | global_loss: 1.8366206884384155\n"
     ]
    },
    {
     "name": "stderr",
     "output_type": "stream",
     "text": [
      "Progress Bar: 100%|████████████████████████████████████████████████████████████████████| 10/10 [00:46<00:00,  4.66s/it]\n"
     ]
    },
    {
     "name": "stdout",
     "output_type": "stream",
     "text": [
      "313/313 [==============================] - 2s 6ms/step\n",
      "comm_round: 22 | global_acc: 69.370% | global_loss: 1.835021734237671\n"
     ]
    },
    {
     "name": "stderr",
     "output_type": "stream",
     "text": [
      "Progress Bar: 100%|████████████████████████████████████████████████████████████████████| 10/10 [00:46<00:00,  4.61s/it]\n"
     ]
    },
    {
     "name": "stdout",
     "output_type": "stream",
     "text": [
      "313/313 [==============================] - 2s 5ms/step\n",
      "comm_round: 23 | global_acc: 69.250% | global_loss: 1.8304933309555054\n"
     ]
    },
    {
     "name": "stderr",
     "output_type": "stream",
     "text": [
      "Progress Bar: 100%|████████████████████████████████████████████████████████████████████| 10/10 [00:46<00:00,  4.63s/it]\n"
     ]
    },
    {
     "name": "stdout",
     "output_type": "stream",
     "text": [
      "313/313 [==============================] - 2s 5ms/step\n",
      "comm_round: 24 | global_acc: 69.390% | global_loss: 1.824411153793335\n"
     ]
    },
    {
     "name": "stderr",
     "output_type": "stream",
     "text": [
      "Progress Bar: 100%|████████████████████████████████████████████████████████████████████| 10/10 [00:46<00:00,  4.62s/it]\n"
     ]
    },
    {
     "name": "stdout",
     "output_type": "stream",
     "text": [
      "313/313 [==============================] - 2s 5ms/step\n",
      "comm_round: 25 | global_acc: 69.430% | global_loss: 1.8248679637908936\n"
     ]
    },
    {
     "name": "stderr",
     "output_type": "stream",
     "text": [
      "Progress Bar: 100%|████████████████████████████████████████████████████████████████████| 10/10 [00:46<00:00,  4.61s/it]\n"
     ]
    },
    {
     "name": "stdout",
     "output_type": "stream",
     "text": [
      "313/313 [==============================] - 2s 5ms/step\n",
      "comm_round: 26 | global_acc: 69.230% | global_loss: 1.821197271347046\n"
     ]
    },
    {
     "name": "stderr",
     "output_type": "stream",
     "text": [
      "Progress Bar: 100%|████████████████████████████████████████████████████████████████████| 10/10 [00:45<00:00,  4.54s/it]\n"
     ]
    },
    {
     "name": "stdout",
     "output_type": "stream",
     "text": [
      "313/313 [==============================] - 4s 5ms/step\n",
      "comm_round: 27 | global_acc: 69.260% | global_loss: 1.8170973062515259\n"
     ]
    },
    {
     "name": "stderr",
     "output_type": "stream",
     "text": [
      "Progress Bar: 100%|████████████████████████████████████████████████████████████████████| 10/10 [00:55<00:00,  5.59s/it]\n"
     ]
    },
    {
     "name": "stdout",
     "output_type": "stream",
     "text": [
      "313/313 [==============================] - 2s 6ms/step\n",
      "comm_round: 28 | global_acc: 69.380% | global_loss: 1.8144463300704956\n"
     ]
    },
    {
     "name": "stderr",
     "output_type": "stream",
     "text": [
      "Progress Bar: 100%|████████████████████████████████████████████████████████████████████| 10/10 [00:45<00:00,  4.57s/it]\n"
     ]
    },
    {
     "name": "stdout",
     "output_type": "stream",
     "text": [
      "313/313 [==============================] - 2s 5ms/step\n",
      "comm_round: 29 | global_acc: 69.870% | global_loss: 1.8080546855926514\n"
     ]
    },
    {
     "name": "stderr",
     "output_type": "stream",
     "text": [
      "Progress Bar: 100%|████████████████████████████████████████████████████████████████████| 10/10 [00:44<00:00,  4.43s/it]\n"
     ]
    },
    {
     "name": "stdout",
     "output_type": "stream",
     "text": [
      "313/313 [==============================] - 2s 5ms/step\n",
      "comm_round: 30 | global_acc: 69.880% | global_loss: 1.8061271905899048\n"
     ]
    },
    {
     "name": "stderr",
     "output_type": "stream",
     "text": [
      "Progress Bar: 100%|████████████████████████████████████████████████████████████████████| 10/10 [00:44<00:00,  4.46s/it]\n"
     ]
    },
    {
     "name": "stdout",
     "output_type": "stream",
     "text": [
      "313/313 [==============================] - 2s 5ms/step\n",
      "comm_round: 31 | global_acc: 69.560% | global_loss: 1.804481863975525\n"
     ]
    },
    {
     "name": "stderr",
     "output_type": "stream",
     "text": [
      "Progress Bar: 100%|████████████████████████████████████████████████████████████████████| 10/10 [00:44<00:00,  4.43s/it]\n"
     ]
    },
    {
     "name": "stdout",
     "output_type": "stream",
     "text": [
      "313/313 [==============================] - 2s 5ms/step\n",
      "comm_round: 32 | global_acc: 69.880% | global_loss: 1.8008965253829956\n"
     ]
    },
    {
     "name": "stderr",
     "output_type": "stream",
     "text": [
      "Progress Bar: 100%|████████████████████████████████████████████████████████████████████| 10/10 [00:44<00:00,  4.50s/it]\n"
     ]
    },
    {
     "name": "stdout",
     "output_type": "stream",
     "text": [
      "313/313 [==============================] - 2s 5ms/step\n",
      "comm_round: 33 | global_acc: 69.640% | global_loss: 1.8005882501602173\n"
     ]
    },
    {
     "name": "stderr",
     "output_type": "stream",
     "text": [
      "Progress Bar: 100%|████████████████████████████████████████████████████████████████████| 10/10 [00:44<00:00,  4.45s/it]\n"
     ]
    },
    {
     "name": "stdout",
     "output_type": "stream",
     "text": [
      "313/313 [==============================] - 2s 5ms/step\n",
      "comm_round: 34 | global_acc: 69.730% | global_loss: 1.7921056747436523\n"
     ]
    },
    {
     "name": "stderr",
     "output_type": "stream",
     "text": [
      "Progress Bar: 100%|████████████████████████████████████████████████████████████████████| 10/10 [00:45<00:00,  4.56s/it]\n"
     ]
    },
    {
     "name": "stdout",
     "output_type": "stream",
     "text": [
      "313/313 [==============================] - 2s 5ms/step\n",
      "comm_round: 35 | global_acc: 69.300% | global_loss: 1.7960829734802246\n"
     ]
    },
    {
     "name": "stderr",
     "output_type": "stream",
     "text": [
      "Progress Bar: 100%|████████████████████████████████████████████████████████████████████| 10/10 [00:48<00:00,  4.83s/it]\n"
     ]
    },
    {
     "name": "stdout",
     "output_type": "stream",
     "text": [
      "313/313 [==============================] - 3s 9ms/step\n",
      "comm_round: 36 | global_acc: 69.000% | global_loss: 1.7971402406692505\n"
     ]
    },
    {
     "name": "stderr",
     "output_type": "stream",
     "text": [
      "Progress Bar: 100%|████████████████████████████████████████████████████████████████████| 10/10 [01:01<00:00,  6.15s/it]\n"
     ]
    },
    {
     "name": "stdout",
     "output_type": "stream",
     "text": [
      "313/313 [==============================] - 3s 8ms/step\n",
      "comm_round: 37 | global_acc: 69.480% | global_loss: 1.793274164199829\n"
     ]
    },
    {
     "name": "stderr",
     "output_type": "stream",
     "text": [
      "Progress Bar: 100%|████████████████████████████████████████████████████████████████████| 10/10 [00:49<00:00,  4.92s/it]\n"
     ]
    },
    {
     "name": "stdout",
     "output_type": "stream",
     "text": [
      "313/313 [==============================] - 2s 5ms/step\n",
      "comm_round: 38 | global_acc: 69.180% | global_loss: 1.791513442993164\n"
     ]
    },
    {
     "name": "stderr",
     "output_type": "stream",
     "text": [
      "Progress Bar: 100%|████████████████████████████████████████████████████████████████████| 10/10 [00:52<00:00,  5.26s/it]\n"
     ]
    },
    {
     "name": "stdout",
     "output_type": "stream",
     "text": [
      "313/313 [==============================] - 2s 6ms/step\n",
      "comm_round: 39 | global_acc: 69.280% | global_loss: 1.7914938926696777\n"
     ]
    },
    {
     "name": "stderr",
     "output_type": "stream",
     "text": [
      "Progress Bar: 100%|████████████████████████████████████████████████████████████████████| 10/10 [00:56<00:00,  5.64s/it]\n"
     ]
    },
    {
     "name": "stdout",
     "output_type": "stream",
     "text": [
      "313/313 [==============================] - 2s 5ms/step\n",
      "comm_round: 40 | global_acc: 69.780% | global_loss: 1.786657452583313\n"
     ]
    },
    {
     "name": "stderr",
     "output_type": "stream",
     "text": [
      "Progress Bar: 100%|████████████████████████████████████████████████████████████████████| 10/10 [00:48<00:00,  4.85s/it]\n"
     ]
    },
    {
     "name": "stdout",
     "output_type": "stream",
     "text": [
      "313/313 [==============================] - 2s 6ms/step\n",
      "comm_round: 41 | global_acc: 68.990% | global_loss: 1.7906831502914429\n"
     ]
    },
    {
     "name": "stderr",
     "output_type": "stream",
     "text": [
      "Progress Bar: 100%|████████████████████████████████████████████████████████████████████| 10/10 [00:44<00:00,  4.46s/it]\n"
     ]
    },
    {
     "name": "stdout",
     "output_type": "stream",
     "text": [
      "313/313 [==============================] - 2s 5ms/step\n",
      "comm_round: 42 | global_acc: 69.080% | global_loss: 1.7880948781967163\n"
     ]
    },
    {
     "name": "stderr",
     "output_type": "stream",
     "text": [
      "Progress Bar: 100%|████████████████████████████████████████████████████████████████████| 10/10 [00:46<00:00,  4.64s/it]\n"
     ]
    },
    {
     "name": "stdout",
     "output_type": "stream",
     "text": [
      "313/313 [==============================] - 2s 6ms/step\n",
      "comm_round: 43 | global_acc: 69.200% | global_loss: 1.7860175371170044\n"
     ]
    },
    {
     "name": "stderr",
     "output_type": "stream",
     "text": [
      "Progress Bar: 100%|████████████████████████████████████████████████████████████████████| 10/10 [00:44<00:00,  4.50s/it]\n"
     ]
    },
    {
     "name": "stdout",
     "output_type": "stream",
     "text": [
      "313/313 [==============================] - 2s 6ms/step\n",
      "comm_round: 44 | global_acc: 69.040% | global_loss: 1.7862613201141357\n"
     ]
    },
    {
     "name": "stderr",
     "output_type": "stream",
     "text": [
      "Progress Bar: 100%|████████████████████████████████████████████████████████████████████| 10/10 [00:46<00:00,  4.68s/it]\n"
     ]
    },
    {
     "name": "stdout",
     "output_type": "stream",
     "text": [
      "313/313 [==============================] - 2s 7ms/step\n",
      "comm_round: 45 | global_acc: 68.730% | global_loss: 1.7875117063522339\n"
     ]
    },
    {
     "name": "stderr",
     "output_type": "stream",
     "text": [
      "Progress Bar: 100%|████████████████████████████████████████████████████████████████████| 10/10 [00:48<00:00,  4.89s/it]\n"
     ]
    },
    {
     "name": "stdout",
     "output_type": "stream",
     "text": [
      "313/313 [==============================] - 2s 5ms/step\n",
      "comm_round: 46 | global_acc: 68.430% | global_loss: 1.787579894065857\n"
     ]
    },
    {
     "name": "stderr",
     "output_type": "stream",
     "text": [
      "Progress Bar: 100%|████████████████████████████████████████████████████████████████████| 10/10 [00:47<00:00,  4.71s/it]\n"
     ]
    },
    {
     "name": "stdout",
     "output_type": "stream",
     "text": [
      "313/313 [==============================] - 2s 5ms/step\n",
      "comm_round: 47 | global_acc: 68.110% | global_loss: 1.7881780862808228\n"
     ]
    },
    {
     "name": "stderr",
     "output_type": "stream",
     "text": [
      "Progress Bar: 100%|████████████████████████████████████████████████████████████████████| 10/10 [00:46<00:00,  4.69s/it]\n"
     ]
    },
    {
     "name": "stdout",
     "output_type": "stream",
     "text": [
      "313/313 [==============================] - 2s 5ms/step\n",
      "comm_round: 48 | global_acc: 68.500% | global_loss: 1.7862029075622559\n"
     ]
    },
    {
     "name": "stderr",
     "output_type": "stream",
     "text": [
      "Progress Bar: 100%|████████████████████████████████████████████████████████████████████| 10/10 [00:46<00:00,  4.65s/it]\n"
     ]
    },
    {
     "name": "stdout",
     "output_type": "stream",
     "text": [
      "313/313 [==============================] - 3s 8ms/step\n",
      "comm_round: 49 | global_acc: 68.110% | global_loss: 1.7867952585220337\n"
     ]
    }
   ],
   "source": [
    "#commence global training loop\n",
    "#participation ratio of clients at each round\n",
    "C=1\n",
    "X_com=[]\n",
    "Y_acc_sgd=[]\n",
    "Y_loss_sgd=[]\n",
    "\n",
    "for comm_round in range(comms_round):\n",
    "    \n",
    "    # get the global model's weights - will serve as the initial weights for all local models\n",
    "    #This function returns a list consisting of NumPy arrays. The first array gives the weights of the layer and \n",
    "    #the second array gives the biases.\n",
    "    global_weights = global_model.get_weights()\n",
    "    \n",
    "    #initial list to collect local model weights after scalling\n",
    "    scaled_local_weight_list = list()\n",
    "\n",
    "    #randomize client data - using keys\n",
    "    client_names= list(clients_batched.keys()) #Here client name has been stored in client_names\n",
    "    random.shuffle(client_names)\n",
    "    client_names=client_names[0:int(max(C*len(clients),1))]\n",
    "    \n",
    "    #loop through each client and create new local model\n",
    "    for client in tqdm(client_names , desc = 'Progress Bar'):\n",
    "        #time.sleep(0.5)\n",
    "        # Define the model architecture\n",
    "        local_model = model\n",
    "        #set local model weight to the weight of the global model\n",
    "        local_model.set_weights(global_weights)\n",
    "        \n",
    "        #fit local model with client's data\n",
    "        #verbose is the choice that how you want to see the output of your Nural Network while it's training. \n",
    "        #If you set verbose = 0, It will show nothing.\n",
    "        \n",
    "        # get the batched data for the client\n",
    "        client_data = clients_batched[client]\n",
    "        \n",
    "        # get the number of batches in the client's data\n",
    "        num_batches = tf.data.experimental.cardinality(client_data)\n",
    "            # fit the local model on the batch\n",
    "            #Here this epochs is the local epochs for each client's per batch data\n",
    "        for epoch in range(epochs_per_batch):\n",
    "            for batch in client_data:  #This loops will iterate just one for sgd as one single minibatch as full data\n",
    "                X_batch, y_batch = batch\n",
    "                #Training has been done here for sgd \n",
    "                local_model.fit(X_batch, y_batch,epochs=1,verbose=0)\n",
    "        #scale the model weights and add to list\n",
    "        scaling_factor = weight_scalling_factor(clients_batched, client)\n",
    "        #Now each attributes weights has been multiplied by scalling factor for each client\n",
    "        scaled_weights = scale_model_weights(local_model.get_weights(), scaling_factor)\n",
    "        #scaled weight list now stored for each client\n",
    "        scaled_local_weight_list.append(scaled_weights)\n",
    "        \n",
    "        #clear session to free memory after each communication round\n",
    "        K.clear_session()\n",
    "        \n",
    "    #to get the average over all the local model, we simply take the sum of the scaled weights\n",
    "    average_weights = sum_scaled_weights(scaled_local_weight_list)\n",
    "    \n",
    "    #update global model \n",
    "    global_model.set_weights(average_weights)\n",
    "\n",
    "    #test global model and print out metrics after each communications round\n",
    "    for(X_test, Y_test) in test_batched:\n",
    "        global_acc, global_loss = test_model(X_test, Y_test, global_model, comm_round)\n",
    "        X_com.append(comm_round)\n",
    "        Y_acc_sgd.append(global_acc)\n",
    "        Y_loss_sgd.append(global_loss)\n",
    "        "
   ]
  },
  {
   "cell_type": "code",
   "execution_count": 38,
   "id": "326f9c37",
   "metadata": {},
   "outputs": [
    {
     "data": {
      "image/png": "[encoded data removed]",
      "text/plain": [
       "<Figure size 432x288 with 1 Axes>"
      ]
     },
     "metadata": {
      "needs_background": "light"
     },
     "output_type": "display_data"
    }
   ],
   "source": [
    "#plot of Fedsgd in Comunication - global accuracy\n",
    "plt.plot(X_com,Y_acc_sgd)\n",
    "plt.title('FedSGD accuracy')\n",
    "plt.ylabel('Accuracy')\n",
    "plt.xlabel('Communication round')\n",
    "plt.legend(['train'],loc='upper left')\n",
    "plt.show()"
   ]
  },
  {
   "cell_type": "code",
   "execution_count": 39,
   "id": "7134a0c2",
   "metadata": {},
   "outputs": [
    {
     "data": {
      "image/png": "[encoded data removed]",
      "text/plain": [
       "<Figure size 432x288 with 1 Axes>"
      ]
     },
     "metadata": {
      "needs_background": "light"
     },
     "output_type": "display_data"
    }
   ],
   "source": [
    "#Plot for Fedsgd in Communication - global loss\n",
    "plt.plot(X_com,Y_loss_sgd)\n",
    "plt.title('FedSGD loss')\n",
    "plt.ylabel('Global loss')\n",
    "plt.xlabel('Communication round')\n",
    "plt.legend(['train'],loc='upper left')\n",
    "plt.show()"
   ]
  },
  {
   "cell_type": "code",
   "execution_count": 40,
   "id": "d2631673",
   "metadata": {},
   "outputs": [
    {
     "data": {
      "image/png": "[encoded data removed]",
      "text/plain": [
       "<Figure size 720x360 with 1 Axes>"
      ]
     },
     "metadata": {
      "needs_background": "light"
     },
     "output_type": "display_data"
    }
   ],
   "source": [
    "f = plt.figure()\n",
    "f.set_figwidth(10)\n",
    "f.set_figheight(5)\n",
    "plt.plot(X_com,Y_acc_sgd,marker = 'o')\n",
    "plt.plot(X_com,Y_acc_avg,marker = 'o')\n",
    "plt.ylabel('Accuracy')\n",
    "plt.xlabel('Communication round')\n",
    "plt.show()"
   ]
  },
  {
   "cell_type": "code",
   "execution_count": 41,
   "id": "8abcc175",
   "metadata": {},
   "outputs": [
    {
     "data": {
      "image/png": "[encoded data removed]",
      "text/plain": [
       "<Figure size 720x360 with 1 Axes>"
      ]
     },
     "metadata": {
      "needs_background": "light"
     },
     "output_type": "display_data"
    }
   ],
   "source": [
    "f = plt.figure()\n",
    "f.set_figwidth(10)\n",
    "f.set_figheight(5)\n",
    "plt.plot(X_com,Y_loss_sgd,marker = 'o')\n",
    "plt.plot(X_com,Y_loss_avg,marker = 'o')\n",
    "plt.ylabel('Loss')\n",
    "plt.xlabel('Communication round')\n",
    "plt.show()"
   ]
  },
  {
   "cell_type": "markdown",
   "id": "89a5a65f",
   "metadata": {},
   "source": [
    "\n",
    "\n",
    "### This function splits the dataset into num_shards shards and assigns each shard to a client such that each client has a different distribution of data. The data points for each shard are shuffled before being assigned to clients to ensure that each client gets a random subset of the data. The num_data_points_per_shard variable is calculated by dividing the total number of data points by the number of shards and the number of clients. This ensures that each shard has the same number of data points and that the data is evenly distributed among clients."
   ]
  }
 ],
 "metadata": {
  "kernelspec": {
   "display_name": "Python 3 (ipykernel)",
   "language": "python",
   "name": "python3"
  },
  "language_info": {
   "codemirror_mode": {
    "name": "ipython",
    "version": 3
   },
   "file_extension": ".py",
   "mimetype": "text/x-python",
   "name": "python",
   "nbconvert_exporter": "python",
   "pygments_lexer": "ipython3",
   "version": "3.9.0"
  }
 },
 "nbformat": 4,
 "nbformat_minor": 5
}
