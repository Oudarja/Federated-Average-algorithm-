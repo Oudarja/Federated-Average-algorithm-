{
 "cells": [
  {
   "cell_type": "markdown",
   "id": "4c9b4a3f",
   "metadata": {},
   "source": [
    "# Here C[client fraction]=0.1 and E[local epoch on each client]=5 ,bs[batch size ]=50"
   ]
  },
  {
   "cell_type": "code",
   "execution_count": 1,
   "id": "9968fb05",
   "metadata": {},
   "outputs": [
    {
     "name": "stderr",
     "output_type": "stream",
     "text": [
      "c:\\users\\user\\appdata\\local\\programs\\python\\python39\\lib\\site-packages\\scipy\\__init__.py:146: UserWarning: A NumPy version >=1.16.5 and <1.23.0 is required for this version of SciPy (detected version 1.24.3\n",
      "  warnings.warn(f\"A NumPy version >={np_minversion} and <{np_maxversion}\"\n"
     ]
    }
   ],
   "source": [
    "import numpy as np\n",
    "import random\n",
    "import os\n",
    "import pickle \n",
    "%matplotlib inline\n",
    "import matplotlib as mpl \n",
    "import matplotlib.pyplot as plt\n",
    "from sklearn.model_selection import train_test_split\n",
    "from sklearn.preprocessing import LabelBinarizer \n",
    "from sklearn.model_selection import train_test_split\n",
    "from sklearn.utils import shuffle\n",
    "from sklearn.metrics import accuracy_score\n",
    "#tqdm is a package for Python that enables you to instantly \n",
    "#create progress bars and estimate TTC (Time To Completion) for your functions and loops!\n",
    "from tqdm import tqdm\n",
    "import time\n",
    "import tensorflow as tf\n",
    "from tensorflow.keras.models import Sequential\n",
    "from tensorflow.keras.layers import Conv2D\n",
    "from tensorflow.keras.layers import MaxPooling2D\n",
    "from tensorflow.keras.layers import Activation\n",
    "from tensorflow.keras.layers import Flatten\n",
    "from tensorflow.keras.layers import Dense\n",
    "#from tensorflow.keras.optimizers.legacy import SGD\n",
    "from tensorflow.keras import backend as K"
   ]
  },
  {
   "cell_type": "code",
   "execution_count": 2,
   "id": "91251e95",
   "metadata": {},
   "outputs": [],
   "source": [
    "#Federated_implementation_utils has been imported \n",
    "#from Federated_implementation_utils import *\n",
    "from Federated_implementation_utils_minmax_cifar import *"
   ]
  },
  {
   "cell_type": "code",
   "execution_count": 3,
   "id": "6a02dab1",
   "metadata": {},
   "outputs": [],
   "source": [
    "X_train = load('X_train.pkl')\n",
    "X_test=load('X_test.pkl')\n",
    "y_train=pickle.load(open('y_train.pkl','rb'))\n",
    "y_test=pickle.load(open('y_test.pkl','rb'))"
   ]
  },
  {
   "cell_type": "code",
   "execution_count": 4,
   "id": "84039ddc",
   "metadata": {},
   "outputs": [
    {
     "data": {
      "text/plain": [
       "array([[[ 49,  52,  52],\n",
       "        [ 40,  39,  36],\n",
       "        [ 61,  48,  36],\n",
       "        ...,\n",
       "        [153, 124,  97],\n",
       "        [149, 121,  96],\n",
       "        [144, 117,  95]],\n",
       "\n",
       "       [[ 18,  18,  17],\n",
       "        [ 20,  10,   2],\n",
       "        [ 61,  35,  13],\n",
       "        ...,\n",
       "        [129,  93,  57],\n",
       "        [120,  84,  51],\n",
       "        [116,  80,  49]],\n",
       "\n",
       "       [[ 32,  23,  15],\n",
       "        [ 57,  33,  12],\n",
       "        [ 98,  58,  26],\n",
       "        ...,\n",
       "        [128,  89,  51],\n",
       "        [122,  85,  49],\n",
       "        [100,  67,  38]],\n",
       "\n",
       "       ...,\n",
       "\n",
       "       [[215, 175,  80],\n",
       "        [194, 150,  24],\n",
       "        [177, 143,  27],\n",
       "        ...,\n",
       "        [176, 145,  90],\n",
       "        [113,  85,  46],\n",
       "        [ 39,  22,  10]],\n",
       "\n",
       "       [[192, 151,  86],\n",
       "        [189, 145,  33],\n",
       "        [192, 154,  26],\n",
       "        ...,\n",
       "        [140, 106,  62],\n",
       "        [124,  93,  51],\n",
       "        [ 69,  43,  25]],\n",
       "\n",
       "       [[176, 140, 108],\n",
       "        [174, 135,  81],\n",
       "        [187, 148,  62],\n",
       "        ...,\n",
       "        [171, 139, 102],\n",
       "        [176, 143, 104],\n",
       "        [120,  89,  67]]], dtype=uint8)"
      ]
     },
     "execution_count": 4,
     "metadata": {},
     "output_type": "execute_result"
    }
   ],
   "source": [
    "#see the pickle file\n",
    "with open('X_train.pkl','rb') as pickle_file: \n",
    "    new_data=pickle.load(pickle_file)\n",
    "\n",
    "new_data[0]"
   ]
  },
  {
   "cell_type": "code",
   "execution_count": 5,
   "id": "1ed630c6",
   "metadata": {},
   "outputs": [
    {
     "data": {
      "text/plain": [
       "array([[[0.19215686, 0.20392157, 0.20392157],\n",
       "        [0.15686275, 0.15294118, 0.14117647],\n",
       "        [0.23921569, 0.18823529, 0.14117647],\n",
       "        ...,\n",
       "        [0.6       , 0.48627451, 0.38039216],\n",
       "        [0.58431373, 0.4745098 , 0.37647059],\n",
       "        [0.56470588, 0.45882353, 0.37254902]],\n",
       "\n",
       "       [[0.07058824, 0.07058824, 0.06666667],\n",
       "        [0.07843137, 0.03921569, 0.00784314],\n",
       "        [0.23921569, 0.1372549 , 0.05098039],\n",
       "        ...,\n",
       "        [0.50588235, 0.36470588, 0.22352941],\n",
       "        [0.47058824, 0.32941176, 0.2       ],\n",
       "        [0.45490196, 0.31372549, 0.19215686]],\n",
       "\n",
       "       [[0.1254902 , 0.09019608, 0.05882353],\n",
       "        [0.22352941, 0.12941176, 0.04705882],\n",
       "        [0.38431373, 0.22745098, 0.10196078],\n",
       "        ...,\n",
       "        [0.50196078, 0.34901961, 0.2       ],\n",
       "        [0.47843137, 0.33333333, 0.19215686],\n",
       "        [0.39215686, 0.2627451 , 0.14901961]],\n",
       "\n",
       "       ...,\n",
       "\n",
       "       [[0.84313725, 0.68627451, 0.31372549],\n",
       "        [0.76078431, 0.58823529, 0.09411765],\n",
       "        [0.69411765, 0.56078431, 0.10588235],\n",
       "        ...,\n",
       "        [0.69019608, 0.56862745, 0.35294118],\n",
       "        [0.44313725, 0.33333333, 0.18039216],\n",
       "        [0.15294118, 0.08627451, 0.03921569]],\n",
       "\n",
       "       [[0.75294118, 0.59215686, 0.3372549 ],\n",
       "        [0.74117647, 0.56862745, 0.12941176],\n",
       "        [0.75294118, 0.60392157, 0.10196078],\n",
       "        ...,\n",
       "        [0.54901961, 0.41568627, 0.24313725],\n",
       "        [0.48627451, 0.36470588, 0.2       ],\n",
       "        [0.27058824, 0.16862745, 0.09803922]],\n",
       "\n",
       "       [[0.69019608, 0.54901961, 0.42352941],\n",
       "        [0.68235294, 0.52941176, 0.31764706],\n",
       "        [0.73333333, 0.58039216, 0.24313725],\n",
       "        ...,\n",
       "        [0.67058824, 0.54509804, 0.4       ],\n",
       "        [0.69019608, 0.56078431, 0.40784314],\n",
       "        [0.47058824, 0.34901961, 0.2627451 ]]])"
      ]
     },
     "execution_count": 5,
     "metadata": {},
     "output_type": "execute_result"
    }
   ],
   "source": [
    "X_train[0]"
   ]
  },
  {
   "cell_type": "code",
   "execution_count": 6,
   "id": "388f8a0c",
   "metadata": {},
   "outputs": [
    {
     "data": {
      "text/plain": [
       "array([[6],\n",
       "       [9],\n",
       "       [9],\n",
       "       ...,\n",
       "       [9],\n",
       "       [1],\n",
       "       [1]], dtype=uint8)"
      ]
     },
     "execution_count": 6,
     "metadata": {},
     "output_type": "execute_result"
    }
   ],
   "source": [
    "y_train"
   ]
  },
  {
   "cell_type": "code",
   "execution_count": 7,
   "id": "3cbe11eb",
   "metadata": {},
   "outputs": [
    {
     "data": {
      "text/plain": [
       "(50000, 1)"
      ]
     },
     "execution_count": 7,
     "metadata": {},
     "output_type": "execute_result"
    }
   ],
   "source": [
    "y_train.shape"
   ]
  },
  {
   "cell_type": "code",
   "execution_count": 8,
   "id": "e6453c82",
   "metadata": {},
   "outputs": [],
   "source": [
    "y_train=y_train.reshape(-1,)"
   ]
  },
  {
   "cell_type": "code",
   "execution_count": 9,
   "id": "25e8edf9",
   "metadata": {},
   "outputs": [
    {
     "name": "stdout",
     "output_type": "stream",
     "text": [
      "[0, 1, 2, 3, 4, 5, 6, 7, 8, 9]\n"
     ]
    }
   ],
   "source": [
    "#tolist(), used to convert the data elements of an array into a list. \n",
    "#This function returns the array as an a. ndim- levels deep nested list of Python scalars.\n",
    "labels = list(set(y_train.tolist())) #unique labels\n",
    "print(labels)"
   ]
  },
  {
   "cell_type": "code",
   "execution_count": 10,
   "id": "3a77eca1",
   "metadata": {},
   "outputs": [
    {
     "name": "stdout",
     "output_type": "stream",
     "text": [
      "[[0. 0. 0. ... 0. 0. 0.]\n",
      " [0. 0. 0. ... 0. 0. 1.]\n",
      " [0. 0. 0. ... 0. 0. 1.]\n",
      " ...\n",
      " [0. 0. 0. ... 0. 0. 1.]\n",
      " [0. 1. 0. ... 0. 0. 0.]\n",
      " [0. 1. 0. ... 0. 0. 0.]]\n"
     ]
    }
   ],
   "source": [
    "n_values = np.max(y_train)+1\n",
    "\n",
    "'''\n",
    "numpy.eye(R, C = None, k = 0, dtype = type <‘float’>) : –The eye tool returns a 2-D array with  1’s as the diagonal\n",
    "and  0’s elsewhere. The diagonal can be main, upper, or lower depending on the optional parameter k. \n",
    "A positive k is for the upper diagonal, a negative k is for the lower, and a  0 k (default) is for the main diagonal.\n",
    "'''\n",
    "#[[1 0]\n",
    "# [0 1]] is created and depending upon the class value 0 or 1 0 th or 1st row is selected and stored in label_list\n",
    "label_list = np.eye(n_values)[y_train]\n",
    "print(label_list)\n",
    "#Label_list is changed 1 0 when this means that 0 index should have high probabilty to be classified and 0 1 when 1 index \n",
    "#should have high probability to be classified .It is done as because MLP classifier picks up the index of highest probability"
   ]
  },
  {
   "cell_type": "code",
   "execution_count": 11,
   "id": "94752ede",
   "metadata": {},
   "outputs": [],
   "source": [
    "y_train=label_list"
   ]
  },
  {
   "cell_type": "code",
   "execution_count": 12,
   "id": "b48d14f8",
   "metadata": {},
   "outputs": [
    {
     "data": {
      "text/plain": [
       "array([[0., 0., 0., ..., 0., 0., 0.],\n",
       "       [0., 0., 0., ..., 0., 0., 1.],\n",
       "       [0., 0., 0., ..., 0., 0., 1.],\n",
       "       ...,\n",
       "       [0., 0., 0., ..., 0., 0., 1.],\n",
       "       [0., 1., 0., ..., 0., 0., 0.],\n",
       "       [0., 1., 0., ..., 0., 0., 0.]])"
      ]
     },
     "execution_count": 12,
     "metadata": {},
     "output_type": "execute_result"
    }
   ],
   "source": [
    "y_train"
   ]
  },
  {
   "cell_type": "code",
   "execution_count": 13,
   "id": "9312bb13",
   "metadata": {},
   "outputs": [
    {
     "data": {
      "text/plain": [
       "array([[3],\n",
       "       [8],\n",
       "       [8],\n",
       "       ...,\n",
       "       [5],\n",
       "       [1],\n",
       "       [7]], dtype=uint8)"
      ]
     },
     "execution_count": 13,
     "metadata": {},
     "output_type": "execute_result"
    }
   ],
   "source": [
    "y_test"
   ]
  },
  {
   "cell_type": "code",
   "execution_count": 14,
   "id": "8db9e9e4",
   "metadata": {},
   "outputs": [
    {
     "data": {
      "text/plain": [
       "(10000, 1)"
      ]
     },
     "execution_count": 14,
     "metadata": {},
     "output_type": "execute_result"
    }
   ],
   "source": [
    "y_test.shape"
   ]
  },
  {
   "cell_type": "code",
   "execution_count": 15,
   "id": "d2b87696",
   "metadata": {},
   "outputs": [],
   "source": [
    "y_test=y_test.reshape(-1,)"
   ]
  },
  {
   "cell_type": "code",
   "execution_count": 16,
   "id": "a338d278",
   "metadata": {},
   "outputs": [
    {
     "data": {
      "text/plain": [
       "array([3, 8, 8, ..., 5, 1, 7], dtype=uint8)"
      ]
     },
     "execution_count": 16,
     "metadata": {},
     "output_type": "execute_result"
    }
   ],
   "source": [
    "y_test"
   ]
  },
  {
   "cell_type": "code",
   "execution_count": 17,
   "id": "856a1823",
   "metadata": {},
   "outputs": [
    {
     "name": "stdout",
     "output_type": "stream",
     "text": [
      "[0, 1, 2, 3, 4, 5, 6, 7, 8, 9]\n"
     ]
    }
   ],
   "source": [
    "#tolist(), used to convert the data elements of an array into a list. \n",
    "#This function returns the array as an a. ndim- levels deep nested list of Python scalars.\n",
    "labels = list(set(y_test.tolist())) #unique labels\n",
    "print(labels)"
   ]
  },
  {
   "cell_type": "code",
   "execution_count": 18,
   "id": "6fa7accf",
   "metadata": {},
   "outputs": [
    {
     "name": "stdout",
     "output_type": "stream",
     "text": [
      "[[0. 0. 0. ... 0. 0. 0.]\n",
      " [0. 0. 0. ... 0. 1. 0.]\n",
      " [0. 0. 0. ... 0. 1. 0.]\n",
      " ...\n",
      " [0. 0. 0. ... 0. 0. 0.]\n",
      " [0. 1. 0. ... 0. 0. 0.]\n",
      " [0. 0. 0. ... 1. 0. 0.]]\n"
     ]
    }
   ],
   "source": [
    "n_values = np.max(y_test)+1\n",
    "\n",
    "'''\n",
    "numpy.eye(R, C = None, k = 0, dtype = type <‘float’>) : –The eye tool returns a 2-D array with  1’s as the diagonal\n",
    "and  0’s elsewhere. The diagonal can be main, upper, or lower depending on the optional parameter k. \n",
    "A positive k is for the upper diagonal, a negative k is for the lower, and a  0 k (default) is for the main diagonal.\n",
    "'''\n",
    "#[[1 0]\n",
    "# [0 1]] is created and depending upon the class value 0 or 1 0 th or 1st row is selected and stored in label_list\n",
    "label_list = np.eye(n_values)[y_test]\n",
    "print(label_list)\n",
    "#Label_list is changed 1 0 when this means that 0 index should have high probabilty to be classified and 0 1 when 1 index \n",
    "#should have high probability to be classified .It is done as because MLP classifier picks up the index of highest probability"
   ]
  },
  {
   "cell_type": "code",
   "execution_count": 19,
   "id": "21c9dbba",
   "metadata": {},
   "outputs": [],
   "source": [
    "y_test=label_list"
   ]
  },
  {
   "cell_type": "code",
   "execution_count": 20,
   "id": "ca2d5de3",
   "metadata": {},
   "outputs": [
    {
     "data": {
      "text/plain": [
       "array([[0., 0., 0., ..., 0., 0., 0.],\n",
       "       [0., 0., 0., ..., 0., 1., 0.],\n",
       "       [0., 0., 0., ..., 0., 1., 0.],\n",
       "       ...,\n",
       "       [0., 0., 0., ..., 0., 0., 0.],\n",
       "       [0., 1., 0., ..., 0., 0., 0.],\n",
       "       [0., 0., 0., ..., 1., 0., 0.]])"
      ]
     },
     "execution_count": 20,
     "metadata": {},
     "output_type": "execute_result"
    }
   ],
   "source": [
    "y_test"
   ]
  },
  {
   "cell_type": "code",
   "execution_count": 21,
   "id": "06bb6991",
   "metadata": {},
   "outputs": [],
   "source": [
    "#create clients\n",
    "#Here initial is for client1,client2,....clientK client name \n",
    "clients = create_clients_IID(X_train, y_train, num_clients=100, initial='client') "
   ]
  },
  {
   "cell_type": "code",
   "execution_count": 22,
   "id": "339a8374",
   "metadata": {},
   "outputs": [],
   "source": [
    "#clients[:2]"
   ]
  },
  {
   "cell_type": "code",
   "execution_count": 23,
   "id": "e895b2ab",
   "metadata": {},
   "outputs": [
    {
     "data": {
      "text/plain": [
       "100"
      ]
     },
     "execution_count": 23,
     "metadata": {},
     "output_type": "execute_result"
    }
   ],
   "source": [
    "len(clients)"
   ]
  },
  {
   "cell_type": "code",
   "execution_count": 24,
   "id": "0860ee88",
   "metadata": {},
   "outputs": [],
   "source": [
    "#process and batch the training data for each client\n",
    "#Dictionary of clients is created and the key will be client name and the value will be batched data set batch size is 32\n",
    "clients_batched = dict()\n",
    "for (client_name, data) in clients.items():\n",
    "    #Storing batched data on each client dictionary\n",
    "    #batch size is 50\n",
    "    clients_batched[client_name] = batch_data(data,50)"
   ]
  },
  {
   "cell_type": "code",
   "execution_count": 25,
   "id": "ff5c0a9a",
   "metadata": {},
   "outputs": [
    {
     "data": {
      "text/plain": [
       "{'client_1': <BatchDataset element_spec=(TensorSpec(shape=(None, 24, 24, 3), dtype=tf.float64, name=None), TensorSpec(shape=(None, 10), dtype=tf.float64, name=None))>,\n",
       " 'client_2': <BatchDataset element_spec=(TensorSpec(shape=(None, 24, 24, 3), dtype=tf.float64, name=None), TensorSpec(shape=(None, 10), dtype=tf.float64, name=None))>,\n",
       " 'client_3': <BatchDataset element_spec=(TensorSpec(shape=(None, 24, 24, 3), dtype=tf.float64, name=None), TensorSpec(shape=(None, 10), dtype=tf.float64, name=None))>,\n",
       " 'client_4': <BatchDataset element_spec=(TensorSpec(shape=(None, 24, 24, 3), dtype=tf.float64, name=None), TensorSpec(shape=(None, 10), dtype=tf.float64, name=None))>,\n",
       " 'client_5': <BatchDataset element_spec=(TensorSpec(shape=(None, 24, 24, 3), dtype=tf.float64, name=None), TensorSpec(shape=(None, 10), dtype=tf.float64, name=None))>,\n",
       " 'client_6': <BatchDataset element_spec=(TensorSpec(shape=(None, 24, 24, 3), dtype=tf.float64, name=None), TensorSpec(shape=(None, 10), dtype=tf.float64, name=None))>,\n",
       " 'client_7': <BatchDataset element_spec=(TensorSpec(shape=(None, 24, 24, 3), dtype=tf.float64, name=None), TensorSpec(shape=(None, 10), dtype=tf.float64, name=None))>,\n",
       " 'client_8': <BatchDataset element_spec=(TensorSpec(shape=(None, 24, 24, 3), dtype=tf.float64, name=None), TensorSpec(shape=(None, 10), dtype=tf.float64, name=None))>,\n",
       " 'client_9': <BatchDataset element_spec=(TensorSpec(shape=(None, 24, 24, 3), dtype=tf.float64, name=None), TensorSpec(shape=(None, 10), dtype=tf.float64, name=None))>,\n",
       " 'client_10': <BatchDataset element_spec=(TensorSpec(shape=(None, 24, 24, 3), dtype=tf.float64, name=None), TensorSpec(shape=(None, 10), dtype=tf.float64, name=None))>,\n",
       " 'client_11': <BatchDataset element_spec=(TensorSpec(shape=(None, 24, 24, 3), dtype=tf.float64, name=None), TensorSpec(shape=(None, 10), dtype=tf.float64, name=None))>,\n",
       " 'client_12': <BatchDataset element_spec=(TensorSpec(shape=(None, 24, 24, 3), dtype=tf.float64, name=None), TensorSpec(shape=(None, 10), dtype=tf.float64, name=None))>,\n",
       " 'client_13': <BatchDataset element_spec=(TensorSpec(shape=(None, 24, 24, 3), dtype=tf.float64, name=None), TensorSpec(shape=(None, 10), dtype=tf.float64, name=None))>,\n",
       " 'client_14': <BatchDataset element_spec=(TensorSpec(shape=(None, 24, 24, 3), dtype=tf.float64, name=None), TensorSpec(shape=(None, 10), dtype=tf.float64, name=None))>,\n",
       " 'client_15': <BatchDataset element_spec=(TensorSpec(shape=(None, 24, 24, 3), dtype=tf.float64, name=None), TensorSpec(shape=(None, 10), dtype=tf.float64, name=None))>,\n",
       " 'client_16': <BatchDataset element_spec=(TensorSpec(shape=(None, 24, 24, 3), dtype=tf.float64, name=None), TensorSpec(shape=(None, 10), dtype=tf.float64, name=None))>,\n",
       " 'client_17': <BatchDataset element_spec=(TensorSpec(shape=(None, 24, 24, 3), dtype=tf.float64, name=None), TensorSpec(shape=(None, 10), dtype=tf.float64, name=None))>,\n",
       " 'client_18': <BatchDataset element_spec=(TensorSpec(shape=(None, 24, 24, 3), dtype=tf.float64, name=None), TensorSpec(shape=(None, 10), dtype=tf.float64, name=None))>,\n",
       " 'client_19': <BatchDataset element_spec=(TensorSpec(shape=(None, 24, 24, 3), dtype=tf.float64, name=None), TensorSpec(shape=(None, 10), dtype=tf.float64, name=None))>,\n",
       " 'client_20': <BatchDataset element_spec=(TensorSpec(shape=(None, 24, 24, 3), dtype=tf.float64, name=None), TensorSpec(shape=(None, 10), dtype=tf.float64, name=None))>,\n",
       " 'client_21': <BatchDataset element_spec=(TensorSpec(shape=(None, 24, 24, 3), dtype=tf.float64, name=None), TensorSpec(shape=(None, 10), dtype=tf.float64, name=None))>,\n",
       " 'client_22': <BatchDataset element_spec=(TensorSpec(shape=(None, 24, 24, 3), dtype=tf.float64, name=None), TensorSpec(shape=(None, 10), dtype=tf.float64, name=None))>,\n",
       " 'client_23': <BatchDataset element_spec=(TensorSpec(shape=(None, 24, 24, 3), dtype=tf.float64, name=None), TensorSpec(shape=(None, 10), dtype=tf.float64, name=None))>,\n",
       " 'client_24': <BatchDataset element_spec=(TensorSpec(shape=(None, 24, 24, 3), dtype=tf.float64, name=None), TensorSpec(shape=(None, 10), dtype=tf.float64, name=None))>,\n",
       " 'client_25': <BatchDataset element_spec=(TensorSpec(shape=(None, 24, 24, 3), dtype=tf.float64, name=None), TensorSpec(shape=(None, 10), dtype=tf.float64, name=None))>,\n",
       " 'client_26': <BatchDataset element_spec=(TensorSpec(shape=(None, 24, 24, 3), dtype=tf.float64, name=None), TensorSpec(shape=(None, 10), dtype=tf.float64, name=None))>,\n",
       " 'client_27': <BatchDataset element_spec=(TensorSpec(shape=(None, 24, 24, 3), dtype=tf.float64, name=None), TensorSpec(shape=(None, 10), dtype=tf.float64, name=None))>,\n",
       " 'client_28': <BatchDataset element_spec=(TensorSpec(shape=(None, 24, 24, 3), dtype=tf.float64, name=None), TensorSpec(shape=(None, 10), dtype=tf.float64, name=None))>,\n",
       " 'client_29': <BatchDataset element_spec=(TensorSpec(shape=(None, 24, 24, 3), dtype=tf.float64, name=None), TensorSpec(shape=(None, 10), dtype=tf.float64, name=None))>,\n",
       " 'client_30': <BatchDataset element_spec=(TensorSpec(shape=(None, 24, 24, 3), dtype=tf.float64, name=None), TensorSpec(shape=(None, 10), dtype=tf.float64, name=None))>,\n",
       " 'client_31': <BatchDataset element_spec=(TensorSpec(shape=(None, 24, 24, 3), dtype=tf.float64, name=None), TensorSpec(shape=(None, 10), dtype=tf.float64, name=None))>,\n",
       " 'client_32': <BatchDataset element_spec=(TensorSpec(shape=(None, 24, 24, 3), dtype=tf.float64, name=None), TensorSpec(shape=(None, 10), dtype=tf.float64, name=None))>,\n",
       " 'client_33': <BatchDataset element_spec=(TensorSpec(shape=(None, 24, 24, 3), dtype=tf.float64, name=None), TensorSpec(shape=(None, 10), dtype=tf.float64, name=None))>,\n",
       " 'client_34': <BatchDataset element_spec=(TensorSpec(shape=(None, 24, 24, 3), dtype=tf.float64, name=None), TensorSpec(shape=(None, 10), dtype=tf.float64, name=None))>,\n",
       " 'client_35': <BatchDataset element_spec=(TensorSpec(shape=(None, 24, 24, 3), dtype=tf.float64, name=None), TensorSpec(shape=(None, 10), dtype=tf.float64, name=None))>,\n",
       " 'client_36': <BatchDataset element_spec=(TensorSpec(shape=(None, 24, 24, 3), dtype=tf.float64, name=None), TensorSpec(shape=(None, 10), dtype=tf.float64, name=None))>,\n",
       " 'client_37': <BatchDataset element_spec=(TensorSpec(shape=(None, 24, 24, 3), dtype=tf.float64, name=None), TensorSpec(shape=(None, 10), dtype=tf.float64, name=None))>,\n",
       " 'client_38': <BatchDataset element_spec=(TensorSpec(shape=(None, 24, 24, 3), dtype=tf.float64, name=None), TensorSpec(shape=(None, 10), dtype=tf.float64, name=None))>,\n",
       " 'client_39': <BatchDataset element_spec=(TensorSpec(shape=(None, 24, 24, 3), dtype=tf.float64, name=None), TensorSpec(shape=(None, 10), dtype=tf.float64, name=None))>,\n",
       " 'client_40': <BatchDataset element_spec=(TensorSpec(shape=(None, 24, 24, 3), dtype=tf.float64, name=None), TensorSpec(shape=(None, 10), dtype=tf.float64, name=None))>,\n",
       " 'client_41': <BatchDataset element_spec=(TensorSpec(shape=(None, 24, 24, 3), dtype=tf.float64, name=None), TensorSpec(shape=(None, 10), dtype=tf.float64, name=None))>,\n",
       " 'client_42': <BatchDataset element_spec=(TensorSpec(shape=(None, 24, 24, 3), dtype=tf.float64, name=None), TensorSpec(shape=(None, 10), dtype=tf.float64, name=None))>,\n",
       " 'client_43': <BatchDataset element_spec=(TensorSpec(shape=(None, 24, 24, 3), dtype=tf.float64, name=None), TensorSpec(shape=(None, 10), dtype=tf.float64, name=None))>,\n",
       " 'client_44': <BatchDataset element_spec=(TensorSpec(shape=(None, 24, 24, 3), dtype=tf.float64, name=None), TensorSpec(shape=(None, 10), dtype=tf.float64, name=None))>,\n",
       " 'client_45': <BatchDataset element_spec=(TensorSpec(shape=(None, 24, 24, 3), dtype=tf.float64, name=None), TensorSpec(shape=(None, 10), dtype=tf.float64, name=None))>,\n",
       " 'client_46': <BatchDataset element_spec=(TensorSpec(shape=(None, 24, 24, 3), dtype=tf.float64, name=None), TensorSpec(shape=(None, 10), dtype=tf.float64, name=None))>,\n",
       " 'client_47': <BatchDataset element_spec=(TensorSpec(shape=(None, 24, 24, 3), dtype=tf.float64, name=None), TensorSpec(shape=(None, 10), dtype=tf.float64, name=None))>,\n",
       " 'client_48': <BatchDataset element_spec=(TensorSpec(shape=(None, 24, 24, 3), dtype=tf.float64, name=None), TensorSpec(shape=(None, 10), dtype=tf.float64, name=None))>,\n",
       " 'client_49': <BatchDataset element_spec=(TensorSpec(shape=(None, 24, 24, 3), dtype=tf.float64, name=None), TensorSpec(shape=(None, 10), dtype=tf.float64, name=None))>,\n",
       " 'client_50': <BatchDataset element_spec=(TensorSpec(shape=(None, 24, 24, 3), dtype=tf.float64, name=None), TensorSpec(shape=(None, 10), dtype=tf.float64, name=None))>,\n",
       " 'client_51': <BatchDataset element_spec=(TensorSpec(shape=(None, 24, 24, 3), dtype=tf.float64, name=None), TensorSpec(shape=(None, 10), dtype=tf.float64, name=None))>,\n",
       " 'client_52': <BatchDataset element_spec=(TensorSpec(shape=(None, 24, 24, 3), dtype=tf.float64, name=None), TensorSpec(shape=(None, 10), dtype=tf.float64, name=None))>,\n",
       " 'client_53': <BatchDataset element_spec=(TensorSpec(shape=(None, 24, 24, 3), dtype=tf.float64, name=None), TensorSpec(shape=(None, 10), dtype=tf.float64, name=None))>,\n",
       " 'client_54': <BatchDataset element_spec=(TensorSpec(shape=(None, 24, 24, 3), dtype=tf.float64, name=None), TensorSpec(shape=(None, 10), dtype=tf.float64, name=None))>,\n",
       " 'client_55': <BatchDataset element_spec=(TensorSpec(shape=(None, 24, 24, 3), dtype=tf.float64, name=None), TensorSpec(shape=(None, 10), dtype=tf.float64, name=None))>,\n",
       " 'client_56': <BatchDataset element_spec=(TensorSpec(shape=(None, 24, 24, 3), dtype=tf.float64, name=None), TensorSpec(shape=(None, 10), dtype=tf.float64, name=None))>,\n",
       " 'client_57': <BatchDataset element_spec=(TensorSpec(shape=(None, 24, 24, 3), dtype=tf.float64, name=None), TensorSpec(shape=(None, 10), dtype=tf.float64, name=None))>,\n",
       " 'client_58': <BatchDataset element_spec=(TensorSpec(shape=(None, 24, 24, 3), dtype=tf.float64, name=None), TensorSpec(shape=(None, 10), dtype=tf.float64, name=None))>,\n",
       " 'client_59': <BatchDataset element_spec=(TensorSpec(shape=(None, 24, 24, 3), dtype=tf.float64, name=None), TensorSpec(shape=(None, 10), dtype=tf.float64, name=None))>,\n",
       " 'client_60': <BatchDataset element_spec=(TensorSpec(shape=(None, 24, 24, 3), dtype=tf.float64, name=None), TensorSpec(shape=(None, 10), dtype=tf.float64, name=None))>,\n",
       " 'client_61': <BatchDataset element_spec=(TensorSpec(shape=(None, 24, 24, 3), dtype=tf.float64, name=None), TensorSpec(shape=(None, 10), dtype=tf.float64, name=None))>,\n",
       " 'client_62': <BatchDataset element_spec=(TensorSpec(shape=(None, 24, 24, 3), dtype=tf.float64, name=None), TensorSpec(shape=(None, 10), dtype=tf.float64, name=None))>,\n",
       " 'client_63': <BatchDataset element_spec=(TensorSpec(shape=(None, 24, 24, 3), dtype=tf.float64, name=None), TensorSpec(shape=(None, 10), dtype=tf.float64, name=None))>,\n",
       " 'client_64': <BatchDataset element_spec=(TensorSpec(shape=(None, 24, 24, 3), dtype=tf.float64, name=None), TensorSpec(shape=(None, 10), dtype=tf.float64, name=None))>,\n",
       " 'client_65': <BatchDataset element_spec=(TensorSpec(shape=(None, 24, 24, 3), dtype=tf.float64, name=None), TensorSpec(shape=(None, 10), dtype=tf.float64, name=None))>,\n",
       " 'client_66': <BatchDataset element_spec=(TensorSpec(shape=(None, 24, 24, 3), dtype=tf.float64, name=None), TensorSpec(shape=(None, 10), dtype=tf.float64, name=None))>,\n",
       " 'client_67': <BatchDataset element_spec=(TensorSpec(shape=(None, 24, 24, 3), dtype=tf.float64, name=None), TensorSpec(shape=(None, 10), dtype=tf.float64, name=None))>,\n",
       " 'client_68': <BatchDataset element_spec=(TensorSpec(shape=(None, 24, 24, 3), dtype=tf.float64, name=None), TensorSpec(shape=(None, 10), dtype=tf.float64, name=None))>,\n",
       " 'client_69': <BatchDataset element_spec=(TensorSpec(shape=(None, 24, 24, 3), dtype=tf.float64, name=None), TensorSpec(shape=(None, 10), dtype=tf.float64, name=None))>,\n",
       " 'client_70': <BatchDataset element_spec=(TensorSpec(shape=(None, 24, 24, 3), dtype=tf.float64, name=None), TensorSpec(shape=(None, 10), dtype=tf.float64, name=None))>,\n",
       " 'client_71': <BatchDataset element_spec=(TensorSpec(shape=(None, 24, 24, 3), dtype=tf.float64, name=None), TensorSpec(shape=(None, 10), dtype=tf.float64, name=None))>,\n",
       " 'client_72': <BatchDataset element_spec=(TensorSpec(shape=(None, 24, 24, 3), dtype=tf.float64, name=None), TensorSpec(shape=(None, 10), dtype=tf.float64, name=None))>,\n",
       " 'client_73': <BatchDataset element_spec=(TensorSpec(shape=(None, 24, 24, 3), dtype=tf.float64, name=None), TensorSpec(shape=(None, 10), dtype=tf.float64, name=None))>,\n",
       " 'client_74': <BatchDataset element_spec=(TensorSpec(shape=(None, 24, 24, 3), dtype=tf.float64, name=None), TensorSpec(shape=(None, 10), dtype=tf.float64, name=None))>,\n",
       " 'client_75': <BatchDataset element_spec=(TensorSpec(shape=(None, 24, 24, 3), dtype=tf.float64, name=None), TensorSpec(shape=(None, 10), dtype=tf.float64, name=None))>,\n",
       " 'client_76': <BatchDataset element_spec=(TensorSpec(shape=(None, 24, 24, 3), dtype=tf.float64, name=None), TensorSpec(shape=(None, 10), dtype=tf.float64, name=None))>,\n",
       " 'client_77': <BatchDataset element_spec=(TensorSpec(shape=(None, 24, 24, 3), dtype=tf.float64, name=None), TensorSpec(shape=(None, 10), dtype=tf.float64, name=None))>,\n",
       " 'client_78': <BatchDataset element_spec=(TensorSpec(shape=(None, 24, 24, 3), dtype=tf.float64, name=None), TensorSpec(shape=(None, 10), dtype=tf.float64, name=None))>,\n",
       " 'client_79': <BatchDataset element_spec=(TensorSpec(shape=(None, 24, 24, 3), dtype=tf.float64, name=None), TensorSpec(shape=(None, 10), dtype=tf.float64, name=None))>,\n",
       " 'client_80': <BatchDataset element_spec=(TensorSpec(shape=(None, 24, 24, 3), dtype=tf.float64, name=None), TensorSpec(shape=(None, 10), dtype=tf.float64, name=None))>,\n",
       " 'client_81': <BatchDataset element_spec=(TensorSpec(shape=(None, 24, 24, 3), dtype=tf.float64, name=None), TensorSpec(shape=(None, 10), dtype=tf.float64, name=None))>,\n",
       " 'client_82': <BatchDataset element_spec=(TensorSpec(shape=(None, 24, 24, 3), dtype=tf.float64, name=None), TensorSpec(shape=(None, 10), dtype=tf.float64, name=None))>,\n",
       " 'client_83': <BatchDataset element_spec=(TensorSpec(shape=(None, 24, 24, 3), dtype=tf.float64, name=None), TensorSpec(shape=(None, 10), dtype=tf.float64, name=None))>,\n",
       " 'client_84': <BatchDataset element_spec=(TensorSpec(shape=(None, 24, 24, 3), dtype=tf.float64, name=None), TensorSpec(shape=(None, 10), dtype=tf.float64, name=None))>,\n",
       " 'client_85': <BatchDataset element_spec=(TensorSpec(shape=(None, 24, 24, 3), dtype=tf.float64, name=None), TensorSpec(shape=(None, 10), dtype=tf.float64, name=None))>,\n",
       " 'client_86': <BatchDataset element_spec=(TensorSpec(shape=(None, 24, 24, 3), dtype=tf.float64, name=None), TensorSpec(shape=(None, 10), dtype=tf.float64, name=None))>,\n",
       " 'client_87': <BatchDataset element_spec=(TensorSpec(shape=(None, 24, 24, 3), dtype=tf.float64, name=None), TensorSpec(shape=(None, 10), dtype=tf.float64, name=None))>,\n",
       " 'client_88': <BatchDataset element_spec=(TensorSpec(shape=(None, 24, 24, 3), dtype=tf.float64, name=None), TensorSpec(shape=(None, 10), dtype=tf.float64, name=None))>,\n",
       " 'client_89': <BatchDataset element_spec=(TensorSpec(shape=(None, 24, 24, 3), dtype=tf.float64, name=None), TensorSpec(shape=(None, 10), dtype=tf.float64, name=None))>,\n",
       " 'client_90': <BatchDataset element_spec=(TensorSpec(shape=(None, 24, 24, 3), dtype=tf.float64, name=None), TensorSpec(shape=(None, 10), dtype=tf.float64, name=None))>,\n",
       " 'client_91': <BatchDataset element_spec=(TensorSpec(shape=(None, 24, 24, 3), dtype=tf.float64, name=None), TensorSpec(shape=(None, 10), dtype=tf.float64, name=None))>,\n",
       " 'client_92': <BatchDataset element_spec=(TensorSpec(shape=(None, 24, 24, 3), dtype=tf.float64, name=None), TensorSpec(shape=(None, 10), dtype=tf.float64, name=None))>,\n",
       " 'client_93': <BatchDataset element_spec=(TensorSpec(shape=(None, 24, 24, 3), dtype=tf.float64, name=None), TensorSpec(shape=(None, 10), dtype=tf.float64, name=None))>,\n",
       " 'client_94': <BatchDataset element_spec=(TensorSpec(shape=(None, 24, 24, 3), dtype=tf.float64, name=None), TensorSpec(shape=(None, 10), dtype=tf.float64, name=None))>,\n",
       " 'client_95': <BatchDataset element_spec=(TensorSpec(shape=(None, 24, 24, 3), dtype=tf.float64, name=None), TensorSpec(shape=(None, 10), dtype=tf.float64, name=None))>,\n",
       " 'client_96': <BatchDataset element_spec=(TensorSpec(shape=(None, 24, 24, 3), dtype=tf.float64, name=None), TensorSpec(shape=(None, 10), dtype=tf.float64, name=None))>,\n",
       " 'client_97': <BatchDataset element_spec=(TensorSpec(shape=(None, 24, 24, 3), dtype=tf.float64, name=None), TensorSpec(shape=(None, 10), dtype=tf.float64, name=None))>,\n",
       " 'client_98': <BatchDataset element_spec=(TensorSpec(shape=(None, 24, 24, 3), dtype=tf.float64, name=None), TensorSpec(shape=(None, 10), dtype=tf.float64, name=None))>,\n",
       " 'client_99': <BatchDataset element_spec=(TensorSpec(shape=(None, 24, 24, 3), dtype=tf.float64, name=None), TensorSpec(shape=(None, 10), dtype=tf.float64, name=None))>,\n",
       " 'client_100': <BatchDataset element_spec=(TensorSpec(shape=(None, 24, 24, 3), dtype=tf.float64, name=None), TensorSpec(shape=(None, 10), dtype=tf.float64, name=None))>}"
      ]
     },
     "execution_count": 25,
     "metadata": {},
     "output_type": "execute_result"
    }
   ],
   "source": [
    "clients_batched"
   ]
  },
  {
   "cell_type": "code",
   "execution_count": 26,
   "id": "cdebbd04",
   "metadata": {},
   "outputs": [],
   "source": [
    "#process and batch the test set  \n",
    "test_batched = tf.data.Dataset.from_tensor_slices((X_test, y_test)).batch(len(y_test))"
   ]
  },
  {
   "cell_type": "code",
   "execution_count": 27,
   "id": "9d75d36a",
   "metadata": {},
   "outputs": [
    {
     "name": "stdout",
     "output_type": "stream",
     "text": [
      "<BatchDataset element_spec=(TensorSpec(shape=(None, 24, 24, 3), dtype=tf.float64, name=None), TensorSpec(shape=(None, 10), dtype=tf.float64, name=None))>\n"
     ]
    }
   ],
   "source": [
    "print(test_batched)"
   ]
  },
  {
   "cell_type": "markdown",
   "id": "0e49e527",
   "metadata": {},
   "source": [
    "### Creating global model"
   ]
  },
  {
   "cell_type": "code",
   "execution_count": 28,
   "id": "7b65a977",
   "metadata": {},
   "outputs": [],
   "source": [
    "def create_model():\n",
    "    global_model = tf.keras.models.Sequential()\n",
    "    global_model.add(tf.keras.layers.Conv2D(32, (3, 3), activation='relu', input_shape=(24,24,3)))\n",
    "    global_model.add(tf.keras.layers.MaxPooling2D((2, 2)))\n",
    "    global_model.add(tf.keras.layers.Conv2D(64, (3, 3), activation='relu'))\n",
    "    global_model.add(tf.keras.layers.Flatten())\n",
    "    global_model.add(tf.keras.layers.Dense(180, activation='relu'))\n",
    "    global_model.add(tf.keras.layers.Dense(90, activation='relu'))\n",
    "    global_model.add(tf.keras.layers.Dense(10, activation='softmax'))\n",
    "    global_model.compile(loss='categorical_crossentropy', optimizer='sgd', metrics=['accuracy'])\n",
    "    return global_model"
   ]
  },
  {
   "cell_type": "code",
   "execution_count": 29,
   "id": "4ae42750",
   "metadata": {},
   "outputs": [],
   "source": [
    "comms_round = 100\n",
    "E=5\n",
    "global_model1=create_model()\n",
    "global_model1.compile(loss='categorical_crossentropy', optimizer='sgd', metrics=['accuracy'])"
   ]
  },
  {
   "cell_type": "markdown",
   "id": "1335b5f7",
   "metadata": {},
   "source": [
    "### Enhancing  fedavg through global shared model[GSM Fedavg]"
   ]
  },
  {
   "cell_type": "code",
   "execution_count": 30,
   "id": "936301d6",
   "metadata": {
    "scrolled": true
   },
   "outputs": [
    {
     "name": "stderr",
     "output_type": "stream",
     "text": [
      "Progress Bar: 100%|████████████████████████████████████████████████████████████████████| 10/10 [01:03<00:00,  6.35s/it]\n"
     ]
    },
    {
     "name": "stdout",
     "output_type": "stream",
     "text": [
      "Fedavg:\n",
      "313/313 [==============================] - 2s 6ms/step\n",
      "comm_round: 0 | global_acc: 22.450% | global_loss: 2.277791976928711\n",
      "GSM-FedAvg\n",
      "313/313 [==============================] - 2s 6ms/step\n",
      "comm_round: 0 | global_acc: 30.430% | global_loss: 2.232572555541992\n"
     ]
    },
    {
     "name": "stderr",
     "output_type": "stream",
     "text": [
      "Progress Bar: 100%|████████████████████████████████████████████████████████████████████| 10/10 [01:12<00:00,  7.24s/it]\n"
     ]
    },
    {
     "name": "stdout",
     "output_type": "stream",
     "text": [
      "Fedavg:\n",
      "313/313 [==============================] - 3s 8ms/step\n",
      "comm_round: 1 | global_acc: 29.150% | global_loss: 2.2317304611206055\n",
      "GSM-FedAvg\n",
      "313/313 [==============================] - 2s 7ms/step\n",
      "comm_round: 1 | global_acc: 35.970% | global_loss: 2.159269094467163\n"
     ]
    },
    {
     "name": "stderr",
     "output_type": "stream",
     "text": [
      "Progress Bar: 100%|████████████████████████████████████████████████████████████████████| 10/10 [01:01<00:00,  6.12s/it]\n"
     ]
    },
    {
     "name": "stdout",
     "output_type": "stream",
     "text": [
      "Fedavg:\n",
      "313/313 [==============================] - 2s 6ms/step\n",
      "comm_round: 2 | global_acc: 33.160% | global_loss: 2.2075157165527344\n",
      "GSM-FedAvg\n",
      "313/313 [==============================] - 2s 6ms/step\n",
      "comm_round: 2 | global_acc: 39.870% | global_loss: 2.114912986755371\n"
     ]
    },
    {
     "name": "stderr",
     "output_type": "stream",
     "text": [
      "Progress Bar: 100%|████████████████████████████████████████████████████████████████████| 10/10 [00:58<00:00,  5.89s/it]\n"
     ]
    },
    {
     "name": "stdout",
     "output_type": "stream",
     "text": [
      "Fedavg:\n",
      "313/313 [==============================] - 2s 5ms/step\n",
      "comm_round: 3 | global_acc: 35.100% | global_loss: 2.1920132637023926\n",
      "GSM-FedAvg\n",
      "313/313 [==============================] - 2s 5ms/step\n",
      "comm_round: 3 | global_acc: 40.940% | global_loss: 2.092085361480713\n"
     ]
    },
    {
     "name": "stderr",
     "output_type": "stream",
     "text": [
      "Progress Bar: 100%|████████████████████████████████████████████████████████████████████| 10/10 [00:54<00:00,  5.48s/it]\n"
     ]
    },
    {
     "name": "stdout",
     "output_type": "stream",
     "text": [
      "Fedavg:\n",
      "313/313 [==============================] - 2s 6ms/step\n",
      "comm_round: 4 | global_acc: 36.980% | global_loss: 2.1724793910980225\n",
      "GSM-FedAvg\n",
      "313/313 [==============================] - 2s 5ms/step\n",
      "comm_round: 4 | global_acc: 44.510% | global_loss: 2.0561041831970215\n"
     ]
    },
    {
     "name": "stderr",
     "output_type": "stream",
     "text": [
      "Progress Bar: 100%|████████████████████████████████████████████████████████████████████| 10/10 [00:56<00:00,  5.66s/it]\n"
     ]
    },
    {
     "name": "stdout",
     "output_type": "stream",
     "text": [
      "Fedavg:\n",
      "313/313 [==============================] - 2s 5ms/step\n",
      "comm_round: 5 | global_acc: 39.170% | global_loss: 2.152137041091919\n",
      "GSM-FedAvg\n",
      "313/313 [==============================] - 2s 6ms/step\n",
      "comm_round: 5 | global_acc: 46.110% | global_loss: 2.0369715690612793\n"
     ]
    },
    {
     "name": "stderr",
     "output_type": "stream",
     "text": [
      "Progress Bar: 100%|████████████████████████████████████████████████████████████████████| 10/10 [00:54<00:00,  5.42s/it]\n"
     ]
    },
    {
     "name": "stdout",
     "output_type": "stream",
     "text": [
      "Fedavg:\n",
      "313/313 [==============================] - 2s 5ms/step\n",
      "comm_round: 6 | global_acc: 41.220% | global_loss: 2.139413833618164\n",
      "GSM-FedAvg\n",
      "313/313 [==============================] - 2s 5ms/step\n",
      "comm_round: 6 | global_acc: 46.510% | global_loss: 2.033675193786621\n"
     ]
    },
    {
     "name": "stderr",
     "output_type": "stream",
     "text": [
      "Progress Bar: 100%|████████████████████████████████████████████████████████████████████| 10/10 [00:59<00:00,  5.91s/it]\n"
     ]
    },
    {
     "name": "stdout",
     "output_type": "stream",
     "text": [
      "Fedavg:\n",
      "313/313 [==============================] - 2s 5ms/step\n",
      "comm_round: 7 | global_acc: 42.950% | global_loss: 2.125821828842163\n",
      "GSM-FedAvg\n",
      "313/313 [==============================] - 2s 5ms/step\n",
      "comm_round: 7 | global_acc: 48.030% | global_loss: 2.0142176151275635\n"
     ]
    },
    {
     "name": "stderr",
     "output_type": "stream",
     "text": [
      "Progress Bar: 100%|████████████████████████████████████████████████████████████████████| 10/10 [00:55<00:00,  5.56s/it]\n"
     ]
    },
    {
     "name": "stdout",
     "output_type": "stream",
     "text": [
      "Fedavg:\n",
      "313/313 [==============================] - 2s 7ms/step\n",
      "comm_round: 8 | global_acc: 43.910% | global_loss: 2.106945037841797\n",
      "GSM-FedAvg\n",
      "313/313 [==============================] - 2s 8ms/step\n",
      "comm_round: 8 | global_acc: 47.950% | global_loss: 2.006065607070923\n"
     ]
    },
    {
     "name": "stderr",
     "output_type": "stream",
     "text": [
      "Progress Bar: 100%|████████████████████████████████████████████████████████████████████| 10/10 [00:59<00:00,  5.98s/it]\n"
     ]
    },
    {
     "name": "stdout",
     "output_type": "stream",
     "text": [
      "Fedavg:\n",
      "313/313 [==============================] - 2s 6ms/step\n",
      "comm_round: 9 | global_acc: 45.880% | global_loss: 2.090651035308838\n",
      "GSM-FedAvg\n",
      "313/313 [==============================] - 2s 5ms/step\n",
      "comm_round: 9 | global_acc: 48.510% | global_loss: 1.9948339462280273\n"
     ]
    },
    {
     "name": "stderr",
     "output_type": "stream",
     "text": [
      "Progress Bar: 100%|████████████████████████████████████████████████████████████████████| 10/10 [00:57<00:00,  5.75s/it]\n"
     ]
    },
    {
     "name": "stdout",
     "output_type": "stream",
     "text": [
      "Fedavg:\n",
      "313/313 [==============================] - 2s 6ms/step\n",
      "comm_round: 10 | global_acc: 46.830% | global_loss: 2.079200029373169\n",
      "GSM-FedAvg\n",
      "313/313 [==============================] - 2s 6ms/step\n",
      "comm_round: 10 | global_acc: 50.230% | global_loss: 1.982290267944336\n"
     ]
    },
    {
     "name": "stderr",
     "output_type": "stream",
     "text": [
      "Progress Bar: 100%|████████████████████████████████████████████████████████████████████| 10/10 [00:51<00:00,  5.17s/it]\n"
     ]
    },
    {
     "name": "stdout",
     "output_type": "stream",
     "text": [
      "Fedavg:\n",
      "313/313 [==============================] - 2s 5ms/step\n",
      "comm_round: 11 | global_acc: 47.270% | global_loss: 2.073781967163086\n",
      "GSM-FedAvg\n",
      "313/313 [==============================] - 2s 5ms/step\n",
      "comm_round: 11 | global_acc: 49.910% | global_loss: 1.9831408262252808\n"
     ]
    },
    {
     "name": "stderr",
     "output_type": "stream",
     "text": [
      "Progress Bar: 100%|████████████████████████████████████████████████████████████████████| 10/10 [00:52<00:00,  5.24s/it]\n"
     ]
    },
    {
     "name": "stdout",
     "output_type": "stream",
     "text": [
      "Fedavg:\n",
      "313/313 [==============================] - 2s 7ms/step\n",
      "comm_round: 12 | global_acc: 49.120% | global_loss: 2.055192232131958\n",
      "GSM-FedAvg\n",
      "313/313 [==============================] - 2s 5ms/step\n",
      "comm_round: 12 | global_acc: 51.610% | global_loss: 1.9641780853271484\n"
     ]
    },
    {
     "name": "stderr",
     "output_type": "stream",
     "text": [
      "Progress Bar: 100%|████████████████████████████████████████████████████████████████████| 10/10 [00:58<00:00,  5.88s/it]\n"
     ]
    },
    {
     "name": "stdout",
     "output_type": "stream",
     "text": [
      "Fedavg:\n",
      "313/313 [==============================] - 2s 7ms/step\n",
      "comm_round: 13 | global_acc: 49.410% | global_loss: 2.0469133853912354\n",
      "GSM-FedAvg\n",
      "313/313 [==============================] - 2s 7ms/step\n",
      "comm_round: 13 | global_acc: 51.450% | global_loss: 1.9662492275238037\n"
     ]
    },
    {
     "name": "stderr",
     "output_type": "stream",
     "text": [
      "Progress Bar: 100%|████████████████████████████████████████████████████████████████████| 10/10 [01:02<00:00,  6.30s/it]\n"
     ]
    },
    {
     "name": "stdout",
     "output_type": "stream",
     "text": [
      "Fedavg:\n",
      "313/313 [==============================] - 2s 5ms/step\n",
      "comm_round: 14 | global_acc: 49.820% | global_loss: 2.035818338394165\n",
      "GSM-FedAvg\n",
      "313/313 [==============================] - 2s 5ms/step\n",
      "comm_round: 14 | global_acc: 51.560% | global_loss: 1.9635250568389893\n"
     ]
    },
    {
     "name": "stderr",
     "output_type": "stream",
     "text": [
      "Progress Bar: 100%|████████████████████████████████████████████████████████████████████| 10/10 [00:55<00:00,  5.58s/it]\n"
     ]
    },
    {
     "name": "stdout",
     "output_type": "stream",
     "text": [
      "Fedavg:\n",
      "313/313 [==============================] - 2s 5ms/step\n",
      "comm_round: 15 | global_acc: 50.500% | global_loss: 2.030005693435669\n",
      "GSM-FedAvg\n",
      "313/313 [==============================] - 2s 8ms/step\n",
      "comm_round: 15 | global_acc: 49.890% | global_loss: 1.9803086519241333\n"
     ]
    },
    {
     "name": "stderr",
     "output_type": "stream",
     "text": [
      "Progress Bar: 100%|████████████████████████████████████████████████████████████████████| 10/10 [01:03<00:00,  6.39s/it]\n"
     ]
    },
    {
     "name": "stdout",
     "output_type": "stream",
     "text": [
      "Fedavg:\n",
      "313/313 [==============================] - 2s 6ms/step\n",
      "comm_round: 16 | global_acc: 51.140% | global_loss: 2.0229527950286865\n",
      "GSM-FedAvg\n",
      "313/313 [==============================] - 2s 5ms/step\n",
      "comm_round: 16 | global_acc: 52.040% | global_loss: 1.9570893049240112\n"
     ]
    },
    {
     "name": "stderr",
     "output_type": "stream",
     "text": [
      "Progress Bar: 100%|████████████████████████████████████████████████████████████████████| 10/10 [00:58<00:00,  5.87s/it]\n"
     ]
    },
    {
     "name": "stdout",
     "output_type": "stream",
     "text": [
      "Fedavg:\n",
      "313/313 [==============================] - 2s 6ms/step\n",
      "comm_round: 17 | global_acc: 52.040% | global_loss: 2.021662473678589\n",
      "GSM-FedAvg\n",
      "313/313 [==============================] - 2s 5ms/step\n",
      "comm_round: 17 | global_acc: 52.520% | global_loss: 1.9508891105651855\n"
     ]
    },
    {
     "name": "stderr",
     "output_type": "stream",
     "text": [
      "Progress Bar: 100%|████████████████████████████████████████████████████████████████████| 10/10 [00:52<00:00,  5.23s/it]\n"
     ]
    },
    {
     "name": "stdout",
     "output_type": "stream",
     "text": [
      "Fedavg:\n",
      "313/313 [==============================] - 2s 5ms/step\n",
      "comm_round: 18 | global_acc: 52.710% | global_loss: 2.005565643310547\n",
      "GSM-FedAvg\n",
      "313/313 [==============================] - 2s 5ms/step\n",
      "comm_round: 18 | global_acc: 53.320% | global_loss: 1.9406588077545166\n"
     ]
    },
    {
     "name": "stderr",
     "output_type": "stream",
     "text": [
      "Progress Bar: 100%|████████████████████████████████████████████████████████████████████| 10/10 [00:49<00:00,  4.99s/it]\n"
     ]
    },
    {
     "name": "stdout",
     "output_type": "stream",
     "text": [
      "Fedavg:\n",
      "313/313 [==============================] - 2s 5ms/step\n",
      "comm_round: 19 | global_acc: 53.360% | global_loss: 2.0038933753967285\n",
      "GSM-FedAvg\n",
      "313/313 [==============================] - 2s 5ms/step\n",
      "comm_round: 19 | global_acc: 52.550% | global_loss: 1.9469175338745117\n"
     ]
    },
    {
     "name": "stderr",
     "output_type": "stream",
     "text": [
      "Progress Bar: 100%|████████████████████████████████████████████████████████████████████| 10/10 [00:48<00:00,  4.85s/it]\n"
     ]
    },
    {
     "name": "stdout",
     "output_type": "stream",
     "text": [
      "Fedavg:\n",
      "313/313 [==============================] - 2s 5ms/step\n",
      "comm_round: 20 | global_acc: 52.860% | global_loss: 1.9926929473876953\n",
      "GSM-FedAvg\n",
      "313/313 [==============================] - 2s 5ms/step\n",
      "comm_round: 20 | global_acc: 52.900% | global_loss: 1.941118597984314\n"
     ]
    },
    {
     "name": "stderr",
     "output_type": "stream",
     "text": [
      "Progress Bar: 100%|████████████████████████████████████████████████████████████████████| 10/10 [00:48<00:00,  4.87s/it]\n"
     ]
    },
    {
     "name": "stdout",
     "output_type": "stream",
     "text": [
      "Fedavg:\n",
      "313/313 [==============================] - 2s 5ms/step\n",
      "comm_round: 21 | global_acc: 53.630% | global_loss: 1.9894087314605713\n",
      "GSM-FedAvg\n",
      "313/313 [==============================] - 2s 5ms/step\n",
      "comm_round: 21 | global_acc: 53.040% | global_loss: 1.9400140047073364\n"
     ]
    },
    {
     "name": "stderr",
     "output_type": "stream",
     "text": [
      "Progress Bar: 100%|████████████████████████████████████████████████████████████████████| 10/10 [00:47<00:00,  4.77s/it]\n"
     ]
    },
    {
     "name": "stdout",
     "output_type": "stream",
     "text": [
      "Fedavg:\n",
      "313/313 [==============================] - 2s 5ms/step\n",
      "comm_round: 22 | global_acc: 53.710% | global_loss: 1.9804188013076782\n",
      "GSM-FedAvg\n",
      "313/313 [==============================] - 2s 5ms/step\n",
      "comm_round: 22 | global_acc: 53.810% | global_loss: 1.9333875179290771\n"
     ]
    },
    {
     "name": "stderr",
     "output_type": "stream",
     "text": [
      "Progress Bar: 100%|████████████████████████████████████████████████████████████████████| 10/10 [00:49<00:00,  4.96s/it]\n"
     ]
    },
    {
     "name": "stdout",
     "output_type": "stream",
     "text": [
      "Fedavg:\n",
      "313/313 [==============================] - 2s 5ms/step\n",
      "comm_round: 23 | global_acc: 54.310% | global_loss: 1.9775561094284058\n",
      "GSM-FedAvg\n",
      "313/313 [==============================] - 2s 5ms/step\n",
      "comm_round: 23 | global_acc: 53.630% | global_loss: 1.9354562759399414\n"
     ]
    },
    {
     "name": "stderr",
     "output_type": "stream",
     "text": [
      "Progress Bar: 100%|████████████████████████████████████████████████████████████████████| 10/10 [00:48<00:00,  4.81s/it]\n"
     ]
    },
    {
     "name": "stdout",
     "output_type": "stream",
     "text": [
      "Fedavg:\n",
      "313/313 [==============================] - 2s 6ms/step\n",
      "comm_round: 24 | global_acc: 54.830% | global_loss: 1.9780653715133667\n",
      "GSM-FedAvg\n",
      "313/313 [==============================] - 2s 5ms/step\n",
      "comm_round: 24 | global_acc: 53.020% | global_loss: 1.9407999515533447\n"
     ]
    },
    {
     "name": "stderr",
     "output_type": "stream",
     "text": [
      "Progress Bar: 100%|████████████████████████████████████████████████████████████████████| 10/10 [00:50<00:00,  5.02s/it]\n"
     ]
    },
    {
     "name": "stdout",
     "output_type": "stream",
     "text": [
      "Fedavg:\n",
      "313/313 [==============================] - 2s 5ms/step\n",
      "comm_round: 25 | global_acc: 54.820% | global_loss: 1.9673066139221191\n",
      "GSM-FedAvg\n",
      "313/313 [==============================] - 2s 5ms/step\n",
      "comm_round: 25 | global_acc: 54.510% | global_loss: 1.9304701089859009\n"
     ]
    },
    {
     "name": "stderr",
     "output_type": "stream",
     "text": [
      "Progress Bar: 100%|████████████████████████████████████████████████████████████████████| 10/10 [00:48<00:00,  4.82s/it]\n"
     ]
    },
    {
     "name": "stdout",
     "output_type": "stream",
     "text": [
      "Fedavg:\n",
      "313/313 [==============================] - 1s 5ms/step\n",
      "comm_round: 26 | global_acc: 55.160% | global_loss: 1.9621340036392212\n",
      "GSM-FedAvg\n",
      "313/313 [==============================] - 2s 5ms/step\n",
      "comm_round: 26 | global_acc: 54.010% | global_loss: 1.9279193878173828\n"
     ]
    },
    {
     "name": "stderr",
     "output_type": "stream",
     "text": [
      "Progress Bar: 100%|████████████████████████████████████████████████████████████████████| 10/10 [00:47<00:00,  4.79s/it]\n"
     ]
    },
    {
     "name": "stdout",
     "output_type": "stream",
     "text": [
      "Fedavg:\n",
      "313/313 [==============================] - 2s 5ms/step\n",
      "comm_round: 27 | global_acc: 55.170% | global_loss: 1.9584872722625732\n",
      "GSM-FedAvg\n",
      "313/313 [==============================] - 2s 5ms/step\n",
      "comm_round: 27 | global_acc: 54.480% | global_loss: 1.9258054494857788\n"
     ]
    },
    {
     "name": "stderr",
     "output_type": "stream",
     "text": [
      "Progress Bar: 100%|████████████████████████████████████████████████████████████████████| 10/10 [00:48<00:00,  4.90s/it]\n"
     ]
    },
    {
     "name": "stdout",
     "output_type": "stream",
     "text": [
      "Fedavg:\n",
      "313/313 [==============================] - 2s 5ms/step\n",
      "comm_round: 28 | global_acc: 56.010% | global_loss: 1.9596792459487915\n",
      "GSM-FedAvg\n",
      "313/313 [==============================] - 2s 5ms/step\n",
      "comm_round: 28 | global_acc: 54.760% | global_loss: 1.9251335859298706\n"
     ]
    },
    {
     "name": "stderr",
     "output_type": "stream",
     "text": [
      "Progress Bar: 100%|████████████████████████████████████████████████████████████████████| 10/10 [01:06<00:00,  6.61s/it]\n"
     ]
    },
    {
     "name": "stdout",
     "output_type": "stream",
     "text": [
      "Fedavg:\n",
      "313/313 [==============================] - 2s 6ms/step\n",
      "comm_round: 29 | global_acc: 55.500% | global_loss: 1.957344889640808\n",
      "GSM-FedAvg\n",
      "313/313 [==============================] - 2s 7ms/step\n",
      "comm_round: 29 | global_acc: 54.660% | global_loss: 1.9266140460968018\n"
     ]
    },
    {
     "name": "stderr",
     "output_type": "stream",
     "text": [
      "Progress Bar: 100%|████████████████████████████████████████████████████████████████████| 10/10 [00:57<00:00,  5.77s/it]\n"
     ]
    },
    {
     "name": "stdout",
     "output_type": "stream",
     "text": [
      "Fedavg:\n",
      "313/313 [==============================] - 2s 5ms/step\n",
      "comm_round: 30 | global_acc: 56.000% | global_loss: 1.9507105350494385\n",
      "GSM-FedAvg\n",
      "313/313 [==============================] - 2s 5ms/step\n",
      "comm_round: 30 | global_acc: 55.000% | global_loss: 1.9220972061157227\n"
     ]
    },
    {
     "name": "stderr",
     "output_type": "stream",
     "text": [
      "Progress Bar: 100%|████████████████████████████████████████████████████████████████████| 10/10 [00:51<00:00,  5.16s/it]\n"
     ]
    },
    {
     "name": "stdout",
     "output_type": "stream",
     "text": [
      "Fedavg:\n",
      "313/313 [==============================] - 2s 5ms/step\n",
      "comm_round: 31 | global_acc: 56.300% | global_loss: 1.9458469152450562\n",
      "GSM-FedAvg\n",
      "313/313 [==============================] - 2s 5ms/step\n",
      "comm_round: 31 | global_acc: 55.490% | global_loss: 1.9141863584518433\n"
     ]
    },
    {
     "name": "stderr",
     "output_type": "stream",
     "text": [
      "Progress Bar: 100%|████████████████████████████████████████████████████████████████████| 10/10 [00:51<00:00,  5.15s/it]\n"
     ]
    },
    {
     "name": "stdout",
     "output_type": "stream",
     "text": [
      "Fedavg:\n",
      "313/313 [==============================] - 2s 5ms/step\n",
      "comm_round: 32 | global_acc: 56.160% | global_loss: 1.9430158138275146\n",
      "GSM-FedAvg\n",
      "313/313 [==============================] - 2s 5ms/step\n",
      "comm_round: 32 | global_acc: 54.410% | global_loss: 1.9287859201431274\n"
     ]
    },
    {
     "name": "stderr",
     "output_type": "stream",
     "text": [
      "Progress Bar: 100%|████████████████████████████████████████████████████████████████████| 10/10 [00:52<00:00,  5.25s/it]\n"
     ]
    },
    {
     "name": "stdout",
     "output_type": "stream",
     "text": [
      "Fedavg:\n",
      "313/313 [==============================] - 2s 5ms/step\n",
      "comm_round: 33 | global_acc: 57.160% | global_loss: 1.9413644075393677\n",
      "GSM-FedAvg\n",
      "313/313 [==============================] - 2s 5ms/step\n",
      "comm_round: 33 | global_acc: 56.310% | global_loss: 1.9110134840011597\n"
     ]
    },
    {
     "name": "stderr",
     "output_type": "stream",
     "text": [
      "Progress Bar: 100%|████████████████████████████████████████████████████████████████████| 10/10 [00:48<00:00,  4.83s/it]\n"
     ]
    },
    {
     "name": "stdout",
     "output_type": "stream",
     "text": [
      "Fedavg:\n",
      "313/313 [==============================] - 2s 5ms/step\n",
      "comm_round: 34 | global_acc: 57.120% | global_loss: 1.9342480897903442\n",
      "GSM-FedAvg\n",
      "313/313 [==============================] - 2s 5ms/step\n",
      "comm_round: 34 | global_acc: 55.750% | global_loss: 1.9128625392913818\n"
     ]
    },
    {
     "name": "stderr",
     "output_type": "stream",
     "text": [
      "Progress Bar: 100%|████████████████████████████████████████████████████████████████████| 10/10 [00:48<00:00,  4.89s/it]\n"
     ]
    },
    {
     "name": "stdout",
     "output_type": "stream",
     "text": [
      "Fedavg:\n",
      "313/313 [==============================] - 2s 5ms/step\n",
      "comm_round: 35 | global_acc: 56.970% | global_loss: 1.9360644817352295\n",
      "GSM-FedAvg\n",
      "313/313 [==============================] - 2s 5ms/step\n",
      "comm_round: 35 | global_acc: 55.020% | global_loss: 1.9227888584136963\n"
     ]
    },
    {
     "name": "stderr",
     "output_type": "stream",
     "text": [
      "Progress Bar: 100%|████████████████████████████████████████████████████████████████████| 10/10 [00:48<00:00,  4.90s/it]\n"
     ]
    },
    {
     "name": "stdout",
     "output_type": "stream",
     "text": [
      "Fedavg:\n",
      "313/313 [==============================] - 2s 5ms/step\n",
      "comm_round: 36 | global_acc: 57.290% | global_loss: 1.9361979961395264\n",
      "GSM-FedAvg\n",
      "313/313 [==============================] - 2s 5ms/step\n",
      "comm_round: 36 | global_acc: 56.290% | global_loss: 1.9097414016723633\n"
     ]
    },
    {
     "name": "stderr",
     "output_type": "stream",
     "text": [
      "Progress Bar: 100%|████████████████████████████████████████████████████████████████████| 10/10 [00:47<00:00,  4.78s/it]\n"
     ]
    },
    {
     "name": "stdout",
     "output_type": "stream",
     "text": [
      "Fedavg:\n",
      "313/313 [==============================] - 1s 5ms/step\n",
      "comm_round: 37 | global_acc: 57.570% | global_loss: 1.9265258312225342\n",
      "GSM-FedAvg\n",
      "313/313 [==============================] - 2s 5ms/step\n",
      "comm_round: 37 | global_acc: 55.900% | global_loss: 1.9062837362289429\n"
     ]
    },
    {
     "name": "stderr",
     "output_type": "stream",
     "text": [
      "Progress Bar: 100%|████████████████████████████████████████████████████████████████████| 10/10 [00:48<00:00,  4.80s/it]\n"
     ]
    },
    {
     "name": "stdout",
     "output_type": "stream",
     "text": [
      "Fedavg:\n",
      "313/313 [==============================] - 2s 5ms/step\n",
      "comm_round: 38 | global_acc: 58.300% | global_loss: 1.9227710962295532\n",
      "GSM-FedAvg\n",
      "313/313 [==============================] - 2s 5ms/step\n",
      "comm_round: 38 | global_acc: 56.440% | global_loss: 1.9057917594909668\n"
     ]
    },
    {
     "name": "stderr",
     "output_type": "stream",
     "text": [
      "Progress Bar: 100%|████████████████████████████████████████████████████████████████████| 10/10 [00:47<00:00,  4.73s/it]\n"
     ]
    },
    {
     "name": "stdout",
     "output_type": "stream",
     "text": [
      "Fedavg:\n",
      "313/313 [==============================] - 2s 5ms/step\n",
      "comm_round: 39 | global_acc: 58.190% | global_loss: 1.9214097261428833\n",
      "GSM-FedAvg\n",
      "313/313 [==============================] - 2s 5ms/step\n",
      "comm_round: 39 | global_acc: 56.760% | global_loss: 1.9040175676345825\n"
     ]
    },
    {
     "name": "stderr",
     "output_type": "stream",
     "text": [
      "Progress Bar: 100%|████████████████████████████████████████████████████████████████████| 10/10 [00:47<00:00,  4.75s/it]\n"
     ]
    },
    {
     "name": "stdout",
     "output_type": "stream",
     "text": [
      "Fedavg:\n",
      "313/313 [==============================] - 2s 5ms/step\n",
      "comm_round: 40 | global_acc: 57.610% | global_loss: 1.9206680059432983\n",
      "GSM-FedAvg\n",
      "313/313 [==============================] - 2s 5ms/step\n",
      "comm_round: 40 | global_acc: 56.310% | global_loss: 1.906068205833435\n"
     ]
    },
    {
     "name": "stderr",
     "output_type": "stream",
     "text": [
      "Progress Bar: 100%|████████████████████████████████████████████████████████████████████| 10/10 [00:48<00:00,  4.80s/it]\n"
     ]
    },
    {
     "name": "stdout",
     "output_type": "stream",
     "text": [
      "Fedavg:\n",
      "313/313 [==============================] - 2s 5ms/step\n",
      "comm_round: 41 | global_acc: 58.300% | global_loss: 1.9182024002075195\n",
      "GSM-FedAvg\n",
      "313/313 [==============================] - 2s 5ms/step\n",
      "comm_round: 41 | global_acc: 56.790% | global_loss: 1.904008150100708\n"
     ]
    },
    {
     "name": "stderr",
     "output_type": "stream",
     "text": [
      "Progress Bar: 100%|████████████████████████████████████████████████████████████████████| 10/10 [00:47<00:00,  4.75s/it]\n"
     ]
    },
    {
     "name": "stdout",
     "output_type": "stream",
     "text": [
      "Fedavg:\n",
      "313/313 [==============================] - 2s 5ms/step\n",
      "comm_round: 42 | global_acc: 57.910% | global_loss: 1.919023036956787\n",
      "GSM-FedAvg\n",
      "313/313 [==============================] - 1s 5ms/step\n",
      "comm_round: 42 | global_acc: 56.760% | global_loss: 1.9026460647583008\n"
     ]
    },
    {
     "name": "stderr",
     "output_type": "stream",
     "text": [
      "Progress Bar: 100%|████████████████████████████████████████████████████████████████████| 10/10 [00:48<00:00,  4.83s/it]\n"
     ]
    },
    {
     "name": "stdout",
     "output_type": "stream",
     "text": [
      "Fedavg:\n",
      "313/313 [==============================] - 2s 5ms/step\n",
      "comm_round: 43 | global_acc: 58.290% | global_loss: 1.9148952960968018\n",
      "GSM-FedAvg\n",
      "313/313 [==============================] - 2s 5ms/step\n",
      "comm_round: 43 | global_acc: 57.070% | global_loss: 1.899742603302002\n"
     ]
    },
    {
     "name": "stderr",
     "output_type": "stream",
     "text": [
      "Progress Bar: 100%|████████████████████████████████████████████████████████████████████| 10/10 [00:45<00:00,  4.60s/it]\n"
     ]
    },
    {
     "name": "stdout",
     "output_type": "stream",
     "text": [
      "Fedavg:\n",
      "313/313 [==============================] - 2s 5ms/step\n",
      "comm_round: 44 | global_acc: 58.390% | global_loss: 1.9135653972625732\n",
      "GSM-FedAvg\n",
      "313/313 [==============================] - 2s 5ms/step\n",
      "comm_round: 44 | global_acc: 57.430% | global_loss: 1.8965402841567993\n"
     ]
    },
    {
     "name": "stderr",
     "output_type": "stream",
     "text": [
      "Progress Bar: 100%|████████████████████████████████████████████████████████████████████| 10/10 [00:46<00:00,  4.61s/it]\n"
     ]
    },
    {
     "name": "stdout",
     "output_type": "stream",
     "text": [
      "Fedavg:\n",
      "313/313 [==============================] - 2s 5ms/step\n",
      "comm_round: 45 | global_acc: 58.550% | global_loss: 1.9128161668777466\n",
      "GSM-FedAvg\n",
      "313/313 [==============================] - 2s 5ms/step\n",
      "comm_round: 45 | global_acc: 56.800% | global_loss: 1.9030306339263916\n"
     ]
    },
    {
     "name": "stderr",
     "output_type": "stream",
     "text": [
      "Progress Bar: 100%|████████████████████████████████████████████████████████████████████| 10/10 [00:46<00:00,  4.64s/it]\n"
     ]
    },
    {
     "name": "stdout",
     "output_type": "stream",
     "text": [
      "Fedavg:\n",
      "313/313 [==============================] - 2s 5ms/step\n",
      "comm_round: 46 | global_acc: 58.380% | global_loss: 1.9128931760787964\n",
      "GSM-FedAvg\n",
      "313/313 [==============================] - 2s 5ms/step\n",
      "comm_round: 46 | global_acc: 57.720% | global_loss: 1.8940800428390503\n"
     ]
    },
    {
     "name": "stderr",
     "output_type": "stream",
     "text": [
      "Progress Bar: 100%|████████████████████████████████████████████████████████████████████| 10/10 [00:46<00:00,  4.65s/it]\n"
     ]
    },
    {
     "name": "stdout",
     "output_type": "stream",
     "text": [
      "Fedavg:\n",
      "313/313 [==============================] - 2s 5ms/step\n",
      "comm_round: 47 | global_acc: 58.500% | global_loss: 1.9100862741470337\n",
      "GSM-FedAvg\n",
      "313/313 [==============================] - 2s 5ms/step\n",
      "comm_round: 47 | global_acc: 57.710% | global_loss: 1.8895208835601807\n"
     ]
    },
    {
     "name": "stderr",
     "output_type": "stream",
     "text": [
      "Progress Bar: 100%|████████████████████████████████████████████████████████████████████| 10/10 [00:46<00:00,  4.70s/it]\n"
     ]
    },
    {
     "name": "stdout",
     "output_type": "stream",
     "text": [
      "Fedavg:\n",
      "313/313 [==============================] - 2s 5ms/step\n",
      "comm_round: 48 | global_acc: 58.540% | global_loss: 1.9091891050338745\n",
      "GSM-FedAvg\n",
      "313/313 [==============================] - 2s 5ms/step\n",
      "comm_round: 48 | global_acc: 57.530% | global_loss: 1.8976539373397827\n"
     ]
    },
    {
     "name": "stderr",
     "output_type": "stream",
     "text": [
      "Progress Bar: 100%|████████████████████████████████████████████████████████████████████| 10/10 [00:46<00:00,  4.66s/it]\n"
     ]
    },
    {
     "name": "stdout",
     "output_type": "stream",
     "text": [
      "Fedavg:\n",
      "313/313 [==============================] - 2s 5ms/step\n",
      "comm_round: 49 | global_acc: 59.250% | global_loss: 1.9040273427963257\n",
      "GSM-FedAvg\n",
      "313/313 [==============================] - 2s 5ms/step\n",
      "comm_round: 49 | global_acc: 57.220% | global_loss: 1.897168517112732\n"
     ]
    },
    {
     "name": "stderr",
     "output_type": "stream",
     "text": [
      "Progress Bar: 100%|████████████████████████████████████████████████████████████████████| 10/10 [00:47<00:00,  4.75s/it]\n"
     ]
    },
    {
     "name": "stdout",
     "output_type": "stream",
     "text": [
      "Fedavg:\n",
      "313/313 [==============================] - 1s 5ms/step\n",
      "comm_round: 50 | global_acc: 59.070% | global_loss: 1.900415062904358\n",
      "GSM-FedAvg\n",
      "313/313 [==============================] - 2s 5ms/step\n",
      "comm_round: 50 | global_acc: 57.460% | global_loss: 1.8922688961029053\n"
     ]
    },
    {
     "name": "stderr",
     "output_type": "stream",
     "text": [
      "Progress Bar: 100%|████████████████████████████████████████████████████████████████████| 10/10 [00:52<00:00,  5.29s/it]\n"
     ]
    },
    {
     "name": "stdout",
     "output_type": "stream",
     "text": [
      "Fedavg:\n",
      "313/313 [==============================] - 2s 5ms/step\n",
      "comm_round: 51 | global_acc: 58.930% | global_loss: 1.900978684425354\n",
      "GSM-FedAvg\n",
      "313/313 [==============================] - 2s 5ms/step\n",
      "comm_round: 51 | global_acc: 57.130% | global_loss: 1.8966894149780273\n"
     ]
    },
    {
     "name": "stderr",
     "output_type": "stream",
     "text": [
      "Progress Bar: 100%|████████████████████████████████████████████████████████████████████| 10/10 [00:47<00:00,  4.79s/it]\n"
     ]
    },
    {
     "name": "stdout",
     "output_type": "stream",
     "text": [
      "Fedavg:\n",
      "313/313 [==============================] - 2s 5ms/step\n",
      "comm_round: 52 | global_acc: 59.520% | global_loss: 1.901344895362854\n",
      "GSM-FedAvg\n",
      "313/313 [==============================] - 2s 5ms/step\n",
      "comm_round: 52 | global_acc: 57.460% | global_loss: 1.8953187465667725\n"
     ]
    },
    {
     "name": "stderr",
     "output_type": "stream",
     "text": [
      "Progress Bar: 100%|████████████████████████████████████████████████████████████████████| 10/10 [00:47<00:00,  4.80s/it]\n"
     ]
    },
    {
     "name": "stdout",
     "output_type": "stream",
     "text": [
      "Fedavg:\n",
      "313/313 [==============================] - 2s 5ms/step\n",
      "comm_round: 53 | global_acc: 59.460% | global_loss: 1.8982843160629272\n",
      "GSM-FedAvg\n",
      "313/313 [==============================] - 2s 5ms/step\n",
      "comm_round: 53 | global_acc: 57.590% | global_loss: 1.8900316953659058\n"
     ]
    },
    {
     "name": "stderr",
     "output_type": "stream",
     "text": [
      "Progress Bar: 100%|████████████████████████████████████████████████████████████████████| 10/10 [00:47<00:00,  4.78s/it]\n"
     ]
    },
    {
     "name": "stdout",
     "output_type": "stream",
     "text": [
      "Fedavg:\n",
      "313/313 [==============================] - 2s 5ms/step\n",
      "comm_round: 54 | global_acc: 59.600% | global_loss: 1.8946582078933716\n",
      "GSM-FedAvg\n",
      "313/313 [==============================] - 2s 5ms/step\n",
      "comm_round: 54 | global_acc: 57.240% | global_loss: 1.8966768980026245\n"
     ]
    },
    {
     "name": "stderr",
     "output_type": "stream",
     "text": [
      "Progress Bar: 100%|████████████████████████████████████████████████████████████████████| 10/10 [00:48<00:00,  4.80s/it]\n"
     ]
    },
    {
     "name": "stdout",
     "output_type": "stream",
     "text": [
      "Fedavg:\n",
      "313/313 [==============================] - 2s 5ms/step\n",
      "comm_round: 55 | global_acc: 59.790% | global_loss: 1.890197992324829\n",
      "GSM-FedAvg\n",
      "313/313 [==============================] - 2s 5ms/step\n",
      "comm_round: 55 | global_acc: 57.470% | global_loss: 1.8912620544433594\n"
     ]
    },
    {
     "name": "stderr",
     "output_type": "stream",
     "text": [
      "Progress Bar: 100%|████████████████████████████████████████████████████████████████████| 10/10 [00:47<00:00,  4.78s/it]\n"
     ]
    },
    {
     "name": "stdout",
     "output_type": "stream",
     "text": [
      "Fedavg:\n",
      "313/313 [==============================] - 2s 5ms/step\n",
      "comm_round: 56 | global_acc: 59.800% | global_loss: 1.8909367322921753\n",
      "GSM-FedAvg\n",
      "313/313 [==============================] - 2s 5ms/step\n",
      "comm_round: 56 | global_acc: 57.600% | global_loss: 1.89152991771698\n"
     ]
    },
    {
     "name": "stderr",
     "output_type": "stream",
     "text": [
      "Progress Bar: 100%|████████████████████████████████████████████████████████████████████| 10/10 [00:53<00:00,  5.37s/it]\n"
     ]
    },
    {
     "name": "stdout",
     "output_type": "stream",
     "text": [
      "Fedavg:\n",
      "313/313 [==============================] - 2s 5ms/step\n",
      "comm_round: 57 | global_acc: 59.770% | global_loss: 1.8927981853485107\n",
      "GSM-FedAvg\n",
      "313/313 [==============================] - 2s 5ms/step\n",
      "comm_round: 57 | global_acc: 58.350% | global_loss: 1.8861875534057617\n"
     ]
    },
    {
     "name": "stderr",
     "output_type": "stream",
     "text": [
      "Progress Bar: 100%|████████████████████████████████████████████████████████████████████| 10/10 [01:10<00:00,  7.00s/it]\n"
     ]
    },
    {
     "name": "stdout",
     "output_type": "stream",
     "text": [
      "Fedavg:\n",
      "313/313 [==============================] - 2s 5ms/step\n",
      "comm_round: 58 | global_acc: 59.700% | global_loss: 1.8931547403335571\n",
      "GSM-FedAvg\n",
      "313/313 [==============================] - 2s 5ms/step\n",
      "comm_round: 58 | global_acc: 57.410% | global_loss: 1.8920261859893799\n"
     ]
    },
    {
     "name": "stderr",
     "output_type": "stream",
     "text": [
      "Progress Bar: 100%|████████████████████████████████████████████████████████████████████| 10/10 [00:52<00:00,  5.29s/it]\n"
     ]
    },
    {
     "name": "stdout",
     "output_type": "stream",
     "text": [
      "Fedavg:\n",
      "313/313 [==============================] - 2s 5ms/step\n",
      "comm_round: 59 | global_acc: 59.590% | global_loss: 1.8914926052093506\n",
      "GSM-FedAvg\n",
      "313/313 [==============================] - 2s 5ms/step\n",
      "comm_round: 59 | global_acc: 57.880% | global_loss: 1.8910579681396484\n"
     ]
    },
    {
     "name": "stderr",
     "output_type": "stream",
     "text": [
      "Progress Bar: 100%|████████████████████████████████████████████████████████████████████| 10/10 [01:14<00:00,  7.46s/it]\n"
     ]
    },
    {
     "name": "stdout",
     "output_type": "stream",
     "text": [
      "Fedavg:\n",
      "313/313 [==============================] - 2s 5ms/step\n",
      "comm_round: 60 | global_acc: 59.320% | global_loss: 1.8921480178833008\n",
      "GSM-FedAvg\n",
      "313/313 [==============================] - 2s 5ms/step\n",
      "comm_round: 60 | global_acc: 57.900% | global_loss: 1.8876992464065552\n"
     ]
    },
    {
     "name": "stderr",
     "output_type": "stream",
     "text": [
      "Progress Bar: 100%|████████████████████████████████████████████████████████████████████| 10/10 [01:06<00:00,  6.64s/it]\n"
     ]
    },
    {
     "name": "stdout",
     "output_type": "stream",
     "text": [
      "Fedavg:\n",
      "313/313 [==============================] - 2s 6ms/step\n",
      "comm_round: 61 | global_acc: 59.640% | global_loss: 1.8897656202316284\n",
      "GSM-FedAvg\n",
      "313/313 [==============================] - 2s 5ms/step\n",
      "comm_round: 61 | global_acc: 58.670% | global_loss: 1.8840380907058716\n"
     ]
    },
    {
     "name": "stderr",
     "output_type": "stream",
     "text": [
      "Progress Bar: 100%|████████████████████████████████████████████████████████████████████| 10/10 [00:50<00:00,  5.01s/it]\n"
     ]
    },
    {
     "name": "stdout",
     "output_type": "stream",
     "text": [
      "Fedavg:\n",
      "313/313 [==============================] - 2s 5ms/step\n",
      "comm_round: 62 | global_acc: 59.980% | global_loss: 1.8859117031097412\n",
      "GSM-FedAvg\n",
      "313/313 [==============================] - 2s 5ms/step\n",
      "comm_round: 62 | global_acc: 58.210% | global_loss: 1.883724570274353\n"
     ]
    },
    {
     "name": "stderr",
     "output_type": "stream",
     "text": [
      "Progress Bar: 100%|████████████████████████████████████████████████████████████████████| 10/10 [00:57<00:00,  5.78s/it]\n"
     ]
    },
    {
     "name": "stdout",
     "output_type": "stream",
     "text": [
      "Fedavg:\n",
      "313/313 [==============================] - 2s 6ms/step\n",
      "comm_round: 63 | global_acc: 60.010% | global_loss: 1.8821947574615479\n",
      "GSM-FedAvg\n",
      "313/313 [==============================] - 2s 6ms/step\n",
      "comm_round: 63 | global_acc: 58.660% | global_loss: 1.879349946975708\n"
     ]
    },
    {
     "name": "stderr",
     "output_type": "stream",
     "text": [
      "Progress Bar: 100%|████████████████████████████████████████████████████████████████████| 10/10 [01:01<00:00,  6.11s/it]\n"
     ]
    },
    {
     "name": "stdout",
     "output_type": "stream",
     "text": [
      "Fedavg:\n",
      "313/313 [==============================] - 3s 8ms/step\n",
      "comm_round: 64 | global_acc: 60.290% | global_loss: 1.885390281677246\n",
      "GSM-FedAvg\n",
      "313/313 [==============================] - 2s 7ms/step\n",
      "comm_round: 64 | global_acc: 58.040% | global_loss: 1.8874261379241943\n"
     ]
    },
    {
     "name": "stderr",
     "output_type": "stream",
     "text": [
      "Progress Bar: 100%|████████████████████████████████████████████████████████████████████| 10/10 [01:00<00:00,  6.00s/it]\n"
     ]
    },
    {
     "name": "stdout",
     "output_type": "stream",
     "text": [
      "Fedavg:\n",
      "313/313 [==============================] - 2s 7ms/step\n",
      "comm_round: 65 | global_acc: 60.400% | global_loss: 1.8823175430297852\n",
      "GSM-FedAvg\n",
      "313/313 [==============================] - 2s 6ms/step\n",
      "comm_round: 65 | global_acc: 58.650% | global_loss: 1.881299376487732\n"
     ]
    },
    {
     "name": "stderr",
     "output_type": "stream",
     "text": [
      "Progress Bar: 100%|████████████████████████████████████████████████████████████████████| 10/10 [01:05<00:00,  6.57s/it]\n"
     ]
    },
    {
     "name": "stdout",
     "output_type": "stream",
     "text": [
      "Fedavg:\n",
      "313/313 [==============================] - 2s 6ms/step\n",
      "comm_round: 66 | global_acc: 59.550% | global_loss: 1.8870757818222046\n",
      "GSM-FedAvg\n",
      "313/313 [==============================] - 2s 7ms/step\n",
      "comm_round: 66 | global_acc: 58.140% | global_loss: 1.8848191499710083\n"
     ]
    },
    {
     "name": "stderr",
     "output_type": "stream",
     "text": [
      "Progress Bar: 100%|████████████████████████████████████████████████████████████████████| 10/10 [01:37<00:00,  9.78s/it]\n"
     ]
    },
    {
     "name": "stdout",
     "output_type": "stream",
     "text": [
      "Fedavg:\n",
      "313/313 [==============================] - 3s 8ms/step\n",
      "comm_round: 67 | global_acc: 59.560% | global_loss: 1.8871262073516846\n",
      "GSM-FedAvg\n",
      "313/313 [==============================] - 3s 8ms/step\n",
      "comm_round: 67 | global_acc: 58.170% | global_loss: 1.8851839303970337\n"
     ]
    },
    {
     "name": "stderr",
     "output_type": "stream",
     "text": [
      "Progress Bar: 100%|████████████████████████████████████████████████████████████████████| 10/10 [01:21<00:00,  8.18s/it]\n"
     ]
    },
    {
     "name": "stdout",
     "output_type": "stream",
     "text": [
      "Fedavg:\n",
      "313/313 [==============================] - 2s 7ms/step\n",
      "comm_round: 68 | global_acc: 60.240% | global_loss: 1.884999394416809\n",
      "GSM-FedAvg\n",
      "313/313 [==============================] - 2s 8ms/step\n",
      "comm_round: 68 | global_acc: 58.350% | global_loss: 1.8829489946365356\n"
     ]
    },
    {
     "name": "stderr",
     "output_type": "stream",
     "text": [
      "Progress Bar: 100%|████████████████████████████████████████████████████████████████████| 10/10 [01:20<00:00,  8.06s/it]\n"
     ]
    },
    {
     "name": "stdout",
     "output_type": "stream",
     "text": [
      "Fedavg:\n",
      "313/313 [==============================] - 2s 8ms/step\n",
      "comm_round: 69 | global_acc: 60.310% | global_loss: 1.882464051246643\n",
      "GSM-FedAvg\n",
      "313/313 [==============================] - 2s 6ms/step\n",
      "comm_round: 69 | global_acc: 58.220% | global_loss: 1.8815064430236816\n"
     ]
    },
    {
     "name": "stderr",
     "output_type": "stream",
     "text": [
      "Progress Bar: 100%|████████████████████████████████████████████████████████████████████| 10/10 [01:24<00:00,  8.48s/it]\n"
     ]
    },
    {
     "name": "stdout",
     "output_type": "stream",
     "text": [
      "Fedavg:\n",
      "313/313 [==============================] - 3s 11ms/step\n",
      "comm_round: 70 | global_acc: 60.740% | global_loss: 1.8752410411834717\n",
      "GSM-FedAvg\n",
      "313/313 [==============================] - 3s 8ms/step\n",
      "comm_round: 70 | global_acc: 58.640% | global_loss: 1.8805394172668457\n"
     ]
    },
    {
     "name": "stderr",
     "output_type": "stream",
     "text": [
      "Progress Bar: 100%|████████████████████████████████████████████████████████████████████| 10/10 [01:28<00:00,  8.90s/it]\n"
     ]
    },
    {
     "name": "stdout",
     "output_type": "stream",
     "text": [
      "Fedavg:\n",
      "313/313 [==============================] - 3s 8ms/step\n",
      "comm_round: 71 | global_acc: 60.710% | global_loss: 1.8751122951507568\n",
      "GSM-FedAvg\n",
      "313/313 [==============================] - 3s 8ms/step\n",
      "comm_round: 71 | global_acc: 59.020% | global_loss: 1.8744781017303467\n"
     ]
    },
    {
     "name": "stderr",
     "output_type": "stream",
     "text": [
      "Progress Bar: 100%|████████████████████████████████████████████████████████████████████| 10/10 [01:22<00:00,  8.22s/it]\n"
     ]
    },
    {
     "name": "stdout",
     "output_type": "stream",
     "text": [
      "Fedavg:\n",
      "313/313 [==============================] - 3s 8ms/step\n",
      "comm_round: 72 | global_acc: 60.580% | global_loss: 1.8746157884597778\n",
      "GSM-FedAvg\n",
      "313/313 [==============================] - 3s 9ms/step\n",
      "comm_round: 72 | global_acc: 59.330% | global_loss: 1.874385118484497\n"
     ]
    },
    {
     "name": "stderr",
     "output_type": "stream",
     "text": [
      "Progress Bar: 100%|████████████████████████████████████████████████████████████████████| 10/10 [01:26<00:00,  8.62s/it]\n"
     ]
    },
    {
     "name": "stdout",
     "output_type": "stream",
     "text": [
      "Fedavg:\n",
      "313/313 [==============================] - 3s 8ms/step\n",
      "comm_round: 73 | global_acc: 60.280% | global_loss: 1.8738988637924194\n",
      "GSM-FedAvg\n",
      "313/313 [==============================] - 3s 8ms/step\n",
      "comm_round: 73 | global_acc: 58.590% | global_loss: 1.8787294626235962\n"
     ]
    },
    {
     "name": "stderr",
     "output_type": "stream",
     "text": [
      "Progress Bar: 100%|████████████████████████████████████████████████████████████████████| 10/10 [01:33<00:00,  9.39s/it]\n"
     ]
    },
    {
     "name": "stdout",
     "output_type": "stream",
     "text": [
      "Fedavg:\n",
      "313/313 [==============================] - 3s 10ms/step\n",
      "comm_round: 74 | global_acc: 60.400% | global_loss: 1.8747025728225708\n",
      "GSM-FedAvg\n",
      "313/313 [==============================] - 2s 7ms/step\n",
      "comm_round: 74 | global_acc: 59.250% | global_loss: 1.873380422592163\n"
     ]
    },
    {
     "name": "stderr",
     "output_type": "stream",
     "text": [
      "Progress Bar: 100%|████████████████████████████████████████████████████████████████████| 10/10 [01:51<00:00, 11.18s/it]\n"
     ]
    },
    {
     "name": "stdout",
     "output_type": "stream",
     "text": [
      "Fedavg:\n",
      "313/313 [==============================] - 3s 9ms/step\n",
      "comm_round: 75 | global_acc: 59.550% | global_loss: 1.8862102031707764\n",
      "GSM-FedAvg\n",
      "313/313 [==============================] - 3s 10ms/step\n",
      "comm_round: 75 | global_acc: 57.980% | global_loss: 1.8855355978012085\n"
     ]
    },
    {
     "name": "stderr",
     "output_type": "stream",
     "text": [
      "Progress Bar: 100%|████████████████████████████████████████████████████████████████████| 10/10 [01:25<00:00,  8.59s/it]\n"
     ]
    },
    {
     "name": "stdout",
     "output_type": "stream",
     "text": [
      "Fedavg:\n",
      "313/313 [==============================] - 2s 7ms/step\n",
      "comm_round: 76 | global_acc: 60.810% | global_loss: 1.8763835430145264\n",
      "GSM-FedAvg\n",
      "313/313 [==============================] - 2s 7ms/step\n",
      "comm_round: 76 | global_acc: 58.370% | global_loss: 1.8839648962020874\n"
     ]
    },
    {
     "name": "stderr",
     "output_type": "stream",
     "text": [
      "Progress Bar: 100%|████████████████████████████████████████████████████████████████████| 10/10 [01:20<00:00,  8.05s/it]\n"
     ]
    },
    {
     "name": "stdout",
     "output_type": "stream",
     "text": [
      "Fedavg:\n",
      "313/313 [==============================] - 3s 9ms/step\n",
      "comm_round: 77 | global_acc: 60.530% | global_loss: 1.8729650974273682\n",
      "GSM-FedAvg\n",
      "313/313 [==============================] - 3s 8ms/step\n",
      "comm_round: 77 | global_acc: 57.880% | global_loss: 1.8843679428100586\n"
     ]
    },
    {
     "name": "stderr",
     "output_type": "stream",
     "text": [
      "Progress Bar: 100%|████████████████████████████████████████████████████████████████████| 10/10 [01:31<00:00,  9.12s/it]\n"
     ]
    },
    {
     "name": "stdout",
     "output_type": "stream",
     "text": [
      "Fedavg:\n",
      "313/313 [==============================] - 4s 11ms/step\n",
      "comm_round: 78 | global_acc: 60.280% | global_loss: 1.8757957220077515\n",
      "GSM-FedAvg\n",
      "313/313 [==============================] - 3s 9ms/step\n",
      "comm_round: 78 | global_acc: 58.400% | global_loss: 1.8789324760437012\n"
     ]
    },
    {
     "name": "stderr",
     "output_type": "stream",
     "text": [
      "Progress Bar: 100%|████████████████████████████████████████████████████████████████████| 10/10 [01:24<00:00,  8.42s/it]\n"
     ]
    },
    {
     "name": "stdout",
     "output_type": "stream",
     "text": [
      "Fedavg:\n",
      "313/313 [==============================] - 3s 8ms/step\n",
      "comm_round: 79 | global_acc: 60.550% | global_loss: 1.8718812465667725\n",
      "GSM-FedAvg\n",
      "313/313 [==============================] - 3s 10ms/step\n",
      "comm_round: 79 | global_acc: 58.320% | global_loss: 1.878233790397644\n"
     ]
    },
    {
     "name": "stderr",
     "output_type": "stream",
     "text": [
      "Progress Bar: 100%|████████████████████████████████████████████████████████████████████| 10/10 [01:28<00:00,  8.86s/it]\n"
     ]
    },
    {
     "name": "stdout",
     "output_type": "stream",
     "text": [
      "Fedavg:\n",
      "313/313 [==============================] - 3s 11ms/step\n",
      "comm_round: 80 | global_acc: 60.640% | global_loss: 1.8723111152648926\n",
      "GSM-FedAvg\n",
      "313/313 [==============================] - 4s 11ms/step\n",
      "comm_round: 80 | global_acc: 59.040% | global_loss: 1.8737558126449585\n"
     ]
    },
    {
     "name": "stderr",
     "output_type": "stream",
     "text": [
      "Progress Bar: 100%|████████████████████████████████████████████████████████████████████| 10/10 [01:25<00:00,  8.56s/it]\n"
     ]
    },
    {
     "name": "stdout",
     "output_type": "stream",
     "text": [
      "Fedavg:\n",
      "313/313 [==============================] - 2s 8ms/step\n",
      "comm_round: 81 | global_acc: 60.830% | global_loss: 1.8719351291656494\n",
      "GSM-FedAvg\n",
      "313/313 [==============================] - 3s 9ms/step\n",
      "comm_round: 81 | global_acc: 59.530% | global_loss: 1.871523380279541\n"
     ]
    },
    {
     "name": "stderr",
     "output_type": "stream",
     "text": [
      "Progress Bar: 100%|████████████████████████████████████████████████████████████████████| 10/10 [01:31<00:00,  9.11s/it]\n"
     ]
    },
    {
     "name": "stdout",
     "output_type": "stream",
     "text": [
      "Fedavg:\n",
      "313/313 [==============================] - 3s 9ms/step\n",
      "comm_round: 82 | global_acc: 61.030% | global_loss: 1.867673397064209\n",
      "GSM-FedAvg\n",
      "313/313 [==============================] - 3s 9ms/step\n",
      "comm_round: 82 | global_acc: 59.300% | global_loss: 1.8736271858215332\n"
     ]
    },
    {
     "name": "stderr",
     "output_type": "stream",
     "text": [
      "Progress Bar: 100%|████████████████████████████████████████████████████████████████████| 10/10 [01:27<00:00,  8.71s/it]\n"
     ]
    },
    {
     "name": "stdout",
     "output_type": "stream",
     "text": [
      "Fedavg:\n",
      "313/313 [==============================] - 3s 9ms/step\n",
      "comm_round: 83 | global_acc: 60.570% | global_loss: 1.8676644563674927\n",
      "GSM-FedAvg\n",
      "313/313 [==============================] - 3s 9ms/step\n",
      "comm_round: 83 | global_acc: 58.470% | global_loss: 1.878836750984192\n"
     ]
    },
    {
     "name": "stderr",
     "output_type": "stream",
     "text": [
      "Progress Bar: 100%|████████████████████████████████████████████████████████████████████| 10/10 [01:18<00:00,  7.87s/it]\n"
     ]
    },
    {
     "name": "stdout",
     "output_type": "stream",
     "text": [
      "Fedavg:\n",
      "313/313 [==============================] - 3s 8ms/step\n",
      "comm_round: 84 | global_acc: 60.780% | global_loss: 1.8670705556869507\n",
      "GSM-FedAvg\n",
      "313/313 [==============================] - 3s 8ms/step\n",
      "comm_round: 84 | global_acc: 58.120% | global_loss: 1.8830394744873047\n"
     ]
    },
    {
     "name": "stderr",
     "output_type": "stream",
     "text": [
      "Progress Bar: 100%|████████████████████████████████████████████████████████████████████| 10/10 [01:25<00:00,  8.55s/it]\n"
     ]
    },
    {
     "name": "stdout",
     "output_type": "stream",
     "text": [
      "Fedavg:\n",
      "313/313 [==============================] - 2s 5ms/step\n",
      "comm_round: 85 | global_acc: 60.720% | global_loss: 1.8725765943527222\n",
      "GSM-FedAvg\n",
      "313/313 [==============================] - 2s 7ms/step\n",
      "comm_round: 85 | global_acc: 58.280% | global_loss: 1.883493185043335\n"
     ]
    },
    {
     "name": "stderr",
     "output_type": "stream",
     "text": [
      "Progress Bar: 100%|████████████████████████████████████████████████████████████████████| 10/10 [01:24<00:00,  8.41s/it]\n"
     ]
    },
    {
     "name": "stdout",
     "output_type": "stream",
     "text": [
      "Fedavg:\n",
      "313/313 [==============================] - 3s 11ms/step\n",
      "comm_round: 86 | global_acc: 60.880% | global_loss: 1.8691425323486328\n",
      "GSM-FedAvg\n",
      "313/313 [==============================] - 4s 11ms/step\n",
      "comm_round: 86 | global_acc: 59.070% | global_loss: 1.8722624778747559\n"
     ]
    },
    {
     "name": "stderr",
     "output_type": "stream",
     "text": [
      "Progress Bar: 100%|████████████████████████████████████████████████████████████████████| 10/10 [01:29<00:00,  9.00s/it]\n"
     ]
    },
    {
     "name": "stdout",
     "output_type": "stream",
     "text": [
      "Fedavg:\n",
      "313/313 [==============================] - 3s 8ms/step\n",
      "comm_round: 87 | global_acc: 60.980% | global_loss: 1.867401123046875\n",
      "GSM-FedAvg\n",
      "313/313 [==============================] - 3s 8ms/step\n",
      "comm_round: 87 | global_acc: 59.170% | global_loss: 1.8698608875274658\n"
     ]
    },
    {
     "name": "stderr",
     "output_type": "stream",
     "text": [
      "Progress Bar: 100%|████████████████████████████████████████████████████████████████████| 10/10 [01:36<00:00,  9.70s/it]\n"
     ]
    },
    {
     "name": "stdout",
     "output_type": "stream",
     "text": [
      "Fedavg:\n",
      "313/313 [==============================] - 3s 8ms/step\n",
      "comm_round: 88 | global_acc: 61.270% | global_loss: 1.8664039373397827\n",
      "GSM-FedAvg\n",
      "313/313 [==============================] - 3s 9ms/step\n",
      "comm_round: 88 | global_acc: 59.250% | global_loss: 1.8720629215240479\n"
     ]
    },
    {
     "name": "stderr",
     "output_type": "stream",
     "text": [
      "Progress Bar: 100%|████████████████████████████████████████████████████████████████████| 10/10 [01:25<00:00,  8.59s/it]\n"
     ]
    },
    {
     "name": "stdout",
     "output_type": "stream",
     "text": [
      "Fedavg:\n",
      "313/313 [==============================] - 3s 8ms/step\n",
      "comm_round: 89 | global_acc: 60.940% | global_loss: 1.86942458152771\n",
      "GSM-FedAvg\n",
      "313/313 [==============================] - 2s 7ms/step\n",
      "comm_round: 89 | global_acc: 59.260% | global_loss: 1.8711228370666504\n"
     ]
    },
    {
     "name": "stderr",
     "output_type": "stream",
     "text": [
      "Progress Bar: 100%|████████████████████████████████████████████████████████████████████| 10/10 [01:19<00:00,  7.90s/it]\n"
     ]
    },
    {
     "name": "stdout",
     "output_type": "stream",
     "text": [
      "Fedavg:\n",
      "313/313 [==============================] - 3s 8ms/step\n",
      "comm_round: 90 | global_acc: 60.790% | global_loss: 1.867425560951233\n",
      "GSM-FedAvg\n",
      "313/313 [==============================] - 3s 8ms/step\n",
      "comm_round: 90 | global_acc: 59.410% | global_loss: 1.871942162513733\n"
     ]
    },
    {
     "name": "stderr",
     "output_type": "stream",
     "text": [
      "Progress Bar: 100%|████████████████████████████████████████████████████████████████████| 10/10 [01:16<00:00,  7.66s/it]\n"
     ]
    },
    {
     "name": "stdout",
     "output_type": "stream",
     "text": [
      "Fedavg:\n",
      "313/313 [==============================] - 3s 8ms/step\n",
      "comm_round: 91 | global_acc: 61.090% | global_loss: 1.8642953634262085\n",
      "GSM-FedAvg\n",
      "313/313 [==============================] - 2s 7ms/step\n",
      "comm_round: 91 | global_acc: 59.590% | global_loss: 1.867983341217041\n"
     ]
    },
    {
     "name": "stderr",
     "output_type": "stream",
     "text": [
      "Progress Bar: 100%|████████████████████████████████████████████████████████████████████| 10/10 [01:29<00:00,  8.95s/it]\n"
     ]
    },
    {
     "name": "stdout",
     "output_type": "stream",
     "text": [
      "Fedavg:\n",
      "313/313 [==============================] - 3s 9ms/step\n",
      "comm_round: 92 | global_acc: 61.200% | global_loss: 1.8650429248809814\n",
      "GSM-FedAvg\n",
      "313/313 [==============================] - 3s 9ms/step\n",
      "comm_round: 92 | global_acc: 58.130% | global_loss: 1.8815796375274658\n"
     ]
    },
    {
     "name": "stderr",
     "output_type": "stream",
     "text": [
      "Progress Bar: 100%|████████████████████████████████████████████████████████████████████| 10/10 [01:43<00:00, 10.36s/it]\n"
     ]
    },
    {
     "name": "stdout",
     "output_type": "stream",
     "text": [
      "Fedavg:\n",
      "313/313 [==============================] - 3s 10ms/step\n",
      "comm_round: 93 | global_acc: 61.910% | global_loss: 1.8583400249481201\n",
      "GSM-FedAvg\n",
      "313/313 [==============================] - 3s 10ms/step\n",
      "comm_round: 93 | global_acc: 58.950% | global_loss: 1.8707859516143799\n"
     ]
    },
    {
     "name": "stderr",
     "output_type": "stream",
     "text": [
      "Progress Bar: 100%|████████████████████████████████████████████████████████████████████| 10/10 [01:47<00:00, 10.72s/it]\n"
     ]
    },
    {
     "name": "stdout",
     "output_type": "stream",
     "text": [
      "Fedavg:\n",
      "313/313 [==============================] - 3s 8ms/step\n",
      "comm_round: 94 | global_acc: 61.780% | global_loss: 1.8600817918777466\n",
      "GSM-FedAvg\n",
      "313/313 [==============================] - 3s 8ms/step\n",
      "comm_round: 94 | global_acc: 59.180% | global_loss: 1.872000813484192\n"
     ]
    },
    {
     "name": "stderr",
     "output_type": "stream",
     "text": [
      "Progress Bar: 100%|████████████████████████████████████████████████████████████████████| 10/10 [01:35<00:00,  9.55s/it]\n"
     ]
    },
    {
     "name": "stdout",
     "output_type": "stream",
     "text": [
      "Fedavg:\n",
      "313/313 [==============================] - 2s 7ms/step\n",
      "comm_round: 95 | global_acc: 61.680% | global_loss: 1.860426425933838\n",
      "GSM-FedAvg\n",
      "313/313 [==============================] - 2s 8ms/step\n",
      "comm_round: 95 | global_acc: 59.640% | global_loss: 1.8682318925857544\n"
     ]
    },
    {
     "name": "stderr",
     "output_type": "stream",
     "text": [
      "Progress Bar: 100%|████████████████████████████████████████████████████████████████████| 10/10 [01:35<00:00,  9.55s/it]\n"
     ]
    },
    {
     "name": "stdout",
     "output_type": "stream",
     "text": [
      "Fedavg:\n",
      "313/313 [==============================] - 3s 8ms/step\n",
      "comm_round: 96 | global_acc: 61.070% | global_loss: 1.8633430004119873\n",
      "GSM-FedAvg\n",
      "313/313 [==============================] - 3s 8ms/step\n",
      "comm_round: 96 | global_acc: 58.910% | global_loss: 1.8733041286468506\n"
     ]
    },
    {
     "name": "stderr",
     "output_type": "stream",
     "text": [
      "Progress Bar: 100%|████████████████████████████████████████████████████████████████████| 10/10 [01:45<00:00, 10.57s/it]\n"
     ]
    },
    {
     "name": "stdout",
     "output_type": "stream",
     "text": [
      "Fedavg:\n",
      "313/313 [==============================] - 3s 8ms/step\n",
      "comm_round: 97 | global_acc: 61.830% | global_loss: 1.8565402030944824\n",
      "GSM-FedAvg\n",
      "313/313 [==============================] - 3s 9ms/step\n",
      "comm_round: 97 | global_acc: 59.770% | global_loss: 1.8651163578033447\n"
     ]
    },
    {
     "name": "stderr",
     "output_type": "stream",
     "text": [
      "Progress Bar: 100%|████████████████████████████████████████████████████████████████████| 10/10 [01:40<00:00, 10.04s/it]\n"
     ]
    },
    {
     "name": "stdout",
     "output_type": "stream",
     "text": [
      "Fedavg:\n",
      "313/313 [==============================] - 3s 10ms/step\n",
      "comm_round: 98 | global_acc: 60.850% | global_loss: 1.8657655715942383\n",
      "GSM-FedAvg\n",
      "313/313 [==============================] - 3s 9ms/step\n",
      "comm_round: 98 | global_acc: 59.010% | global_loss: 1.873635172843933\n"
     ]
    },
    {
     "name": "stderr",
     "output_type": "stream",
     "text": [
      "Progress Bar: 100%|████████████████████████████████████████████████████████████████████| 10/10 [01:40<00:00, 10.07s/it]\n"
     ]
    },
    {
     "name": "stdout",
     "output_type": "stream",
     "text": [
      "Fedavg:\n",
      "313/313 [==============================] - 2s 6ms/step\n",
      "comm_round: 99 | global_acc: 61.320% | global_loss: 1.8618733882904053\n",
      "GSM-FedAvg\n",
      "313/313 [==============================] - 2s 8ms/step\n",
      "comm_round: 99 | global_acc: 58.560% | global_loss: 1.879122257232666\n"
     ]
    },
    {
     "name": "stderr",
     "output_type": "stream",
     "text": [
      "Progress Bar: 100%|████████████████████████████████████████████████████████████████████| 10/10 [01:40<00:00, 10.07s/it]\n"
     ]
    },
    {
     "name": "stdout",
     "output_type": "stream",
     "text": [
      "Fedavg:\n",
      "313/313 [==============================] - 3s 10ms/step\n",
      "comm_round: 100 | global_acc: 61.610% | global_loss: 1.8607683181762695\n",
      "GSM-FedAvg\n",
      "313/313 [==============================] - 2s 7ms/step\n",
      "comm_round: 100 | global_acc: 59.250% | global_loss: 1.8709605932235718\n"
     ]
    },
    {
     "name": "stderr",
     "output_type": "stream",
     "text": [
      "Progress Bar: 100%|████████████████████████████████████████████████████████████████████| 10/10 [01:28<00:00,  8.82s/it]\n"
     ]
    },
    {
     "name": "stdout",
     "output_type": "stream",
     "text": [
      "Fedavg:\n",
      "313/313 [==============================] - 3s 8ms/step\n",
      "comm_round: 101 | global_acc: 61.370% | global_loss: 1.860025405883789\n",
      "GSM-FedAvg\n",
      "313/313 [==============================] - 3s 8ms/step\n",
      "comm_round: 101 | global_acc: 59.420% | global_loss: 1.8680921792984009\n"
     ]
    },
    {
     "name": "stderr",
     "output_type": "stream",
     "text": [
      "Progress Bar: 100%|████████████████████████████████████████████████████████████████████| 10/10 [01:18<00:00,  7.82s/it]\n"
     ]
    },
    {
     "name": "stdout",
     "output_type": "stream",
     "text": [
      "Fedavg:\n",
      "313/313 [==============================] - 2s 7ms/step\n",
      "comm_round: 102 | global_acc: 61.440% | global_loss: 1.857505440711975\n",
      "GSM-FedAvg\n",
      "313/313 [==============================] - 2s 7ms/step\n",
      "comm_round: 102 | global_acc: 59.120% | global_loss: 1.8706097602844238\n"
     ]
    },
    {
     "name": "stderr",
     "output_type": "stream",
     "text": [
      "Progress Bar: 100%|████████████████████████████████████████████████████████████████████| 10/10 [01:20<00:00,  8.01s/it]\n"
     ]
    },
    {
     "name": "stdout",
     "output_type": "stream",
     "text": [
      "Fedavg:\n",
      "313/313 [==============================] - 2s 8ms/step\n",
      "comm_round: 103 | global_acc: 61.550% | global_loss: 1.8577786684036255\n",
      "GSM-FedAvg\n",
      "313/313 [==============================] - 3s 8ms/step\n",
      "comm_round: 103 | global_acc: 59.080% | global_loss: 1.872938632965088\n"
     ]
    },
    {
     "name": "stderr",
     "output_type": "stream",
     "text": [
      "Progress Bar: 100%|████████████████████████████████████████████████████████████████████| 10/10 [01:19<00:00,  7.96s/it]\n"
     ]
    },
    {
     "name": "stdout",
     "output_type": "stream",
     "text": [
      "Fedavg:\n",
      "313/313 [==============================] - 3s 8ms/step\n",
      "comm_round: 104 | global_acc: 61.990% | global_loss: 1.8577771186828613\n",
      "GSM-FedAvg\n",
      "313/313 [==============================] - 3s 9ms/step\n",
      "comm_round: 104 | global_acc: 59.360% | global_loss: 1.8669744729995728\n"
     ]
    },
    {
     "name": "stderr",
     "output_type": "stream",
     "text": [
      "Progress Bar: 100%|████████████████████████████████████████████████████████████████████| 10/10 [01:17<00:00,  7.80s/it]\n"
     ]
    },
    {
     "name": "stdout",
     "output_type": "stream",
     "text": [
      "Fedavg:\n",
      "313/313 [==============================] - 2s 6ms/step\n",
      "comm_round: 105 | global_acc: 61.860% | global_loss: 1.856929063796997\n",
      "GSM-FedAvg\n",
      "313/313 [==============================] - 2s 7ms/step\n",
      "comm_round: 105 | global_acc: 59.710% | global_loss: 1.8665921688079834\n"
     ]
    },
    {
     "name": "stderr",
     "output_type": "stream",
     "text": [
      "Progress Bar: 100%|████████████████████████████████████████████████████████████████████| 10/10 [01:20<00:00,  8.04s/it]\n"
     ]
    },
    {
     "name": "stdout",
     "output_type": "stream",
     "text": [
      "Fedavg:\n",
      "313/313 [==============================] - 2s 5ms/step\n",
      "comm_round: 106 | global_acc: 61.890% | global_loss: 1.8548076152801514\n",
      "GSM-FedAvg\n",
      "313/313 [==============================] - 2s 8ms/step\n",
      "comm_round: 106 | global_acc: 59.400% | global_loss: 1.867531657218933\n"
     ]
    },
    {
     "name": "stderr",
     "output_type": "stream",
     "text": [
      "Progress Bar: 100%|████████████████████████████████████████████████████████████████████| 10/10 [01:19<00:00,  7.90s/it]\n"
     ]
    },
    {
     "name": "stdout",
     "output_type": "stream",
     "text": [
      "Fedavg:\n",
      "313/313 [==============================] - 2s 7ms/step\n",
      "comm_round: 107 | global_acc: 61.860% | global_loss: 1.8548039197921753\n",
      "GSM-FedAvg\n",
      "313/313 [==============================] - 2s 7ms/step\n",
      "comm_round: 107 | global_acc: 59.370% | global_loss: 1.8695300817489624\n"
     ]
    },
    {
     "name": "stderr",
     "output_type": "stream",
     "text": [
      "Progress Bar: 100%|████████████████████████████████████████████████████████████████████| 10/10 [01:20<00:00,  8.03s/it]\n"
     ]
    },
    {
     "name": "stdout",
     "output_type": "stream",
     "text": [
      "Fedavg:\n",
      "313/313 [==============================] - 3s 8ms/step\n",
      "comm_round: 108 | global_acc: 62.220% | global_loss: 1.8540717363357544\n",
      "GSM-FedAvg\n",
      "313/313 [==============================] - 2s 6ms/step\n",
      "comm_round: 108 | global_acc: 58.960% | global_loss: 1.8712455034255981\n"
     ]
    },
    {
     "name": "stderr",
     "output_type": "stream",
     "text": [
      "Progress Bar: 100%|████████████████████████████████████████████████████████████████████| 10/10 [01:15<00:00,  7.53s/it]\n"
     ]
    },
    {
     "name": "stdout",
     "output_type": "stream",
     "text": [
      "Fedavg:\n",
      "313/313 [==============================] - 2s 8ms/step\n",
      "comm_round: 109 | global_acc: 61.910% | global_loss: 1.8564056158065796\n",
      "GSM-FedAvg\n",
      "313/313 [==============================] - 2s 6ms/step\n",
      "comm_round: 109 | global_acc: 59.470% | global_loss: 1.8685969114303589\n"
     ]
    },
    {
     "name": "stderr",
     "output_type": "stream",
     "text": [
      "Progress Bar: 100%|████████████████████████████████████████████████████████████████████| 10/10 [01:19<00:00,  7.95s/it]\n"
     ]
    },
    {
     "name": "stdout",
     "output_type": "stream",
     "text": [
      "Fedavg:\n",
      "313/313 [==============================] - 3s 8ms/step\n",
      "comm_round: 110 | global_acc: 61.460% | global_loss: 1.8578128814697266\n",
      "GSM-FedAvg\n",
      "313/313 [==============================] - 3s 8ms/step\n",
      "comm_round: 110 | global_acc: 59.320% | global_loss: 1.8678792715072632\n"
     ]
    },
    {
     "name": "stderr",
     "output_type": "stream",
     "text": [
      "Progress Bar: 100%|████████████████████████████████████████████████████████████████████| 10/10 [01:18<00:00,  7.88s/it]\n"
     ]
    },
    {
     "name": "stdout",
     "output_type": "stream",
     "text": [
      "Fedavg:\n",
      "313/313 [==============================] - 3s 8ms/step\n",
      "comm_round: 111 | global_acc: 62.040% | global_loss: 1.8552756309509277\n",
      "GSM-FedAvg\n",
      "313/313 [==============================] - 2s 8ms/step\n",
      "comm_round: 111 | global_acc: 58.490% | global_loss: 1.8766459226608276\n"
     ]
    },
    {
     "name": "stderr",
     "output_type": "stream",
     "text": [
      "Progress Bar: 100%|████████████████████████████████████████████████████████████████████| 10/10 [01:18<00:00,  7.81s/it]\n"
     ]
    },
    {
     "name": "stdout",
     "output_type": "stream",
     "text": [
      "Fedavg:\n",
      "313/313 [==============================] - 2s 6ms/step\n",
      "comm_round: 112 | global_acc: 61.180% | global_loss: 1.8585103750228882\n",
      "GSM-FedAvg\n",
      "313/313 [==============================] - 3s 8ms/step\n",
      "comm_round: 112 | global_acc: 59.090% | global_loss: 1.8710952997207642\n"
     ]
    },
    {
     "name": "stderr",
     "output_type": "stream",
     "text": [
      "Progress Bar: 100%|████████████████████████████████████████████████████████████████████| 10/10 [01:20<00:00,  8.02s/it]\n"
     ]
    },
    {
     "name": "stdout",
     "output_type": "stream",
     "text": [
      "Fedavg:\n",
      "313/313 [==============================] - 2s 5ms/step\n",
      "comm_round: 113 | global_acc: 61.590% | global_loss: 1.8552234172821045\n",
      "GSM-FedAvg\n",
      "313/313 [==============================] - 2s 6ms/step\n",
      "comm_round: 113 | global_acc: 59.820% | global_loss: 1.8652117252349854\n"
     ]
    },
    {
     "name": "stderr",
     "output_type": "stream",
     "text": [
      "Progress Bar: 100%|████████████████████████████████████████████████████████████████████| 10/10 [01:24<00:00,  8.46s/it]\n"
     ]
    },
    {
     "name": "stdout",
     "output_type": "stream",
     "text": [
      "Fedavg:\n",
      "313/313 [==============================] - 3s 8ms/step\n",
      "comm_round: 114 | global_acc: 61.460% | global_loss: 1.8589863777160645\n",
      "GSM-FedAvg\n",
      "313/313 [==============================] - 3s 8ms/step\n",
      "comm_round: 114 | global_acc: 59.160% | global_loss: 1.8702887296676636\n"
     ]
    },
    {
     "name": "stderr",
     "output_type": "stream",
     "text": [
      "Progress Bar: 100%|████████████████████████████████████████████████████████████████████| 10/10 [01:21<00:00,  8.10s/it]\n"
     ]
    },
    {
     "name": "stdout",
     "output_type": "stream",
     "text": [
      "Fedavg:\n",
      "313/313 [==============================] - 3s 9ms/step\n",
      "comm_round: 115 | global_acc: 61.490% | global_loss: 1.8562041521072388\n",
      "GSM-FedAvg\n",
      "313/313 [==============================] - 3s 8ms/step\n",
      "comm_round: 115 | global_acc: 59.290% | global_loss: 1.8692134618759155\n"
     ]
    },
    {
     "name": "stderr",
     "output_type": "stream",
     "text": [
      "Progress Bar: 100%|████████████████████████████████████████████████████████████████████| 10/10 [01:22<00:00,  8.28s/it]\n"
     ]
    },
    {
     "name": "stdout",
     "output_type": "stream",
     "text": [
      "Fedavg:\n",
      "313/313 [==============================] - 2s 6ms/step\n",
      "comm_round: 116 | global_acc: 62.020% | global_loss: 1.8535125255584717\n",
      "GSM-FedAvg\n",
      "313/313 [==============================] - 2s 8ms/step\n",
      "comm_round: 116 | global_acc: 59.450% | global_loss: 1.8688254356384277\n"
     ]
    },
    {
     "name": "stderr",
     "output_type": "stream",
     "text": [
      "Progress Bar: 100%|████████████████████████████████████████████████████████████████████| 10/10 [01:25<00:00,  8.52s/it]\n"
     ]
    },
    {
     "name": "stdout",
     "output_type": "stream",
     "text": [
      "Fedavg:\n",
      "313/313 [==============================] - 2s 7ms/step\n",
      "comm_round: 117 | global_acc: 61.540% | global_loss: 1.8584253787994385\n",
      "GSM-FedAvg\n",
      "313/313 [==============================] - 3s 8ms/step\n",
      "comm_round: 117 | global_acc: 59.290% | global_loss: 1.8684308528900146\n"
     ]
    },
    {
     "name": "stderr",
     "output_type": "stream",
     "text": [
      "Progress Bar: 100%|████████████████████████████████████████████████████████████████████| 10/10 [01:22<00:00,  8.20s/it]\n"
     ]
    },
    {
     "name": "stdout",
     "output_type": "stream",
     "text": [
      "Fedavg:\n",
      "313/313 [==============================] - 2s 8ms/step\n",
      "comm_round: 118 | global_acc: 61.780% | global_loss: 1.8523205518722534\n",
      "GSM-FedAvg\n",
      "313/313 [==============================] - 2s 7ms/step\n",
      "comm_round: 118 | global_acc: 59.440% | global_loss: 1.8680435419082642\n"
     ]
    },
    {
     "name": "stderr",
     "output_type": "stream",
     "text": [
      "Progress Bar: 100%|████████████████████████████████████████████████████████████████████| 10/10 [01:19<00:00,  7.93s/it]\n"
     ]
    },
    {
     "name": "stdout",
     "output_type": "stream",
     "text": [
      "Fedavg:\n",
      "313/313 [==============================] - 2s 6ms/step\n",
      "comm_round: 119 | global_acc: 61.760% | global_loss: 1.850703477859497\n",
      "GSM-FedAvg\n",
      "313/313 [==============================] - 2s 8ms/step\n",
      "comm_round: 119 | global_acc: 60.120% | global_loss: 1.861690640449524\n"
     ]
    },
    {
     "name": "stderr",
     "output_type": "stream",
     "text": [
      "Progress Bar: 100%|████████████████████████████████████████████████████████████████████| 10/10 [01:19<00:00,  7.92s/it]\n"
     ]
    },
    {
     "name": "stdout",
     "output_type": "stream",
     "text": [
      "Fedavg:\n",
      "313/313 [==============================] - 2s 8ms/step\n",
      "comm_round: 120 | global_acc: 61.880% | global_loss: 1.854364037513733\n",
      "GSM-FedAvg\n",
      "313/313 [==============================] - 2s 7ms/step\n",
      "comm_round: 120 | global_acc: 59.240% | global_loss: 1.8728687763214111\n"
     ]
    },
    {
     "name": "stderr",
     "output_type": "stream",
     "text": [
      "Progress Bar: 100%|████████████████████████████████████████████████████████████████████| 10/10 [01:18<00:00,  7.87s/it]\n"
     ]
    },
    {
     "name": "stdout",
     "output_type": "stream",
     "text": [
      "Fedavg:\n",
      "313/313 [==============================] - 3s 8ms/step\n",
      "comm_round: 121 | global_acc: 61.690% | global_loss: 1.8540791273117065\n",
      "GSM-FedAvg\n",
      "313/313 [==============================] - 2s 7ms/step\n",
      "comm_round: 121 | global_acc: 59.700% | global_loss: 1.864400029182434\n"
     ]
    },
    {
     "name": "stderr",
     "output_type": "stream",
     "text": [
      "Progress Bar: 100%|████████████████████████████████████████████████████████████████████| 10/10 [01:18<00:00,  7.85s/it]\n"
     ]
    },
    {
     "name": "stdout",
     "output_type": "stream",
     "text": [
      "Fedavg:\n",
      "313/313 [==============================] - 2s 6ms/step\n",
      "comm_round: 122 | global_acc: 61.950% | global_loss: 1.8519728183746338\n",
      "GSM-FedAvg\n",
      "313/313 [==============================] - 2s 6ms/step\n",
      "comm_round: 122 | global_acc: 59.430% | global_loss: 1.8645367622375488\n"
     ]
    },
    {
     "name": "stderr",
     "output_type": "stream",
     "text": [
      "Progress Bar: 100%|████████████████████████████████████████████████████████████████████| 10/10 [01:17<00:00,  7.76s/it]\n"
     ]
    },
    {
     "name": "stdout",
     "output_type": "stream",
     "text": [
      "Fedavg:\n",
      "313/313 [==============================] - 2s 6ms/step\n",
      "comm_round: 123 | global_acc: 61.620% | global_loss: 1.8549554347991943\n",
      "GSM-FedAvg\n",
      "313/313 [==============================] - 3s 8ms/step\n",
      "comm_round: 123 | global_acc: 59.020% | global_loss: 1.870547890663147\n"
     ]
    },
    {
     "name": "stderr",
     "output_type": "stream",
     "text": [
      "Progress Bar: 100%|████████████████████████████████████████████████████████████████████| 10/10 [01:19<00:00,  7.94s/it]\n"
     ]
    },
    {
     "name": "stdout",
     "output_type": "stream",
     "text": [
      "Fedavg:\n",
      "313/313 [==============================] - 2s 8ms/step\n",
      "comm_round: 124 | global_acc: 61.720% | global_loss: 1.8544492721557617\n",
      "GSM-FedAvg\n",
      "313/313 [==============================] - 3s 8ms/step\n",
      "comm_round: 124 | global_acc: 59.970% | global_loss: 1.8617392778396606\n"
     ]
    },
    {
     "name": "stderr",
     "output_type": "stream",
     "text": [
      "Progress Bar: 100%|████████████████████████████████████████████████████████████████████| 10/10 [01:22<00:00,  8.22s/it]\n"
     ]
    },
    {
     "name": "stdout",
     "output_type": "stream",
     "text": [
      "Fedavg:\n",
      "313/313 [==============================] - 2s 7ms/step\n",
      "comm_round: 125 | global_acc: 62.430% | global_loss: 1.8483246564865112\n",
      "GSM-FedAvg\n",
      "313/313 [==============================] - 2s 5ms/step\n",
      "comm_round: 125 | global_acc: 60.240% | global_loss: 1.8611714839935303\n"
     ]
    },
    {
     "name": "stderr",
     "output_type": "stream",
     "text": [
      "Progress Bar: 100%|████████████████████████████████████████████████████████████████████| 10/10 [01:19<00:00,  7.90s/it]\n"
     ]
    },
    {
     "name": "stdout",
     "output_type": "stream",
     "text": [
      "Fedavg:\n",
      "313/313 [==============================] - 3s 8ms/step\n",
      "comm_round: 126 | global_acc: 62.100% | global_loss: 1.8482139110565186\n",
      "GSM-FedAvg\n",
      "313/313 [==============================] - 2s 6ms/step\n",
      "comm_round: 126 | global_acc: 60.250% | global_loss: 1.8596668243408203\n"
     ]
    },
    {
     "name": "stderr",
     "output_type": "stream",
     "text": [
      "Progress Bar: 100%|████████████████████████████████████████████████████████████████████| 10/10 [01:21<00:00,  8.19s/it]\n"
     ]
    },
    {
     "name": "stdout",
     "output_type": "stream",
     "text": [
      "Fedavg:\n",
      "313/313 [==============================] - 2s 7ms/step\n",
      "comm_round: 127 | global_acc: 62.400% | global_loss: 1.847658395767212\n",
      "GSM-FedAvg\n",
      "313/313 [==============================] - 3s 8ms/step\n",
      "comm_round: 127 | global_acc: 60.080% | global_loss: 1.8601089715957642\n"
     ]
    },
    {
     "name": "stderr",
     "output_type": "stream",
     "text": [
      "Progress Bar: 100%|████████████████████████████████████████████████████████████████████| 10/10 [01:18<00:00,  7.84s/it]\n"
     ]
    },
    {
     "name": "stdout",
     "output_type": "stream",
     "text": [
      "Fedavg:\n",
      "313/313 [==============================] - 2s 7ms/step\n",
      "comm_round: 128 | global_acc: 62.100% | global_loss: 1.8477816581726074\n",
      "GSM-FedAvg\n",
      "313/313 [==============================] - 2s 8ms/step\n",
      "comm_round: 128 | global_acc: 59.650% | global_loss: 1.8645437955856323\n"
     ]
    },
    {
     "name": "stderr",
     "output_type": "stream",
     "text": [
      "Progress Bar: 100%|████████████████████████████████████████████████████████████████████| 10/10 [01:19<00:00,  8.00s/it]\n"
     ]
    },
    {
     "name": "stdout",
     "output_type": "stream",
     "text": [
      "Fedavg:\n",
      "313/313 [==============================] - 3s 8ms/step\n",
      "comm_round: 129 | global_acc: 61.870% | global_loss: 1.851372241973877\n",
      "GSM-FedAvg\n",
      "313/313 [==============================] - 3s 8ms/step\n",
      "comm_round: 129 | global_acc: 59.170% | global_loss: 1.8667967319488525\n"
     ]
    },
    {
     "name": "stderr",
     "output_type": "stream",
     "text": [
      "Progress Bar: 100%|████████████████████████████████████████████████████████████████████| 10/10 [01:16<00:00,  7.69s/it]\n"
     ]
    },
    {
     "name": "stdout",
     "output_type": "stream",
     "text": [
      "Fedavg:\n",
      "313/313 [==============================] - 2s 8ms/step\n",
      "comm_round: 130 | global_acc: 62.390% | global_loss: 1.846388339996338\n",
      "GSM-FedAvg\n",
      "313/313 [==============================] - 3s 8ms/step\n",
      "comm_round: 130 | global_acc: 59.520% | global_loss: 1.8643882274627686\n"
     ]
    },
    {
     "name": "stderr",
     "output_type": "stream",
     "text": [
      "Progress Bar: 100%|████████████████████████████████████████████████████████████████████| 10/10 [01:21<00:00,  8.11s/it]\n"
     ]
    },
    {
     "name": "stdout",
     "output_type": "stream",
     "text": [
      "Fedavg:\n",
      "313/313 [==============================] - 2s 7ms/step\n",
      "comm_round: 131 | global_acc: 61.830% | global_loss: 1.8496242761611938\n",
      "GSM-FedAvg\n",
      "313/313 [==============================] - 2s 6ms/step\n",
      "comm_round: 131 | global_acc: 59.590% | global_loss: 1.8632928133010864\n"
     ]
    },
    {
     "name": "stderr",
     "output_type": "stream",
     "text": [
      "Progress Bar: 100%|████████████████████████████████████████████████████████████████████| 10/10 [01:25<00:00,  8.56s/it]\n"
     ]
    },
    {
     "name": "stdout",
     "output_type": "stream",
     "text": [
      "Fedavg:\n",
      "313/313 [==============================] - 2s 7ms/step\n",
      "comm_round: 132 | global_acc: 62.040% | global_loss: 1.8485422134399414\n",
      "GSM-FedAvg\n",
      "313/313 [==============================] - 3s 9ms/step\n",
      "comm_round: 132 | global_acc: 59.700% | global_loss: 1.8629796504974365\n"
     ]
    },
    {
     "name": "stderr",
     "output_type": "stream",
     "text": [
      "Progress Bar: 100%|████████████████████████████████████████████████████████████████████| 10/10 [01:23<00:00,  8.40s/it]\n"
     ]
    },
    {
     "name": "stdout",
     "output_type": "stream",
     "text": [
      "Fedavg:\n",
      "313/313 [==============================] - 2s 7ms/step\n",
      "comm_round: 133 | global_acc: 62.130% | global_loss: 1.8495794534683228\n",
      "GSM-FedAvg\n",
      "313/313 [==============================] - 2s 7ms/step\n",
      "comm_round: 133 | global_acc: 59.640% | global_loss: 1.863290786743164\n"
     ]
    },
    {
     "name": "stderr",
     "output_type": "stream",
     "text": [
      "Progress Bar: 100%|████████████████████████████████████████████████████████████████████| 10/10 [01:15<00:00,  7.58s/it]\n"
     ]
    },
    {
     "name": "stdout",
     "output_type": "stream",
     "text": [
      "Fedavg:\n",
      "313/313 [==============================] - 3s 8ms/step\n",
      "comm_round: 134 | global_acc: 61.680% | global_loss: 1.8541359901428223\n",
      "GSM-FedAvg\n",
      "313/313 [==============================] - 3s 8ms/step\n",
      "comm_round: 134 | global_acc: 59.800% | global_loss: 1.8628299236297607\n"
     ]
    },
    {
     "name": "stderr",
     "output_type": "stream",
     "text": [
      "Progress Bar: 100%|████████████████████████████████████████████████████████████████████| 10/10 [01:20<00:00,  8.06s/it]\n"
     ]
    },
    {
     "name": "stdout",
     "output_type": "stream",
     "text": [
      "Fedavg:\n",
      "313/313 [==============================] - 2s 7ms/step\n",
      "comm_round: 135 | global_acc: 62.380% | global_loss: 1.8478055000305176\n",
      "GSM-FedAvg\n",
      "313/313 [==============================] - 2s 7ms/step\n",
      "comm_round: 135 | global_acc: 59.220% | global_loss: 1.869444489479065\n"
     ]
    },
    {
     "name": "stderr",
     "output_type": "stream",
     "text": [
      "Progress Bar: 100%|████████████████████████████████████████████████████████████████████| 10/10 [01:20<00:00,  8.01s/it]\n"
     ]
    },
    {
     "name": "stdout",
     "output_type": "stream",
     "text": [
      "Fedavg:\n",
      "313/313 [==============================] - 2s 6ms/step\n",
      "comm_round: 136 | global_acc: 62.090% | global_loss: 1.848070740699768\n",
      "GSM-FedAvg\n",
      "313/313 [==============================] - 2s 7ms/step\n",
      "comm_round: 136 | global_acc: 60.300% | global_loss: 1.8575222492218018\n"
     ]
    },
    {
     "name": "stderr",
     "output_type": "stream",
     "text": [
      "Progress Bar: 100%|████████████████████████████████████████████████████████████████████| 10/10 [01:21<00:00,  8.10s/it]\n"
     ]
    },
    {
     "name": "stdout",
     "output_type": "stream",
     "text": [
      "Fedavg:\n",
      "313/313 [==============================] - 2s 8ms/step\n",
      "comm_round: 137 | global_acc: 62.300% | global_loss: 1.8466070890426636\n",
      "GSM-FedAvg\n",
      "313/313 [==============================] - 3s 8ms/step\n",
      "comm_round: 137 | global_acc: 59.610% | global_loss: 1.8632570505142212\n"
     ]
    },
    {
     "name": "stderr",
     "output_type": "stream",
     "text": [
      "Progress Bar: 100%|████████████████████████████████████████████████████████████████████| 10/10 [01:12<00:00,  7.24s/it]\n"
     ]
    },
    {
     "name": "stdout",
     "output_type": "stream",
     "text": [
      "Fedavg:\n",
      "313/313 [==============================] - 3s 8ms/step\n",
      "comm_round: 138 | global_acc: 62.190% | global_loss: 1.8457863330841064\n",
      "GSM-FedAvg\n",
      "313/313 [==============================] - 3s 8ms/step\n",
      "comm_round: 138 | global_acc: 59.310% | global_loss: 1.8670786619186401\n"
     ]
    },
    {
     "name": "stderr",
     "output_type": "stream",
     "text": [
      "Progress Bar: 100%|████████████████████████████████████████████████████████████████████| 10/10 [01:17<00:00,  7.77s/it]\n"
     ]
    },
    {
     "name": "stdout",
     "output_type": "stream",
     "text": [
      "Fedavg:\n",
      "313/313 [==============================] - 3s 9ms/step\n",
      "comm_round: 139 | global_acc: 61.810% | global_loss: 1.8493921756744385\n",
      "GSM-FedAvg\n",
      "313/313 [==============================] - 3s 8ms/step\n",
      "comm_round: 139 | global_acc: 60.270% | global_loss: 1.8583558797836304\n"
     ]
    },
    {
     "name": "stderr",
     "output_type": "stream",
     "text": [
      "Progress Bar: 100%|████████████████████████████████████████████████████████████████████| 10/10 [01:30<00:00,  9.08s/it]\n"
     ]
    },
    {
     "name": "stdout",
     "output_type": "stream",
     "text": [
      "Fedavg:\n",
      "313/313 [==============================] - 3s 8ms/step\n",
      "comm_round: 140 | global_acc: 62.250% | global_loss: 1.846382975578308\n",
      "GSM-FedAvg\n",
      "313/313 [==============================] - 3s 8ms/step\n",
      "comm_round: 140 | global_acc: 59.740% | global_loss: 1.8617980480194092\n"
     ]
    },
    {
     "name": "stderr",
     "output_type": "stream",
     "text": [
      "Progress Bar: 100%|████████████████████████████████████████████████████████████████████| 10/10 [01:19<00:00,  7.91s/it]\n"
     ]
    },
    {
     "name": "stdout",
     "output_type": "stream",
     "text": [
      "Fedavg:\n",
      "313/313 [==============================] - 3s 8ms/step\n",
      "comm_round: 141 | global_acc: 62.280% | global_loss: 1.8463996648788452\n",
      "GSM-FedAvg\n",
      "313/313 [==============================] - 2s 6ms/step\n",
      "comm_round: 141 | global_acc: 59.410% | global_loss: 1.8645970821380615\n"
     ]
    },
    {
     "name": "stderr",
     "output_type": "stream",
     "text": [
      "Progress Bar: 100%|████████████████████████████████████████████████████████████████████| 10/10 [01:16<00:00,  7.61s/it]\n"
     ]
    },
    {
     "name": "stdout",
     "output_type": "stream",
     "text": [
      "Fedavg:\n",
      "313/313 [==============================] - 3s 8ms/step\n",
      "comm_round: 142 | global_acc: 62.510% | global_loss: 1.8438160419464111\n",
      "GSM-FedAvg\n",
      "313/313 [==============================] - 2s 7ms/step\n",
      "comm_round: 142 | global_acc: 59.130% | global_loss: 1.868726134300232\n"
     ]
    },
    {
     "name": "stderr",
     "output_type": "stream",
     "text": [
      "Progress Bar: 100%|████████████████████████████████████████████████████████████████████| 10/10 [01:18<00:00,  7.86s/it]\n"
     ]
    },
    {
     "name": "stdout",
     "output_type": "stream",
     "text": [
      "Fedavg:\n",
      "313/313 [==============================] - 2s 7ms/step\n",
      "comm_round: 143 | global_acc: 61.790% | global_loss: 1.8466280698776245\n",
      "GSM-FedAvg\n",
      "313/313 [==============================] - 2s 8ms/step\n",
      "comm_round: 143 | global_acc: 59.710% | global_loss: 1.8635921478271484\n"
     ]
    },
    {
     "name": "stderr",
     "output_type": "stream",
     "text": [
      "Progress Bar: 100%|████████████████████████████████████████████████████████████████████| 10/10 [01:20<00:00,  8.08s/it]\n"
     ]
    },
    {
     "name": "stdout",
     "output_type": "stream",
     "text": [
      "Fedavg:\n",
      "313/313 [==============================] - 3s 8ms/step\n",
      "comm_round: 144 | global_acc: 62.160% | global_loss: 1.8462474346160889\n",
      "GSM-FedAvg\n",
      "313/313 [==============================] - 3s 8ms/step\n",
      "comm_round: 144 | global_acc: 60.120% | global_loss: 1.860411524772644\n"
     ]
    },
    {
     "name": "stderr",
     "output_type": "stream",
     "text": [
      "Progress Bar: 100%|████████████████████████████████████████████████████████████████████| 10/10 [01:19<00:00,  7.91s/it]\n"
     ]
    },
    {
     "name": "stdout",
     "output_type": "stream",
     "text": [
      "Fedavg:\n",
      "313/313 [==============================] - 3s 8ms/step\n",
      "comm_round: 145 | global_acc: 61.840% | global_loss: 1.8477351665496826\n",
      "GSM-FedAvg\n",
      "313/313 [==============================] - 3s 8ms/step\n",
      "comm_round: 145 | global_acc: 59.740% | global_loss: 1.8620706796646118\n"
     ]
    },
    {
     "name": "stderr",
     "output_type": "stream",
     "text": [
      "Progress Bar: 100%|████████████████████████████████████████████████████████████████████| 10/10 [01:20<00:00,  8.03s/it]\n"
     ]
    },
    {
     "name": "stdout",
     "output_type": "stream",
     "text": [
      "Fedavg:\n",
      "313/313 [==============================] - 3s 8ms/step\n",
      "comm_round: 146 | global_acc: 61.810% | global_loss: 1.8481203317642212\n",
      "GSM-FedAvg\n",
      "313/313 [==============================] - 3s 8ms/step\n",
      "comm_round: 146 | global_acc: 60.350% | global_loss: 1.858304738998413\n"
     ]
    },
    {
     "name": "stderr",
     "output_type": "stream",
     "text": [
      "Progress Bar: 100%|████████████████████████████████████████████████████████████████████| 10/10 [01:16<00:00,  7.63s/it]\n"
     ]
    },
    {
     "name": "stdout",
     "output_type": "stream",
     "text": [
      "Fedavg:\n",
      "313/313 [==============================] - 2s 7ms/step\n",
      "comm_round: 147 | global_acc: 62.060% | global_loss: 1.8488188982009888\n",
      "GSM-FedAvg\n",
      "313/313 [==============================] - 2s 7ms/step\n",
      "comm_round: 147 | global_acc: 59.580% | global_loss: 1.8640449047088623\n"
     ]
    },
    {
     "name": "stderr",
     "output_type": "stream",
     "text": [
      "Progress Bar: 100%|████████████████████████████████████████████████████████████████████| 10/10 [01:16<00:00,  7.64s/it]\n"
     ]
    },
    {
     "name": "stdout",
     "output_type": "stream",
     "text": [
      "Fedavg:\n",
      "313/313 [==============================] - 2s 7ms/step\n",
      "comm_round: 148 | global_acc: 62.070% | global_loss: 1.8487054109573364\n",
      "GSM-FedAvg\n",
      "313/313 [==============================] - 2s 7ms/step\n",
      "comm_round: 148 | global_acc: 60.020% | global_loss: 1.860621452331543\n"
     ]
    },
    {
     "name": "stderr",
     "output_type": "stream",
     "text": [
      "Progress Bar: 100%|████████████████████████████████████████████████████████████████████| 10/10 [01:16<00:00,  7.64s/it]\n"
     ]
    },
    {
     "name": "stdout",
     "output_type": "stream",
     "text": [
      "Fedavg:\n",
      "313/313 [==============================] - 3s 8ms/step\n",
      "comm_round: 149 | global_acc: 61.930% | global_loss: 1.8493587970733643\n",
      "GSM-FedAvg\n",
      "313/313 [==============================] - 2s 6ms/step\n",
      "comm_round: 149 | global_acc: 59.400% | global_loss: 1.8659775257110596\n"
     ]
    },
    {
     "name": "stderr",
     "output_type": "stream",
     "text": [
      "Progress Bar: 100%|████████████████████████████████████████████████████████████████████| 10/10 [01:19<00:00,  7.96s/it]\n"
     ]
    },
    {
     "name": "stdout",
     "output_type": "stream",
     "text": [
      "Fedavg:\n",
      "313/313 [==============================] - 3s 8ms/step\n",
      "comm_round: 150 | global_acc: 62.270% | global_loss: 1.8458656072616577\n",
      "GSM-FedAvg\n",
      "313/313 [==============================] - 3s 8ms/step\n",
      "comm_round: 150 | global_acc: 59.590% | global_loss: 1.8648418188095093\n"
     ]
    },
    {
     "name": "stderr",
     "output_type": "stream",
     "text": [
      "Progress Bar: 100%|████████████████████████████████████████████████████████████████████| 10/10 [01:17<00:00,  7.72s/it]\n"
     ]
    },
    {
     "name": "stdout",
     "output_type": "stream",
     "text": [
      "Fedavg:\n",
      "313/313 [==============================] - 2s 6ms/step\n",
      "comm_round: 151 | global_acc: 62.250% | global_loss: 1.8467209339141846\n",
      "GSM-FedAvg\n",
      "313/313 [==============================] - 3s 8ms/step\n",
      "comm_round: 151 | global_acc: 59.810% | global_loss: 1.863791823387146\n"
     ]
    },
    {
     "name": "stderr",
     "output_type": "stream",
     "text": [
      "Progress Bar: 100%|████████████████████████████████████████████████████████████████████| 10/10 [01:17<00:00,  7.75s/it]\n"
     ]
    },
    {
     "name": "stdout",
     "output_type": "stream",
     "text": [
      "Fedavg:\n",
      "313/313 [==============================] - 3s 8ms/step\n",
      "comm_round: 152 | global_acc: 62.100% | global_loss: 1.845298409461975\n",
      "GSM-FedAvg\n",
      "313/313 [==============================] - 3s 8ms/step\n",
      "comm_round: 152 | global_acc: 59.910% | global_loss: 1.8627761602401733\n"
     ]
    },
    {
     "name": "stderr",
     "output_type": "stream",
     "text": [
      "Progress Bar: 100%|████████████████████████████████████████████████████████████████████| 10/10 [01:16<00:00,  7.65s/it]\n"
     ]
    },
    {
     "name": "stdout",
     "output_type": "stream",
     "text": [
      "Fedavg:\n",
      "313/313 [==============================] - 3s 8ms/step\n",
      "comm_round: 153 | global_acc: 61.950% | global_loss: 1.847375750541687\n",
      "GSM-FedAvg\n",
      "313/313 [==============================] - 2s 6ms/step\n",
      "comm_round: 153 | global_acc: 59.540% | global_loss: 1.8653621673583984\n"
     ]
    },
    {
     "name": "stderr",
     "output_type": "stream",
     "text": [
      "Progress Bar: 100%|████████████████████████████████████████████████████████████████████| 10/10 [01:45<00:00, 10.58s/it]\n"
     ]
    },
    {
     "name": "stdout",
     "output_type": "stream",
     "text": [
      "Fedavg:\n",
      "313/313 [==============================] - 4s 12ms/step\n",
      "comm_round: 154 | global_acc: 62.740% | global_loss: 1.8424181938171387\n",
      "GSM-FedAvg\n",
      "313/313 [==============================] - 4s 12ms/step\n",
      "comm_round: 154 | global_acc: 59.500% | global_loss: 1.8659892082214355\n"
     ]
    },
    {
     "name": "stderr",
     "output_type": "stream",
     "text": [
      "Progress Bar: 100%|████████████████████████████████████████████████████████████████████| 10/10 [02:08<00:00, 12.88s/it]\n"
     ]
    },
    {
     "name": "stdout",
     "output_type": "stream",
     "text": [
      "Fedavg:\n",
      "313/313 [==============================] - 4s 12ms/step\n",
      "comm_round: 155 | global_acc: 62.550% | global_loss: 1.8427664041519165\n",
      "GSM-FedAvg\n",
      "313/313 [==============================] - 3s 8ms/step\n",
      "comm_round: 155 | global_acc: 60.080% | global_loss: 1.8616998195648193\n"
     ]
    },
    {
     "name": "stderr",
     "output_type": "stream",
     "text": [
      "Progress Bar: 100%|████████████████████████████████████████████████████████████████████| 10/10 [01:55<00:00, 11.59s/it]\n"
     ]
    },
    {
     "name": "stdout",
     "output_type": "stream",
     "text": [
      "Fedavg:\n",
      "313/313 [==============================] - 3s 10ms/step\n",
      "comm_round: 156 | global_acc: 62.130% | global_loss: 1.8423316478729248\n",
      "GSM-FedAvg\n",
      "313/313 [==============================] - 3s 10ms/step\n",
      "comm_round: 156 | global_acc: 59.450% | global_loss: 1.867445707321167\n"
     ]
    },
    {
     "name": "stderr",
     "output_type": "stream",
     "text": [
      "Progress Bar: 100%|████████████████████████████████████████████████████████████████████| 10/10 [01:44<00:00, 10.42s/it]\n"
     ]
    },
    {
     "name": "stdout",
     "output_type": "stream",
     "text": [
      "Fedavg:\n",
      "313/313 [==============================] - 3s 10ms/step\n",
      "comm_round: 157 | global_acc: 62.210% | global_loss: 1.8439515829086304\n",
      "GSM-FedAvg\n",
      "313/313 [==============================] - 4s 11ms/step\n",
      "comm_round: 157 | global_acc: 59.220% | global_loss: 1.8666698932647705\n"
     ]
    },
    {
     "name": "stderr",
     "output_type": "stream",
     "text": [
      "Progress Bar: 100%|████████████████████████████████████████████████████████████████████| 10/10 [01:56<00:00, 11.68s/it]\n"
     ]
    },
    {
     "name": "stdout",
     "output_type": "stream",
     "text": [
      "Fedavg:\n",
      "313/313 [==============================] - 3s 8ms/step\n",
      "comm_round: 158 | global_acc: 62.570% | global_loss: 1.8427461385726929\n",
      "GSM-FedAvg\n",
      "313/313 [==============================] - 2s 7ms/step\n",
      "comm_round: 158 | global_acc: 60.020% | global_loss: 1.859959602355957\n"
     ]
    },
    {
     "name": "stderr",
     "output_type": "stream",
     "text": [
      "Progress Bar: 100%|████████████████████████████████████████████████████████████████████| 10/10 [01:39<00:00,  9.91s/it]\n"
     ]
    },
    {
     "name": "stdout",
     "output_type": "stream",
     "text": [
      "Fedavg:\n",
      "313/313 [==============================] - 3s 10ms/step\n",
      "comm_round: 159 | global_acc: 62.460% | global_loss: 1.8405262231826782\n",
      "GSM-FedAvg\n",
      "313/313 [==============================] - 3s 10ms/step\n",
      "comm_round: 159 | global_acc: 60.320% | global_loss: 1.8580142259597778\n"
     ]
    },
    {
     "name": "stderr",
     "output_type": "stream",
     "text": [
      "Progress Bar: 100%|████████████████████████████████████████████████████████████████████| 10/10 [01:47<00:00, 10.70s/it]\n"
     ]
    },
    {
     "name": "stdout",
     "output_type": "stream",
     "text": [
      "Fedavg:\n",
      "313/313 [==============================] - 3s 10ms/step\n",
      "comm_round: 160 | global_acc: 62.490% | global_loss: 1.8413636684417725\n",
      "GSM-FedAvg\n",
      "313/313 [==============================] - 3s 8ms/step\n",
      "comm_round: 160 | global_acc: 60.250% | global_loss: 1.8574377298355103\n"
     ]
    },
    {
     "name": "stderr",
     "output_type": "stream",
     "text": [
      "Progress Bar: 100%|████████████████████████████████████████████████████████████████████| 10/10 [01:36<00:00,  9.67s/it]\n"
     ]
    },
    {
     "name": "stdout",
     "output_type": "stream",
     "text": [
      "Fedavg:\n",
      "313/313 [==============================] - 2s 7ms/step\n",
      "comm_round: 161 | global_acc: 62.230% | global_loss: 1.8425136804580688\n",
      "GSM-FedAvg\n",
      "313/313 [==============================] - 2s 8ms/step\n",
      "comm_round: 161 | global_acc: 58.730% | global_loss: 1.8725723028182983\n"
     ]
    },
    {
     "name": "stderr",
     "output_type": "stream",
     "text": [
      "Progress Bar: 100%|████████████████████████████████████████████████████████████████████| 10/10 [01:23<00:00,  8.39s/it]\n"
     ]
    },
    {
     "name": "stdout",
     "output_type": "stream",
     "text": [
      "Fedavg:\n",
      "313/313 [==============================] - 3s 8ms/step\n",
      "comm_round: 162 | global_acc: 62.400% | global_loss: 1.8437254428863525\n",
      "GSM-FedAvg\n",
      "313/313 [==============================] - 3s 8ms/step\n",
      "comm_round: 162 | global_acc: 59.930% | global_loss: 1.8614062070846558\n"
     ]
    },
    {
     "name": "stderr",
     "output_type": "stream",
     "text": [
      "Progress Bar: 100%|████████████████████████████████████████████████████████████████████| 10/10 [01:24<00:00,  8.41s/it]\n"
     ]
    },
    {
     "name": "stdout",
     "output_type": "stream",
     "text": [
      "Fedavg:\n",
      "313/313 [==============================] - 3s 8ms/step\n",
      "comm_round: 163 | global_acc: 62.260% | global_loss: 1.8431593179702759\n",
      "GSM-FedAvg\n",
      "313/313 [==============================] - 3s 8ms/step\n",
      "comm_round: 163 | global_acc: 59.830% | global_loss: 1.8617374897003174\n"
     ]
    },
    {
     "name": "stderr",
     "output_type": "stream",
     "text": [
      "Progress Bar: 100%|████████████████████████████████████████████████████████████████████| 10/10 [01:20<00:00,  8.06s/it]\n"
     ]
    },
    {
     "name": "stdout",
     "output_type": "stream",
     "text": [
      "Fedavg:\n",
      "313/313 [==============================] - 2s 7ms/step\n",
      "comm_round: 164 | global_acc: 62.580% | global_loss: 1.8422894477844238\n",
      "GSM-FedAvg\n",
      "313/313 [==============================] - 2s 6ms/step\n",
      "comm_round: 164 | global_acc: 60.170% | global_loss: 1.8584187030792236\n"
     ]
    },
    {
     "name": "stderr",
     "output_type": "stream",
     "text": [
      "Progress Bar: 100%|████████████████████████████████████████████████████████████████████| 10/10 [01:57<00:00, 11.70s/it]\n"
     ]
    },
    {
     "name": "stdout",
     "output_type": "stream",
     "text": [
      "Fedavg:\n",
      "313/313 [==============================] - 3s 10ms/step\n",
      "comm_round: 165 | global_acc: 62.060% | global_loss: 1.8450417518615723\n",
      "GSM-FedAvg\n",
      "313/313 [==============================] - 3s 8ms/step\n",
      "comm_round: 165 | global_acc: 59.680% | global_loss: 1.8612580299377441\n"
     ]
    },
    {
     "name": "stderr",
     "output_type": "stream",
     "text": [
      "Progress Bar: 100%|████████████████████████████████████████████████████████████████████| 10/10 [01:27<00:00,  8.79s/it]\n"
     ]
    },
    {
     "name": "stdout",
     "output_type": "stream",
     "text": [
      "Fedavg:\n",
      "313/313 [==============================] - 3s 9ms/step\n",
      "comm_round: 166 | global_acc: 62.320% | global_loss: 1.8426669836044312\n",
      "GSM-FedAvg\n",
      "313/313 [==============================] - 2s 7ms/step\n",
      "comm_round: 166 | global_acc: 59.570% | global_loss: 1.86268949508667\n"
     ]
    },
    {
     "name": "stderr",
     "output_type": "stream",
     "text": [
      "Progress Bar: 100%|████████████████████████████████████████████████████████████████████| 10/10 [01:23<00:00,  8.39s/it]\n"
     ]
    },
    {
     "name": "stdout",
     "output_type": "stream",
     "text": [
      "Fedavg:\n",
      "313/313 [==============================] - 3s 8ms/step\n",
      "comm_round: 167 | global_acc: 62.200% | global_loss: 1.8422423601150513\n",
      "GSM-FedAvg\n",
      "313/313 [==============================] - 2s 8ms/step\n",
      "comm_round: 167 | global_acc: 59.640% | global_loss: 1.8639209270477295\n"
     ]
    },
    {
     "name": "stderr",
     "output_type": "stream",
     "text": [
      "Progress Bar: 100%|████████████████████████████████████████████████████████████████████| 10/10 [01:37<00:00,  9.71s/it]\n"
     ]
    },
    {
     "name": "stdout",
     "output_type": "stream",
     "text": [
      "Fedavg:\n",
      "313/313 [==============================] - 4s 12ms/step\n",
      "comm_round: 168 | global_acc: 62.340% | global_loss: 1.8412672281265259\n",
      "GSM-FedAvg\n",
      "313/313 [==============================] - 3s 9ms/step\n",
      "comm_round: 168 | global_acc: 59.440% | global_loss: 1.8634370565414429\n"
     ]
    },
    {
     "name": "stderr",
     "output_type": "stream",
     "text": [
      "Progress Bar: 100%|████████████████████████████████████████████████████████████████████| 10/10 [01:41<00:00, 10.16s/it]\n"
     ]
    },
    {
     "name": "stdout",
     "output_type": "stream",
     "text": [
      "Fedavg:\n",
      "313/313 [==============================] - 2s 7ms/step\n",
      "comm_round: 169 | global_acc: 62.320% | global_loss: 1.84214448928833\n",
      "GSM-FedAvg\n",
      "313/313 [==============================] - 3s 8ms/step\n",
      "comm_round: 169 | global_acc: 59.440% | global_loss: 1.8649499416351318\n"
     ]
    },
    {
     "name": "stderr",
     "output_type": "stream",
     "text": [
      "Progress Bar: 100%|████████████████████████████████████████████████████████████████████| 10/10 [01:32<00:00,  9.29s/it]\n"
     ]
    },
    {
     "name": "stdout",
     "output_type": "stream",
     "text": [
      "Fedavg:\n",
      "313/313 [==============================] - 2s 7ms/step\n",
      "comm_round: 170 | global_acc: 62.350% | global_loss: 1.8444738388061523\n",
      "GSM-FedAvg\n",
      "313/313 [==============================] - 3s 8ms/step\n",
      "comm_round: 170 | global_acc: 59.310% | global_loss: 1.8659255504608154\n"
     ]
    },
    {
     "name": "stderr",
     "output_type": "stream",
     "text": [
      "Progress Bar: 100%|████████████████████████████████████████████████████████████████████| 10/10 [01:22<00:00,  8.23s/it]\n"
     ]
    },
    {
     "name": "stdout",
     "output_type": "stream",
     "text": [
      "Fedavg:\n",
      "313/313 [==============================] - 3s 8ms/step\n",
      "comm_round: 171 | global_acc: 62.440% | global_loss: 1.8440890312194824\n",
      "GSM-FedAvg\n",
      "313/313 [==============================] - 3s 8ms/step\n",
      "comm_round: 171 | global_acc: 58.940% | global_loss: 1.8702640533447266\n"
     ]
    },
    {
     "name": "stderr",
     "output_type": "stream",
     "text": [
      "Progress Bar: 100%|████████████████████████████████████████████████████████████████████| 10/10 [01:22<00:00,  8.26s/it]\n"
     ]
    },
    {
     "name": "stdout",
     "output_type": "stream",
     "text": [
      "Fedavg:\n",
      "313/313 [==============================] - 3s 8ms/step\n",
      "comm_round: 172 | global_acc: 63.190% | global_loss: 1.8376137018203735\n",
      "GSM-FedAvg\n",
      "313/313 [==============================] - 3s 9ms/step\n",
      "comm_round: 172 | global_acc: 59.620% | global_loss: 1.8624169826507568\n"
     ]
    },
    {
     "name": "stderr",
     "output_type": "stream",
     "text": [
      "Progress Bar: 100%|████████████████████████████████████████████████████████████████████| 10/10 [01:21<00:00,  8.15s/it]\n"
     ]
    },
    {
     "name": "stdout",
     "output_type": "stream",
     "text": [
      "Fedavg:\n",
      "313/313 [==============================] - 3s 8ms/step\n",
      "comm_round: 173 | global_acc: 62.680% | global_loss: 1.8416121006011963\n",
      "GSM-FedAvg\n",
      "313/313 [==============================] - 3s 8ms/step\n",
      "comm_round: 173 | global_acc: 59.690% | global_loss: 1.863629937171936\n"
     ]
    },
    {
     "name": "stderr",
     "output_type": "stream",
     "text": [
      "Progress Bar: 100%|████████████████████████████████████████████████████████████████████| 10/10 [01:23<00:00,  8.34s/it]\n"
     ]
    },
    {
     "name": "stdout",
     "output_type": "stream",
     "text": [
      "Fedavg:\n",
      "313/313 [==============================] - 3s 8ms/step\n",
      "comm_round: 174 | global_acc: 62.710% | global_loss: 1.839845895767212\n",
      "GSM-FedAvg\n",
      "313/313 [==============================] - 2s 7ms/step\n",
      "comm_round: 174 | global_acc: 59.420% | global_loss: 1.862924575805664\n"
     ]
    },
    {
     "name": "stderr",
     "output_type": "stream",
     "text": [
      "Progress Bar: 100%|████████████████████████████████████████████████████████████████████| 10/10 [01:20<00:00,  8.09s/it]\n"
     ]
    },
    {
     "name": "stdout",
     "output_type": "stream",
     "text": [
      "Fedavg:\n",
      "313/313 [==============================] - 3s 8ms/step\n",
      "comm_round: 175 | global_acc: 62.090% | global_loss: 1.8429988622665405\n",
      "GSM-FedAvg\n",
      "313/313 [==============================] - 3s 8ms/step\n",
      "comm_round: 175 | global_acc: 59.440% | global_loss: 1.8650939464569092\n"
     ]
    },
    {
     "name": "stderr",
     "output_type": "stream",
     "text": [
      "Progress Bar: 100%|████████████████████████████████████████████████████████████████████| 10/10 [01:21<00:00,  8.18s/it]\n"
     ]
    },
    {
     "name": "stdout",
     "output_type": "stream",
     "text": [
      "Fedavg:\n",
      "313/313 [==============================] - 2s 7ms/step\n",
      "comm_round: 176 | global_acc: 62.500% | global_loss: 1.8406367301940918\n",
      "GSM-FedAvg\n",
      "313/313 [==============================] - 3s 8ms/step\n",
      "comm_round: 176 | global_acc: 60.050% | global_loss: 1.8602848052978516\n"
     ]
    },
    {
     "name": "stderr",
     "output_type": "stream",
     "text": [
      "Progress Bar: 100%|████████████████████████████████████████████████████████████████████| 10/10 [01:21<00:00,  8.11s/it]\n"
     ]
    },
    {
     "name": "stdout",
     "output_type": "stream",
     "text": [
      "Fedavg:\n",
      "313/313 [==============================] - 2s 7ms/step\n",
      "comm_round: 177 | global_acc: 62.210% | global_loss: 1.841549038887024\n",
      "GSM-FedAvg\n",
      "313/313 [==============================] - 3s 8ms/step\n",
      "comm_round: 177 | global_acc: 59.870% | global_loss: 1.8600869178771973\n"
     ]
    },
    {
     "name": "stderr",
     "output_type": "stream",
     "text": [
      "Progress Bar: 100%|████████████████████████████████████████████████████████████████████| 10/10 [01:25<00:00,  8.51s/it]\n"
     ]
    },
    {
     "name": "stdout",
     "output_type": "stream",
     "text": [
      "Fedavg:\n",
      "313/313 [==============================] - 2s 5ms/step\n",
      "comm_round: 178 | global_acc: 62.560% | global_loss: 1.8416675329208374\n",
      "GSM-FedAvg\n",
      "313/313 [==============================] - 2s 6ms/step\n",
      "comm_round: 178 | global_acc: 59.260% | global_loss: 1.865136742591858\n"
     ]
    },
    {
     "name": "stderr",
     "output_type": "stream",
     "text": [
      "Progress Bar: 100%|████████████████████████████████████████████████████████████████████| 10/10 [01:25<00:00,  8.58s/it]\n"
     ]
    },
    {
     "name": "stdout",
     "output_type": "stream",
     "text": [
      "Fedavg:\n",
      "313/313 [==============================] - 3s 8ms/step\n",
      "comm_round: 179 | global_acc: 62.400% | global_loss: 1.8419862985610962\n",
      "GSM-FedAvg\n",
      "313/313 [==============================] - 3s 8ms/step\n",
      "comm_round: 179 | global_acc: 60.090% | global_loss: 1.8599810600280762\n"
     ]
    },
    {
     "name": "stderr",
     "output_type": "stream",
     "text": [
      "Progress Bar: 100%|████████████████████████████████████████████████████████████████████| 10/10 [01:21<00:00,  8.15s/it]\n"
     ]
    },
    {
     "name": "stdout",
     "output_type": "stream",
     "text": [
      "Fedavg:\n",
      "313/313 [==============================] - 2s 7ms/step\n",
      "comm_round: 180 | global_acc: 62.820% | global_loss: 1.8380380868911743\n",
      "GSM-FedAvg\n",
      "313/313 [==============================] - 3s 8ms/step\n",
      "comm_round: 180 | global_acc: 60.340% | global_loss: 1.858502745628357\n"
     ]
    },
    {
     "name": "stderr",
     "output_type": "stream",
     "text": [
      "Progress Bar: 100%|████████████████████████████████████████████████████████████████████| 10/10 [01:23<00:00,  8.32s/it]\n"
     ]
    },
    {
     "name": "stdout",
     "output_type": "stream",
     "text": [
      "Fedavg:\n",
      "313/313 [==============================] - 2s 7ms/step\n",
      "comm_round: 181 | global_acc: 62.580% | global_loss: 1.8378031253814697\n",
      "GSM-FedAvg\n",
      "313/313 [==============================] - 2s 8ms/step\n",
      "comm_round: 181 | global_acc: 60.240% | global_loss: 1.8574069738388062\n"
     ]
    },
    {
     "name": "stderr",
     "output_type": "stream",
     "text": [
      "Progress Bar: 100%|████████████████████████████████████████████████████████████████████| 10/10 [01:21<00:00,  8.18s/it]\n"
     ]
    },
    {
     "name": "stdout",
     "output_type": "stream",
     "text": [
      "Fedavg:\n",
      "313/313 [==============================] - 3s 8ms/step\n",
      "comm_round: 182 | global_acc: 61.950% | global_loss: 1.8417054414749146\n",
      "GSM-FedAvg\n",
      "313/313 [==============================] - 3s 8ms/step\n",
      "comm_round: 182 | global_acc: 59.570% | global_loss: 1.8625847101211548\n"
     ]
    },
    {
     "name": "stderr",
     "output_type": "stream",
     "text": [
      "Progress Bar: 100%|████████████████████████████████████████████████████████████████████| 10/10 [01:20<00:00,  8.09s/it]\n"
     ]
    },
    {
     "name": "stdout",
     "output_type": "stream",
     "text": [
      "Fedavg:\n",
      "313/313 [==============================] - 3s 8ms/step\n",
      "comm_round: 183 | global_acc: 62.140% | global_loss: 1.8428361415863037\n",
      "GSM-FedAvg\n",
      "313/313 [==============================] - 3s 8ms/step\n",
      "comm_round: 183 | global_acc: 59.420% | global_loss: 1.863459587097168\n"
     ]
    },
    {
     "name": "stderr",
     "output_type": "stream",
     "text": [
      "Progress Bar: 100%|████████████████████████████████████████████████████████████████████| 10/10 [01:18<00:00,  7.85s/it]\n"
     ]
    },
    {
     "name": "stdout",
     "output_type": "stream",
     "text": [
      "Fedavg:\n",
      "313/313 [==============================] - 3s 8ms/step\n",
      "comm_round: 184 | global_acc: 62.660% | global_loss: 1.8385921716690063\n",
      "GSM-FedAvg\n",
      "313/313 [==============================] - 2s 7ms/step\n",
      "comm_round: 184 | global_acc: 60.430% | global_loss: 1.856591820716858\n"
     ]
    },
    {
     "name": "stderr",
     "output_type": "stream",
     "text": [
      "Progress Bar: 100%|████████████████████████████████████████████████████████████████████| 10/10 [01:21<00:00,  8.18s/it]\n"
     ]
    },
    {
     "name": "stdout",
     "output_type": "stream",
     "text": [
      "Fedavg:\n",
      "313/313 [==============================] - 3s 8ms/step\n",
      "comm_round: 185 | global_acc: 61.630% | global_loss: 1.843177318572998\n",
      "GSM-FedAvg\n",
      "313/313 [==============================] - 3s 8ms/step\n",
      "comm_round: 185 | global_acc: 59.880% | global_loss: 1.8611106872558594\n"
     ]
    },
    {
     "name": "stderr",
     "output_type": "stream",
     "text": [
      "Progress Bar: 100%|████████████████████████████████████████████████████████████████████| 10/10 [01:18<00:00,  7.85s/it]\n"
     ]
    },
    {
     "name": "stdout",
     "output_type": "stream",
     "text": [
      "Fedavg:\n",
      "313/313 [==============================] - 3s 8ms/step\n",
      "comm_round: 186 | global_acc: 62.350% | global_loss: 1.8400098085403442\n",
      "GSM-FedAvg\n",
      "313/313 [==============================] - 2s 7ms/step\n",
      "comm_round: 186 | global_acc: 60.140% | global_loss: 1.859588623046875\n"
     ]
    },
    {
     "name": "stderr",
     "output_type": "stream",
     "text": [
      "Progress Bar: 100%|████████████████████████████████████████████████████████████████████| 10/10 [01:24<00:00,  8.41s/it]\n"
     ]
    },
    {
     "name": "stdout",
     "output_type": "stream",
     "text": [
      "Fedavg:\n",
      "313/313 [==============================] - 2s 8ms/step\n",
      "comm_round: 187 | global_acc: 62.120% | global_loss: 1.8405654430389404\n",
      "GSM-FedAvg\n",
      "313/313 [==============================] - 2s 6ms/step\n",
      "comm_round: 187 | global_acc: 60.370% | global_loss: 1.8576195240020752\n"
     ]
    },
    {
     "name": "stderr",
     "output_type": "stream",
     "text": [
      "Progress Bar: 100%|████████████████████████████████████████████████████████████████████| 10/10 [01:23<00:00,  8.35s/it]\n"
     ]
    },
    {
     "name": "stdout",
     "output_type": "stream",
     "text": [
      "Fedavg:\n",
      "313/313 [==============================] - 3s 9ms/step\n",
      "comm_round: 188 | global_acc: 62.550% | global_loss: 1.8378300666809082\n",
      "GSM-FedAvg\n",
      "313/313 [==============================] - 3s 8ms/step\n",
      "comm_round: 188 | global_acc: 59.650% | global_loss: 1.8617808818817139\n"
     ]
    },
    {
     "name": "stderr",
     "output_type": "stream",
     "text": [
      "Progress Bar: 100%|████████████████████████████████████████████████████████████████████| 10/10 [01:21<00:00,  8.15s/it]\n"
     ]
    },
    {
     "name": "stdout",
     "output_type": "stream",
     "text": [
      "Fedavg:\n",
      "313/313 [==============================] - 3s 8ms/step\n",
      "comm_round: 189 | global_acc: 62.320% | global_loss: 1.8404654264450073\n",
      "GSM-FedAvg\n",
      "313/313 [==============================] - 2s 6ms/step\n",
      "comm_round: 189 | global_acc: 58.970% | global_loss: 1.8661863803863525\n"
     ]
    },
    {
     "name": "stderr",
     "output_type": "stream",
     "text": [
      "Progress Bar: 100%|████████████████████████████████████████████████████████████████████| 10/10 [01:24<00:00,  8.50s/it]\n"
     ]
    },
    {
     "name": "stdout",
     "output_type": "stream",
     "text": [
      "Fedavg:\n",
      "313/313 [==============================] - 2s 7ms/step\n",
      "comm_round: 190 | global_acc: 62.390% | global_loss: 1.8423761129379272\n",
      "GSM-FedAvg\n",
      "313/313 [==============================] - 3s 9ms/step\n",
      "comm_round: 190 | global_acc: 59.120% | global_loss: 1.8652986288070679\n"
     ]
    },
    {
     "name": "stderr",
     "output_type": "stream",
     "text": [
      "Progress Bar: 100%|████████████████████████████████████████████████████████████████████| 10/10 [01:25<00:00,  8.56s/it]\n"
     ]
    },
    {
     "name": "stdout",
     "output_type": "stream",
     "text": [
      "Fedavg:\n",
      "313/313 [==============================] - 2s 6ms/step\n",
      "comm_round: 191 | global_acc: 62.360% | global_loss: 1.8416765928268433\n",
      "GSM-FedAvg\n",
      "313/313 [==============================] - 2s 5ms/step\n",
      "comm_round: 191 | global_acc: 59.540% | global_loss: 1.8631995916366577\n"
     ]
    },
    {
     "name": "stderr",
     "output_type": "stream",
     "text": [
      "Progress Bar: 100%|████████████████████████████████████████████████████████████████████| 10/10 [01:22<00:00,  8.30s/it]\n"
     ]
    },
    {
     "name": "stdout",
     "output_type": "stream",
     "text": [
      "Fedavg:\n",
      "313/313 [==============================] - 2s 6ms/step\n",
      "comm_round: 192 | global_acc: 62.450% | global_loss: 1.8396146297454834\n",
      "GSM-FedAvg\n",
      "313/313 [==============================] - 2s 6ms/step\n",
      "comm_round: 192 | global_acc: 59.990% | global_loss: 1.8597815036773682\n"
     ]
    },
    {
     "name": "stderr",
     "output_type": "stream",
     "text": [
      "Progress Bar: 100%|████████████████████████████████████████████████████████████████████| 10/10 [01:24<00:00,  8.41s/it]\n"
     ]
    },
    {
     "name": "stdout",
     "output_type": "stream",
     "text": [
      "Fedavg:\n",
      "313/313 [==============================] - 2s 6ms/step\n",
      "comm_round: 193 | global_acc: 62.470% | global_loss: 1.8384355306625366\n",
      "GSM-FedAvg\n",
      "313/313 [==============================] - 2s 6ms/step\n",
      "comm_round: 193 | global_acc: 59.780% | global_loss: 1.860474944114685\n"
     ]
    },
    {
     "name": "stderr",
     "output_type": "stream",
     "text": [
      "Progress Bar: 100%|████████████████████████████████████████████████████████████████████| 10/10 [01:22<00:00,  8.29s/it]\n"
     ]
    },
    {
     "name": "stdout",
     "output_type": "stream",
     "text": [
      "Fedavg:\n",
      "313/313 [==============================] - 2s 6ms/step\n",
      "comm_round: 194 | global_acc: 62.200% | global_loss: 1.8429136276245117\n",
      "GSM-FedAvg\n",
      "313/313 [==============================] - 2s 6ms/step\n",
      "comm_round: 194 | global_acc: 59.390% | global_loss: 1.8635929822921753\n"
     ]
    },
    {
     "name": "stderr",
     "output_type": "stream",
     "text": [
      "Progress Bar: 100%|████████████████████████████████████████████████████████████████████| 10/10 [01:18<00:00,  7.87s/it]\n"
     ]
    },
    {
     "name": "stdout",
     "output_type": "stream",
     "text": [
      "Fedavg:\n",
      "313/313 [==============================] - 2s 7ms/step\n",
      "comm_round: 195 | global_acc: 62.200% | global_loss: 1.8438129425048828\n",
      "GSM-FedAvg\n",
      "313/313 [==============================] - 2s 8ms/step\n",
      "comm_round: 195 | global_acc: 59.250% | global_loss: 1.8654648065567017\n"
     ]
    },
    {
     "name": "stderr",
     "output_type": "stream",
     "text": [
      "Progress Bar: 100%|████████████████████████████████████████████████████████████████████| 10/10 [01:24<00:00,  8.47s/it]\n"
     ]
    },
    {
     "name": "stdout",
     "output_type": "stream",
     "text": [
      "Fedavg:\n",
      "313/313 [==============================] - 2s 5ms/step\n",
      "comm_round: 196 | global_acc: 62.660% | global_loss: 1.8377646207809448\n",
      "GSM-FedAvg\n",
      "313/313 [==============================] - 2s 6ms/step\n",
      "comm_round: 196 | global_acc: 59.800% | global_loss: 1.8597933053970337\n"
     ]
    },
    {
     "name": "stderr",
     "output_type": "stream",
     "text": [
      "Progress Bar: 100%|████████████████████████████████████████████████████████████████████| 10/10 [01:25<00:00,  8.56s/it]\n"
     ]
    },
    {
     "name": "stdout",
     "output_type": "stream",
     "text": [
      "Fedavg:\n",
      "313/313 [==============================] - 2s 7ms/step\n",
      "comm_round: 197 | global_acc: 62.420% | global_loss: 1.840674638748169\n",
      "GSM-FedAvg\n",
      "313/313 [==============================] - 3s 8ms/step\n",
      "comm_round: 197 | global_acc: 59.990% | global_loss: 1.8585336208343506\n"
     ]
    },
    {
     "name": "stderr",
     "output_type": "stream",
     "text": [
      "Progress Bar: 100%|████████████████████████████████████████████████████████████████████| 10/10 [01:24<00:00,  8.46s/it]\n"
     ]
    },
    {
     "name": "stdout",
     "output_type": "stream",
     "text": [
      "Fedavg:\n",
      "313/313 [==============================] - 3s 8ms/step\n",
      "comm_round: 198 | global_acc: 62.500% | global_loss: 1.8401732444763184\n",
      "GSM-FedAvg\n",
      "313/313 [==============================] - 3s 8ms/step\n",
      "comm_round: 198 | global_acc: 59.880% | global_loss: 1.8596042394638062\n"
     ]
    },
    {
     "name": "stderr",
     "output_type": "stream",
     "text": [
      "Progress Bar: 100%|████████████████████████████████████████████████████████████████████| 10/10 [01:23<00:00,  8.36s/it]\n"
     ]
    },
    {
     "name": "stdout",
     "output_type": "stream",
     "text": [
      "Fedavg:\n",
      "313/313 [==============================] - 3s 8ms/step\n",
      "comm_round: 199 | global_acc: 62.190% | global_loss: 1.8408859968185425\n",
      "GSM-FedAvg\n",
      "313/313 [==============================] - 3s 8ms/step\n",
      "comm_round: 199 | global_acc: 59.660% | global_loss: 1.8617756366729736\n"
     ]
    },
    {
     "name": "stderr",
     "output_type": "stream",
     "text": [
      "Progress Bar: 100%|████████████████████████████████████████████████████████████████████| 10/10 [01:23<00:00,  8.32s/it]\n"
     ]
    },
    {
     "name": "stdout",
     "output_type": "stream",
     "text": [
      "Fedavg:\n",
      "313/313 [==============================] - 2s 7ms/step\n",
      "comm_round: 200 | global_acc: 62.310% | global_loss: 1.8416205644607544\n",
      "GSM-FedAvg\n",
      "313/313 [==============================] - 2s 7ms/step\n",
      "comm_round: 200 | global_acc: 59.520% | global_loss: 1.865425944328308\n"
     ]
    },
    {
     "name": "stderr",
     "output_type": "stream",
     "text": [
      "Progress Bar: 100%|████████████████████████████████████████████████████████████████████| 10/10 [01:26<00:00,  8.69s/it]\n"
     ]
    },
    {
     "name": "stdout",
     "output_type": "stream",
     "text": [
      "Fedavg:\n",
      "313/313 [==============================] - 3s 8ms/step\n",
      "comm_round: 201 | global_acc: 62.300% | global_loss: 1.8402105569839478\n",
      "GSM-FedAvg\n",
      "313/313 [==============================] - 3s 8ms/step\n",
      "comm_round: 201 | global_acc: 60.240% | global_loss: 1.8585205078125\n"
     ]
    },
    {
     "name": "stderr",
     "output_type": "stream",
     "text": [
      "Progress Bar: 100%|████████████████████████████████████████████████████████████████████| 10/10 [01:24<00:00,  8.44s/it]\n"
     ]
    },
    {
     "name": "stdout",
     "output_type": "stream",
     "text": [
      "Fedavg:\n",
      "313/313 [==============================] - 3s 9ms/step\n",
      "comm_round: 202 | global_acc: 62.330% | global_loss: 1.8394873142242432\n",
      "GSM-FedAvg\n",
      "313/313 [==============================] - 2s 6ms/step\n",
      "comm_round: 202 | global_acc: 59.760% | global_loss: 1.8608425855636597\n"
     ]
    },
    {
     "name": "stderr",
     "output_type": "stream",
     "text": [
      "Progress Bar: 100%|████████████████████████████████████████████████████████████████████| 10/10 [01:23<00:00,  8.31s/it]\n"
     ]
    },
    {
     "name": "stdout",
     "output_type": "stream",
     "text": [
      "Fedavg:\n",
      "313/313 [==============================] - 3s 8ms/step\n",
      "comm_round: 203 | global_acc: 62.340% | global_loss: 1.840460181236267\n",
      "GSM-FedAvg\n",
      "313/313 [==============================] - 3s 9ms/step\n",
      "comm_round: 203 | global_acc: 59.550% | global_loss: 1.8618507385253906\n"
     ]
    },
    {
     "name": "stderr",
     "output_type": "stream",
     "text": [
      "Progress Bar: 100%|████████████████████████████████████████████████████████████████████| 10/10 [01:19<00:00,  7.99s/it]\n"
     ]
    },
    {
     "name": "stdout",
     "output_type": "stream",
     "text": [
      "Fedavg:\n",
      "313/313 [==============================] - 3s 8ms/step\n",
      "comm_round: 204 | global_acc: 62.020% | global_loss: 1.8415968418121338\n",
      "GSM-FedAvg\n",
      "313/313 [==============================] - 3s 8ms/step\n",
      "comm_round: 204 | global_acc: 59.790% | global_loss: 1.8616129159927368\n"
     ]
    },
    {
     "name": "stderr",
     "output_type": "stream",
     "text": [
      "Progress Bar: 100%|████████████████████████████████████████████████████████████████████| 10/10 [01:23<00:00,  8.36s/it]\n"
     ]
    },
    {
     "name": "stdout",
     "output_type": "stream",
     "text": [
      "Fedavg:\n",
      "313/313 [==============================] - 3s 8ms/step\n",
      "comm_round: 205 | global_acc: 62.310% | global_loss: 1.840140461921692\n",
      "GSM-FedAvg\n",
      "313/313 [==============================] - 2s 7ms/step\n",
      "comm_round: 205 | global_acc: 59.770% | global_loss: 1.8612570762634277\n"
     ]
    },
    {
     "name": "stderr",
     "output_type": "stream",
     "text": [
      "Progress Bar: 100%|████████████████████████████████████████████████████████████████████| 10/10 [01:21<00:00,  8.16s/it]\n"
     ]
    },
    {
     "name": "stdout",
     "output_type": "stream",
     "text": [
      "Fedavg:\n",
      "313/313 [==============================] - 2s 7ms/step\n",
      "comm_round: 206 | global_acc: 62.170% | global_loss: 1.8400875329971313\n",
      "GSM-FedAvg\n",
      "313/313 [==============================] - 2s 7ms/step\n",
      "comm_round: 206 | global_acc: 59.640% | global_loss: 1.8612085580825806\n"
     ]
    },
    {
     "name": "stderr",
     "output_type": "stream",
     "text": [
      "Progress Bar: 100%|████████████████████████████████████████████████████████████████████| 10/10 [01:21<00:00,  8.20s/it]\n"
     ]
    },
    {
     "name": "stdout",
     "output_type": "stream",
     "text": [
      "Fedavg:\n",
      "313/313 [==============================] - 2s 6ms/step\n",
      "comm_round: 207 | global_acc: 62.120% | global_loss: 1.8401172161102295\n",
      "GSM-FedAvg\n",
      "313/313 [==============================] - 3s 9ms/step\n",
      "comm_round: 207 | global_acc: 59.730% | global_loss: 1.8614563941955566\n"
     ]
    },
    {
     "name": "stderr",
     "output_type": "stream",
     "text": [
      "Progress Bar: 100%|████████████████████████████████████████████████████████████████████| 10/10 [01:25<00:00,  8.53s/it]\n"
     ]
    },
    {
     "name": "stdout",
     "output_type": "stream",
     "text": [
      "Fedavg:\n",
      "313/313 [==============================] - 2s 7ms/step\n",
      "comm_round: 208 | global_acc: 62.630% | global_loss: 1.8392781019210815\n",
      "GSM-FedAvg\n",
      "313/313 [==============================] - 3s 8ms/step\n",
      "comm_round: 208 | global_acc: 59.980% | global_loss: 1.8600116968154907\n"
     ]
    },
    {
     "name": "stderr",
     "output_type": "stream",
     "text": [
      "Progress Bar: 100%|████████████████████████████████████████████████████████████████████| 10/10 [01:24<00:00,  8.42s/it]\n"
     ]
    },
    {
     "name": "stdout",
     "output_type": "stream",
     "text": [
      "Fedavg:\n",
      "313/313 [==============================] - 3s 8ms/step\n",
      "comm_round: 209 | global_acc: 62.210% | global_loss: 1.840437650680542\n",
      "GSM-FedAvg\n",
      "313/313 [==============================] - 3s 9ms/step\n",
      "comm_round: 209 | global_acc: 59.980% | global_loss: 1.8588308095932007\n"
     ]
    },
    {
     "name": "stderr",
     "output_type": "stream",
     "text": [
      "Progress Bar: 100%|████████████████████████████████████████████████████████████████████| 10/10 [01:22<00:00,  8.20s/it]\n"
     ]
    },
    {
     "name": "stdout",
     "output_type": "stream",
     "text": [
      "Fedavg:\n",
      "313/313 [==============================] - 3s 8ms/step\n",
      "comm_round: 210 | global_acc: 62.570% | global_loss: 1.8373750448226929\n",
      "GSM-FedAvg\n",
      "313/313 [==============================] - 3s 8ms/step\n",
      "comm_round: 210 | global_acc: 60.410% | global_loss: 1.8542519807815552\n"
     ]
    },
    {
     "name": "stderr",
     "output_type": "stream",
     "text": [
      "Progress Bar: 100%|████████████████████████████████████████████████████████████████████| 10/10 [01:21<00:00,  8.19s/it]\n"
     ]
    },
    {
     "name": "stdout",
     "output_type": "stream",
     "text": [
      "Fedavg:\n",
      "313/313 [==============================] - 3s 8ms/step\n",
      "comm_round: 211 | global_acc: 62.580% | global_loss: 1.8376951217651367\n",
      "GSM-FedAvg\n",
      "313/313 [==============================] - 3s 8ms/step\n",
      "comm_round: 211 | global_acc: 60.270% | global_loss: 1.8566038608551025\n"
     ]
    },
    {
     "name": "stderr",
     "output_type": "stream",
     "text": [
      "Progress Bar: 100%|████████████████████████████████████████████████████████████████████| 10/10 [01:24<00:00,  8.41s/it]\n"
     ]
    },
    {
     "name": "stdout",
     "output_type": "stream",
     "text": [
      "Fedavg:\n",
      "313/313 [==============================] - 3s 9ms/step\n",
      "comm_round: 212 | global_acc: 62.580% | global_loss: 1.8400077819824219\n",
      "GSM-FedAvg\n",
      "313/313 [==============================] - 3s 9ms/step\n",
      "comm_round: 212 | global_acc: 59.530% | global_loss: 1.8617759943008423\n"
     ]
    },
    {
     "name": "stderr",
     "output_type": "stream",
     "text": [
      "Progress Bar: 100%|████████████████████████████████████████████████████████████████████| 10/10 [01:19<00:00,  7.96s/it]\n"
     ]
    },
    {
     "name": "stdout",
     "output_type": "stream",
     "text": [
      "Fedavg:\n",
      "313/313 [==============================] - 3s 9ms/step\n",
      "comm_round: 213 | global_acc: 62.600% | global_loss: 1.837958574295044\n",
      "GSM-FedAvg\n",
      "313/313 [==============================] - 3s 8ms/step\n",
      "comm_round: 213 | global_acc: 59.940% | global_loss: 1.8596423864364624\n"
     ]
    },
    {
     "name": "stderr",
     "output_type": "stream",
     "text": [
      "Progress Bar: 100%|████████████████████████████████████████████████████████████████████| 10/10 [01:25<00:00,  8.54s/it]\n"
     ]
    },
    {
     "name": "stdout",
     "output_type": "stream",
     "text": [
      "Fedavg:\n",
      "313/313 [==============================] - 3s 8ms/step\n",
      "comm_round: 214 | global_acc: 62.520% | global_loss: 1.8388307094573975\n",
      "GSM-FedAvg\n",
      "313/313 [==============================] - 3s 8ms/step\n",
      "comm_round: 214 | global_acc: 59.700% | global_loss: 1.8620293140411377\n"
     ]
    },
    {
     "name": "stderr",
     "output_type": "stream",
     "text": [
      "Progress Bar: 100%|████████████████████████████████████████████████████████████████████| 10/10 [01:30<00:00,  9.02s/it]\n"
     ]
    },
    {
     "name": "stdout",
     "output_type": "stream",
     "text": [
      "Fedavg:\n",
      "313/313 [==============================] - 3s 9ms/step\n",
      "comm_round: 215 | global_acc: 62.550% | global_loss: 1.8365548849105835\n",
      "GSM-FedAvg\n",
      "313/313 [==============================] - 3s 9ms/step\n",
      "comm_round: 215 | global_acc: 60.060% | global_loss: 1.8596490621566772\n"
     ]
    },
    {
     "name": "stderr",
     "output_type": "stream",
     "text": [
      "Progress Bar: 100%|████████████████████████████████████████████████████████████████████| 10/10 [01:28<00:00,  8.82s/it]\n"
     ]
    },
    {
     "name": "stdout",
     "output_type": "stream",
     "text": [
      "Fedavg:\n",
      "313/313 [==============================] - 2s 8ms/step\n",
      "comm_round: 216 | global_acc: 62.230% | global_loss: 1.8391034603118896\n",
      "GSM-FedAvg\n",
      "313/313 [==============================] - 2s 7ms/step\n",
      "comm_round: 216 | global_acc: 59.980% | global_loss: 1.8602898120880127\n"
     ]
    },
    {
     "name": "stderr",
     "output_type": "stream",
     "text": [
      "Progress Bar: 100%|████████████████████████████████████████████████████████████████████| 10/10 [01:23<00:00,  8.36s/it]\n"
     ]
    },
    {
     "name": "stdout",
     "output_type": "stream",
     "text": [
      "Fedavg:\n",
      "313/313 [==============================] - 2s 7ms/step\n",
      "comm_round: 217 | global_acc: 62.650% | global_loss: 1.8372437953948975\n",
      "GSM-FedAvg\n",
      "313/313 [==============================] - 3s 8ms/step\n",
      "comm_round: 217 | global_acc: 60.170% | global_loss: 1.8595341444015503\n"
     ]
    },
    {
     "name": "stderr",
     "output_type": "stream",
     "text": [
      "Progress Bar: 100%|████████████████████████████████████████████████████████████████████| 10/10 [01:31<00:00,  9.16s/it]\n"
     ]
    },
    {
     "name": "stdout",
     "output_type": "stream",
     "text": [
      "Fedavg:\n",
      "313/313 [==============================] - 2s 6ms/step\n",
      "comm_round: 218 | global_acc: 62.370% | global_loss: 1.8382275104522705\n",
      "GSM-FedAvg\n",
      "313/313 [==============================] - 2s 5ms/step\n",
      "comm_round: 218 | global_acc: 60.240% | global_loss: 1.8566628694534302\n"
     ]
    },
    {
     "name": "stderr",
     "output_type": "stream",
     "text": [
      "Progress Bar: 100%|████████████████████████████████████████████████████████████████████| 10/10 [01:55<00:00, 11.52s/it]\n"
     ]
    },
    {
     "name": "stdout",
     "output_type": "stream",
     "text": [
      "Fedavg:\n",
      "313/313 [==============================] - 3s 10ms/step\n",
      "comm_round: 219 | global_acc: 62.480% | global_loss: 1.8373175859451294\n",
      "GSM-FedAvg\n",
      "313/313 [==============================] - 4s 11ms/step\n",
      "comm_round: 219 | global_acc: 59.760% | global_loss: 1.8611421585083008\n"
     ]
    },
    {
     "name": "stderr",
     "output_type": "stream",
     "text": [
      "Progress Bar: 100%|████████████████████████████████████████████████████████████████████| 10/10 [01:36<00:00,  9.67s/it]\n"
     ]
    },
    {
     "name": "stdout",
     "output_type": "stream",
     "text": [
      "Fedavg:\n",
      "313/313 [==============================] - 3s 10ms/step\n",
      "comm_round: 220 | global_acc: 62.670% | global_loss: 1.8373656272888184\n",
      "GSM-FedAvg\n",
      "313/313 [==============================] - 4s 11ms/step\n",
      "comm_round: 220 | global_acc: 60.260% | global_loss: 1.8573673963546753\n"
     ]
    },
    {
     "name": "stderr",
     "output_type": "stream",
     "text": [
      "Progress Bar: 100%|████████████████████████████████████████████████████████████████████| 10/10 [01:48<00:00, 10.88s/it]\n"
     ]
    },
    {
     "name": "stdout",
     "output_type": "stream",
     "text": [
      "Fedavg:\n",
      "313/313 [==============================] - 4s 12ms/step\n",
      "comm_round: 221 | global_acc: 62.810% | global_loss: 1.8346898555755615\n",
      "GSM-FedAvg\n",
      "313/313 [==============================] - 4s 11ms/step\n",
      "comm_round: 221 | global_acc: 60.380% | global_loss: 1.8565150499343872\n"
     ]
    },
    {
     "name": "stderr",
     "output_type": "stream",
     "text": [
      "Progress Bar: 100%|████████████████████████████████████████████████████████████████████| 10/10 [01:55<00:00, 11.53s/it]\n"
     ]
    },
    {
     "name": "stdout",
     "output_type": "stream",
     "text": [
      "Fedavg:\n",
      "313/313 [==============================] - 3s 11ms/step\n",
      "comm_round: 222 | global_acc: 62.340% | global_loss: 1.839281678199768\n",
      "GSM-FedAvg\n",
      "313/313 [==============================] - 4s 12ms/step\n",
      "comm_round: 222 | global_acc: 59.200% | global_loss: 1.8657441139221191\n"
     ]
    },
    {
     "name": "stderr",
     "output_type": "stream",
     "text": [
      "Progress Bar: 100%|████████████████████████████████████████████████████████████████████| 10/10 [01:41<00:00, 10.18s/it]\n"
     ]
    },
    {
     "name": "stdout",
     "output_type": "stream",
     "text": [
      "Fedavg:\n",
      "313/313 [==============================] - 3s 9ms/step\n",
      "comm_round: 223 | global_acc: 62.370% | global_loss: 1.8390802145004272\n",
      "GSM-FedAvg\n",
      "313/313 [==============================] - 2s 8ms/step\n",
      "comm_round: 223 | global_acc: 60.250% | global_loss: 1.8577008247375488\n"
     ]
    },
    {
     "name": "stderr",
     "output_type": "stream",
     "text": [
      "Progress Bar: 100%|████████████████████████████████████████████████████████████████████| 10/10 [01:26<00:00,  8.69s/it]\n"
     ]
    },
    {
     "name": "stdout",
     "output_type": "stream",
     "text": [
      "Fedavg:\n",
      "313/313 [==============================] - 3s 9ms/step\n",
      "comm_round: 224 | global_acc: 62.950% | global_loss: 1.836578130722046\n",
      "GSM-FedAvg\n",
      "313/313 [==============================] - 3s 8ms/step\n",
      "comm_round: 224 | global_acc: 60.020% | global_loss: 1.8584705591201782\n"
     ]
    },
    {
     "name": "stderr",
     "output_type": "stream",
     "text": [
      "Progress Bar: 100%|████████████████████████████████████████████████████████████████████| 10/10 [01:25<00:00,  8.55s/it]\n"
     ]
    },
    {
     "name": "stdout",
     "output_type": "stream",
     "text": [
      "Fedavg:\n",
      "313/313 [==============================] - 4s 11ms/step\n",
      "comm_round: 225 | global_acc: 63.010% | global_loss: 1.8335314989089966\n",
      "GSM-FedAvg\n",
      "313/313 [==============================] - 4s 13ms/step\n",
      "comm_round: 225 | global_acc: 60.030% | global_loss: 1.8577451705932617\n"
     ]
    },
    {
     "name": "stderr",
     "output_type": "stream",
     "text": [
      "Progress Bar: 100%|████████████████████████████████████████████████████████████████████| 10/10 [01:52<00:00, 11.21s/it]\n"
     ]
    },
    {
     "name": "stdout",
     "output_type": "stream",
     "text": [
      "Fedavg:\n",
      "313/313 [==============================] - 3s 8ms/step\n",
      "comm_round: 226 | global_acc: 62.760% | global_loss: 1.8346984386444092\n",
      "GSM-FedAvg\n",
      "313/313 [==============================] - 3s 9ms/step\n",
      "comm_round: 226 | global_acc: 60.410% | global_loss: 1.8556488752365112\n"
     ]
    },
    {
     "name": "stderr",
     "output_type": "stream",
     "text": [
      "Progress Bar: 100%|████████████████████████████████████████████████████████████████████| 10/10 [01:52<00:00, 11.22s/it]\n"
     ]
    },
    {
     "name": "stdout",
     "output_type": "stream",
     "text": [
      "Fedavg:\n",
      "313/313 [==============================] - 3s 11ms/step\n",
      "comm_round: 227 | global_acc: 62.380% | global_loss: 1.840649962425232\n",
      "GSM-FedAvg\n",
      "313/313 [==============================] - 3s 10ms/step\n",
      "comm_round: 227 | global_acc: 60.110% | global_loss: 1.8585844039916992\n"
     ]
    },
    {
     "name": "stderr",
     "output_type": "stream",
     "text": [
      "Progress Bar: 100%|████████████████████████████████████████████████████████████████████| 10/10 [01:49<00:00, 10.90s/it]\n"
     ]
    },
    {
     "name": "stdout",
     "output_type": "stream",
     "text": [
      "Fedavg:\n",
      "313/313 [==============================] - 3s 8ms/step\n",
      "comm_round: 228 | global_acc: 62.530% | global_loss: 1.838714838027954\n",
      "GSM-FedAvg\n",
      "313/313 [==============================] - 2s 6ms/step\n",
      "comm_round: 228 | global_acc: 59.850% | global_loss: 1.8595411777496338\n"
     ]
    },
    {
     "name": "stderr",
     "output_type": "stream",
     "text": [
      "Progress Bar: 100%|████████████████████████████████████████████████████████████████████| 10/10 [01:24<00:00,  8.41s/it]\n"
     ]
    },
    {
     "name": "stdout",
     "output_type": "stream",
     "text": [
      "Fedavg:\n",
      "313/313 [==============================] - 3s 8ms/step\n",
      "comm_round: 229 | global_acc: 62.820% | global_loss: 1.8354743719100952\n",
      "GSM-FedAvg\n",
      "313/313 [==============================] - 3s 9ms/step\n",
      "comm_round: 229 | global_acc: 59.830% | global_loss: 1.8601065874099731\n"
     ]
    },
    {
     "name": "stderr",
     "output_type": "stream",
     "text": [
      "Progress Bar: 100%|████████████████████████████████████████████████████████████████████| 10/10 [01:26<00:00,  8.61s/it]\n"
     ]
    },
    {
     "name": "stdout",
     "output_type": "stream",
     "text": [
      "Fedavg:\n",
      "313/313 [==============================] - 3s 8ms/step\n",
      "comm_round: 230 | global_acc: 62.680% | global_loss: 1.8365557193756104\n",
      "GSM-FedAvg\n",
      "313/313 [==============================] - 3s 9ms/step\n",
      "comm_round: 230 | global_acc: 60.110% | global_loss: 1.8580163717269897\n"
     ]
    },
    {
     "name": "stderr",
     "output_type": "stream",
     "text": [
      "Progress Bar: 100%|████████████████████████████████████████████████████████████████████| 10/10 [01:48<00:00, 10.82s/it]\n"
     ]
    },
    {
     "name": "stdout",
     "output_type": "stream",
     "text": [
      "Fedavg:\n",
      "313/313 [==============================] - 3s 9ms/step\n",
      "comm_round: 231 | global_acc: 62.590% | global_loss: 1.8373329639434814\n",
      "GSM-FedAvg\n",
      "313/313 [==============================] - 3s 11ms/step\n",
      "comm_round: 231 | global_acc: 60.230% | global_loss: 1.8562347888946533\n"
     ]
    },
    {
     "name": "stderr",
     "output_type": "stream",
     "text": [
      "Progress Bar: 100%|████████████████████████████████████████████████████████████████████| 10/10 [01:36<00:00,  9.69s/it]\n"
     ]
    },
    {
     "name": "stdout",
     "output_type": "stream",
     "text": [
      "Fedavg:\n",
      "313/313 [==============================] - 3s 8ms/step\n",
      "comm_round: 232 | global_acc: 62.330% | global_loss: 1.838273048400879\n",
      "GSM-FedAvg\n",
      "313/313 [==============================] - 2s 7ms/step\n",
      "comm_round: 232 | global_acc: 60.250% | global_loss: 1.8568809032440186\n"
     ]
    },
    {
     "name": "stderr",
     "output_type": "stream",
     "text": [
      "Progress Bar: 100%|████████████████████████████████████████████████████████████████████| 10/10 [01:27<00:00,  8.78s/it]\n"
     ]
    },
    {
     "name": "stdout",
     "output_type": "stream",
     "text": [
      "Fedavg:\n",
      "313/313 [==============================] - 3s 9ms/step\n",
      "comm_round: 233 | global_acc: 62.170% | global_loss: 1.8394054174423218\n",
      "GSM-FedAvg\n",
      "313/313 [==============================] - 3s 8ms/step\n",
      "comm_round: 233 | global_acc: 59.710% | global_loss: 1.861266016960144\n"
     ]
    },
    {
     "name": "stderr",
     "output_type": "stream",
     "text": [
      "Progress Bar: 100%|████████████████████████████████████████████████████████████████████| 10/10 [01:30<00:00,  9.07s/it]\n"
     ]
    },
    {
     "name": "stdout",
     "output_type": "stream",
     "text": [
      "Fedavg:\n",
      "313/313 [==============================] - 3s 9ms/step\n",
      "comm_round: 234 | global_acc: 62.410% | global_loss: 1.8359472751617432\n",
      "GSM-FedAvg\n",
      "313/313 [==============================] - 3s 10ms/step\n",
      "comm_round: 234 | global_acc: 60.040% | global_loss: 1.8562849760055542\n"
     ]
    },
    {
     "name": "stderr",
     "output_type": "stream",
     "text": [
      "Progress Bar: 100%|████████████████████████████████████████████████████████████████████| 10/10 [01:46<00:00, 10.61s/it]\n"
     ]
    },
    {
     "name": "stdout",
     "output_type": "stream",
     "text": [
      "Fedavg:\n",
      "313/313 [==============================] - 3s 9ms/step\n",
      "comm_round: 235 | global_acc: 62.080% | global_loss: 1.8392878770828247\n",
      "GSM-FedAvg\n",
      "313/313 [==============================] - 3s 9ms/step\n",
      "comm_round: 235 | global_acc: 60.250% | global_loss: 1.8566255569458008\n"
     ]
    },
    {
     "name": "stderr",
     "output_type": "stream",
     "text": [
      "Progress Bar: 100%|████████████████████████████████████████████████████████████████████| 10/10 [01:20<00:00,  8.08s/it]\n"
     ]
    },
    {
     "name": "stdout",
     "output_type": "stream",
     "text": [
      "Fedavg:\n",
      "313/313 [==============================] - 3s 9ms/step\n",
      "comm_round: 236 | global_acc: 62.540% | global_loss: 1.8364300727844238\n",
      "GSM-FedAvg\n",
      "313/313 [==============================] - 3s 9ms/step\n",
      "comm_round: 236 | global_acc: 59.770% | global_loss: 1.859400749206543\n"
     ]
    },
    {
     "name": "stderr",
     "output_type": "stream",
     "text": [
      "Progress Bar: 100%|████████████████████████████████████████████████████████████████████| 10/10 [01:30<00:00,  9.07s/it]\n"
     ]
    },
    {
     "name": "stdout",
     "output_type": "stream",
     "text": [
      "Fedavg:\n",
      "313/313 [==============================] - 3s 10ms/step\n",
      "comm_round: 237 | global_acc: 62.600% | global_loss: 1.8359179496765137\n",
      "GSM-FedAvg\n",
      "313/313 [==============================] - 3s 8ms/step\n",
      "comm_round: 237 | global_acc: 59.960% | global_loss: 1.8595350980758667\n"
     ]
    },
    {
     "name": "stderr",
     "output_type": "stream",
     "text": [
      "Progress Bar: 100%|████████████████████████████████████████████████████████████████████| 10/10 [01:47<00:00, 10.76s/it]\n"
     ]
    },
    {
     "name": "stdout",
     "output_type": "stream",
     "text": [
      "Fedavg:\n",
      "313/313 [==============================] - 3s 8ms/step\n",
      "comm_round: 238 | global_acc: 62.730% | global_loss: 1.8344637155532837\n",
      "GSM-FedAvg\n",
      "313/313 [==============================] - 3s 8ms/step\n",
      "comm_round: 238 | global_acc: 60.300% | global_loss: 1.8552078008651733\n"
     ]
    },
    {
     "name": "stderr",
     "output_type": "stream",
     "text": [
      "Progress Bar: 100%|████████████████████████████████████████████████████████████████████| 10/10 [01:23<00:00,  8.35s/it]\n"
     ]
    },
    {
     "name": "stdout",
     "output_type": "stream",
     "text": [
      "Fedavg:\n",
      "313/313 [==============================] - 2s 7ms/step\n",
      "comm_round: 239 | global_acc: 62.350% | global_loss: 1.8371394872665405\n",
      "GSM-FedAvg\n",
      "313/313 [==============================] - 3s 8ms/step\n",
      "comm_round: 239 | global_acc: 59.920% | global_loss: 1.8599449396133423\n"
     ]
    },
    {
     "name": "stderr",
     "output_type": "stream",
     "text": [
      "Progress Bar: 100%|████████████████████████████████████████████████████████████████████| 10/10 [01:27<00:00,  8.77s/it]\n"
     ]
    },
    {
     "name": "stdout",
     "output_type": "stream",
     "text": [
      "Fedavg:\n",
      "313/313 [==============================] - 4s 11ms/step\n",
      "comm_round: 240 | global_acc: 62.870% | global_loss: 1.8338617086410522\n",
      "GSM-FedAvg\n",
      "313/313 [==============================] - 4s 12ms/step\n",
      "comm_round: 240 | global_acc: 59.910% | global_loss: 1.8585550785064697\n"
     ]
    },
    {
     "name": "stderr",
     "output_type": "stream",
     "text": [
      "Progress Bar: 100%|████████████████████████████████████████████████████████████████████| 10/10 [01:48<00:00, 10.89s/it]\n"
     ]
    },
    {
     "name": "stdout",
     "output_type": "stream",
     "text": [
      "Fedavg:\n",
      "313/313 [==============================] - 3s 9ms/step\n",
      "comm_round: 241 | global_acc: 62.490% | global_loss: 1.835762858390808\n",
      "GSM-FedAvg\n",
      "313/313 [==============================] - 3s 10ms/step\n",
      "comm_round: 241 | global_acc: 59.720% | global_loss: 1.860257863998413\n"
     ]
    },
    {
     "name": "stderr",
     "output_type": "stream",
     "text": [
      "Progress Bar: 100%|████████████████████████████████████████████████████████████████████| 10/10 [01:47<00:00, 10.73s/it]\n"
     ]
    },
    {
     "name": "stdout",
     "output_type": "stream",
     "text": [
      "Fedavg:\n",
      "313/313 [==============================] - 3s 10ms/step\n",
      "comm_round: 242 | global_acc: 62.800% | global_loss: 1.8339073657989502\n",
      "GSM-FedAvg\n",
      "313/313 [==============================] - 3s 10ms/step\n",
      "comm_round: 242 | global_acc: 59.870% | global_loss: 1.859032392501831\n"
     ]
    },
    {
     "name": "stderr",
     "output_type": "stream",
     "text": [
      "Progress Bar: 100%|████████████████████████████████████████████████████████████████████| 10/10 [01:35<00:00,  9.50s/it]\n"
     ]
    },
    {
     "name": "stdout",
     "output_type": "stream",
     "text": [
      "Fedavg:\n",
      "313/313 [==============================] - 3s 9ms/step\n",
      "comm_round: 243 | global_acc: 63.030% | global_loss: 1.8330885171890259\n",
      "GSM-FedAvg\n",
      "313/313 [==============================] - 3s 9ms/step\n",
      "comm_round: 243 | global_acc: 59.450% | global_loss: 1.8629976511001587\n"
     ]
    },
    {
     "name": "stderr",
     "output_type": "stream",
     "text": [
      "Progress Bar: 100%|████████████████████████████████████████████████████████████████████| 10/10 [01:26<00:00,  8.65s/it]\n"
     ]
    },
    {
     "name": "stdout",
     "output_type": "stream",
     "text": [
      "Fedavg:\n",
      "313/313 [==============================] - 2s 6ms/step\n",
      "comm_round: 244 | global_acc: 62.490% | global_loss: 1.8365845680236816\n",
      "GSM-FedAvg\n",
      "313/313 [==============================] - 3s 9ms/step\n",
      "comm_round: 244 | global_acc: 59.780% | global_loss: 1.8609668016433716\n"
     ]
    },
    {
     "name": "stderr",
     "output_type": "stream",
     "text": [
      "Progress Bar: 100%|████████████████████████████████████████████████████████████████████| 10/10 [01:26<00:00,  8.66s/it]\n"
     ]
    },
    {
     "name": "stdout",
     "output_type": "stream",
     "text": [
      "Fedavg:\n",
      "313/313 [==============================] - 2s 7ms/step\n",
      "comm_round: 245 | global_acc: 62.480% | global_loss: 1.8356741666793823\n",
      "GSM-FedAvg\n",
      "313/313 [==============================] - 2s 7ms/step\n",
      "comm_round: 245 | global_acc: 59.940% | global_loss: 1.8576620817184448\n"
     ]
    },
    {
     "name": "stderr",
     "output_type": "stream",
     "text": [
      "Progress Bar: 100%|████████████████████████████████████████████████████████████████████| 10/10 [01:22<00:00,  8.29s/it]\n"
     ]
    },
    {
     "name": "stdout",
     "output_type": "stream",
     "text": [
      "Fedavg:\n",
      "313/313 [==============================] - 3s 9ms/step\n",
      "comm_round: 246 | global_acc: 62.550% | global_loss: 1.835815668106079\n",
      "GSM-FedAvg\n",
      "313/313 [==============================] - 3s 9ms/step\n",
      "comm_round: 246 | global_acc: 60.240% | global_loss: 1.8564587831497192\n"
     ]
    },
    {
     "name": "stderr",
     "output_type": "stream",
     "text": [
      "Progress Bar: 100%|████████████████████████████████████████████████████████████████████| 10/10 [01:34<00:00,  9.46s/it]\n"
     ]
    },
    {
     "name": "stdout",
     "output_type": "stream",
     "text": [
      "Fedavg:\n",
      "313/313 [==============================] - 2s 6ms/step\n",
      "comm_round: 247 | global_acc: 62.900% | global_loss: 1.8348244428634644\n",
      "GSM-FedAvg\n",
      "313/313 [==============================] - 2s 6ms/step\n",
      "comm_round: 247 | global_acc: 60.140% | global_loss: 1.8580265045166016\n"
     ]
    },
    {
     "name": "stderr",
     "output_type": "stream",
     "text": [
      "Progress Bar: 100%|████████████████████████████████████████████████████████████████████| 10/10 [01:43<00:00, 10.30s/it]\n"
     ]
    },
    {
     "name": "stdout",
     "output_type": "stream",
     "text": [
      "Fedavg:\n",
      "313/313 [==============================] - 2s 8ms/step\n",
      "comm_round: 248 | global_acc: 62.610% | global_loss: 1.8366855382919312\n",
      "GSM-FedAvg\n",
      "313/313 [==============================] - 3s 9ms/step\n",
      "comm_round: 248 | global_acc: 59.600% | global_loss: 1.8611960411071777\n"
     ]
    },
    {
     "name": "stderr",
     "output_type": "stream",
     "text": [
      "Progress Bar: 100%|████████████████████████████████████████████████████████████████████| 10/10 [01:27<00:00,  8.73s/it]\n"
     ]
    },
    {
     "name": "stdout",
     "output_type": "stream",
     "text": [
      "Fedavg:\n",
      "313/313 [==============================] - 3s 11ms/step\n",
      "comm_round: 249 | global_acc: 62.940% | global_loss: 1.8350142240524292\n",
      "GSM-FedAvg\n",
      "313/313 [==============================] - 4s 11ms/step\n",
      "comm_round: 249 | global_acc: 59.830% | global_loss: 1.8596242666244507\n"
     ]
    },
    {
     "name": "stderr",
     "output_type": "stream",
     "text": [
      "Progress Bar: 100%|████████████████████████████████████████████████████████████████████| 10/10 [01:32<00:00,  9.26s/it]\n"
     ]
    },
    {
     "name": "stdout",
     "output_type": "stream",
     "text": [
      "Fedavg:\n",
      "313/313 [==============================] - 2s 7ms/step\n",
      "comm_round: 250 | global_acc: 62.510% | global_loss: 1.8371992111206055\n",
      "GSM-FedAvg\n",
      "313/313 [==============================] - 2s 7ms/step\n",
      "comm_round: 250 | global_acc: 59.670% | global_loss: 1.8617912530899048\n"
     ]
    },
    {
     "name": "stderr",
     "output_type": "stream",
     "text": [
      "Progress Bar: 100%|████████████████████████████████████████████████████████████████████| 10/10 [01:25<00:00,  8.58s/it]\n"
     ]
    },
    {
     "name": "stdout",
     "output_type": "stream",
     "text": [
      "Fedavg:\n",
      "313/313 [==============================] - 3s 8ms/step\n",
      "comm_round: 251 | global_acc: 62.860% | global_loss: 1.8336892127990723\n",
      "GSM-FedAvg\n",
      "313/313 [==============================] - 3s 8ms/step\n",
      "comm_round: 251 | global_acc: 59.640% | global_loss: 1.8627257347106934\n"
     ]
    },
    {
     "name": "stderr",
     "output_type": "stream",
     "text": [
      "Progress Bar: 100%|████████████████████████████████████████████████████████████████████| 10/10 [01:40<00:00, 10.08s/it]\n"
     ]
    },
    {
     "name": "stdout",
     "output_type": "stream",
     "text": [
      "Fedavg:\n",
      "313/313 [==============================] - 2s 6ms/step\n",
      "comm_round: 252 | global_acc: 62.350% | global_loss: 1.8350979089736938\n",
      "GSM-FedAvg\n",
      "313/313 [==============================] - 3s 9ms/step\n",
      "comm_round: 252 | global_acc: 59.890% | global_loss: 1.8590888977050781\n"
     ]
    },
    {
     "name": "stderr",
     "output_type": "stream",
     "text": [
      "Progress Bar: 100%|████████████████████████████████████████████████████████████████████| 10/10 [01:24<00:00,  8.45s/it]\n"
     ]
    },
    {
     "name": "stdout",
     "output_type": "stream",
     "text": [
      "Fedavg:\n",
      "313/313 [==============================] - 2s 8ms/step\n",
      "comm_round: 253 | global_acc: 62.470% | global_loss: 1.8365882635116577\n",
      "GSM-FedAvg\n",
      "313/313 [==============================] - 2s 6ms/step\n",
      "comm_round: 253 | global_acc: 60.120% | global_loss: 1.8584553003311157\n"
     ]
    },
    {
     "name": "stderr",
     "output_type": "stream",
     "text": [
      "Progress Bar: 100%|████████████████████████████████████████████████████████████████████| 10/10 [01:33<00:00,  9.34s/it]\n"
     ]
    },
    {
     "name": "stdout",
     "output_type": "stream",
     "text": [
      "Fedavg:\n",
      "313/313 [==============================] - 3s 8ms/step\n",
      "comm_round: 254 | global_acc: 62.920% | global_loss: 1.8337222337722778\n",
      "GSM-FedAvg\n",
      "313/313 [==============================] - 2s 6ms/step\n",
      "comm_round: 254 | global_acc: 59.490% | global_loss: 1.8614474534988403\n"
     ]
    },
    {
     "name": "stderr",
     "output_type": "stream",
     "text": [
      "Progress Bar: 100%|████████████████████████████████████████████████████████████████████| 10/10 [01:54<00:00, 11.44s/it]\n"
     ]
    },
    {
     "name": "stdout",
     "output_type": "stream",
     "text": [
      "Fedavg:\n",
      "313/313 [==============================] - 3s 10ms/step\n",
      "comm_round: 255 | global_acc: 62.430% | global_loss: 1.8356746435165405\n",
      "GSM-FedAvg\n",
      "313/313 [==============================] - 3s 11ms/step\n",
      "comm_round: 255 | global_acc: 60.370% | global_loss: 1.8551661968231201\n"
     ]
    },
    {
     "name": "stderr",
     "output_type": "stream",
     "text": [
      "Progress Bar: 100%|████████████████████████████████████████████████████████████████████| 10/10 [01:48<00:00, 10.90s/it]\n"
     ]
    },
    {
     "name": "stdout",
     "output_type": "stream",
     "text": [
      "Fedavg:\n",
      "313/313 [==============================] - 3s 8ms/step\n",
      "comm_round: 256 | global_acc: 62.580% | global_loss: 1.8364386558532715\n",
      "GSM-FedAvg\n",
      "313/313 [==============================] - 3s 9ms/step\n",
      "comm_round: 256 | global_acc: 59.730% | global_loss: 1.862080454826355\n"
     ]
    },
    {
     "name": "stderr",
     "output_type": "stream",
     "text": [
      "Progress Bar: 100%|████████████████████████████████████████████████████████████████████| 10/10 [01:47<00:00, 10.73s/it]\n"
     ]
    },
    {
     "name": "stdout",
     "output_type": "stream",
     "text": [
      "Fedavg:\n",
      "313/313 [==============================] - 3s 9ms/step\n",
      "comm_round: 257 | global_acc: 62.950% | global_loss: 1.8328992128372192\n",
      "GSM-FedAvg\n",
      "313/313 [==============================] - 3s 11ms/step\n",
      "comm_round: 257 | global_acc: 59.960% | global_loss: 1.8587111234664917\n"
     ]
    },
    {
     "name": "stderr",
     "output_type": "stream",
     "text": [
      "Progress Bar: 100%|████████████████████████████████████████████████████████████████████| 10/10 [02:03<00:00, 12.36s/it]\n"
     ]
    },
    {
     "name": "stdout",
     "output_type": "stream",
     "text": [
      "Fedavg:\n",
      "313/313 [==============================] - 2s 6ms/step\n",
      "comm_round: 258 | global_acc: 63.010% | global_loss: 1.831722617149353\n",
      "GSM-FedAvg\n",
      "313/313 [==============================] - 2s 6ms/step\n",
      "comm_round: 258 | global_acc: 60.150% | global_loss: 1.856109619140625\n"
     ]
    },
    {
     "name": "stderr",
     "output_type": "stream",
     "text": [
      "Progress Bar: 100%|████████████████████████████████████████████████████████████████████| 10/10 [01:38<00:00,  9.87s/it]\n"
     ]
    },
    {
     "name": "stdout",
     "output_type": "stream",
     "text": [
      "Fedavg:\n",
      "313/313 [==============================] - 3s 9ms/step\n",
      "comm_round: 259 | global_acc: 62.790% | global_loss: 1.8336068391799927\n",
      "GSM-FedAvg\n",
      "313/313 [==============================] - 3s 9ms/step\n",
      "comm_round: 259 | global_acc: 60.060% | global_loss: 1.8578367233276367\n"
     ]
    },
    {
     "name": "stderr",
     "output_type": "stream",
     "text": [
      "Progress Bar: 100%|████████████████████████████████████████████████████████████████████| 10/10 [01:30<00:00,  9.04s/it]\n"
     ]
    },
    {
     "name": "stdout",
     "output_type": "stream",
     "text": [
      "Fedavg:\n",
      "313/313 [==============================] - 3s 8ms/step\n",
      "comm_round: 260 | global_acc: 62.900% | global_loss: 1.8354204893112183\n",
      "GSM-FedAvg\n",
      "313/313 [==============================] - 3s 9ms/step\n",
      "comm_round: 260 | global_acc: 59.820% | global_loss: 1.8597363233566284\n"
     ]
    },
    {
     "name": "stderr",
     "output_type": "stream",
     "text": [
      "Progress Bar: 100%|████████████████████████████████████████████████████████████████████| 10/10 [01:32<00:00,  9.27s/it]\n"
     ]
    },
    {
     "name": "stdout",
     "output_type": "stream",
     "text": [
      "Fedavg:\n",
      "313/313 [==============================] - 3s 11ms/step\n",
      "comm_round: 261 | global_acc: 62.560% | global_loss: 1.834943413734436\n",
      "GSM-FedAvg\n",
      "313/313 [==============================] - 4s 12ms/step\n",
      "comm_round: 261 | global_acc: 59.690% | global_loss: 1.8610074520111084\n"
     ]
    },
    {
     "name": "stderr",
     "output_type": "stream",
     "text": [
      "Progress Bar: 100%|████████████████████████████████████████████████████████████████████| 10/10 [01:26<00:00,  8.67s/it]\n"
     ]
    },
    {
     "name": "stdout",
     "output_type": "stream",
     "text": [
      "Fedavg:\n",
      "313/313 [==============================] - 3s 8ms/step\n",
      "comm_round: 262 | global_acc: 62.800% | global_loss: 1.8340208530426025\n",
      "GSM-FedAvg\n",
      "313/313 [==============================] - 3s 8ms/step\n",
      "comm_round: 262 | global_acc: 60.320% | global_loss: 1.8555229902267456\n"
     ]
    },
    {
     "name": "stderr",
     "output_type": "stream",
     "text": [
      "Progress Bar: 100%|████████████████████████████████████████████████████████████████████| 10/10 [01:21<00:00,  8.12s/it]\n"
     ]
    },
    {
     "name": "stdout",
     "output_type": "stream",
     "text": [
      "Fedavg:\n",
      "313/313 [==============================] - 3s 8ms/step\n",
      "comm_round: 263 | global_acc: 62.640% | global_loss: 1.8355932235717773\n",
      "GSM-FedAvg\n",
      "313/313 [==============================] - 3s 8ms/step\n",
      "comm_round: 263 | global_acc: 60.450% | global_loss: 1.8551579713821411\n"
     ]
    },
    {
     "name": "stderr",
     "output_type": "stream",
     "text": [
      "Progress Bar: 100%|████████████████████████████████████████████████████████████████████| 10/10 [01:21<00:00,  8.16s/it]\n"
     ]
    },
    {
     "name": "stdout",
     "output_type": "stream",
     "text": [
      "Fedavg:\n",
      "313/313 [==============================] - 3s 8ms/step\n",
      "comm_round: 264 | global_acc: 62.700% | global_loss: 1.8345025777816772\n",
      "GSM-FedAvg\n",
      "313/313 [==============================] - 3s 8ms/step\n",
      "comm_round: 264 | global_acc: 60.410% | global_loss: 1.8546632528305054\n"
     ]
    },
    {
     "name": "stderr",
     "output_type": "stream",
     "text": [
      "Progress Bar: 100%|████████████████████████████████████████████████████████████████████| 10/10 [01:24<00:00,  8.49s/it]\n"
     ]
    },
    {
     "name": "stdout",
     "output_type": "stream",
     "text": [
      "Fedavg:\n",
      "313/313 [==============================] - 3s 8ms/step\n",
      "comm_round: 265 | global_acc: 62.620% | global_loss: 1.834166169166565\n",
      "GSM-FedAvg\n",
      "313/313 [==============================] - 3s 8ms/step\n",
      "comm_round: 265 | global_acc: 60.380% | global_loss: 1.8546929359436035\n"
     ]
    },
    {
     "name": "stderr",
     "output_type": "stream",
     "text": [
      "Progress Bar: 100%|████████████████████████████████████████████████████████████████████| 10/10 [01:19<00:00,  7.97s/it]\n"
     ]
    },
    {
     "name": "stdout",
     "output_type": "stream",
     "text": [
      "Fedavg:\n",
      "313/313 [==============================] - 2s 7ms/step\n",
      "comm_round: 266 | global_acc: 62.840% | global_loss: 1.8335386514663696\n",
      "GSM-FedAvg\n",
      "313/313 [==============================] - 3s 8ms/step\n",
      "comm_round: 266 | global_acc: 59.940% | global_loss: 1.8570185899734497\n"
     ]
    },
    {
     "name": "stderr",
     "output_type": "stream",
     "text": [
      "Progress Bar: 100%|████████████████████████████████████████████████████████████████████| 10/10 [01:22<00:00,  8.21s/it]\n"
     ]
    },
    {
     "name": "stdout",
     "output_type": "stream",
     "text": [
      "Fedavg:\n",
      "313/313 [==============================] - 3s 8ms/step\n",
      "comm_round: 267 | global_acc: 62.580% | global_loss: 1.8365546464920044\n",
      "GSM-FedAvg\n",
      "313/313 [==============================] - 2s 6ms/step\n",
      "comm_round: 267 | global_acc: 60.230% | global_loss: 1.855348825454712\n"
     ]
    },
    {
     "name": "stderr",
     "output_type": "stream",
     "text": [
      "Progress Bar: 100%|████████████████████████████████████████████████████████████████████| 10/10 [01:24<00:00,  8.43s/it]\n"
     ]
    },
    {
     "name": "stdout",
     "output_type": "stream",
     "text": [
      "Fedavg:\n",
      "313/313 [==============================] - 3s 8ms/step\n",
      "comm_round: 268 | global_acc: 62.630% | global_loss: 1.8345857858657837\n",
      "GSM-FedAvg\n",
      "313/313 [==============================] - 2s 7ms/step\n",
      "comm_round: 268 | global_acc: 60.060% | global_loss: 1.8580613136291504\n"
     ]
    },
    {
     "name": "stderr",
     "output_type": "stream",
     "text": [
      "Progress Bar: 100%|████████████████████████████████████████████████████████████████████| 10/10 [01:20<00:00,  8.02s/it]\n"
     ]
    },
    {
     "name": "stdout",
     "output_type": "stream",
     "text": [
      "Fedavg:\n",
      "313/313 [==============================] - 3s 8ms/step\n",
      "comm_round: 269 | global_acc: 63.090% | global_loss: 1.8332302570343018\n",
      "GSM-FedAvg\n",
      "313/313 [==============================] - 3s 8ms/step\n",
      "comm_round: 269 | global_acc: 60.140% | global_loss: 1.8567616939544678\n"
     ]
    },
    {
     "name": "stderr",
     "output_type": "stream",
     "text": [
      "Progress Bar: 100%|████████████████████████████████████████████████████████████████████| 10/10 [01:20<00:00,  8.05s/it]\n"
     ]
    },
    {
     "name": "stdout",
     "output_type": "stream",
     "text": [
      "Fedavg:\n",
      "313/313 [==============================] - 3s 8ms/step\n",
      "comm_round: 270 | global_acc: 62.510% | global_loss: 1.8347911834716797\n",
      "GSM-FedAvg\n",
      "313/313 [==============================] - 3s 8ms/step\n",
      "comm_round: 270 | global_acc: 59.980% | global_loss: 1.8588007688522339\n"
     ]
    },
    {
     "name": "stderr",
     "output_type": "stream",
     "text": [
      "Progress Bar: 100%|████████████████████████████████████████████████████████████████████| 10/10 [01:20<00:00,  8.00s/it]\n"
     ]
    },
    {
     "name": "stdout",
     "output_type": "stream",
     "text": [
      "Fedavg:\n",
      "313/313 [==============================] - 2s 7ms/step\n",
      "comm_round: 271 | global_acc: 62.910% | global_loss: 1.833312749862671\n",
      "GSM-FedAvg\n",
      "313/313 [==============================] - 3s 8ms/step\n",
      "comm_round: 271 | global_acc: 59.700% | global_loss: 1.8604353666305542\n"
     ]
    },
    {
     "name": "stderr",
     "output_type": "stream",
     "text": [
      "Progress Bar: 100%|████████████████████████████████████████████████████████████████████| 10/10 [01:19<00:00,  7.93s/it]\n"
     ]
    },
    {
     "name": "stdout",
     "output_type": "stream",
     "text": [
      "Fedavg:\n",
      "313/313 [==============================] - 2s 7ms/step\n",
      "comm_round: 272 | global_acc: 63.130% | global_loss: 1.832157850265503\n",
      "GSM-FedAvg\n",
      "313/313 [==============================] - 2s 7ms/step\n",
      "comm_round: 272 | global_acc: 60.210% | global_loss: 1.8557175397872925\n"
     ]
    },
    {
     "name": "stderr",
     "output_type": "stream",
     "text": [
      "Progress Bar: 100%|████████████████████████████████████████████████████████████████████| 10/10 [01:20<00:00,  8.06s/it]\n"
     ]
    },
    {
     "name": "stdout",
     "output_type": "stream",
     "text": [
      "Fedavg:\n",
      "313/313 [==============================] - 2s 7ms/step\n",
      "comm_round: 273 | global_acc: 62.970% | global_loss: 1.8310004472732544\n",
      "GSM-FedAvg\n",
      "313/313 [==============================] - 2s 6ms/step\n",
      "comm_round: 273 | global_acc: 60.550% | global_loss: 1.8532586097717285\n"
     ]
    },
    {
     "name": "stderr",
     "output_type": "stream",
     "text": [
      "Progress Bar: 100%|████████████████████████████████████████████████████████████████████| 10/10 [01:20<00:00,  8.04s/it]\n"
     ]
    },
    {
     "name": "stdout",
     "output_type": "stream",
     "text": [
      "Fedavg:\n",
      "313/313 [==============================] - 3s 8ms/step\n",
      "comm_round: 274 | global_acc: 63.320% | global_loss: 1.8299667835235596\n",
      "GSM-FedAvg\n",
      "313/313 [==============================] - 3s 9ms/step\n",
      "comm_round: 274 | global_acc: 60.800% | global_loss: 1.8519333600997925\n"
     ]
    },
    {
     "name": "stderr",
     "output_type": "stream",
     "text": [
      "Progress Bar: 100%|████████████████████████████████████████████████████████████████████| 10/10 [01:19<00:00,  7.93s/it]\n"
     ]
    },
    {
     "name": "stdout",
     "output_type": "stream",
     "text": [
      "Fedavg:\n",
      "313/313 [==============================] - 2s 7ms/step\n",
      "comm_round: 275 | global_acc: 63.180% | global_loss: 1.8318101167678833\n",
      "GSM-FedAvg\n",
      "313/313 [==============================] - 2s 6ms/step\n",
      "comm_round: 275 | global_acc: 60.470% | global_loss: 1.8534198999404907\n"
     ]
    },
    {
     "name": "stderr",
     "output_type": "stream",
     "text": [
      "Progress Bar: 100%|████████████████████████████████████████████████████████████████████| 10/10 [01:21<00:00,  8.15s/it]\n"
     ]
    },
    {
     "name": "stdout",
     "output_type": "stream",
     "text": [
      "Fedavg:\n",
      "313/313 [==============================] - 2s 8ms/step\n",
      "comm_round: 276 | global_acc: 62.630% | global_loss: 1.833001971244812\n",
      "GSM-FedAvg\n",
      "313/313 [==============================] - 3s 8ms/step\n",
      "comm_round: 276 | global_acc: 60.020% | global_loss: 1.8586903810501099\n"
     ]
    },
    {
     "name": "stderr",
     "output_type": "stream",
     "text": [
      "Progress Bar: 100%|████████████████████████████████████████████████████████████████████| 10/10 [01:20<00:00,  8.09s/it]\n"
     ]
    },
    {
     "name": "stdout",
     "output_type": "stream",
     "text": [
      "Fedavg:\n",
      "313/313 [==============================] - 2s 7ms/step\n",
      "comm_round: 277 | global_acc: 62.590% | global_loss: 1.835404634475708\n",
      "GSM-FedAvg\n",
      "313/313 [==============================] - 2s 8ms/step\n",
      "comm_round: 277 | global_acc: 60.310% | global_loss: 1.8555192947387695\n"
     ]
    },
    {
     "name": "stderr",
     "output_type": "stream",
     "text": [
      "Progress Bar: 100%|████████████████████████████████████████████████████████████████████| 10/10 [01:21<00:00,  8.14s/it]\n"
     ]
    },
    {
     "name": "stdout",
     "output_type": "stream",
     "text": [
      "Fedavg:\n",
      "313/313 [==============================] - 2s 8ms/step\n",
      "comm_round: 278 | global_acc: 62.590% | global_loss: 1.833325743675232\n",
      "GSM-FedAvg\n",
      "313/313 [==============================] - 2s 7ms/step\n",
      "comm_round: 278 | global_acc: 60.350% | global_loss: 1.8556785583496094\n"
     ]
    },
    {
     "name": "stderr",
     "output_type": "stream",
     "text": [
      "Progress Bar: 100%|████████████████████████████████████████████████████████████████████| 10/10 [01:20<00:00,  8.09s/it]\n"
     ]
    },
    {
     "name": "stdout",
     "output_type": "stream",
     "text": [
      "Fedavg:\n",
      "313/313 [==============================] - 2s 8ms/step\n",
      "comm_round: 279 | global_acc: 62.630% | global_loss: 1.8338232040405273\n",
      "GSM-FedAvg\n",
      "313/313 [==============================] - 2s 7ms/step\n",
      "comm_round: 279 | global_acc: 60.470% | global_loss: 1.854806661605835\n"
     ]
    },
    {
     "name": "stderr",
     "output_type": "stream",
     "text": [
      "Progress Bar: 100%|████████████████████████████████████████████████████████████████████| 10/10 [01:24<00:00,  8.49s/it]\n"
     ]
    },
    {
     "name": "stdout",
     "output_type": "stream",
     "text": [
      "Fedavg:\n",
      "313/313 [==============================] - 3s 8ms/step\n",
      "comm_round: 280 | global_acc: 62.420% | global_loss: 1.8352687358856201\n",
      "GSM-FedAvg\n",
      "313/313 [==============================] - 3s 8ms/step\n",
      "comm_round: 280 | global_acc: 60.330% | global_loss: 1.8552558422088623\n"
     ]
    },
    {
     "name": "stderr",
     "output_type": "stream",
     "text": [
      "Progress Bar: 100%|████████████████████████████████████████████████████████████████████| 10/10 [01:20<00:00,  8.01s/it]\n"
     ]
    },
    {
     "name": "stdout",
     "output_type": "stream",
     "text": [
      "Fedavg:\n",
      "313/313 [==============================] - 3s 8ms/step\n",
      "comm_round: 281 | global_acc: 62.780% | global_loss: 1.833133578300476\n",
      "GSM-FedAvg\n",
      "313/313 [==============================] - 3s 8ms/step\n",
      "comm_round: 281 | global_acc: 60.550% | global_loss: 1.8531255722045898\n"
     ]
    },
    {
     "name": "stderr",
     "output_type": "stream",
     "text": [
      "Progress Bar: 100%|████████████████████████████████████████████████████████████████████| 10/10 [01:19<00:00,  7.98s/it]\n"
     ]
    },
    {
     "name": "stdout",
     "output_type": "stream",
     "text": [
      "Fedavg:\n",
      "313/313 [==============================] - 3s 8ms/step\n",
      "comm_round: 282 | global_acc: 62.220% | global_loss: 1.8373044729232788\n",
      "GSM-FedAvg\n",
      "313/313 [==============================] - 2s 7ms/step\n",
      "comm_round: 282 | global_acc: 60.590% | global_loss: 1.8516476154327393\n"
     ]
    },
    {
     "name": "stderr",
     "output_type": "stream",
     "text": [
      "Progress Bar: 100%|████████████████████████████████████████████████████████████████████| 10/10 [01:20<00:00,  8.09s/it]\n"
     ]
    },
    {
     "name": "stdout",
     "output_type": "stream",
     "text": [
      "Fedavg:\n",
      "313/313 [==============================] - 2s 6ms/step\n",
      "comm_round: 283 | global_acc: 62.710% | global_loss: 1.8351097106933594\n",
      "GSM-FedAvg\n",
      "313/313 [==============================] - 2s 7ms/step\n",
      "comm_round: 283 | global_acc: 59.990% | global_loss: 1.858525037765503\n"
     ]
    },
    {
     "name": "stderr",
     "output_type": "stream",
     "text": [
      "Progress Bar: 100%|████████████████████████████████████████████████████████████████████| 10/10 [01:19<00:00,  7.98s/it]\n"
     ]
    },
    {
     "name": "stdout",
     "output_type": "stream",
     "text": [
      "Fedavg:\n",
      "313/313 [==============================] - 3s 8ms/step\n",
      "comm_round: 284 | global_acc: 62.620% | global_loss: 1.8347656726837158\n",
      "GSM-FedAvg\n",
      "313/313 [==============================] - 2s 7ms/step\n",
      "comm_round: 284 | global_acc: 60.110% | global_loss: 1.8559335470199585\n"
     ]
    },
    {
     "name": "stderr",
     "output_type": "stream",
     "text": [
      "Progress Bar: 100%|████████████████████████████████████████████████████████████████████| 10/10 [01:20<00:00,  8.04s/it]\n"
     ]
    },
    {
     "name": "stdout",
     "output_type": "stream",
     "text": [
      "Fedavg:\n",
      "313/313 [==============================] - 3s 8ms/step\n",
      "comm_round: 285 | global_acc: 62.270% | global_loss: 1.835481882095337\n",
      "GSM-FedAvg\n",
      "313/313 [==============================] - 3s 8ms/step\n",
      "comm_round: 285 | global_acc: 60.360% | global_loss: 1.8551609516143799\n"
     ]
    },
    {
     "name": "stderr",
     "output_type": "stream",
     "text": [
      "Progress Bar: 100%|████████████████████████████████████████████████████████████████████| 10/10 [01:27<00:00,  8.72s/it]\n"
     ]
    },
    {
     "name": "stdout",
     "output_type": "stream",
     "text": [
      "Fedavg:\n",
      "313/313 [==============================] - 2s 7ms/step\n",
      "comm_round: 286 | global_acc: 62.400% | global_loss: 1.8353179693222046\n",
      "GSM-FedAvg\n",
      "313/313 [==============================] - 2s 7ms/step\n",
      "comm_round: 286 | global_acc: 60.410% | global_loss: 1.8540090322494507\n"
     ]
    },
    {
     "name": "stderr",
     "output_type": "stream",
     "text": [
      "Progress Bar: 100%|████████████████████████████████████████████████████████████████████| 10/10 [01:32<00:00,  9.29s/it]\n"
     ]
    },
    {
     "name": "stdout",
     "output_type": "stream",
     "text": [
      "Fedavg:\n",
      "313/313 [==============================] - 3s 10ms/step\n",
      "comm_round: 287 | global_acc: 62.770% | global_loss: 1.8333390951156616\n",
      "GSM-FedAvg\n",
      "313/313 [==============================] - 3s 9ms/step\n",
      "comm_round: 287 | global_acc: 60.540% | global_loss: 1.8535300493240356\n"
     ]
    },
    {
     "name": "stderr",
     "output_type": "stream",
     "text": [
      "Progress Bar: 100%|████████████████████████████████████████████████████████████████████| 10/10 [01:39<00:00,  9.96s/it]\n"
     ]
    },
    {
     "name": "stdout",
     "output_type": "stream",
     "text": [
      "Fedavg:\n",
      "313/313 [==============================] - 2s 7ms/step\n",
      "comm_round: 288 | global_acc: 62.240% | global_loss: 1.8374836444854736\n",
      "GSM-FedAvg\n",
      "313/313 [==============================] - 3s 9ms/step\n",
      "comm_round: 288 | global_acc: 60.080% | global_loss: 1.8565362691879272\n"
     ]
    },
    {
     "name": "stderr",
     "output_type": "stream",
     "text": [
      "Progress Bar: 100%|████████████████████████████████████████████████████████████████████| 10/10 [01:28<00:00,  8.88s/it]\n"
     ]
    },
    {
     "name": "stdout",
     "output_type": "stream",
     "text": [
      "Fedavg:\n",
      "313/313 [==============================] - 2s 7ms/step\n",
      "comm_round: 289 | global_acc: 62.930% | global_loss: 1.8315383195877075\n",
      "GSM-FedAvg\n",
      "313/313 [==============================] - 3s 8ms/step\n",
      "comm_round: 289 | global_acc: 60.100% | global_loss: 1.8555960655212402\n"
     ]
    },
    {
     "name": "stderr",
     "output_type": "stream",
     "text": [
      "Progress Bar: 100%|████████████████████████████████████████████████████████████████████| 10/10 [01:21<00:00,  8.18s/it]\n"
     ]
    },
    {
     "name": "stdout",
     "output_type": "stream",
     "text": [
      "Fedavg:\n",
      "313/313 [==============================] - 3s 9ms/step\n",
      "comm_round: 290 | global_acc: 62.750% | global_loss: 1.8316906690597534\n",
      "GSM-FedAvg\n",
      "313/313 [==============================] - 3s 10ms/step\n",
      "comm_round: 290 | global_acc: 60.360% | global_loss: 1.8536763191223145\n"
     ]
    },
    {
     "name": "stderr",
     "output_type": "stream",
     "text": [
      "Progress Bar: 100%|████████████████████████████████████████████████████████████████████| 10/10 [01:27<00:00,  8.79s/it]\n"
     ]
    },
    {
     "name": "stdout",
     "output_type": "stream",
     "text": [
      "Fedavg:\n",
      "313/313 [==============================] - 3s 8ms/step\n",
      "comm_round: 291 | global_acc: 62.730% | global_loss: 1.8335355520248413\n",
      "GSM-FedAvg\n",
      "313/313 [==============================] - 3s 8ms/step\n",
      "comm_round: 291 | global_acc: 59.880% | global_loss: 1.8592115640640259\n"
     ]
    },
    {
     "name": "stderr",
     "output_type": "stream",
     "text": [
      "Progress Bar: 100%|████████████████████████████████████████████████████████████████████| 10/10 [01:21<00:00,  8.16s/it]\n"
     ]
    },
    {
     "name": "stdout",
     "output_type": "stream",
     "text": [
      "Fedavg:\n",
      "313/313 [==============================] - 3s 8ms/step\n",
      "comm_round: 292 | global_acc: 62.450% | global_loss: 1.8349902629852295\n",
      "GSM-FedAvg\n",
      "313/313 [==============================] - 2s 7ms/step\n",
      "comm_round: 292 | global_acc: 60.490% | global_loss: 1.8532402515411377\n"
     ]
    },
    {
     "name": "stderr",
     "output_type": "stream",
     "text": [
      "Progress Bar: 100%|████████████████████████████████████████████████████████████████████| 10/10 [01:19<00:00,  7.92s/it]\n"
     ]
    },
    {
     "name": "stdout",
     "output_type": "stream",
     "text": [
      "Fedavg:\n",
      "313/313 [==============================] - 3s 9ms/step\n",
      "comm_round: 293 | global_acc: 62.530% | global_loss: 1.8366470336914062\n",
      "GSM-FedAvg\n",
      "313/313 [==============================] - 2s 6ms/step\n",
      "comm_round: 293 | global_acc: 60.470% | global_loss: 1.8540785312652588\n"
     ]
    },
    {
     "name": "stderr",
     "output_type": "stream",
     "text": [
      "Progress Bar: 100%|████████████████████████████████████████████████████████████████████| 10/10 [01:32<00:00,  9.22s/it]\n"
     ]
    },
    {
     "name": "stdout",
     "output_type": "stream",
     "text": [
      "Fedavg:\n",
      "313/313 [==============================] - 3s 9ms/step\n",
      "comm_round: 294 | global_acc: 62.360% | global_loss: 1.8353831768035889\n",
      "GSM-FedAvg\n",
      "313/313 [==============================] - 3s 8ms/step\n",
      "comm_round: 294 | global_acc: 60.200% | global_loss: 1.8548413515090942\n"
     ]
    },
    {
     "name": "stderr",
     "output_type": "stream",
     "text": [
      "Progress Bar: 100%|████████████████████████████████████████████████████████████████████| 10/10 [01:26<00:00,  8.70s/it]\n"
     ]
    },
    {
     "name": "stdout",
     "output_type": "stream",
     "text": [
      "Fedavg:\n",
      "313/313 [==============================] - 2s 7ms/step\n",
      "comm_round: 295 | global_acc: 62.340% | global_loss: 1.8358949422836304\n",
      "GSM-FedAvg\n",
      "313/313 [==============================] - 3s 9ms/step\n",
      "comm_round: 295 | global_acc: 60.700% | global_loss: 1.8519624471664429\n"
     ]
    },
    {
     "name": "stderr",
     "output_type": "stream",
     "text": [
      "Progress Bar: 100%|████████████████████████████████████████████████████████████████████| 10/10 [01:33<00:00,  9.31s/it]\n"
     ]
    },
    {
     "name": "stdout",
     "output_type": "stream",
     "text": [
      "Fedavg:\n",
      "313/313 [==============================] - 3s 9ms/step\n",
      "comm_round: 296 | global_acc: 62.670% | global_loss: 1.833655834197998\n",
      "GSM-FedAvg\n",
      "313/313 [==============================] - 3s 9ms/step\n",
      "comm_round: 296 | global_acc: 60.260% | global_loss: 1.8539890050888062\n"
     ]
    },
    {
     "name": "stderr",
     "output_type": "stream",
     "text": [
      "Progress Bar: 100%|████████████████████████████████████████████████████████████████████| 10/10 [01:24<00:00,  8.47s/it]\n"
     ]
    },
    {
     "name": "stdout",
     "output_type": "stream",
     "text": [
      "Fedavg:\n",
      "313/313 [==============================] - 3s 9ms/step\n",
      "comm_round: 297 | global_acc: 62.580% | global_loss: 1.8343125581741333\n",
      "GSM-FedAvg\n",
      "313/313 [==============================] - 3s 8ms/step\n",
      "comm_round: 297 | global_acc: 60.310% | global_loss: 1.8538588285446167\n"
     ]
    },
    {
     "name": "stderr",
     "output_type": "stream",
     "text": [
      "Progress Bar: 100%|████████████████████████████████████████████████████████████████████| 10/10 [01:27<00:00,  8.75s/it]\n"
     ]
    },
    {
     "name": "stdout",
     "output_type": "stream",
     "text": [
      "Fedavg:\n",
      "313/313 [==============================] - 3s 10ms/step\n",
      "comm_round: 298 | global_acc: 62.950% | global_loss: 1.830936312675476\n",
      "GSM-FedAvg\n",
      "313/313 [==============================] - 2s 7ms/step\n",
      "comm_round: 298 | global_acc: 60.640% | global_loss: 1.8517255783081055\n"
     ]
    },
    {
     "name": "stderr",
     "output_type": "stream",
     "text": [
      "Progress Bar: 100%|████████████████████████████████████████████████████████████████████| 10/10 [01:24<00:00,  8.48s/it]\n"
     ]
    },
    {
     "name": "stdout",
     "output_type": "stream",
     "text": [
      "Fedavg:\n",
      "313/313 [==============================] - 3s 9ms/step\n",
      "comm_round: 299 | global_acc: 62.680% | global_loss: 1.8329319953918457\n",
      "GSM-FedAvg\n",
      "313/313 [==============================] - 3s 9ms/step\n",
      "comm_round: 299 | global_acc: 59.940% | global_loss: 1.85721755027771\n"
     ]
    },
    {
     "name": "stderr",
     "output_type": "stream",
     "text": [
      "Progress Bar: 100%|████████████████████████████████████████████████████████████████████| 10/10 [01:23<00:00,  8.36s/it]\n"
     ]
    },
    {
     "name": "stdout",
     "output_type": "stream",
     "text": [
      "Fedavg:\n",
      "313/313 [==============================] - 3s 9ms/step\n",
      "comm_round: 300 | global_acc: 62.620% | global_loss: 1.8359816074371338\n",
      "GSM-FedAvg\n",
      "313/313 [==============================] - 3s 9ms/step\n",
      "comm_round: 300 | global_acc: 60.400% | global_loss: 1.8543074131011963\n"
     ]
    },
    {
     "name": "stderr",
     "output_type": "stream",
     "text": [
      "Progress Bar: 100%|████████████████████████████████████████████████████████████████████| 10/10 [01:31<00:00,  9.16s/it]\n"
     ]
    },
    {
     "name": "stdout",
     "output_type": "stream",
     "text": [
      "Fedavg:\n",
      "313/313 [==============================] - 3s 9ms/step\n",
      "comm_round: 301 | global_acc: 62.770% | global_loss: 1.833235502243042\n",
      "GSM-FedAvg\n",
      "313/313 [==============================] - 3s 8ms/step\n",
      "comm_round: 301 | global_acc: 60.620% | global_loss: 1.8536547422409058\n"
     ]
    },
    {
     "name": "stderr",
     "output_type": "stream",
     "text": [
      "Progress Bar: 100%|████████████████████████████████████████████████████████████████████| 10/10 [01:27<00:00,  8.72s/it]\n"
     ]
    },
    {
     "name": "stdout",
     "output_type": "stream",
     "text": [
      "Fedavg:\n",
      "313/313 [==============================] - 4s 11ms/step\n",
      "comm_round: 302 | global_acc: 62.610% | global_loss: 1.8338371515274048\n",
      "GSM-FedAvg\n",
      "313/313 [==============================] - 3s 10ms/step\n",
      "comm_round: 302 | global_acc: 60.110% | global_loss: 1.8573781251907349\n"
     ]
    },
    {
     "name": "stderr",
     "output_type": "stream",
     "text": [
      "Progress Bar: 100%|████████████████████████████████████████████████████████████████████| 10/10 [01:26<00:00,  8.69s/it]\n"
     ]
    },
    {
     "name": "stdout",
     "output_type": "stream",
     "text": [
      "Fedavg:\n",
      "313/313 [==============================] - 2s 7ms/step\n",
      "comm_round: 303 | global_acc: 62.990% | global_loss: 1.8316571712493896\n",
      "GSM-FedAvg\n",
      "313/313 [==============================] - 2s 7ms/step\n",
      "comm_round: 303 | global_acc: 60.360% | global_loss: 1.8546648025512695\n"
     ]
    },
    {
     "name": "stderr",
     "output_type": "stream",
     "text": [
      "Progress Bar: 100%|████████████████████████████████████████████████████████████████████| 10/10 [01:29<00:00,  8.92s/it]\n"
     ]
    },
    {
     "name": "stdout",
     "output_type": "stream",
     "text": [
      "Fedavg:\n",
      "313/313 [==============================] - 2s 7ms/step\n",
      "comm_round: 304 | global_acc: 62.810% | global_loss: 1.8317179679870605\n",
      "GSM-FedAvg\n",
      "313/313 [==============================] - 3s 9ms/step\n",
      "comm_round: 304 | global_acc: 60.450% | global_loss: 1.85381019115448\n"
     ]
    },
    {
     "name": "stderr",
     "output_type": "stream",
     "text": [
      "Progress Bar: 100%|████████████████████████████████████████████████████████████████████| 10/10 [01:20<00:00,  8.05s/it]\n"
     ]
    },
    {
     "name": "stdout",
     "output_type": "stream",
     "text": [
      "Fedavg:\n",
      "313/313 [==============================] - 3s 8ms/step\n",
      "comm_round: 305 | global_acc: 63.130% | global_loss: 1.8310929536819458\n",
      "GSM-FedAvg\n",
      "313/313 [==============================] - 2s 7ms/step\n",
      "comm_round: 305 | global_acc: 60.400% | global_loss: 1.8541133403778076\n"
     ]
    },
    {
     "name": "stderr",
     "output_type": "stream",
     "text": [
      "Progress Bar: 100%|████████████████████████████████████████████████████████████████████| 10/10 [01:24<00:00,  8.41s/it]\n"
     ]
    },
    {
     "name": "stdout",
     "output_type": "stream",
     "text": [
      "Fedavg:\n",
      "313/313 [==============================] - 2s 6ms/step\n",
      "comm_round: 306 | global_acc: 62.670% | global_loss: 1.8340669870376587\n",
      "GSM-FedAvg\n",
      "313/313 [==============================] - 2s 5ms/step\n",
      "comm_round: 306 | global_acc: 60.550% | global_loss: 1.8535640239715576\n"
     ]
    },
    {
     "name": "stderr",
     "output_type": "stream",
     "text": [
      "Progress Bar: 100%|████████████████████████████████████████████████████████████████████| 10/10 [01:24<00:00,  8.42s/it]\n"
     ]
    },
    {
     "name": "stdout",
     "output_type": "stream",
     "text": [
      "Fedavg:\n",
      "313/313 [==============================] - 2s 6ms/step\n",
      "comm_round: 307 | global_acc: 62.980% | global_loss: 1.8315986394882202\n",
      "GSM-FedAvg\n",
      "313/313 [==============================] - 2s 7ms/step\n",
      "comm_round: 307 | global_acc: 60.400% | global_loss: 1.8542320728302002\n"
     ]
    },
    {
     "name": "stderr",
     "output_type": "stream",
     "text": [
      "Progress Bar: 100%|████████████████████████████████████████████████████████████████████| 10/10 [01:20<00:00,  8.08s/it]\n"
     ]
    },
    {
     "name": "stdout",
     "output_type": "stream",
     "text": [
      "Fedavg:\n",
      "313/313 [==============================] - 2s 7ms/step\n",
      "comm_round: 308 | global_acc: 62.510% | global_loss: 1.8345203399658203\n",
      "GSM-FedAvg\n",
      "313/313 [==============================] - 2s 6ms/step\n",
      "comm_round: 308 | global_acc: 60.210% | global_loss: 1.8543728590011597\n"
     ]
    },
    {
     "name": "stderr",
     "output_type": "stream",
     "text": [
      "Progress Bar: 100%|████████████████████████████████████████████████████████████████████| 10/10 [01:21<00:00,  8.11s/it]\n"
     ]
    },
    {
     "name": "stdout",
     "output_type": "stream",
     "text": [
      "Fedavg:\n",
      "313/313 [==============================] - 3s 9ms/step\n",
      "comm_round: 309 | global_acc: 62.780% | global_loss: 1.8319984674453735\n",
      "GSM-FedAvg\n",
      "313/313 [==============================] - 2s 7ms/step\n",
      "comm_round: 309 | global_acc: 60.290% | global_loss: 1.8544316291809082\n"
     ]
    },
    {
     "name": "stderr",
     "output_type": "stream",
     "text": [
      "Progress Bar: 100%|████████████████████████████████████████████████████████████████████| 10/10 [01:21<00:00,  8.20s/it]\n"
     ]
    },
    {
     "name": "stdout",
     "output_type": "stream",
     "text": [
      "Fedavg:\n",
      "313/313 [==============================] - 3s 9ms/step\n",
      "comm_round: 310 | global_acc: 62.840% | global_loss: 1.8317886590957642\n",
      "GSM-FedAvg\n",
      "313/313 [==============================] - 3s 8ms/step\n",
      "comm_round: 310 | global_acc: 60.510% | global_loss: 1.854049563407898\n"
     ]
    },
    {
     "name": "stderr",
     "output_type": "stream",
     "text": [
      "Progress Bar: 100%|████████████████████████████████████████████████████████████████████| 10/10 [01:30<00:00,  9.01s/it]\n"
     ]
    },
    {
     "name": "stdout",
     "output_type": "stream",
     "text": [
      "Fedavg:\n",
      "313/313 [==============================] - 3s 9ms/step\n",
      "comm_round: 311 | global_acc: 62.780% | global_loss: 1.8317862749099731\n",
      "GSM-FedAvg\n",
      "313/313 [==============================] - 3s 9ms/step\n",
      "comm_round: 311 | global_acc: 60.520% | global_loss: 1.8535507917404175\n"
     ]
    },
    {
     "name": "stderr",
     "output_type": "stream",
     "text": [
      "Progress Bar: 100%|████████████████████████████████████████████████████████████████████| 10/10 [01:28<00:00,  8.85s/it]\n"
     ]
    },
    {
     "name": "stdout",
     "output_type": "stream",
     "text": [
      "Fedavg:\n",
      "313/313 [==============================] - 2s 7ms/step\n",
      "comm_round: 312 | global_acc: 62.580% | global_loss: 1.833051323890686\n",
      "GSM-FedAvg\n",
      "313/313 [==============================] - 3s 9ms/step\n",
      "comm_round: 312 | global_acc: 60.610% | global_loss: 1.8525019884109497\n"
     ]
    },
    {
     "name": "stderr",
     "output_type": "stream",
     "text": [
      "Progress Bar: 100%|████████████████████████████████████████████████████████████████████| 10/10 [01:21<00:00,  8.15s/it]\n"
     ]
    },
    {
     "name": "stdout",
     "output_type": "stream",
     "text": [
      "Fedavg:\n",
      "313/313 [==============================] - 2s 7ms/step\n",
      "comm_round: 313 | global_acc: 62.730% | global_loss: 1.8346894979476929\n",
      "GSM-FedAvg\n",
      "313/313 [==============================] - 3s 8ms/step\n",
      "comm_round: 313 | global_acc: 60.320% | global_loss: 1.8531312942504883\n"
     ]
    },
    {
     "name": "stderr",
     "output_type": "stream",
     "text": [
      "Progress Bar: 100%|████████████████████████████████████████████████████████████████████| 10/10 [01:23<00:00,  8.35s/it]\n"
     ]
    },
    {
     "name": "stdout",
     "output_type": "stream",
     "text": [
      "Fedavg:\n",
      "313/313 [==============================] - 2s 7ms/step\n",
      "comm_round: 314 | global_acc: 63.040% | global_loss: 1.832572102546692\n",
      "GSM-FedAvg\n",
      "313/313 [==============================] - 3s 9ms/step\n",
      "comm_round: 314 | global_acc: 60.550% | global_loss: 1.8541795015335083\n"
     ]
    },
    {
     "name": "stderr",
     "output_type": "stream",
     "text": [
      "Progress Bar: 100%|████████████████████████████████████████████████████████████████████| 10/10 [01:24<00:00,  8.40s/it]\n"
     ]
    },
    {
     "name": "stdout",
     "output_type": "stream",
     "text": [
      "Fedavg:\n",
      "313/313 [==============================] - 2s 7ms/step\n",
      "comm_round: 315 | global_acc: 62.620% | global_loss: 1.834132194519043\n",
      "GSM-FedAvg\n",
      "313/313 [==============================] - 2s 7ms/step\n",
      "comm_round: 315 | global_acc: 60.220% | global_loss: 1.8552879095077515\n"
     ]
    },
    {
     "name": "stderr",
     "output_type": "stream",
     "text": [
      "Progress Bar: 100%|████████████████████████████████████████████████████████████████████| 10/10 [01:21<00:00,  8.14s/it]\n"
     ]
    },
    {
     "name": "stdout",
     "output_type": "stream",
     "text": [
      "Fedavg:\n",
      "313/313 [==============================] - 2s 7ms/step\n",
      "comm_round: 316 | global_acc: 62.970% | global_loss: 1.8319326639175415\n",
      "GSM-FedAvg\n",
      "313/313 [==============================] - 3s 8ms/step\n",
      "comm_round: 316 | global_acc: 60.730% | global_loss: 1.8515812158584595\n"
     ]
    },
    {
     "name": "stderr",
     "output_type": "stream",
     "text": [
      "Progress Bar: 100%|████████████████████████████████████████████████████████████████████| 10/10 [01:37<00:00,  9.72s/it]\n"
     ]
    },
    {
     "name": "stdout",
     "output_type": "stream",
     "text": [
      "Fedavg:\n",
      "313/313 [==============================] - 4s 11ms/step\n",
      "comm_round: 317 | global_acc: 62.430% | global_loss: 1.8345152139663696\n",
      "GSM-FedAvg\n",
      "313/313 [==============================] - 4s 11ms/step\n",
      "comm_round: 317 | global_acc: 60.430% | global_loss: 1.8538964986801147\n"
     ]
    },
    {
     "name": "stderr",
     "output_type": "stream",
     "text": [
      "Progress Bar: 100%|████████████████████████████████████████████████████████████████████| 10/10 [01:52<00:00, 11.29s/it]\n"
     ]
    },
    {
     "name": "stdout",
     "output_type": "stream",
     "text": [
      "Fedavg:\n",
      "313/313 [==============================] - 3s 8ms/step\n",
      "comm_round: 318 | global_acc: 62.940% | global_loss: 1.8325375318527222\n",
      "GSM-FedAvg\n",
      "313/313 [==============================] - 2s 7ms/step\n",
      "comm_round: 318 | global_acc: 60.620% | global_loss: 1.8529974222183228\n"
     ]
    },
    {
     "name": "stderr",
     "output_type": "stream",
     "text": [
      "Progress Bar: 100%|████████████████████████████████████████████████████████████████████| 10/10 [01:44<00:00, 10.43s/it]\n"
     ]
    },
    {
     "name": "stdout",
     "output_type": "stream",
     "text": [
      "Fedavg:\n",
      "313/313 [==============================] - 3s 10ms/step\n",
      "comm_round: 319 | global_acc: 62.650% | global_loss: 1.834801197052002\n",
      "GSM-FedAvg\n",
      "313/313 [==============================] - 3s 8ms/step\n",
      "comm_round: 319 | global_acc: 60.610% | global_loss: 1.8527488708496094\n"
     ]
    },
    {
     "name": "stderr",
     "output_type": "stream",
     "text": [
      "Progress Bar: 100%|████████████████████████████████████████████████████████████████████| 10/10 [01:48<00:00, 10.89s/it]\n"
     ]
    },
    {
     "name": "stdout",
     "output_type": "stream",
     "text": [
      "Fedavg:\n",
      "313/313 [==============================] - 3s 10ms/step\n",
      "comm_round: 320 | global_acc: 62.840% | global_loss: 1.833207368850708\n",
      "GSM-FedAvg\n",
      "313/313 [==============================] - 3s 9ms/step\n",
      "comm_round: 320 | global_acc: 60.430% | global_loss: 1.853513479232788\n"
     ]
    },
    {
     "name": "stderr",
     "output_type": "stream",
     "text": [
      "Progress Bar: 100%|████████████████████████████████████████████████████████████████████| 10/10 [01:34<00:00,  9.48s/it]\n"
     ]
    },
    {
     "name": "stdout",
     "output_type": "stream",
     "text": [
      "Fedavg:\n",
      "313/313 [==============================] - 2s 8ms/step\n",
      "comm_round: 321 | global_acc: 62.640% | global_loss: 1.8354896306991577\n",
      "GSM-FedAvg\n",
      "313/313 [==============================] - 3s 8ms/step\n",
      "comm_round: 321 | global_acc: 60.550% | global_loss: 1.852420687675476\n"
     ]
    },
    {
     "name": "stderr",
     "output_type": "stream",
     "text": [
      "Progress Bar: 100%|████████████████████████████████████████████████████████████████████| 10/10 [01:23<00:00,  8.38s/it]\n"
     ]
    },
    {
     "name": "stdout",
     "output_type": "stream",
     "text": [
      "Fedavg:\n",
      "313/313 [==============================] - 3s 8ms/step\n",
      "comm_round: 322 | global_acc: 62.760% | global_loss: 1.8329685926437378\n",
      "GSM-FedAvg\n",
      "313/313 [==============================] - 3s 8ms/step\n",
      "comm_round: 322 | global_acc: 60.440% | global_loss: 1.8540565967559814\n"
     ]
    },
    {
     "name": "stderr",
     "output_type": "stream",
     "text": [
      "Progress Bar: 100%|████████████████████████████████████████████████████████████████████| 10/10 [01:26<00:00,  8.65s/it]\n"
     ]
    },
    {
     "name": "stdout",
     "output_type": "stream",
     "text": [
      "Fedavg:\n",
      "313/313 [==============================] - 3s 8ms/step\n",
      "comm_round: 323 | global_acc: 62.640% | global_loss: 1.8357725143432617\n",
      "GSM-FedAvg\n",
      "313/313 [==============================] - 3s 8ms/step\n",
      "comm_round: 323 | global_acc: 60.520% | global_loss: 1.8540922403335571\n"
     ]
    },
    {
     "name": "stderr",
     "output_type": "stream",
     "text": [
      "Progress Bar: 100%|████████████████████████████████████████████████████████████████████| 10/10 [01:29<00:00,  8.95s/it]\n"
     ]
    },
    {
     "name": "stdout",
     "output_type": "stream",
     "text": [
      "Fedavg:\n",
      "313/313 [==============================] - 3s 9ms/step\n",
      "comm_round: 324 | global_acc: 62.740% | global_loss: 1.833178162574768\n",
      "GSM-FedAvg\n",
      "313/313 [==============================] - 3s 9ms/step\n",
      "comm_round: 324 | global_acc: 60.380% | global_loss: 1.8539189100265503\n"
     ]
    },
    {
     "name": "stderr",
     "output_type": "stream",
     "text": [
      "Progress Bar: 100%|████████████████████████████████████████████████████████████████████| 10/10 [01:38<00:00,  9.83s/it]\n"
     ]
    },
    {
     "name": "stdout",
     "output_type": "stream",
     "text": [
      "Fedavg:\n",
      "313/313 [==============================] - 3s 9ms/step\n",
      "comm_round: 325 | global_acc: 62.610% | global_loss: 1.833871841430664\n",
      "GSM-FedAvg\n",
      "313/313 [==============================] - 3s 9ms/step\n",
      "comm_round: 325 | global_acc: 60.510% | global_loss: 1.8536826372146606\n"
     ]
    },
    {
     "name": "stderr",
     "output_type": "stream",
     "text": [
      "Progress Bar: 100%|████████████████████████████████████████████████████████████████████| 10/10 [01:51<00:00, 11.14s/it]\n"
     ]
    },
    {
     "name": "stdout",
     "output_type": "stream",
     "text": [
      "Fedavg:\n",
      "313/313 [==============================] - 4s 11ms/step\n",
      "comm_round: 326 | global_acc: 62.290% | global_loss: 1.837161898612976\n",
      "GSM-FedAvg\n",
      "313/313 [==============================] - 3s 9ms/step\n",
      "comm_round: 326 | global_acc: 60.320% | global_loss: 1.854111671447754\n"
     ]
    },
    {
     "name": "stderr",
     "output_type": "stream",
     "text": [
      "Progress Bar: 100%|████████████████████████████████████████████████████████████████████| 10/10 [01:44<00:00, 10.45s/it]\n"
     ]
    },
    {
     "name": "stdout",
     "output_type": "stream",
     "text": [
      "Fedavg:\n",
      "313/313 [==============================] - 3s 9ms/step\n",
      "comm_round: 327 | global_acc: 62.400% | global_loss: 1.8359876871109009\n",
      "GSM-FedAvg\n",
      "313/313 [==============================] - 3s 9ms/step\n",
      "comm_round: 327 | global_acc: 60.400% | global_loss: 1.8539537191390991\n"
     ]
    },
    {
     "name": "stderr",
     "output_type": "stream",
     "text": [
      "Progress Bar: 100%|████████████████████████████████████████████████████████████████████| 10/10 [01:22<00:00,  8.28s/it]\n"
     ]
    },
    {
     "name": "stdout",
     "output_type": "stream",
     "text": [
      "Fedavg:\n",
      "313/313 [==============================] - 3s 8ms/step\n",
      "comm_round: 328 | global_acc: 62.570% | global_loss: 1.8346972465515137\n",
      "GSM-FedAvg\n",
      "313/313 [==============================] - 3s 9ms/step\n",
      "comm_round: 328 | global_acc: 60.270% | global_loss: 1.8550496101379395\n"
     ]
    },
    {
     "name": "stderr",
     "output_type": "stream",
     "text": [
      "Progress Bar: 100%|████████████████████████████████████████████████████████████████████| 10/10 [01:23<00:00,  8.36s/it]\n"
     ]
    },
    {
     "name": "stdout",
     "output_type": "stream",
     "text": [
      "Fedavg:\n",
      "313/313 [==============================] - 2s 7ms/step\n",
      "comm_round: 329 | global_acc: 62.800% | global_loss: 1.833153486251831\n",
      "GSM-FedAvg\n",
      "313/313 [==============================] - 3s 9ms/step\n",
      "comm_round: 329 | global_acc: 60.340% | global_loss: 1.8541675806045532\n"
     ]
    },
    {
     "name": "stderr",
     "output_type": "stream",
     "text": [
      "Progress Bar: 100%|████████████████████████████████████████████████████████████████████| 10/10 [01:23<00:00,  8.39s/it]\n"
     ]
    },
    {
     "name": "stdout",
     "output_type": "stream",
     "text": [
      "Fedavg:\n",
      "313/313 [==============================] - 2s 7ms/step\n",
      "comm_round: 330 | global_acc: 62.280% | global_loss: 1.8359720706939697\n",
      "GSM-FedAvg\n",
      "313/313 [==============================] - 3s 8ms/step\n",
      "comm_round: 330 | global_acc: 60.330% | global_loss: 1.8546075820922852\n"
     ]
    },
    {
     "name": "stderr",
     "output_type": "stream",
     "text": [
      "Progress Bar: 100%|████████████████████████████████████████████████████████████████████| 10/10 [01:37<00:00,  9.71s/it]\n"
     ]
    },
    {
     "name": "stdout",
     "output_type": "stream",
     "text": [
      "Fedavg:\n",
      "313/313 [==============================] - 3s 9ms/step\n",
      "comm_round: 331 | global_acc: 62.420% | global_loss: 1.8352144956588745\n",
      "GSM-FedAvg\n",
      "313/313 [==============================] - 3s 10ms/step\n",
      "comm_round: 331 | global_acc: 60.580% | global_loss: 1.8527483940124512\n"
     ]
    },
    {
     "name": "stderr",
     "output_type": "stream",
     "text": [
      "Progress Bar: 100%|████████████████████████████████████████████████████████████████████| 10/10 [01:26<00:00,  8.68s/it]\n"
     ]
    },
    {
     "name": "stdout",
     "output_type": "stream",
     "text": [
      "Fedavg:\n",
      "313/313 [==============================] - 3s 8ms/step\n",
      "comm_round: 332 | global_acc: 62.920% | global_loss: 1.833389401435852\n",
      "GSM-FedAvg\n",
      "313/313 [==============================] - 3s 9ms/step\n",
      "comm_round: 332 | global_acc: 60.600% | global_loss: 1.8531659841537476\n"
     ]
    },
    {
     "name": "stderr",
     "output_type": "stream",
     "text": [
      "Progress Bar: 100%|████████████████████████████████████████████████████████████████████| 10/10 [01:27<00:00,  8.75s/it]\n"
     ]
    },
    {
     "name": "stdout",
     "output_type": "stream",
     "text": [
      "Fedavg:\n",
      "313/313 [==============================] - 2s 8ms/step\n",
      "comm_round: 333 | global_acc: 62.560% | global_loss: 1.8350119590759277\n",
      "GSM-FedAvg\n",
      "313/313 [==============================] - 3s 8ms/step\n",
      "comm_round: 333 | global_acc: 60.510% | global_loss: 1.8530964851379395\n"
     ]
    },
    {
     "name": "stderr",
     "output_type": "stream",
     "text": [
      "Progress Bar: 100%|████████████████████████████████████████████████████████████████████| 10/10 [01:22<00:00,  8.20s/it]\n"
     ]
    },
    {
     "name": "stdout",
     "output_type": "stream",
     "text": [
      "Fedavg:\n",
      "313/313 [==============================] - 3s 8ms/step\n",
      "comm_round: 334 | global_acc: 62.670% | global_loss: 1.833534598350525\n",
      "GSM-FedAvg\n",
      "313/313 [==============================] - 3s 9ms/step\n",
      "comm_round: 334 | global_acc: 60.590% | global_loss: 1.8526036739349365\n"
     ]
    },
    {
     "name": "stderr",
     "output_type": "stream",
     "text": [
      "Progress Bar: 100%|████████████████████████████████████████████████████████████████████| 10/10 [01:26<00:00,  8.62s/it]\n"
     ]
    },
    {
     "name": "stdout",
     "output_type": "stream",
     "text": [
      "Fedavg:\n",
      "313/313 [==============================] - 3s 11ms/step\n",
      "comm_round: 335 | global_acc: 62.550% | global_loss: 1.8355214595794678\n",
      "GSM-FedAvg\n",
      "313/313 [==============================] - 3s 11ms/step\n",
      "comm_round: 335 | global_acc: 60.310% | global_loss: 1.8548312187194824\n"
     ]
    },
    {
     "name": "stderr",
     "output_type": "stream",
     "text": [
      "Progress Bar: 100%|████████████████████████████████████████████████████████████████████| 10/10 [01:36<00:00,  9.61s/it]\n"
     ]
    },
    {
     "name": "stdout",
     "output_type": "stream",
     "text": [
      "Fedavg:\n",
      "313/313 [==============================] - 2s 7ms/step\n",
      "comm_round: 336 | global_acc: 62.730% | global_loss: 1.8333003520965576\n",
      "GSM-FedAvg\n",
      "313/313 [==============================] - 2s 7ms/step\n",
      "comm_round: 336 | global_acc: 60.290% | global_loss: 1.8542627096176147\n"
     ]
    },
    {
     "name": "stderr",
     "output_type": "stream",
     "text": [
      "Progress Bar: 100%|████████████████████████████████████████████████████████████████████| 10/10 [01:45<00:00, 10.58s/it]\n"
     ]
    },
    {
     "name": "stdout",
     "output_type": "stream",
     "text": [
      "Fedavg:\n",
      "313/313 [==============================] - 2s 7ms/step\n",
      "comm_round: 337 | global_acc: 62.720% | global_loss: 1.8342511653900146\n",
      "GSM-FedAvg\n",
      "313/313 [==============================] - 4s 11ms/step\n",
      "comm_round: 337 | global_acc: 60.530% | global_loss: 1.8542749881744385\n"
     ]
    },
    {
     "name": "stderr",
     "output_type": "stream",
     "text": [
      "Progress Bar: 100%|████████████████████████████████████████████████████████████████████| 10/10 [01:44<00:00, 10.42s/it]\n"
     ]
    },
    {
     "name": "stdout",
     "output_type": "stream",
     "text": [
      "Fedavg:\n",
      "313/313 [==============================] - 3s 10ms/step\n",
      "comm_round: 338 | global_acc: 62.470% | global_loss: 1.834362268447876\n",
      "GSM-FedAvg\n",
      "313/313 [==============================] - 3s 10ms/step\n",
      "comm_round: 338 | global_acc: 60.470% | global_loss: 1.8539351224899292\n"
     ]
    },
    {
     "name": "stderr",
     "output_type": "stream",
     "text": [
      "Progress Bar: 100%|████████████████████████████████████████████████████████████████████| 10/10 [01:34<00:00,  9.45s/it]\n"
     ]
    },
    {
     "name": "stdout",
     "output_type": "stream",
     "text": [
      "Fedavg:\n",
      "313/313 [==============================] - 3s 9ms/step\n",
      "comm_round: 339 | global_acc: 62.870% | global_loss: 1.8319958448410034\n",
      "GSM-FedAvg\n",
      "313/313 [==============================] - 3s 9ms/step\n",
      "comm_round: 339 | global_acc: 60.540% | global_loss: 1.8536601066589355\n"
     ]
    },
    {
     "name": "stderr",
     "output_type": "stream",
     "text": [
      "Progress Bar: 100%|████████████████████████████████████████████████████████████████████| 10/10 [01:21<00:00,  8.10s/it]\n"
     ]
    },
    {
     "name": "stdout",
     "output_type": "stream",
     "text": [
      "Fedavg:\n",
      "313/313 [==============================] - 2s 7ms/step\n",
      "comm_round: 340 | global_acc: 62.820% | global_loss: 1.832153081893921\n",
      "GSM-FedAvg\n",
      "313/313 [==============================] - 3s 9ms/step\n",
      "comm_round: 340 | global_acc: 60.520% | global_loss: 1.8531988859176636\n"
     ]
    },
    {
     "name": "stderr",
     "output_type": "stream",
     "text": [
      "Progress Bar: 100%|████████████████████████████████████████████████████████████████████| 10/10 [01:25<00:00,  8.56s/it]\n"
     ]
    },
    {
     "name": "stdout",
     "output_type": "stream",
     "text": [
      "Fedavg:\n",
      "313/313 [==============================] - 3s 8ms/step\n",
      "comm_round: 341 | global_acc: 62.860% | global_loss: 1.8322113752365112\n",
      "GSM-FedAvg\n",
      "313/313 [==============================] - 3s 8ms/step\n",
      "comm_round: 341 | global_acc: 60.600% | global_loss: 1.8531380891799927\n"
     ]
    },
    {
     "name": "stderr",
     "output_type": "stream",
     "text": [
      "Progress Bar: 100%|████████████████████████████████████████████████████████████████████| 10/10 [01:21<00:00,  8.11s/it]\n"
     ]
    },
    {
     "name": "stdout",
     "output_type": "stream",
     "text": [
      "Fedavg:\n",
      "313/313 [==============================] - 3s 9ms/step\n",
      "comm_round: 342 | global_acc: 62.330% | global_loss: 1.8336734771728516\n",
      "GSM-FedAvg\n",
      "313/313 [==============================] - 3s 8ms/step\n",
      "comm_round: 342 | global_acc: 60.400% | global_loss: 1.8532458543777466\n"
     ]
    },
    {
     "name": "stderr",
     "output_type": "stream",
     "text": [
      "Progress Bar: 100%|████████████████████████████████████████████████████████████████████| 10/10 [01:19<00:00,  7.99s/it]\n"
     ]
    },
    {
     "name": "stdout",
     "output_type": "stream",
     "text": [
      "Fedavg:\n",
      "313/313 [==============================] - 3s 8ms/step\n",
      "comm_round: 343 | global_acc: 62.730% | global_loss: 1.834073781967163\n",
      "GSM-FedAvg\n",
      "313/313 [==============================] - 3s 8ms/step\n",
      "comm_round: 343 | global_acc: 60.410% | global_loss: 1.854413628578186\n"
     ]
    },
    {
     "name": "stderr",
     "output_type": "stream",
     "text": [
      "Progress Bar: 100%|████████████████████████████████████████████████████████████████████| 10/10 [01:23<00:00,  8.36s/it]\n"
     ]
    },
    {
     "name": "stdout",
     "output_type": "stream",
     "text": [
      "Fedavg:\n",
      "313/313 [==============================] - 3s 9ms/step\n",
      "comm_round: 344 | global_acc: 62.920% | global_loss: 1.830932855606079\n",
      "GSM-FedAvg\n",
      "313/313 [==============================] - 3s 9ms/step\n",
      "comm_round: 344 | global_acc: 60.370% | global_loss: 1.8533711433410645\n"
     ]
    },
    {
     "name": "stderr",
     "output_type": "stream",
     "text": [
      "Progress Bar: 100%|████████████████████████████████████████████████████████████████████| 10/10 [01:27<00:00,  8.76s/it]\n"
     ]
    },
    {
     "name": "stdout",
     "output_type": "stream",
     "text": [
      "Fedavg:\n",
      "313/313 [==============================] - 2s 7ms/step\n",
      "comm_round: 345 | global_acc: 62.560% | global_loss: 1.832539439201355\n",
      "GSM-FedAvg\n",
      "313/313 [==============================] - 3s 8ms/step\n",
      "comm_round: 345 | global_acc: 60.510% | global_loss: 1.8532943725585938\n"
     ]
    },
    {
     "name": "stderr",
     "output_type": "stream",
     "text": [
      "Progress Bar: 100%|████████████████████████████████████████████████████████████████████| 10/10 [01:22<00:00,  8.30s/it]\n"
     ]
    },
    {
     "name": "stdout",
     "output_type": "stream",
     "text": [
      "Fedavg:\n",
      "313/313 [==============================] - 2s 7ms/step\n",
      "comm_round: 346 | global_acc: 62.390% | global_loss: 1.8352689743041992\n",
      "GSM-FedAvg\n",
      "313/313 [==============================] - 2s 5ms/step\n",
      "comm_round: 346 | global_acc: 60.430% | global_loss: 1.8535232543945312\n"
     ]
    },
    {
     "name": "stderr",
     "output_type": "stream",
     "text": [
      "Progress Bar: 100%|████████████████████████████████████████████████████████████████████| 10/10 [01:23<00:00,  8.37s/it]\n"
     ]
    },
    {
     "name": "stdout",
     "output_type": "stream",
     "text": [
      "Fedavg:\n",
      "313/313 [==============================] - 2s 7ms/step\n",
      "comm_round: 347 | global_acc: 62.660% | global_loss: 1.8326187133789062\n",
      "GSM-FedAvg\n",
      "313/313 [==============================] - 2s 7ms/step\n",
      "comm_round: 347 | global_acc: 60.420% | global_loss: 1.8537189960479736\n"
     ]
    },
    {
     "name": "stderr",
     "output_type": "stream",
     "text": [
      "Progress Bar: 100%|████████████████████████████████████████████████████████████████████| 10/10 [01:24<00:00,  8.44s/it]\n"
     ]
    },
    {
     "name": "stdout",
     "output_type": "stream",
     "text": [
      "Fedavg:\n",
      "313/313 [==============================] - 2s 7ms/step\n",
      "comm_round: 348 | global_acc: 62.480% | global_loss: 1.833621621131897\n",
      "GSM-FedAvg\n",
      "313/313 [==============================] - 2s 7ms/step\n",
      "comm_round: 348 | global_acc: 60.480% | global_loss: 1.853410005569458\n"
     ]
    },
    {
     "name": "stderr",
     "output_type": "stream",
     "text": [
      "Progress Bar: 100%|████████████████████████████████████████████████████████████████████| 10/10 [01:21<00:00,  8.20s/it]\n"
     ]
    },
    {
     "name": "stdout",
     "output_type": "stream",
     "text": [
      "Fedavg:\n",
      "313/313 [==============================] - 3s 9ms/step\n",
      "comm_round: 349 | global_acc: 62.530% | global_loss: 1.8339446783065796\n",
      "GSM-FedAvg\n",
      "313/313 [==============================] - 3s 9ms/step\n",
      "comm_round: 349 | global_acc: 60.490% | global_loss: 1.854035496711731\n"
     ]
    },
    {
     "name": "stderr",
     "output_type": "stream",
     "text": [
      "Progress Bar: 100%|████████████████████████████████████████████████████████████████████| 10/10 [01:25<00:00,  8.58s/it]\n"
     ]
    },
    {
     "name": "stdout",
     "output_type": "stream",
     "text": [
      "Fedavg:\n",
      "313/313 [==============================] - 3s 9ms/step\n",
      "comm_round: 350 | global_acc: 62.240% | global_loss: 1.833541750907898\n",
      "GSM-FedAvg\n",
      "313/313 [==============================] - 3s 8ms/step\n",
      "comm_round: 350 | global_acc: 60.450% | global_loss: 1.8529068231582642\n"
     ]
    },
    {
     "name": "stderr",
     "output_type": "stream",
     "text": [
      "Progress Bar: 100%|████████████████████████████████████████████████████████████████████| 10/10 [01:27<00:00,  8.76s/it]\n"
     ]
    },
    {
     "name": "stdout",
     "output_type": "stream",
     "text": [
      "Fedavg:\n",
      "313/313 [==============================] - 2s 7ms/step\n",
      "comm_round: 351 | global_acc: 62.740% | global_loss: 1.8322080373764038\n",
      "GSM-FedAvg\n",
      "313/313 [==============================] - 2s 8ms/step\n",
      "comm_round: 351 | global_acc: 60.400% | global_loss: 1.8529499769210815\n"
     ]
    },
    {
     "name": "stderr",
     "output_type": "stream",
     "text": [
      "Progress Bar: 100%|████████████████████████████████████████████████████████████████████| 10/10 [01:23<00:00,  8.33s/it]\n"
     ]
    },
    {
     "name": "stdout",
     "output_type": "stream",
     "text": [
      "Fedavg:\n",
      "313/313 [==============================] - 3s 9ms/step\n",
      "comm_round: 352 | global_acc: 62.420% | global_loss: 1.8344995975494385\n",
      "GSM-FedAvg\n",
      "313/313 [==============================] - 3s 9ms/step\n",
      "comm_round: 352 | global_acc: 60.460% | global_loss: 1.8537148237228394\n"
     ]
    },
    {
     "name": "stderr",
     "output_type": "stream",
     "text": [
      "Progress Bar: 100%|████████████████████████████████████████████████████████████████████| 10/10 [01:26<00:00,  8.70s/it]\n"
     ]
    },
    {
     "name": "stdout",
     "output_type": "stream",
     "text": [
      "Fedavg:\n",
      "313/313 [==============================] - 3s 8ms/step\n",
      "comm_round: 353 | global_acc: 62.760% | global_loss: 1.8319753408432007\n",
      "GSM-FedAvg\n",
      "313/313 [==============================] - 2s 8ms/step\n",
      "comm_round: 353 | global_acc: 60.500% | global_loss: 1.8525609970092773\n"
     ]
    },
    {
     "name": "stderr",
     "output_type": "stream",
     "text": [
      "Progress Bar: 100%|████████████████████████████████████████████████████████████████████| 10/10 [01:36<00:00,  9.64s/it]\n"
     ]
    },
    {
     "name": "stdout",
     "output_type": "stream",
     "text": [
      "Fedavg:\n",
      "313/313 [==============================] - 3s 9ms/step\n",
      "comm_round: 354 | global_acc: 62.640% | global_loss: 1.8325748443603516\n",
      "GSM-FedAvg\n",
      "313/313 [==============================] - 2s 7ms/step\n",
      "comm_round: 354 | global_acc: 60.450% | global_loss: 1.8529860973358154\n"
     ]
    },
    {
     "name": "stderr",
     "output_type": "stream",
     "text": [
      "Progress Bar: 100%|████████████████████████████████████████████████████████████████████| 10/10 [01:27<00:00,  8.73s/it]\n"
     ]
    },
    {
     "name": "stdout",
     "output_type": "stream",
     "text": [
      "Fedavg:\n",
      "313/313 [==============================] - 3s 9ms/step\n",
      "comm_round: 355 | global_acc: 62.630% | global_loss: 1.832099199295044\n",
      "GSM-FedAvg\n",
      "313/313 [==============================] - 3s 9ms/step\n",
      "comm_round: 355 | global_acc: 60.480% | global_loss: 1.8525105714797974\n"
     ]
    },
    {
     "name": "stderr",
     "output_type": "stream",
     "text": [
      "Progress Bar: 100%|████████████████████████████████████████████████████████████████████| 10/10 [01:21<00:00,  8.20s/it]\n"
     ]
    },
    {
     "name": "stdout",
     "output_type": "stream",
     "text": [
      "Fedavg:\n",
      "313/313 [==============================] - 2s 7ms/step\n",
      "comm_round: 356 | global_acc: 62.440% | global_loss: 1.8345415592193604\n",
      "GSM-FedAvg\n",
      "313/313 [==============================] - 3s 9ms/step\n",
      "comm_round: 356 | global_acc: 60.390% | global_loss: 1.8534663915634155\n"
     ]
    },
    {
     "name": "stderr",
     "output_type": "stream",
     "text": [
      "Progress Bar: 100%|████████████████████████████████████████████████████████████████████| 10/10 [01:21<00:00,  8.15s/it]\n"
     ]
    },
    {
     "name": "stdout",
     "output_type": "stream",
     "text": [
      "Fedavg:\n",
      "313/313 [==============================] - 3s 8ms/step\n",
      "comm_round: 357 | global_acc: 62.810% | global_loss: 1.8313201665878296\n",
      "GSM-FedAvg\n",
      "313/313 [==============================] - 2s 7ms/step\n",
      "comm_round: 357 | global_acc: 60.470% | global_loss: 1.853053092956543\n"
     ]
    },
    {
     "name": "stderr",
     "output_type": "stream",
     "text": [
      "Progress Bar: 100%|████████████████████████████████████████████████████████████████████| 10/10 [01:23<00:00,  8.33s/it]\n"
     ]
    },
    {
     "name": "stdout",
     "output_type": "stream",
     "text": [
      "Fedavg:\n",
      "313/313 [==============================] - 3s 8ms/step\n",
      "comm_round: 358 | global_acc: 62.940% | global_loss: 1.8312771320343018\n",
      "GSM-FedAvg\n",
      "313/313 [==============================] - 2s 7ms/step\n",
      "comm_round: 358 | global_acc: 60.530% | global_loss: 1.8529984951019287\n"
     ]
    },
    {
     "name": "stderr",
     "output_type": "stream",
     "text": [
      "Progress Bar: 100%|████████████████████████████████████████████████████████████████████| 10/10 [01:22<00:00,  8.24s/it]\n"
     ]
    },
    {
     "name": "stdout",
     "output_type": "stream",
     "text": [
      "Fedavg:\n",
      "313/313 [==============================] - 3s 9ms/step\n",
      "comm_round: 359 | global_acc: 62.460% | global_loss: 1.8349465131759644\n",
      "GSM-FedAvg\n",
      "313/313 [==============================] - 3s 9ms/step\n",
      "comm_round: 359 | global_acc: 60.510% | global_loss: 1.8534367084503174\n"
     ]
    },
    {
     "name": "stderr",
     "output_type": "stream",
     "text": [
      "Progress Bar: 100%|████████████████████████████████████████████████████████████████████| 10/10 [01:25<00:00,  8.52s/it]\n"
     ]
    },
    {
     "name": "stdout",
     "output_type": "stream",
     "text": [
      "Fedavg:\n",
      "313/313 [==============================] - 3s 8ms/step\n",
      "comm_round: 360 | global_acc: 62.910% | global_loss: 1.8309332132339478\n",
      "GSM-FedAvg\n",
      "313/313 [==============================] - 2s 7ms/step\n",
      "comm_round: 360 | global_acc: 60.510% | global_loss: 1.8528105020523071\n"
     ]
    },
    {
     "name": "stderr",
     "output_type": "stream",
     "text": [
      "Progress Bar: 100%|████████████████████████████████████████████████████████████████████| 10/10 [01:27<00:00,  8.72s/it]\n"
     ]
    },
    {
     "name": "stdout",
     "output_type": "stream",
     "text": [
      "Fedavg:\n",
      "313/313 [==============================] - 3s 9ms/step\n",
      "comm_round: 361 | global_acc: 62.440% | global_loss: 1.8352543115615845\n",
      "GSM-FedAvg\n",
      "313/313 [==============================] - 3s 9ms/step\n",
      "comm_round: 361 | global_acc: 60.500% | global_loss: 1.8530687093734741\n"
     ]
    },
    {
     "name": "stderr",
     "output_type": "stream",
     "text": [
      "Progress Bar: 100%|████████████████████████████████████████████████████████████████████| 10/10 [01:24<00:00,  8.49s/it]\n"
     ]
    },
    {
     "name": "stdout",
     "output_type": "stream",
     "text": [
      "Fedavg:\n",
      "313/313 [==============================] - 3s 9ms/step\n",
      "comm_round: 362 | global_acc: 62.620% | global_loss: 1.8335034847259521\n",
      "GSM-FedAvg\n",
      "313/313 [==============================] - 3s 9ms/step\n",
      "comm_round: 362 | global_acc: 60.470% | global_loss: 1.8532371520996094\n"
     ]
    },
    {
     "name": "stderr",
     "output_type": "stream",
     "text": [
      "Progress Bar: 100%|████████████████████████████████████████████████████████████████████| 10/10 [01:24<00:00,  8.49s/it]\n"
     ]
    },
    {
     "name": "stdout",
     "output_type": "stream",
     "text": [
      "Fedavg:\n",
      "313/313 [==============================] - 2s 8ms/step\n",
      "comm_round: 363 | global_acc: 62.600% | global_loss: 1.8331706523895264\n",
      "GSM-FedAvg\n",
      "313/313 [==============================] - 3s 8ms/step\n",
      "comm_round: 363 | global_acc: 60.510% | global_loss: 1.853473424911499\n"
     ]
    },
    {
     "name": "stderr",
     "output_type": "stream",
     "text": [
      "Progress Bar: 100%|████████████████████████████████████████████████████████████████████| 10/10 [01:22<00:00,  8.29s/it]\n"
     ]
    },
    {
     "name": "stdout",
     "output_type": "stream",
     "text": [
      "Fedavg:\n",
      "313/313 [==============================] - 3s 8ms/step\n",
      "comm_round: 364 | global_acc: 62.710% | global_loss: 1.8337457180023193\n",
      "GSM-FedAvg\n",
      "313/313 [==============================] - 3s 8ms/step\n",
      "comm_round: 364 | global_acc: 60.570% | global_loss: 1.8529726266860962\n"
     ]
    },
    {
     "name": "stderr",
     "output_type": "stream",
     "text": [
      "Progress Bar: 100%|████████████████████████████████████████████████████████████████████| 10/10 [01:20<00:00,  8.02s/it]\n"
     ]
    },
    {
     "name": "stdout",
     "output_type": "stream",
     "text": [
      "Fedavg:\n",
      "313/313 [==============================] - 2s 7ms/step\n",
      "comm_round: 365 | global_acc: 62.690% | global_loss: 1.8328919410705566\n",
      "GSM-FedAvg\n",
      "313/313 [==============================] - 3s 8ms/step\n",
      "comm_round: 365 | global_acc: 60.540% | global_loss: 1.8523973226547241\n"
     ]
    },
    {
     "name": "stderr",
     "output_type": "stream",
     "text": [
      "Progress Bar: 100%|████████████████████████████████████████████████████████████████████| 10/10 [01:24<00:00,  8.42s/it]\n"
     ]
    },
    {
     "name": "stdout",
     "output_type": "stream",
     "text": [
      "Fedavg:\n",
      "313/313 [==============================] - 3s 9ms/step\n",
      "comm_round: 366 | global_acc: 62.830% | global_loss: 1.8320066928863525\n",
      "GSM-FedAvg\n",
      "313/313 [==============================] - 3s 8ms/step\n",
      "comm_round: 366 | global_acc: 60.540% | global_loss: 1.8533214330673218\n"
     ]
    },
    {
     "name": "stderr",
     "output_type": "stream",
     "text": [
      "Progress Bar: 100%|████████████████████████████████████████████████████████████████████| 10/10 [01:17<00:00,  7.78s/it]\n"
     ]
    },
    {
     "name": "stdout",
     "output_type": "stream",
     "text": [
      "Fedavg:\n",
      "313/313 [==============================] - 2s 7ms/step\n",
      "comm_round: 367 | global_acc: 62.770% | global_loss: 1.8333687782287598\n",
      "GSM-FedAvg\n",
      "313/313 [==============================] - 2s 6ms/step\n",
      "comm_round: 367 | global_acc: 60.500% | global_loss: 1.8533746004104614\n"
     ]
    },
    {
     "name": "stderr",
     "output_type": "stream",
     "text": [
      "Progress Bar: 100%|████████████████████████████████████████████████████████████████████| 10/10 [01:20<00:00,  8.10s/it]\n"
     ]
    },
    {
     "name": "stdout",
     "output_type": "stream",
     "text": [
      "Fedavg:\n",
      "313/313 [==============================] - 2s 7ms/step\n",
      "comm_round: 368 | global_acc: 62.620% | global_loss: 1.8323203325271606\n",
      "GSM-FedAvg\n",
      "313/313 [==============================] - 3s 8ms/step\n",
      "comm_round: 368 | global_acc: 60.640% | global_loss: 1.8528822660446167\n"
     ]
    },
    {
     "name": "stderr",
     "output_type": "stream",
     "text": [
      "Progress Bar: 100%|████████████████████████████████████████████████████████████████████| 10/10 [01:18<00:00,  7.87s/it]\n"
     ]
    },
    {
     "name": "stdout",
     "output_type": "stream",
     "text": [
      "Fedavg:\n",
      "313/313 [==============================] - 2s 5ms/step\n",
      "comm_round: 369 | global_acc: 62.800% | global_loss: 1.8304132223129272\n",
      "GSM-FedAvg\n",
      "313/313 [==============================] - 3s 9ms/step\n",
      "comm_round: 369 | global_acc: 60.500% | global_loss: 1.8530404567718506\n"
     ]
    },
    {
     "name": "stderr",
     "output_type": "stream",
     "text": [
      "Progress Bar: 100%|████████████████████████████████████████████████████████████████████| 10/10 [01:19<00:00,  7.97s/it]\n"
     ]
    },
    {
     "name": "stdout",
     "output_type": "stream",
     "text": [
      "Fedavg:\n",
      "313/313 [==============================] - 3s 9ms/step\n",
      "comm_round: 370 | global_acc: 62.460% | global_loss: 1.8349545001983643\n",
      "GSM-FedAvg\n",
      "313/313 [==============================] - 3s 9ms/step\n",
      "comm_round: 370 | global_acc: 60.680% | global_loss: 1.8519679307937622\n"
     ]
    },
    {
     "name": "stderr",
     "output_type": "stream",
     "text": [
      "Progress Bar: 100%|████████████████████████████████████████████████████████████████████| 10/10 [01:34<00:00,  9.45s/it]\n"
     ]
    },
    {
     "name": "stdout",
     "output_type": "stream",
     "text": [
      "Fedavg:\n",
      "313/313 [==============================] - 3s 10ms/step\n",
      "comm_round: 371 | global_acc: 62.680% | global_loss: 1.8333617448806763\n",
      "GSM-FedAvg\n",
      "313/313 [==============================] - 3s 10ms/step\n",
      "comm_round: 371 | global_acc: 60.590% | global_loss: 1.852371096611023\n"
     ]
    },
    {
     "name": "stderr",
     "output_type": "stream",
     "text": [
      "Progress Bar: 100%|████████████████████████████████████████████████████████████████████| 10/10 [01:27<00:00,  8.79s/it]\n"
     ]
    },
    {
     "name": "stdout",
     "output_type": "stream",
     "text": [
      "Fedavg:\n",
      "313/313 [==============================] - 3s 10ms/step\n",
      "comm_round: 372 | global_acc: 62.650% | global_loss: 1.8329882621765137\n",
      "GSM-FedAvg\n",
      "313/313 [==============================] - 3s 9ms/step\n",
      "comm_round: 372 | global_acc: 60.470% | global_loss: 1.852698802947998\n"
     ]
    },
    {
     "name": "stderr",
     "output_type": "stream",
     "text": [
      "Progress Bar: 100%|████████████████████████████████████████████████████████████████████| 10/10 [02:03<00:00, 12.37s/it]\n"
     ]
    },
    {
     "name": "stdout",
     "output_type": "stream",
     "text": [
      "Fedavg:\n",
      "313/313 [==============================] - 4s 12ms/step\n",
      "comm_round: 373 | global_acc: 62.550% | global_loss: 1.8340349197387695\n",
      "GSM-FedAvg\n",
      "313/313 [==============================] - 3s 10ms/step\n",
      "comm_round: 373 | global_acc: 60.610% | global_loss: 1.8525965213775635\n"
     ]
    },
    {
     "name": "stderr",
     "output_type": "stream",
     "text": [
      "Progress Bar: 100%|████████████████████████████████████████████████████████████████████| 10/10 [01:54<00:00, 11.43s/it]\n"
     ]
    },
    {
     "name": "stdout",
     "output_type": "stream",
     "text": [
      "Fedavg:\n",
      "313/313 [==============================] - 3s 9ms/step\n",
      "comm_round: 374 | global_acc: 62.820% | global_loss: 1.8317941427230835\n",
      "GSM-FedAvg\n",
      "313/313 [==============================] - 2s 8ms/step\n",
      "comm_round: 374 | global_acc: 60.680% | global_loss: 1.8519415855407715\n"
     ]
    },
    {
     "name": "stderr",
     "output_type": "stream",
     "text": [
      "Progress Bar: 100%|████████████████████████████████████████████████████████████████████| 10/10 [01:25<00:00,  8.56s/it]\n"
     ]
    },
    {
     "name": "stdout",
     "output_type": "stream",
     "text": [
      "Fedavg:\n",
      "313/313 [==============================] - 3s 9ms/step\n",
      "comm_round: 375 | global_acc: 62.690% | global_loss: 1.8333896398544312\n",
      "GSM-FedAvg\n",
      "313/313 [==============================] - 3s 9ms/step\n",
      "comm_round: 375 | global_acc: 60.560% | global_loss: 1.8524781465530396\n"
     ]
    },
    {
     "name": "stderr",
     "output_type": "stream",
     "text": [
      "Progress Bar: 100%|████████████████████████████████████████████████████████████████████| 10/10 [01:32<00:00,  9.22s/it]\n"
     ]
    },
    {
     "name": "stdout",
     "output_type": "stream",
     "text": [
      "Fedavg:\n",
      "313/313 [==============================] - 3s 9ms/step\n",
      "comm_round: 376 | global_acc: 62.780% | global_loss: 1.8332133293151855\n",
      "GSM-FedAvg\n",
      "313/313 [==============================] - 3s 9ms/step\n",
      "comm_round: 376 | global_acc: 60.740% | global_loss: 1.8523977994918823\n"
     ]
    },
    {
     "name": "stderr",
     "output_type": "stream",
     "text": [
      "Progress Bar: 100%|████████████████████████████████████████████████████████████████████| 10/10 [01:25<00:00,  8.56s/it]\n"
     ]
    },
    {
     "name": "stdout",
     "output_type": "stream",
     "text": [
      "Fedavg:\n",
      "313/313 [==============================] - 3s 9ms/step\n",
      "comm_round: 377 | global_acc: 62.510% | global_loss: 1.8336976766586304\n",
      "GSM-FedAvg\n",
      "313/313 [==============================] - 3s 9ms/step\n",
      "comm_round: 377 | global_acc: 60.660% | global_loss: 1.8522855043411255\n"
     ]
    },
    {
     "name": "stderr",
     "output_type": "stream",
     "text": [
      "Progress Bar: 100%|████████████████████████████████████████████████████████████████████| 10/10 [01:43<00:00, 10.34s/it]\n"
     ]
    },
    {
     "name": "stdout",
     "output_type": "stream",
     "text": [
      "Fedavg:\n",
      "313/313 [==============================] - 4s 12ms/step\n",
      "comm_round: 378 | global_acc: 62.610% | global_loss: 1.8325974941253662\n",
      "GSM-FedAvg\n",
      "313/313 [==============================] - 4s 13ms/step\n",
      "comm_round: 378 | global_acc: 60.680% | global_loss: 1.852168321609497\n"
     ]
    },
    {
     "name": "stderr",
     "output_type": "stream",
     "text": [
      "Progress Bar: 100%|████████████████████████████████████████████████████████████████████| 10/10 [01:51<00:00, 11.13s/it]\n"
     ]
    },
    {
     "name": "stdout",
     "output_type": "stream",
     "text": [
      "Fedavg:\n",
      "313/313 [==============================] - 4s 11ms/step\n",
      "comm_round: 379 | global_acc: 62.600% | global_loss: 1.832006812095642\n",
      "GSM-FedAvg\n",
      "313/313 [==============================] - 4s 11ms/step\n",
      "comm_round: 379 | global_acc: 60.610% | global_loss: 1.8522168397903442\n"
     ]
    },
    {
     "name": "stderr",
     "output_type": "stream",
     "text": [
      "Progress Bar: 100%|████████████████████████████████████████████████████████████████████| 10/10 [01:35<00:00,  9.54s/it]\n"
     ]
    },
    {
     "name": "stdout",
     "output_type": "stream",
     "text": [
      "Fedavg:\n",
      "313/313 [==============================] - 3s 9ms/step\n",
      "comm_round: 380 | global_acc: 62.690% | global_loss: 1.832695722579956\n",
      "GSM-FedAvg\n",
      "313/313 [==============================] - 3s 9ms/step\n",
      "comm_round: 380 | global_acc: 60.660% | global_loss: 1.8526945114135742\n"
     ]
    },
    {
     "name": "stderr",
     "output_type": "stream",
     "text": [
      "Progress Bar: 100%|████████████████████████████████████████████████████████████████████| 10/10 [02:33<00:00, 15.35s/it]\n"
     ]
    },
    {
     "name": "stdout",
     "output_type": "stream",
     "text": [
      "Fedavg:\n",
      "313/313 [==============================] - 3s 11ms/step\n",
      "comm_round: 381 | global_acc: 62.750% | global_loss: 1.8308511972427368\n",
      "GSM-FedAvg\n",
      "313/313 [==============================] - 3s 10ms/step\n",
      "comm_round: 381 | global_acc: 60.540% | global_loss: 1.8521238565444946\n"
     ]
    },
    {
     "name": "stderr",
     "output_type": "stream",
     "text": [
      "Progress Bar: 100%|████████████████████████████████████████████████████████████████████| 10/10 [01:58<00:00, 11.81s/it]\n"
     ]
    },
    {
     "name": "stdout",
     "output_type": "stream",
     "text": [
      "Fedavg:\n",
      "313/313 [==============================] - 4s 12ms/step\n",
      "comm_round: 382 | global_acc: 62.790% | global_loss: 1.8314487934112549\n",
      "GSM-FedAvg\n",
      "313/313 [==============================] - 3s 9ms/step\n",
      "comm_round: 382 | global_acc: 60.400% | global_loss: 1.853487253189087\n"
     ]
    },
    {
     "name": "stderr",
     "output_type": "stream",
     "text": [
      "Progress Bar: 100%|████████████████████████████████████████████████████████████████████| 10/10 [02:01<00:00, 12.11s/it]\n"
     ]
    },
    {
     "name": "stdout",
     "output_type": "stream",
     "text": [
      "Fedavg:\n",
      "313/313 [==============================] - 4s 13ms/step\n",
      "comm_round: 383 | global_acc: 62.570% | global_loss: 1.831272840499878\n",
      "GSM-FedAvg\n",
      "313/313 [==============================] - 5s 14ms/step\n",
      "comm_round: 383 | global_acc: 60.650% | global_loss: 1.85244882106781\n"
     ]
    },
    {
     "name": "stderr",
     "output_type": "stream",
     "text": [
      "Progress Bar: 100%|████████████████████████████████████████████████████████████████████| 10/10 [02:14<00:00, 13.47s/it]\n"
     ]
    },
    {
     "name": "stdout",
     "output_type": "stream",
     "text": [
      "Fedavg:\n",
      "313/313 [==============================] - 4s 12ms/step\n",
      "comm_round: 384 | global_acc: 62.740% | global_loss: 1.8313496112823486\n",
      "GSM-FedAvg\n",
      "313/313 [==============================] - 4s 12ms/step\n",
      "comm_round: 384 | global_acc: 60.620% | global_loss: 1.8524359464645386\n"
     ]
    },
    {
     "name": "stderr",
     "output_type": "stream",
     "text": [
      "Progress Bar: 100%|████████████████████████████████████████████████████████████████████| 10/10 [01:59<00:00, 11.93s/it]\n"
     ]
    },
    {
     "name": "stdout",
     "output_type": "stream",
     "text": [
      "Fedavg:\n",
      "313/313 [==============================] - 4s 13ms/step\n",
      "comm_round: 385 | global_acc: 62.770% | global_loss: 1.8314613103866577\n",
      "GSM-FedAvg\n",
      "313/313 [==============================] - 4s 12ms/step\n",
      "comm_round: 385 | global_acc: 60.550% | global_loss: 1.8526824712753296\n"
     ]
    },
    {
     "name": "stderr",
     "output_type": "stream",
     "text": [
      "Progress Bar: 100%|████████████████████████████████████████████████████████████████████| 10/10 [02:16<00:00, 13.60s/it]\n"
     ]
    },
    {
     "name": "stdout",
     "output_type": "stream",
     "text": [
      "Fedavg:\n",
      "313/313 [==============================] - 4s 13ms/step\n",
      "comm_round: 386 | global_acc: 62.630% | global_loss: 1.8324620723724365\n",
      "GSM-FedAvg\n",
      "313/313 [==============================] - 3s 9ms/step\n",
      "comm_round: 386 | global_acc: 60.560% | global_loss: 1.8536779880523682\n"
     ]
    },
    {
     "name": "stderr",
     "output_type": "stream",
     "text": [
      "Progress Bar: 100%|████████████████████████████████████████████████████████████████████| 10/10 [01:58<00:00, 11.82s/it]\n"
     ]
    },
    {
     "name": "stdout",
     "output_type": "stream",
     "text": [
      "Fedavg:\n",
      "313/313 [==============================] - 3s 9ms/step\n",
      "comm_round: 387 | global_acc: 62.690% | global_loss: 1.8328123092651367\n",
      "GSM-FedAvg\n",
      "313/313 [==============================] - 2s 7ms/step\n",
      "comm_round: 387 | global_acc: 60.580% | global_loss: 1.8529573678970337\n"
     ]
    },
    {
     "name": "stderr",
     "output_type": "stream",
     "text": [
      "Progress Bar: 100%|████████████████████████████████████████████████████████████████████| 10/10 [01:23<00:00,  8.30s/it]\n"
     ]
    },
    {
     "name": "stdout",
     "output_type": "stream",
     "text": [
      "Fedavg:\n",
      "313/313 [==============================] - 3s 8ms/step\n",
      "comm_round: 388 | global_acc: 62.340% | global_loss: 1.834256887435913\n",
      "GSM-FedAvg\n",
      "313/313 [==============================] - 3s 9ms/step\n",
      "comm_round: 388 | global_acc: 60.660% | global_loss: 1.852817416191101\n"
     ]
    },
    {
     "name": "stderr",
     "output_type": "stream",
     "text": [
      "Progress Bar: 100%|████████████████████████████████████████████████████████████████████| 10/10 [01:29<00:00,  8.92s/it]\n"
     ]
    },
    {
     "name": "stdout",
     "output_type": "stream",
     "text": [
      "Fedavg:\n",
      "313/313 [==============================] - 3s 9ms/step\n",
      "comm_round: 389 | global_acc: 62.550% | global_loss: 1.832859992980957\n",
      "GSM-FedAvg\n",
      "313/313 [==============================] - 3s 9ms/step\n",
      "comm_round: 389 | global_acc: 60.690% | global_loss: 1.852382779121399\n"
     ]
    },
    {
     "name": "stderr",
     "output_type": "stream",
     "text": [
      "Progress Bar: 100%|████████████████████████████████████████████████████████████████████| 10/10 [01:26<00:00,  8.67s/it]\n"
     ]
    },
    {
     "name": "stdout",
     "output_type": "stream",
     "text": [
      "Fedavg:\n",
      "313/313 [==============================] - 3s 9ms/step\n",
      "comm_round: 390 | global_acc: 62.520% | global_loss: 1.8329145908355713\n",
      "GSM-FedAvg\n",
      "313/313 [==============================] - 3s 8ms/step\n",
      "comm_round: 390 | global_acc: 60.550% | global_loss: 1.8532562255859375\n"
     ]
    },
    {
     "name": "stderr",
     "output_type": "stream",
     "text": [
      "Progress Bar: 100%|████████████████████████████████████████████████████████████████████| 10/10 [01:49<00:00, 10.97s/it]\n"
     ]
    },
    {
     "name": "stdout",
     "output_type": "stream",
     "text": [
      "Fedavg:\n",
      "313/313 [==============================] - 4s 13ms/step\n",
      "comm_round: 391 | global_acc: 62.310% | global_loss: 1.8351757526397705\n",
      "GSM-FedAvg\n",
      "313/313 [==============================] - 4s 12ms/step\n",
      "comm_round: 391 | global_acc: 60.550% | global_loss: 1.8532956838607788\n"
     ]
    },
    {
     "name": "stderr",
     "output_type": "stream",
     "text": [
      "Progress Bar: 100%|████████████████████████████████████████████████████████████████████| 10/10 [02:14<00:00, 13.49s/it]\n"
     ]
    },
    {
     "name": "stdout",
     "output_type": "stream",
     "text": [
      "Fedavg:\n",
      "313/313 [==============================] - 3s 9ms/step\n",
      "comm_round: 392 | global_acc: 62.600% | global_loss: 1.8317047357559204\n",
      "GSM-FedAvg\n",
      "313/313 [==============================] - 3s 10ms/step\n",
      "comm_round: 392 | global_acc: 60.600% | global_loss: 1.8527826070785522\n"
     ]
    },
    {
     "name": "stderr",
     "output_type": "stream",
     "text": [
      "Progress Bar: 100%|████████████████████████████████████████████████████████████████████| 10/10 [01:47<00:00, 10.72s/it]\n"
     ]
    },
    {
     "name": "stdout",
     "output_type": "stream",
     "text": [
      "Fedavg:\n",
      "313/313 [==============================] - 3s 9ms/step\n",
      "comm_round: 393 | global_acc: 62.840% | global_loss: 1.8302035331726074\n",
      "GSM-FedAvg\n",
      "313/313 [==============================] - 3s 9ms/step\n",
      "comm_round: 393 | global_acc: 60.640% | global_loss: 1.852292537689209\n"
     ]
    },
    {
     "name": "stderr",
     "output_type": "stream",
     "text": [
      "Progress Bar: 100%|████████████████████████████████████████████████████████████████████| 10/10 [01:24<00:00,  8.40s/it]\n"
     ]
    },
    {
     "name": "stdout",
     "output_type": "stream",
     "text": [
      "Fedavg:\n",
      "313/313 [==============================] - 2s 7ms/step\n",
      "comm_round: 394 | global_acc: 62.650% | global_loss: 1.8312844038009644\n",
      "GSM-FedAvg\n",
      "313/313 [==============================] - 2s 7ms/step\n",
      "comm_round: 394 | global_acc: 60.440% | global_loss: 1.8537659645080566\n"
     ]
    },
    {
     "name": "stderr",
     "output_type": "stream",
     "text": [
      "Progress Bar: 100%|████████████████████████████████████████████████████████████████████| 10/10 [01:21<00:00,  8.14s/it]\n"
     ]
    },
    {
     "name": "stdout",
     "output_type": "stream",
     "text": [
      "Fedavg:\n",
      "313/313 [==============================] - 3s 8ms/step\n",
      "comm_round: 395 | global_acc: 62.420% | global_loss: 1.8336529731750488\n",
      "GSM-FedAvg\n",
      "313/313 [==============================] - 2s 7ms/step\n",
      "comm_round: 395 | global_acc: 60.720% | global_loss: 1.8522918224334717\n"
     ]
    },
    {
     "name": "stderr",
     "output_type": "stream",
     "text": [
      "Progress Bar: 100%|████████████████████████████████████████████████████████████████████| 10/10 [01:21<00:00,  8.20s/it]\n"
     ]
    },
    {
     "name": "stdout",
     "output_type": "stream",
     "text": [
      "Fedavg:\n",
      "313/313 [==============================] - 2s 7ms/step\n",
      "comm_round: 396 | global_acc: 62.730% | global_loss: 1.8314878940582275\n",
      "GSM-FedAvg\n",
      "313/313 [==============================] - 2s 7ms/step\n",
      "comm_round: 396 | global_acc: 60.760% | global_loss: 1.8526073694229126\n"
     ]
    },
    {
     "name": "stderr",
     "output_type": "stream",
     "text": [
      "Progress Bar: 100%|████████████████████████████████████████████████████████████████████| 10/10 [01:22<00:00,  8.25s/it]\n"
     ]
    },
    {
     "name": "stdout",
     "output_type": "stream",
     "text": [
      "Fedavg:\n",
      "313/313 [==============================] - 3s 9ms/step\n",
      "comm_round: 397 | global_acc: 62.530% | global_loss: 1.8324261903762817\n",
      "GSM-FedAvg\n",
      "313/313 [==============================] - 2s 8ms/step\n",
      "comm_round: 397 | global_acc: 60.740% | global_loss: 1.852177381515503\n"
     ]
    },
    {
     "name": "stderr",
     "output_type": "stream",
     "text": [
      "Progress Bar: 100%|████████████████████████████████████████████████████████████████████| 10/10 [01:26<00:00,  8.63s/it]\n"
     ]
    },
    {
     "name": "stdout",
     "output_type": "stream",
     "text": [
      "Fedavg:\n",
      "313/313 [==============================] - 2s 8ms/step\n",
      "comm_round: 398 | global_acc: 62.780% | global_loss: 1.8317002058029175\n",
      "GSM-FedAvg\n",
      "313/313 [==============================] - 2s 7ms/step\n",
      "comm_round: 398 | global_acc: 60.690% | global_loss: 1.8520586490631104\n"
     ]
    },
    {
     "name": "stderr",
     "output_type": "stream",
     "text": [
      "Progress Bar: 100%|████████████████████████████████████████████████████████████████████| 10/10 [01:23<00:00,  8.30s/it]\n"
     ]
    },
    {
     "name": "stdout",
     "output_type": "stream",
     "text": [
      "Fedavg:\n",
      "313/313 [==============================] - 3s 9ms/step\n",
      "comm_round: 399 | global_acc: 62.930% | global_loss: 1.8307206630706787\n",
      "GSM-FedAvg\n",
      "313/313 [==============================] - 2s 7ms/step\n",
      "comm_round: 399 | global_acc: 60.610% | global_loss: 1.8530707359313965\n"
     ]
    },
    {
     "name": "stderr",
     "output_type": "stream",
     "text": [
      "Progress Bar: 100%|████████████████████████████████████████████████████████████████████| 10/10 [01:25<00:00,  8.57s/it]\n"
     ]
    },
    {
     "name": "stdout",
     "output_type": "stream",
     "text": [
      "Fedavg:\n",
      "313/313 [==============================] - 3s 8ms/step\n",
      "comm_round: 400 | global_acc: 62.400% | global_loss: 1.834564447402954\n",
      "GSM-FedAvg\n",
      "313/313 [==============================] - 2s 7ms/step\n",
      "comm_round: 400 | global_acc: 60.640% | global_loss: 1.8524328470230103\n"
     ]
    },
    {
     "name": "stderr",
     "output_type": "stream",
     "text": [
      "Progress Bar: 100%|████████████████████████████████████████████████████████████████████| 10/10 [01:27<00:00,  8.74s/it]\n"
     ]
    },
    {
     "name": "stdout",
     "output_type": "stream",
     "text": [
      "Fedavg:\n",
      "313/313 [==============================] - 3s 8ms/step\n",
      "comm_round: 401 | global_acc: 62.530% | global_loss: 1.8333336114883423\n",
      "GSM-FedAvg\n",
      "313/313 [==============================] - 2s 7ms/step\n",
      "comm_round: 401 | global_acc: 60.560% | global_loss: 1.8528413772583008\n"
     ]
    },
    {
     "name": "stderr",
     "output_type": "stream",
     "text": [
      "Progress Bar: 100%|████████████████████████████████████████████████████████████████████| 10/10 [01:21<00:00,  8.18s/it]\n"
     ]
    },
    {
     "name": "stdout",
     "output_type": "stream",
     "text": [
      "Fedavg:\n",
      "313/313 [==============================] - 3s 9ms/step\n",
      "comm_round: 402 | global_acc: 62.740% | global_loss: 1.8322405815124512\n",
      "GSM-FedAvg\n",
      "313/313 [==============================] - 3s 9ms/step\n",
      "comm_round: 402 | global_acc: 60.520% | global_loss: 1.853121042251587\n"
     ]
    },
    {
     "name": "stderr",
     "output_type": "stream",
     "text": [
      "Progress Bar: 100%|████████████████████████████████████████████████████████████████████| 10/10 [01:24<00:00,  8.40s/it]\n"
     ]
    },
    {
     "name": "stdout",
     "output_type": "stream",
     "text": [
      "Fedavg:\n",
      "313/313 [==============================] - 3s 9ms/step\n",
      "comm_round: 403 | global_acc: 62.960% | global_loss: 1.8317954540252686\n",
      "GSM-FedAvg\n",
      "313/313 [==============================] - 3s 8ms/step\n",
      "comm_round: 403 | global_acc: 60.660% | global_loss: 1.8525142669677734\n"
     ]
    },
    {
     "name": "stderr",
     "output_type": "stream",
     "text": [
      "Progress Bar: 100%|████████████████████████████████████████████████████████████████████| 10/10 [01:03<00:00,  6.31s/it]\n"
     ]
    },
    {
     "name": "stdout",
     "output_type": "stream",
     "text": [
      "Fedavg:\n",
      "313/313 [==============================] - 2s 6ms/step\n",
      "comm_round: 404 | global_acc: 62.730% | global_loss: 1.8329540491104126\n",
      "GSM-FedAvg\n",
      "313/313 [==============================] - 3s 9ms/step\n",
      "comm_round: 404 | global_acc: 60.610% | global_loss: 1.8531858921051025\n"
     ]
    },
    {
     "name": "stderr",
     "output_type": "stream",
     "text": [
      "Progress Bar: 100%|████████████████████████████████████████████████████████████████████| 10/10 [01:23<00:00,  8.31s/it]\n"
     ]
    },
    {
     "name": "stdout",
     "output_type": "stream",
     "text": [
      "Fedavg:\n",
      "313/313 [==============================] - 3s 8ms/step\n",
      "comm_round: 405 | global_acc: 62.520% | global_loss: 1.8329148292541504\n",
      "GSM-FedAvg\n",
      "313/313 [==============================] - 3s 9ms/step\n",
      "comm_round: 405 | global_acc: 60.620% | global_loss: 1.8524374961853027\n"
     ]
    },
    {
     "name": "stderr",
     "output_type": "stream",
     "text": [
      "Progress Bar: 100%|████████████████████████████████████████████████████████████████████| 10/10 [01:24<00:00,  8.41s/it]\n"
     ]
    },
    {
     "name": "stdout",
     "output_type": "stream",
     "text": [
      "Fedavg:\n",
      "313/313 [==============================] - 3s 8ms/step\n",
      "comm_round: 406 | global_acc: 62.670% | global_loss: 1.8316797018051147\n",
      "GSM-FedAvg\n",
      "313/313 [==============================] - 3s 8ms/step\n",
      "comm_round: 406 | global_acc: 60.660% | global_loss: 1.8522238731384277\n"
     ]
    },
    {
     "name": "stderr",
     "output_type": "stream",
     "text": [
      "Progress Bar: 100%|████████████████████████████████████████████████████████████████████| 10/10 [01:20<00:00,  8.10s/it]\n"
     ]
    },
    {
     "name": "stdout",
     "output_type": "stream",
     "text": [
      "Fedavg:\n",
      "313/313 [==============================] - 3s 9ms/step\n",
      "comm_round: 407 | global_acc: 62.870% | global_loss: 1.830582857131958\n",
      "GSM-FedAvg\n",
      "313/313 [==============================] - 2s 7ms/step\n",
      "comm_round: 407 | global_acc: 60.620% | global_loss: 1.8522310256958008\n"
     ]
    },
    {
     "name": "stderr",
     "output_type": "stream",
     "text": [
      "Progress Bar: 100%|████████████████████████████████████████████████████████████████████| 10/10 [01:19<00:00,  7.95s/it]\n"
     ]
    },
    {
     "name": "stdout",
     "output_type": "stream",
     "text": [
      "Fedavg:\n",
      "313/313 [==============================] - 3s 8ms/step\n",
      "comm_round: 408 | global_acc: 62.820% | global_loss: 1.8306968212127686\n",
      "GSM-FedAvg\n",
      "313/313 [==============================] - 3s 9ms/step\n",
      "comm_round: 408 | global_acc: 60.670% | global_loss: 1.852126121520996\n"
     ]
    },
    {
     "name": "stderr",
     "output_type": "stream",
     "text": [
      "Progress Bar: 100%|████████████████████████████████████████████████████████████████████| 10/10 [01:25<00:00,  8.55s/it]\n"
     ]
    },
    {
     "name": "stdout",
     "output_type": "stream",
     "text": [
      "Fedavg:\n",
      "313/313 [==============================] - 3s 9ms/step\n",
      "comm_round: 409 | global_acc: 63.010% | global_loss: 1.829986333847046\n",
      "GSM-FedAvg\n",
      "313/313 [==============================] - 3s 9ms/step\n",
      "comm_round: 409 | global_acc: 60.540% | global_loss: 1.8524549007415771\n"
     ]
    },
    {
     "name": "stderr",
     "output_type": "stream",
     "text": [
      "Progress Bar: 100%|████████████████████████████████████████████████████████████████████| 10/10 [01:46<00:00, 10.66s/it]\n"
     ]
    },
    {
     "name": "stdout",
     "output_type": "stream",
     "text": [
      "Fedavg:\n",
      "313/313 [==============================] - 3s 10ms/step\n",
      "comm_round: 410 | global_acc: 62.680% | global_loss: 1.8310387134552002\n",
      "GSM-FedAvg\n",
      "313/313 [==============================] - 2s 7ms/step\n",
      "comm_round: 410 | global_acc: 60.480% | global_loss: 1.8528908491134644\n"
     ]
    },
    {
     "name": "stderr",
     "output_type": "stream",
     "text": [
      "Progress Bar: 100%|████████████████████████████████████████████████████████████████████| 10/10 [01:41<00:00, 10.11s/it]\n"
     ]
    },
    {
     "name": "stdout",
     "output_type": "stream",
     "text": [
      "Fedavg:\n",
      "313/313 [==============================] - 2s 7ms/step\n",
      "comm_round: 411 | global_acc: 62.720% | global_loss: 1.8323031663894653\n",
      "GSM-FedAvg\n",
      "313/313 [==============================] - 2s 7ms/step\n",
      "comm_round: 411 | global_acc: 60.610% | global_loss: 1.852858066558838\n"
     ]
    },
    {
     "name": "stderr",
     "output_type": "stream",
     "text": [
      "Progress Bar: 100%|████████████████████████████████████████████████████████████████████| 10/10 [01:19<00:00,  7.98s/it]\n"
     ]
    },
    {
     "name": "stdout",
     "output_type": "stream",
     "text": [
      "Fedavg:\n",
      "313/313 [==============================] - 3s 8ms/step\n",
      "comm_round: 412 | global_acc: 62.420% | global_loss: 1.833801031112671\n",
      "GSM-FedAvg\n",
      "313/313 [==============================] - 3s 9ms/step\n",
      "comm_round: 412 | global_acc: 60.650% | global_loss: 1.8520935773849487\n"
     ]
    },
    {
     "name": "stderr",
     "output_type": "stream",
     "text": [
      "Progress Bar: 100%|████████████████████████████████████████████████████████████████████| 10/10 [01:23<00:00,  8.32s/it]\n"
     ]
    },
    {
     "name": "stdout",
     "output_type": "stream",
     "text": [
      "Fedavg:\n",
      "313/313 [==============================] - 3s 9ms/step\n",
      "comm_round: 413 | global_acc: 62.780% | global_loss: 1.8309992551803589\n",
      "GSM-FedAvg\n",
      "313/313 [==============================] - 3s 8ms/step\n",
      "comm_round: 413 | global_acc: 60.610% | global_loss: 1.852237343788147\n"
     ]
    },
    {
     "name": "stderr",
     "output_type": "stream",
     "text": [
      "Progress Bar: 100%|████████████████████████████████████████████████████████████████████| 10/10 [01:23<00:00,  8.32s/it]\n"
     ]
    },
    {
     "name": "stdout",
     "output_type": "stream",
     "text": [
      "Fedavg:\n",
      "313/313 [==============================] - 3s 8ms/step\n",
      "comm_round: 414 | global_acc: 62.780% | global_loss: 1.8303449153900146\n",
      "GSM-FedAvg\n",
      "313/313 [==============================] - 2s 7ms/step\n",
      "comm_round: 414 | global_acc: 60.630% | global_loss: 1.8521833419799805\n"
     ]
    },
    {
     "name": "stderr",
     "output_type": "stream",
     "text": [
      "Progress Bar: 100%|████████████████████████████████████████████████████████████████████| 10/10 [01:21<00:00,  8.19s/it]\n"
     ]
    },
    {
     "name": "stdout",
     "output_type": "stream",
     "text": [
      "Fedavg:\n",
      "313/313 [==============================] - 2s 7ms/step\n",
      "comm_round: 415 | global_acc: 62.810% | global_loss: 1.830885410308838\n",
      "GSM-FedAvg\n",
      "313/313 [==============================] - 2s 7ms/step\n",
      "comm_round: 415 | global_acc: 60.770% | global_loss: 1.852294921875\n"
     ]
    },
    {
     "name": "stderr",
     "output_type": "stream",
     "text": [
      "Progress Bar: 100%|████████████████████████████████████████████████████████████████████| 10/10 [01:22<00:00,  8.24s/it]\n"
     ]
    },
    {
     "name": "stdout",
     "output_type": "stream",
     "text": [
      "Fedavg:\n",
      "313/313 [==============================] - 3s 8ms/step\n",
      "comm_round: 416 | global_acc: 62.750% | global_loss: 1.8319681882858276\n",
      "GSM-FedAvg\n",
      "313/313 [==============================] - 2s 7ms/step\n",
      "comm_round: 416 | global_acc: 60.650% | global_loss: 1.8524209260940552\n"
     ]
    },
    {
     "name": "stderr",
     "output_type": "stream",
     "text": [
      "Progress Bar: 100%|████████████████████████████████████████████████████████████████████| 10/10 [01:22<00:00,  8.22s/it]\n"
     ]
    },
    {
     "name": "stdout",
     "output_type": "stream",
     "text": [
      "Fedavg:\n",
      "313/313 [==============================] - 2s 8ms/step\n",
      "comm_round: 417 | global_acc: 62.750% | global_loss: 1.8322179317474365\n",
      "GSM-FedAvg\n",
      "313/313 [==============================] - 2s 7ms/step\n",
      "comm_round: 417 | global_acc: 60.570% | global_loss: 1.852178931236267\n"
     ]
    },
    {
     "name": "stderr",
     "output_type": "stream",
     "text": [
      "Progress Bar: 100%|████████████████████████████████████████████████████████████████████| 10/10 [01:19<00:00,  7.91s/it]\n"
     ]
    },
    {
     "name": "stdout",
     "output_type": "stream",
     "text": [
      "Fedavg:\n",
      "313/313 [==============================] - 3s 8ms/step\n",
      "comm_round: 418 | global_acc: 62.720% | global_loss: 1.8318029642105103\n",
      "GSM-FedAvg\n",
      "313/313 [==============================] - 2s 7ms/step\n",
      "comm_round: 418 | global_acc: 60.590% | global_loss: 1.8531371355056763\n"
     ]
    },
    {
     "name": "stderr",
     "output_type": "stream",
     "text": [
      "Progress Bar: 100%|████████████████████████████████████████████████████████████████████| 10/10 [01:26<00:00,  8.63s/it]\n"
     ]
    },
    {
     "name": "stdout",
     "output_type": "stream",
     "text": [
      "Fedavg:\n",
      "313/313 [==============================] - 2s 6ms/step\n",
      "comm_round: 419 | global_acc: 62.680% | global_loss: 1.8327336311340332\n",
      "GSM-FedAvg\n",
      "313/313 [==============================] - 2s 6ms/step\n",
      "comm_round: 419 | global_acc: 60.470% | global_loss: 1.8532142639160156\n"
     ]
    },
    {
     "name": "stderr",
     "output_type": "stream",
     "text": [
      "Progress Bar: 100%|████████████████████████████████████████████████████████████████████| 10/10 [01:25<00:00,  8.50s/it]\n"
     ]
    },
    {
     "name": "stdout",
     "output_type": "stream",
     "text": [
      "Fedavg:\n",
      "313/313 [==============================] - 3s 9ms/step\n",
      "comm_round: 420 | global_acc: 62.770% | global_loss: 1.8316680192947388\n",
      "GSM-FedAvg\n",
      "313/313 [==============================] - 3s 9ms/step\n",
      "comm_round: 420 | global_acc: 60.610% | global_loss: 1.8528958559036255\n"
     ]
    },
    {
     "name": "stderr",
     "output_type": "stream",
     "text": [
      "Progress Bar: 100%|████████████████████████████████████████████████████████████████████| 10/10 [01:22<00:00,  8.26s/it]\n"
     ]
    },
    {
     "name": "stdout",
     "output_type": "stream",
     "text": [
      "Fedavg:\n",
      "313/313 [==============================] - 2s 7ms/step\n",
      "comm_round: 421 | global_acc: 62.520% | global_loss: 1.8335193395614624\n",
      "GSM-FedAvg\n",
      "313/313 [==============================] - 2s 7ms/step\n",
      "comm_round: 421 | global_acc: 60.590% | global_loss: 1.8530855178833008\n"
     ]
    },
    {
     "name": "stderr",
     "output_type": "stream",
     "text": [
      "Progress Bar: 100%|████████████████████████████████████████████████████████████████████| 10/10 [01:23<00:00,  8.37s/it]\n"
     ]
    },
    {
     "name": "stdout",
     "output_type": "stream",
     "text": [
      "Fedavg:\n",
      "313/313 [==============================] - 3s 9ms/step\n",
      "comm_round: 422 | global_acc: 62.650% | global_loss: 1.8330156803131104\n",
      "GSM-FedAvg\n",
      "313/313 [==============================] - 2s 7ms/step\n",
      "comm_round: 422 | global_acc: 60.670% | global_loss: 1.8519773483276367\n"
     ]
    },
    {
     "name": "stderr",
     "output_type": "stream",
     "text": [
      "Progress Bar: 100%|████████████████████████████████████████████████████████████████████| 10/10 [01:21<00:00,  8.16s/it]\n"
     ]
    },
    {
     "name": "stdout",
     "output_type": "stream",
     "text": [
      "Fedavg:\n",
      "313/313 [==============================] - 3s 9ms/step\n",
      "comm_round: 423 | global_acc: 62.550% | global_loss: 1.8329232931137085\n",
      "GSM-FedAvg\n",
      "313/313 [==============================] - 2s 7ms/step\n",
      "comm_round: 423 | global_acc: 60.760% | global_loss: 1.8521193265914917\n"
     ]
    },
    {
     "name": "stderr",
     "output_type": "stream",
     "text": [
      "Progress Bar: 100%|████████████████████████████████████████████████████████████████████| 10/10 [01:21<00:00,  8.11s/it]\n"
     ]
    },
    {
     "name": "stdout",
     "output_type": "stream",
     "text": [
      "Fedavg:\n",
      "313/313 [==============================] - 2s 8ms/step\n",
      "comm_round: 424 | global_acc: 62.700% | global_loss: 1.8306964635849\n",
      "GSM-FedAvg\n",
      "313/313 [==============================] - 2s 8ms/step\n",
      "comm_round: 424 | global_acc: 60.630% | global_loss: 1.8523855209350586\n"
     ]
    },
    {
     "name": "stderr",
     "output_type": "stream",
     "text": [
      "Progress Bar: 100%|████████████████████████████████████████████████████████████████████| 10/10 [01:23<00:00,  8.36s/it]\n"
     ]
    },
    {
     "name": "stdout",
     "output_type": "stream",
     "text": [
      "Fedavg:\n",
      "313/313 [==============================] - 2s 7ms/step\n",
      "comm_round: 425 | global_acc: 62.680% | global_loss: 1.8309378623962402\n",
      "GSM-FedAvg\n",
      "313/313 [==============================] - 3s 9ms/step\n",
      "comm_round: 425 | global_acc: 60.720% | global_loss: 1.8521769046783447\n"
     ]
    },
    {
     "name": "stderr",
     "output_type": "stream",
     "text": [
      "Progress Bar: 100%|████████████████████████████████████████████████████████████████████| 10/10 [01:27<00:00,  8.73s/it]\n"
     ]
    },
    {
     "name": "stdout",
     "output_type": "stream",
     "text": [
      "Fedavg:\n",
      "313/313 [==============================] - 3s 9ms/step\n",
      "comm_round: 426 | global_acc: 62.510% | global_loss: 1.833240032196045\n",
      "GSM-FedAvg\n",
      "313/313 [==============================] - 3s 9ms/step\n",
      "comm_round: 426 | global_acc: 60.760% | global_loss: 1.852939248085022\n"
     ]
    },
    {
     "name": "stderr",
     "output_type": "stream",
     "text": [
      "Progress Bar: 100%|████████████████████████████████████████████████████████████████████| 10/10 [01:23<00:00,  8.31s/it]\n"
     ]
    },
    {
     "name": "stdout",
     "output_type": "stream",
     "text": [
      "Fedavg:\n",
      "313/313 [==============================] - 3s 9ms/step\n",
      "comm_round: 427 | global_acc: 62.700% | global_loss: 1.8311933279037476\n",
      "GSM-FedAvg\n",
      "313/313 [==============================] - 3s 9ms/step\n",
      "comm_round: 427 | global_acc: 60.660% | global_loss: 1.8529428243637085\n"
     ]
    },
    {
     "name": "stderr",
     "output_type": "stream",
     "text": [
      "Progress Bar: 100%|████████████████████████████████████████████████████████████████████| 10/10 [01:22<00:00,  8.29s/it]\n"
     ]
    },
    {
     "name": "stdout",
     "output_type": "stream",
     "text": [
      "Fedavg:\n",
      "313/313 [==============================] - 4s 11ms/step\n",
      "comm_round: 428 | global_acc: 62.490% | global_loss: 1.8341082334518433\n",
      "GSM-FedAvg\n",
      "313/313 [==============================] - 4s 12ms/step\n",
      "comm_round: 428 | global_acc: 60.660% | global_loss: 1.852502703666687\n"
     ]
    },
    {
     "name": "stderr",
     "output_type": "stream",
     "text": [
      "Progress Bar: 100%|████████████████████████████████████████████████████████████████████| 10/10 [01:57<00:00, 11.76s/it]\n"
     ]
    },
    {
     "name": "stdout",
     "output_type": "stream",
     "text": [
      "Fedavg:\n",
      "313/313 [==============================] - 3s 10ms/step\n",
      "comm_round: 429 | global_acc: 62.670% | global_loss: 1.8317521810531616\n",
      "GSM-FedAvg\n",
      "313/313 [==============================] - 3s 10ms/step\n",
      "comm_round: 429 | global_acc: 60.690% | global_loss: 1.8526641130447388\n"
     ]
    },
    {
     "name": "stderr",
     "output_type": "stream",
     "text": [
      "Progress Bar: 100%|████████████████████████████████████████████████████████████████████| 10/10 [01:42<00:00, 10.25s/it]\n"
     ]
    },
    {
     "name": "stdout",
     "output_type": "stream",
     "text": [
      "Fedavg:\n",
      "313/313 [==============================] - 3s 8ms/step\n",
      "comm_round: 430 | global_acc: 62.880% | global_loss: 1.8312427997589111\n",
      "GSM-FedAvg\n",
      "313/313 [==============================] - 2s 7ms/step\n",
      "comm_round: 430 | global_acc: 60.610% | global_loss: 1.8524366617202759\n"
     ]
    },
    {
     "name": "stderr",
     "output_type": "stream",
     "text": [
      "Progress Bar: 100%|████████████████████████████████████████████████████████████████████| 10/10 [01:27<00:00,  8.78s/it]\n"
     ]
    },
    {
     "name": "stdout",
     "output_type": "stream",
     "text": [
      "Fedavg:\n",
      "313/313 [==============================] - 3s 9ms/step\n",
      "comm_round: 431 | global_acc: 62.680% | global_loss: 1.8314266204833984\n",
      "GSM-FedAvg\n",
      "313/313 [==============================] - 2s 6ms/step\n",
      "comm_round: 431 | global_acc: 60.660% | global_loss: 1.8518555164337158\n"
     ]
    },
    {
     "name": "stderr",
     "output_type": "stream",
     "text": [
      "Progress Bar: 100%|████████████████████████████████████████████████████████████████████| 10/10 [01:39<00:00,  9.95s/it]\n"
     ]
    },
    {
     "name": "stdout",
     "output_type": "stream",
     "text": [
      "Fedavg:\n",
      "313/313 [==============================] - 3s 9ms/step\n",
      "comm_round: 432 | global_acc: 62.540% | global_loss: 1.832183599472046\n",
      "GSM-FedAvg\n",
      "313/313 [==============================] - 3s 9ms/step\n",
      "comm_round: 432 | global_acc: 60.560% | global_loss: 1.8523095846176147\n"
     ]
    },
    {
     "name": "stderr",
     "output_type": "stream",
     "text": [
      "Progress Bar: 100%|████████████████████████████████████████████████████████████████████| 10/10 [01:25<00:00,  8.54s/it]\n"
     ]
    },
    {
     "name": "stdout",
     "output_type": "stream",
     "text": [
      "Fedavg:\n",
      "313/313 [==============================] - 3s 8ms/step\n",
      "comm_round: 433 | global_acc: 62.330% | global_loss: 1.833420753479004\n",
      "GSM-FedAvg\n",
      "313/313 [==============================] - 2s 7ms/step\n",
      "comm_round: 433 | global_acc: 60.570% | global_loss: 1.8530762195587158\n"
     ]
    },
    {
     "name": "stderr",
     "output_type": "stream",
     "text": [
      "Progress Bar: 100%|████████████████████████████████████████████████████████████████████| 10/10 [01:31<00:00,  9.18s/it]\n"
     ]
    },
    {
     "name": "stdout",
     "output_type": "stream",
     "text": [
      "Fedavg:\n",
      "313/313 [==============================] - 3s 10ms/step\n",
      "comm_round: 434 | global_acc: 62.710% | global_loss: 1.8322474956512451\n",
      "GSM-FedAvg\n",
      "313/313 [==============================] - 3s 11ms/step\n",
      "comm_round: 434 | global_acc: 60.640% | global_loss: 1.8522979021072388\n"
     ]
    },
    {
     "name": "stderr",
     "output_type": "stream",
     "text": [
      "Progress Bar: 100%|████████████████████████████████████████████████████████████████████| 10/10 [01:30<00:00,  9.05s/it]\n"
     ]
    },
    {
     "name": "stdout",
     "output_type": "stream",
     "text": [
      "Fedavg:\n",
      "313/313 [==============================] - 3s 9ms/step\n",
      "comm_round: 435 | global_acc: 62.650% | global_loss: 1.8330992460250854\n",
      "GSM-FedAvg\n",
      "313/313 [==============================] - 3s 9ms/step\n",
      "comm_round: 435 | global_acc: 60.770% | global_loss: 1.852370262145996\n"
     ]
    },
    {
     "name": "stderr",
     "output_type": "stream",
     "text": [
      "Progress Bar: 100%|████████████████████████████████████████████████████████████████████| 10/10 [01:40<00:00, 10.05s/it]\n"
     ]
    },
    {
     "name": "stdout",
     "output_type": "stream",
     "text": [
      "Fedavg:\n",
      "313/313 [==============================] - 3s 10ms/step\n",
      "comm_round: 436 | global_acc: 62.660% | global_loss: 1.8312958478927612\n",
      "GSM-FedAvg\n",
      "313/313 [==============================] - 3s 8ms/step\n",
      "comm_round: 436 | global_acc: 60.680% | global_loss: 1.8521660566329956\n"
     ]
    },
    {
     "name": "stderr",
     "output_type": "stream",
     "text": [
      "Progress Bar: 100%|████████████████████████████████████████████████████████████████████| 10/10 [02:02<00:00, 12.26s/it]\n"
     ]
    },
    {
     "name": "stdout",
     "output_type": "stream",
     "text": [
      "Fedavg:\n",
      "313/313 [==============================] - 4s 11ms/step\n",
      "comm_round: 437 | global_acc: 62.630% | global_loss: 1.8315047025680542\n",
      "GSM-FedAvg\n",
      "313/313 [==============================] - 3s 11ms/step\n",
      "comm_round: 437 | global_acc: 60.660% | global_loss: 1.8525433540344238\n"
     ]
    },
    {
     "name": "stderr",
     "output_type": "stream",
     "text": [
      "Progress Bar: 100%|████████████████████████████████████████████████████████████████████| 10/10 [01:53<00:00, 11.39s/it]\n"
     ]
    },
    {
     "name": "stdout",
     "output_type": "stream",
     "text": [
      "Fedavg:\n",
      "313/313 [==============================] - 4s 11ms/step\n",
      "comm_round: 438 | global_acc: 62.940% | global_loss: 1.8306422233581543\n",
      "GSM-FedAvg\n",
      "313/313 [==============================] - 4s 12ms/step\n",
      "comm_round: 438 | global_acc: 60.710% | global_loss: 1.8521230220794678\n"
     ]
    },
    {
     "name": "stderr",
     "output_type": "stream",
     "text": [
      "Progress Bar: 100%|████████████████████████████████████████████████████████████████████| 10/10 [02:01<00:00, 12.17s/it]\n"
     ]
    },
    {
     "name": "stdout",
     "output_type": "stream",
     "text": [
      "Fedavg:\n",
      "313/313 [==============================] - 3s 8ms/step\n",
      "comm_round: 439 | global_acc: 62.860% | global_loss: 1.8301059007644653\n",
      "GSM-FedAvg\n",
      "313/313 [==============================] - 3s 11ms/step\n",
      "comm_round: 439 | global_acc: 60.690% | global_loss: 1.8522605895996094\n"
     ]
    },
    {
     "name": "stderr",
     "output_type": "stream",
     "text": [
      "Progress Bar: 100%|████████████████████████████████████████████████████████████████████| 10/10 [01:47<00:00, 10.73s/it]\n"
     ]
    },
    {
     "name": "stdout",
     "output_type": "stream",
     "text": [
      "Fedavg:\n",
      "313/313 [==============================] - 4s 12ms/step\n",
      "comm_round: 440 | global_acc: 62.700% | global_loss: 1.831681251525879\n",
      "GSM-FedAvg\n",
      "313/313 [==============================] - 3s 10ms/step\n",
      "comm_round: 440 | global_acc: 60.670% | global_loss: 1.8521801233291626\n"
     ]
    },
    {
     "name": "stderr",
     "output_type": "stream",
     "text": [
      "Progress Bar: 100%|████████████████████████████████████████████████████████████████████| 10/10 [01:52<00:00, 11.28s/it]\n"
     ]
    },
    {
     "name": "stdout",
     "output_type": "stream",
     "text": [
      "Fedavg:\n",
      "313/313 [==============================] - 2s 7ms/step\n",
      "comm_round: 441 | global_acc: 62.850% | global_loss: 1.830498456954956\n",
      "GSM-FedAvg\n",
      "313/313 [==============================] - 3s 9ms/step\n",
      "comm_round: 441 | global_acc: 60.740% | global_loss: 1.8514628410339355\n"
     ]
    },
    {
     "name": "stderr",
     "output_type": "stream",
     "text": [
      "Progress Bar: 100%|████████████████████████████████████████████████████████████████████| 10/10 [01:25<00:00,  8.55s/it]\n"
     ]
    },
    {
     "name": "stdout",
     "output_type": "stream",
     "text": [
      "Fedavg:\n",
      "313/313 [==============================] - 3s 9ms/step\n",
      "comm_round: 442 | global_acc: 62.880% | global_loss: 1.830453872680664\n",
      "GSM-FedAvg\n",
      "313/313 [==============================] - 3s 10ms/step\n",
      "comm_round: 442 | global_acc: 60.710% | global_loss: 1.8516359329223633\n"
     ]
    },
    {
     "name": "stderr",
     "output_type": "stream",
     "text": [
      "Progress Bar: 100%|████████████████████████████████████████████████████████████████████| 10/10 [01:36<00:00,  9.67s/it]\n"
     ]
    },
    {
     "name": "stdout",
     "output_type": "stream",
     "text": [
      "Fedavg:\n",
      "313/313 [==============================] - 3s 10ms/step\n",
      "comm_round: 443 | global_acc: 62.830% | global_loss: 1.8312305212020874\n",
      "GSM-FedAvg\n",
      "313/313 [==============================] - 3s 8ms/step\n",
      "comm_round: 443 | global_acc: 60.670% | global_loss: 1.8516689538955688\n"
     ]
    },
    {
     "name": "stderr",
     "output_type": "stream",
     "text": [
      "Progress Bar: 100%|████████████████████████████████████████████████████████████████████| 10/10 [01:50<00:00, 11.07s/it]\n"
     ]
    },
    {
     "name": "stdout",
     "output_type": "stream",
     "text": [
      "Fedavg:\n",
      "313/313 [==============================] - 4s 12ms/step\n",
      "comm_round: 444 | global_acc: 62.930% | global_loss: 1.8312116861343384\n",
      "GSM-FedAvg\n",
      "313/313 [==============================] - 4s 11ms/step\n",
      "comm_round: 444 | global_acc: 60.680% | global_loss: 1.8519693613052368\n"
     ]
    },
    {
     "name": "stderr",
     "output_type": "stream",
     "text": [
      "Progress Bar: 100%|████████████████████████████████████████████████████████████████████| 10/10 [01:57<00:00, 11.79s/it]\n"
     ]
    },
    {
     "name": "stdout",
     "output_type": "stream",
     "text": [
      "Fedavg:\n",
      "313/313 [==============================] - 3s 9ms/step\n",
      "comm_round: 445 | global_acc: 62.540% | global_loss: 1.832505464553833\n",
      "GSM-FedAvg\n",
      "313/313 [==============================] - 3s 10ms/step\n",
      "comm_round: 445 | global_acc: 60.760% | global_loss: 1.8520208597183228\n"
     ]
    },
    {
     "name": "stderr",
     "output_type": "stream",
     "text": [
      "Progress Bar: 100%|████████████████████████████████████████████████████████████████████| 10/10 [01:46<00:00, 10.63s/it]\n"
     ]
    },
    {
     "name": "stdout",
     "output_type": "stream",
     "text": [
      "Fedavg:\n",
      "313/313 [==============================] - 3s 9ms/step\n",
      "comm_round: 446 | global_acc: 62.730% | global_loss: 1.831848382949829\n",
      "GSM-FedAvg\n",
      "313/313 [==============================] - 3s 8ms/step\n",
      "comm_round: 446 | global_acc: 60.810% | global_loss: 1.8518779277801514\n"
     ]
    },
    {
     "name": "stderr",
     "output_type": "stream",
     "text": [
      "Progress Bar: 100%|████████████████████████████████████████████████████████████████████| 10/10 [01:57<00:00, 11.70s/it]\n"
     ]
    },
    {
     "name": "stdout",
     "output_type": "stream",
     "text": [
      "Fedavg:\n",
      "313/313 [==============================] - 3s 8ms/step\n",
      "comm_round: 447 | global_acc: 62.620% | global_loss: 1.831229329109192\n",
      "GSM-FedAvg\n",
      "313/313 [==============================] - 3s 8ms/step\n",
      "comm_round: 447 | global_acc: 60.780% | global_loss: 1.8517390489578247\n"
     ]
    },
    {
     "name": "stderr",
     "output_type": "stream",
     "text": [
      "Progress Bar: 100%|████████████████████████████████████████████████████████████████████| 10/10 [01:59<00:00, 11.98s/it]\n"
     ]
    },
    {
     "name": "stdout",
     "output_type": "stream",
     "text": [
      "Fedavg:\n",
      "313/313 [==============================] - 2s 8ms/step\n",
      "comm_round: 448 | global_acc: 62.830% | global_loss: 1.8306471109390259\n",
      "GSM-FedAvg\n",
      "313/313 [==============================] - 3s 10ms/step\n",
      "comm_round: 448 | global_acc: 60.710% | global_loss: 1.8521331548690796\n"
     ]
    },
    {
     "name": "stderr",
     "output_type": "stream",
     "text": [
      "Progress Bar: 100%|████████████████████████████████████████████████████████████████████| 10/10 [02:12<00:00, 13.23s/it]\n"
     ]
    },
    {
     "name": "stdout",
     "output_type": "stream",
     "text": [
      "Fedavg:\n",
      "313/313 [==============================] - 3s 11ms/step\n",
      "comm_round: 449 | global_acc: 62.900% | global_loss: 1.829824447631836\n",
      "GSM-FedAvg\n",
      "313/313 [==============================] - 3s 9ms/step\n",
      "comm_round: 449 | global_acc: 60.700% | global_loss: 1.8522017002105713\n"
     ]
    },
    {
     "name": "stderr",
     "output_type": "stream",
     "text": [
      "Progress Bar: 100%|████████████████████████████████████████████████████████████████████| 10/10 [02:09<00:00, 12.97s/it]\n"
     ]
    },
    {
     "name": "stdout",
     "output_type": "stream",
     "text": [
      "Fedavg:\n",
      "313/313 [==============================] - 4s 11ms/step\n",
      "comm_round: 450 | global_acc: 62.880% | global_loss: 1.8299401998519897\n",
      "GSM-FedAvg\n",
      "313/313 [==============================] - 3s 11ms/step\n",
      "comm_round: 450 | global_acc: 60.820% | global_loss: 1.8519376516342163\n"
     ]
    },
    {
     "name": "stderr",
     "output_type": "stream",
     "text": [
      "Progress Bar: 100%|████████████████████████████████████████████████████████████████████| 10/10 [01:40<00:00, 10.03s/it]\n"
     ]
    },
    {
     "name": "stdout",
     "output_type": "stream",
     "text": [
      "Fedavg:\n",
      "313/313 [==============================] - 3s 10ms/step\n",
      "comm_round: 451 | global_acc: 62.750% | global_loss: 1.8310813903808594\n",
      "GSM-FedAvg\n",
      "313/313 [==============================] - 3s 9ms/step\n",
      "comm_round: 451 | global_acc: 60.780% | global_loss: 1.8527675867080688\n"
     ]
    },
    {
     "name": "stderr",
     "output_type": "stream",
     "text": [
      "Progress Bar: 100%|████████████████████████████████████████████████████████████████████| 10/10 [01:50<00:00, 11.07s/it]\n"
     ]
    },
    {
     "name": "stdout",
     "output_type": "stream",
     "text": [
      "Fedavg:\n",
      "313/313 [==============================] - 4s 11ms/step\n",
      "comm_round: 452 | global_acc: 62.840% | global_loss: 1.831006646156311\n",
      "GSM-FedAvg\n",
      "313/313 [==============================] - 3s 10ms/step\n",
      "comm_round: 452 | global_acc: 60.690% | global_loss: 1.8523632287979126\n"
     ]
    },
    {
     "name": "stderr",
     "output_type": "stream",
     "text": [
      "Progress Bar: 100%|████████████████████████████████████████████████████████████████████| 10/10 [01:52<00:00, 11.25s/it]\n"
     ]
    },
    {
     "name": "stdout",
     "output_type": "stream",
     "text": [
      "Fedavg:\n",
      "313/313 [==============================] - 3s 10ms/step\n",
      "comm_round: 453 | global_acc: 62.830% | global_loss: 1.8304473161697388\n",
      "GSM-FedAvg\n",
      "313/313 [==============================] - 3s 9ms/step\n",
      "comm_round: 453 | global_acc: 60.700% | global_loss: 1.852658987045288\n"
     ]
    },
    {
     "name": "stderr",
     "output_type": "stream",
     "text": [
      "Progress Bar: 100%|████████████████████████████████████████████████████████████████████| 10/10 [02:03<00:00, 12.30s/it]\n"
     ]
    },
    {
     "name": "stdout",
     "output_type": "stream",
     "text": [
      "Fedavg:\n",
      "313/313 [==============================] - 4s 13ms/step\n",
      "comm_round: 454 | global_acc: 62.640% | global_loss: 1.8315469026565552\n",
      "GSM-FedAvg\n",
      "313/313 [==============================] - 4s 11ms/step\n",
      "comm_round: 454 | global_acc: 60.650% | global_loss: 1.8530124425888062\n"
     ]
    },
    {
     "name": "stderr",
     "output_type": "stream",
     "text": [
      "Progress Bar: 100%|████████████████████████████████████████████████████████████████████| 10/10 [02:08<00:00, 12.80s/it]\n"
     ]
    },
    {
     "name": "stdout",
     "output_type": "stream",
     "text": [
      "Fedavg:\n",
      "313/313 [==============================] - 4s 11ms/step\n",
      "comm_round: 455 | global_acc: 62.640% | global_loss: 1.83138108253479\n",
      "GSM-FedAvg\n",
      "313/313 [==============================] - 4s 13ms/step\n",
      "comm_round: 455 | global_acc: 60.650% | global_loss: 1.8524292707443237\n"
     ]
    },
    {
     "name": "stderr",
     "output_type": "stream",
     "text": [
      "Progress Bar: 100%|████████████████████████████████████████████████████████████████████| 10/10 [02:04<00:00, 12.47s/it]\n"
     ]
    },
    {
     "name": "stdout",
     "output_type": "stream",
     "text": [
      "Fedavg:\n",
      "313/313 [==============================] - 5s 17ms/step\n",
      "comm_round: 456 | global_acc: 62.760% | global_loss: 1.832154631614685\n",
      "GSM-FedAvg\n",
      "313/313 [==============================] - 4s 12ms/step\n",
      "comm_round: 456 | global_acc: 60.480% | global_loss: 1.8531996011734009\n"
     ]
    },
    {
     "name": "stderr",
     "output_type": "stream",
     "text": [
      "Progress Bar: 100%|████████████████████████████████████████████████████████████████████| 10/10 [01:59<00:00, 11.94s/it]\n"
     ]
    },
    {
     "name": "stdout",
     "output_type": "stream",
     "text": [
      "Fedavg:\n",
      "313/313 [==============================] - 4s 12ms/step\n",
      "comm_round: 457 | global_acc: 62.760% | global_loss: 1.8314460515975952\n",
      "GSM-FedAvg\n",
      "313/313 [==============================] - 3s 11ms/step\n",
      "comm_round: 457 | global_acc: 60.610% | global_loss: 1.8523787260055542\n"
     ]
    },
    {
     "name": "stderr",
     "output_type": "stream",
     "text": [
      "Progress Bar: 100%|████████████████████████████████████████████████████████████████████| 10/10 [01:54<00:00, 11.42s/it]\n"
     ]
    },
    {
     "name": "stdout",
     "output_type": "stream",
     "text": [
      "Fedavg:\n",
      "313/313 [==============================] - 3s 10ms/step\n",
      "comm_round: 458 | global_acc: 62.820% | global_loss: 1.8307640552520752\n",
      "GSM-FedAvg\n",
      "313/313 [==============================] - 4s 11ms/step\n",
      "comm_round: 458 | global_acc: 60.640% | global_loss: 1.8519636392593384\n"
     ]
    },
    {
     "name": "stderr",
     "output_type": "stream",
     "text": [
      "Progress Bar: 100%|████████████████████████████████████████████████████████████████████| 10/10 [01:54<00:00, 11.42s/it]\n"
     ]
    },
    {
     "name": "stdout",
     "output_type": "stream",
     "text": [
      "Fedavg:\n",
      "313/313 [==============================] - 3s 10ms/step\n",
      "comm_round: 459 | global_acc: 62.850% | global_loss: 1.8309015035629272\n",
      "GSM-FedAvg\n",
      "313/313 [==============================] - 3s 10ms/step\n",
      "comm_round: 459 | global_acc: 60.850% | global_loss: 1.8518742322921753\n"
     ]
    },
    {
     "name": "stderr",
     "output_type": "stream",
     "text": [
      "Progress Bar: 100%|████████████████████████████████████████████████████████████████████| 10/10 [01:30<00:00,  9.00s/it]\n"
     ]
    },
    {
     "name": "stdout",
     "output_type": "stream",
     "text": [
      "Fedavg:\n",
      "313/313 [==============================] - 2s 7ms/step\n",
      "comm_round: 460 | global_acc: 62.720% | global_loss: 1.8312937021255493\n",
      "GSM-FedAvg\n",
      "313/313 [==============================] - 3s 9ms/step\n",
      "comm_round: 460 | global_acc: 60.860% | global_loss: 1.851996898651123\n"
     ]
    },
    {
     "name": "stderr",
     "output_type": "stream",
     "text": [
      "Progress Bar: 100%|████████████████████████████████████████████████████████████████████| 10/10 [01:44<00:00, 10.47s/it]\n"
     ]
    },
    {
     "name": "stdout",
     "output_type": "stream",
     "text": [
      "Fedavg:\n",
      "313/313 [==============================] - 3s 9ms/step\n",
      "comm_round: 461 | global_acc: 62.800% | global_loss: 1.8309695720672607\n",
      "GSM-FedAvg\n",
      "313/313 [==============================] - 4s 13ms/step\n",
      "comm_round: 461 | global_acc: 60.800% | global_loss: 1.8526437282562256\n"
     ]
    },
    {
     "name": "stderr",
     "output_type": "stream",
     "text": [
      "Progress Bar: 100%|████████████████████████████████████████████████████████████████████| 10/10 [01:57<00:00, 11.70s/it]\n"
     ]
    },
    {
     "name": "stdout",
     "output_type": "stream",
     "text": [
      "Fedavg:\n",
      "313/313 [==============================] - 4s 12ms/step\n",
      "comm_round: 462 | global_acc: 62.770% | global_loss: 1.8305193185806274\n",
      "GSM-FedAvg\n",
      "313/313 [==============================] - 3s 11ms/step\n",
      "comm_round: 462 | global_acc: 60.640% | global_loss: 1.8521318435668945\n"
     ]
    },
    {
     "name": "stderr",
     "output_type": "stream",
     "text": [
      "Progress Bar: 100%|████████████████████████████████████████████████████████████████████| 10/10 [01:50<00:00, 11.05s/it]\n"
     ]
    },
    {
     "name": "stdout",
     "output_type": "stream",
     "text": [
      "Fedavg:\n",
      "313/313 [==============================] - 3s 10ms/step\n",
      "comm_round: 463 | global_acc: 62.820% | global_loss: 1.830756664276123\n",
      "GSM-FedAvg\n",
      "313/313 [==============================] - 4s 12ms/step\n",
      "comm_round: 463 | global_acc: 60.770% | global_loss: 1.8514937162399292\n"
     ]
    },
    {
     "name": "stderr",
     "output_type": "stream",
     "text": [
      "Progress Bar: 100%|████████████████████████████████████████████████████████████████████| 10/10 [01:46<00:00, 10.63s/it]\n"
     ]
    },
    {
     "name": "stdout",
     "output_type": "stream",
     "text": [
      "Fedavg:\n",
      "313/313 [==============================] - 4s 12ms/step\n",
      "comm_round: 464 | global_acc: 62.720% | global_loss: 1.8317803144454956\n",
      "GSM-FedAvg\n",
      "313/313 [==============================] - 4s 11ms/step\n",
      "comm_round: 464 | global_acc: 60.780% | global_loss: 1.8520888090133667\n"
     ]
    },
    {
     "name": "stderr",
     "output_type": "stream",
     "text": [
      "Progress Bar: 100%|████████████████████████████████████████████████████████████████████| 10/10 [01:58<00:00, 11.82s/it]\n"
     ]
    },
    {
     "name": "stdout",
     "output_type": "stream",
     "text": [
      "Fedavg:\n",
      "313/313 [==============================] - 4s 12ms/step\n",
      "comm_round: 465 | global_acc: 62.800% | global_loss: 1.830270528793335\n",
      "GSM-FedAvg\n",
      "313/313 [==============================] - 4s 12ms/step\n",
      "comm_round: 465 | global_acc: 60.800% | global_loss: 1.852068543434143\n"
     ]
    },
    {
     "name": "stderr",
     "output_type": "stream",
     "text": [
      "Progress Bar: 100%|████████████████████████████████████████████████████████████████████| 10/10 [01:51<00:00, 11.14s/it]\n"
     ]
    },
    {
     "name": "stdout",
     "output_type": "stream",
     "text": [
      "Fedavg:\n",
      "313/313 [==============================] - 4s 11ms/step\n",
      "comm_round: 466 | global_acc: 62.810% | global_loss: 1.8312361240386963\n",
      "GSM-FedAvg\n",
      "313/313 [==============================] - 4s 11ms/step\n",
      "comm_round: 466 | global_acc: 60.610% | global_loss: 1.852783203125\n"
     ]
    },
    {
     "name": "stderr",
     "output_type": "stream",
     "text": [
      "Progress Bar: 100%|████████████████████████████████████████████████████████████████████| 10/10 [01:58<00:00, 11.88s/it]\n"
     ]
    },
    {
     "name": "stdout",
     "output_type": "stream",
     "text": [
      "Fedavg:\n",
      "313/313 [==============================] - 4s 12ms/step\n",
      "comm_round: 467 | global_acc: 62.880% | global_loss: 1.8304355144500732\n",
      "GSM-FedAvg\n",
      "313/313 [==============================] - 3s 10ms/step\n",
      "comm_round: 467 | global_acc: 60.710% | global_loss: 1.852083444595337\n"
     ]
    },
    {
     "name": "stderr",
     "output_type": "stream",
     "text": [
      "Progress Bar: 100%|████████████████████████████████████████████████████████████████████| 10/10 [01:53<00:00, 11.32s/it]\n"
     ]
    },
    {
     "name": "stdout",
     "output_type": "stream",
     "text": [
      "Fedavg:\n",
      "313/313 [==============================] - 3s 10ms/step\n",
      "comm_round: 468 | global_acc: 62.990% | global_loss: 1.8298715353012085\n",
      "GSM-FedAvg\n",
      "313/313 [==============================] - 3s 11ms/step\n",
      "comm_round: 468 | global_acc: 60.760% | global_loss: 1.8517861366271973\n"
     ]
    },
    {
     "name": "stderr",
     "output_type": "stream",
     "text": [
      "Progress Bar: 100%|████████████████████████████████████████████████████████████████████| 10/10 [01:55<00:00, 11.55s/it]\n"
     ]
    },
    {
     "name": "stdout",
     "output_type": "stream",
     "text": [
      "Fedavg:\n",
      "313/313 [==============================] - 3s 9ms/step\n",
      "comm_round: 469 | global_acc: 62.690% | global_loss: 1.8303136825561523\n",
      "GSM-FedAvg\n",
      "313/313 [==============================] - 3s 9ms/step\n",
      "comm_round: 469 | global_acc: 60.800% | global_loss: 1.8520547151565552\n"
     ]
    },
    {
     "name": "stderr",
     "output_type": "stream",
     "text": [
      "Progress Bar: 100%|████████████████████████████████████████████████████████████████████| 10/10 [01:28<00:00,  8.86s/it]\n"
     ]
    },
    {
     "name": "stdout",
     "output_type": "stream",
     "text": [
      "Fedavg:\n",
      "313/313 [==============================] - 4s 12ms/step\n",
      "comm_round: 470 | global_acc: 62.920% | global_loss: 1.8303442001342773\n",
      "GSM-FedAvg\n",
      "313/313 [==============================] - 4s 12ms/step\n",
      "comm_round: 470 | global_acc: 60.720% | global_loss: 1.852859377861023\n"
     ]
    },
    {
     "name": "stderr",
     "output_type": "stream",
     "text": [
      "Progress Bar: 100%|████████████████████████████████████████████████████████████████████| 10/10 [01:54<00:00, 11.50s/it]\n"
     ]
    },
    {
     "name": "stdout",
     "output_type": "stream",
     "text": [
      "Fedavg:\n",
      "313/313 [==============================] - 4s 12ms/step\n",
      "comm_round: 471 | global_acc: 62.950% | global_loss: 1.8302910327911377\n",
      "GSM-FedAvg\n",
      "313/313 [==============================] - 4s 12ms/step\n",
      "comm_round: 471 | global_acc: 60.690% | global_loss: 1.8519874811172485\n"
     ]
    },
    {
     "name": "stderr",
     "output_type": "stream",
     "text": [
      "Progress Bar: 100%|████████████████████████████████████████████████████████████████████| 10/10 [01:47<00:00, 10.72s/it]\n"
     ]
    },
    {
     "name": "stdout",
     "output_type": "stream",
     "text": [
      "Fedavg:\n",
      "313/313 [==============================] - 2s 7ms/step\n",
      "comm_round: 472 | global_acc: 63.000% | global_loss: 1.8295679092407227\n",
      "GSM-FedAvg\n",
      "313/313 [==============================] - 2s 6ms/step\n",
      "comm_round: 472 | global_acc: 60.740% | global_loss: 1.8514550924301147\n"
     ]
    },
    {
     "name": "stderr",
     "output_type": "stream",
     "text": [
      "Progress Bar: 100%|████████████████████████████████████████████████████████████████████| 10/10 [01:28<00:00,  8.88s/it]\n"
     ]
    },
    {
     "name": "stdout",
     "output_type": "stream",
     "text": [
      "Fedavg:\n",
      "313/313 [==============================] - 3s 11ms/step\n",
      "comm_round: 473 | global_acc: 63.030% | global_loss: 1.8294007778167725\n",
      "GSM-FedAvg\n",
      "313/313 [==============================] - 3s 11ms/step\n",
      "comm_round: 473 | global_acc: 60.650% | global_loss: 1.8516913652420044\n"
     ]
    },
    {
     "name": "stderr",
     "output_type": "stream",
     "text": [
      "Progress Bar: 100%|████████████████████████████████████████████████████████████████████| 10/10 [01:35<00:00,  9.57s/it]\n"
     ]
    },
    {
     "name": "stdout",
     "output_type": "stream",
     "text": [
      "Fedavg:\n",
      "313/313 [==============================] - 3s 10ms/step\n",
      "comm_round: 474 | global_acc: 62.850% | global_loss: 1.8307000398635864\n",
      "GSM-FedAvg\n",
      "313/313 [==============================] - 3s 9ms/step\n",
      "comm_round: 474 | global_acc: 60.710% | global_loss: 1.8521758317947388\n"
     ]
    },
    {
     "name": "stderr",
     "output_type": "stream",
     "text": [
      "Progress Bar: 100%|████████████████████████████████████████████████████████████████████| 10/10 [01:29<00:00,  8.96s/it]\n"
     ]
    },
    {
     "name": "stdout",
     "output_type": "stream",
     "text": [
      "Fedavg:\n",
      "313/313 [==============================] - 3s 8ms/step\n",
      "comm_round: 475 | global_acc: 62.980% | global_loss: 1.8295809030532837\n",
      "GSM-FedAvg\n",
      "313/313 [==============================] - 3s 9ms/step\n",
      "comm_round: 475 | global_acc: 60.770% | global_loss: 1.8520119190216064\n"
     ]
    },
    {
     "name": "stderr",
     "output_type": "stream",
     "text": [
      "Progress Bar: 100%|████████████████████████████████████████████████████████████████████| 10/10 [01:23<00:00,  8.31s/it]\n"
     ]
    },
    {
     "name": "stdout",
     "output_type": "stream",
     "text": [
      "Fedavg:\n",
      "313/313 [==============================] - 3s 9ms/step\n",
      "comm_round: 476 | global_acc: 62.930% | global_loss: 1.8294870853424072\n",
      "GSM-FedAvg\n",
      "313/313 [==============================] - 3s 8ms/step\n",
      "comm_round: 476 | global_acc: 60.700% | global_loss: 1.8523194789886475\n"
     ]
    },
    {
     "name": "stderr",
     "output_type": "stream",
     "text": [
      "Progress Bar: 100%|████████████████████████████████████████████████████████████████████| 10/10 [01:29<00:00,  8.92s/it]\n"
     ]
    },
    {
     "name": "stdout",
     "output_type": "stream",
     "text": [
      "Fedavg:\n",
      "313/313 [==============================] - 3s 9ms/step\n",
      "comm_round: 477 | global_acc: 62.820% | global_loss: 1.830194354057312\n",
      "GSM-FedAvg\n",
      "313/313 [==============================] - 3s 9ms/step\n",
      "comm_round: 477 | global_acc: 60.570% | global_loss: 1.8527214527130127\n"
     ]
    },
    {
     "name": "stderr",
     "output_type": "stream",
     "text": [
      "Progress Bar: 100%|████████████████████████████████████████████████████████████████████| 10/10 [01:24<00:00,  8.48s/it]\n"
     ]
    },
    {
     "name": "stdout",
     "output_type": "stream",
     "text": [
      "Fedavg:\n",
      "313/313 [==============================] - 3s 9ms/step\n",
      "comm_round: 478 | global_acc: 62.980% | global_loss: 1.8295420408248901\n",
      "GSM-FedAvg\n",
      "313/313 [==============================] - 3s 9ms/step\n",
      "comm_round: 478 | global_acc: 60.640% | global_loss: 1.8517916202545166\n"
     ]
    },
    {
     "name": "stderr",
     "output_type": "stream",
     "text": [
      "Progress Bar: 100%|████████████████████████████████████████████████████████████████████| 10/10 [01:27<00:00,  8.80s/it]\n"
     ]
    },
    {
     "name": "stdout",
     "output_type": "stream",
     "text": [
      "Fedavg:\n",
      "313/313 [==============================] - 3s 11ms/step\n",
      "comm_round: 479 | global_acc: 62.910% | global_loss: 1.8301875591278076\n",
      "GSM-FedAvg\n",
      "313/313 [==============================] - 3s 10ms/step\n",
      "comm_round: 479 | global_acc: 60.720% | global_loss: 1.8524494171142578\n"
     ]
    },
    {
     "name": "stderr",
     "output_type": "stream",
     "text": [
      "Progress Bar: 100%|████████████████████████████████████████████████████████████████████| 10/10 [01:30<00:00,  9.02s/it]\n"
     ]
    },
    {
     "name": "stdout",
     "output_type": "stream",
     "text": [
      "Fedavg:\n",
      "313/313 [==============================] - 3s 10ms/step\n",
      "comm_round: 480 | global_acc: 63.050% | global_loss: 1.830520749092102\n",
      "GSM-FedAvg\n",
      "313/313 [==============================] - 3s 11ms/step\n",
      "comm_round: 480 | global_acc: 60.820% | global_loss: 1.8521854877471924\n"
     ]
    },
    {
     "name": "stderr",
     "output_type": "stream",
     "text": [
      "Progress Bar: 100%|████████████████████████████████████████████████████████████████████| 10/10 [01:33<00:00,  9.37s/it]\n"
     ]
    },
    {
     "name": "stdout",
     "output_type": "stream",
     "text": [
      "Fedavg:\n",
      "313/313 [==============================] - 3s 9ms/step\n",
      "comm_round: 481 | global_acc: 63.060% | global_loss: 1.8294377326965332\n",
      "GSM-FedAvg\n",
      "313/313 [==============================] - 3s 10ms/step\n",
      "comm_round: 481 | global_acc: 60.670% | global_loss: 1.8523130416870117\n"
     ]
    },
    {
     "name": "stderr",
     "output_type": "stream",
     "text": [
      "Progress Bar: 100%|████████████████████████████████████████████████████████████████████| 10/10 [02:03<00:00, 12.31s/it]\n"
     ]
    },
    {
     "name": "stdout",
     "output_type": "stream",
     "text": [
      "Fedavg:\n",
      "313/313 [==============================] - 3s 9ms/step\n",
      "comm_round: 482 | global_acc: 63.200% | global_loss: 1.8298003673553467\n",
      "GSM-FedAvg\n",
      "313/313 [==============================] - 3s 8ms/step\n",
      "comm_round: 482 | global_acc: 60.780% | global_loss: 1.8523918390274048\n"
     ]
    },
    {
     "name": "stderr",
     "output_type": "stream",
     "text": [
      "Progress Bar: 100%|████████████████████████████████████████████████████████████████████| 10/10 [01:46<00:00, 10.61s/it]\n"
     ]
    },
    {
     "name": "stdout",
     "output_type": "stream",
     "text": [
      "Fedavg:\n",
      "313/313 [==============================] - 4s 11ms/step\n",
      "comm_round: 483 | global_acc: 63.130% | global_loss: 1.82966148853302\n",
      "GSM-FedAvg\n",
      "313/313 [==============================] - 4s 11ms/step\n",
      "comm_round: 483 | global_acc: 60.810% | global_loss: 1.8523184061050415\n"
     ]
    },
    {
     "name": "stderr",
     "output_type": "stream",
     "text": [
      "Progress Bar: 100%|████████████████████████████████████████████████████████████████████| 10/10 [01:52<00:00, 11.28s/it]\n"
     ]
    },
    {
     "name": "stdout",
     "output_type": "stream",
     "text": [
      "Fedavg:\n",
      "313/313 [==============================] - 4s 12ms/step\n",
      "comm_round: 484 | global_acc: 62.790% | global_loss: 1.830886721611023\n",
      "GSM-FedAvg\n",
      "313/313 [==============================] - 3s 10ms/step\n",
      "comm_round: 484 | global_acc: 60.580% | global_loss: 1.8525274991989136\n"
     ]
    },
    {
     "name": "stderr",
     "output_type": "stream",
     "text": [
      "Progress Bar: 100%|████████████████████████████████████████████████████████████████████| 10/10 [01:57<00:00, 11.74s/it]\n"
     ]
    },
    {
     "name": "stdout",
     "output_type": "stream",
     "text": [
      "Fedavg:\n",
      "313/313 [==============================] - 4s 11ms/step\n",
      "comm_round: 485 | global_acc: 62.810% | global_loss: 1.8303982019424438\n",
      "GSM-FedAvg\n",
      "313/313 [==============================] - 3s 9ms/step\n",
      "comm_round: 485 | global_acc: 60.660% | global_loss: 1.8519330024719238\n"
     ]
    },
    {
     "name": "stderr",
     "output_type": "stream",
     "text": [
      "Progress Bar: 100%|████████████████████████████████████████████████████████████████████| 10/10 [01:56<00:00, 11.69s/it]\n"
     ]
    },
    {
     "name": "stdout",
     "output_type": "stream",
     "text": [
      "Fedavg:\n",
      "313/313 [==============================] - 4s 12ms/step\n",
      "comm_round: 486 | global_acc: 62.590% | global_loss: 1.8310357332229614\n",
      "GSM-FedAvg\n",
      "313/313 [==============================] - 4s 11ms/step\n",
      "comm_round: 486 | global_acc: 60.680% | global_loss: 1.852311372756958\n"
     ]
    },
    {
     "name": "stderr",
     "output_type": "stream",
     "text": [
      "Progress Bar: 100%|████████████████████████████████████████████████████████████████████| 10/10 [01:54<00:00, 11.47s/it]\n"
     ]
    },
    {
     "name": "stdout",
     "output_type": "stream",
     "text": [
      "Fedavg:\n",
      "313/313 [==============================] - 3s 11ms/step\n",
      "comm_round: 487 | global_acc: 62.750% | global_loss: 1.830806851387024\n",
      "GSM-FedAvg\n",
      "313/313 [==============================] - 4s 14ms/step\n",
      "comm_round: 487 | global_acc: 60.680% | global_loss: 1.852097988128662\n"
     ]
    },
    {
     "name": "stderr",
     "output_type": "stream",
     "text": [
      "Progress Bar: 100%|████████████████████████████████████████████████████████████████████| 10/10 [01:45<00:00, 10.55s/it]\n"
     ]
    },
    {
     "name": "stdout",
     "output_type": "stream",
     "text": [
      "Fedavg:\n",
      "313/313 [==============================] - 3s 8ms/step\n",
      "comm_round: 488 | global_acc: 63.010% | global_loss: 1.8296574354171753\n",
      "GSM-FedAvg\n",
      "313/313 [==============================] - 2s 6ms/step\n",
      "comm_round: 488 | global_acc: 60.600% | global_loss: 1.8527621030807495\n"
     ]
    },
    {
     "name": "stderr",
     "output_type": "stream",
     "text": [
      "Progress Bar: 100%|████████████████████████████████████████████████████████████████████| 10/10 [01:29<00:00,  8.96s/it]\n"
     ]
    },
    {
     "name": "stdout",
     "output_type": "stream",
     "text": [
      "Fedavg:\n",
      "313/313 [==============================] - 3s 10ms/step\n",
      "comm_round: 489 | global_acc: 62.740% | global_loss: 1.8325210809707642\n",
      "GSM-FedAvg\n",
      "313/313 [==============================] - 4s 13ms/step\n",
      "comm_round: 489 | global_acc: 60.660% | global_loss: 1.8528687953948975\n"
     ]
    },
    {
     "name": "stderr",
     "output_type": "stream",
     "text": [
      "Progress Bar: 100%|████████████████████████████████████████████████████████████████████| 10/10 [01:34<00:00,  9.45s/it]\n"
     ]
    },
    {
     "name": "stdout",
     "output_type": "stream",
     "text": [
      "Fedavg:\n",
      "313/313 [==============================] - 3s 9ms/step\n",
      "comm_round: 490 | global_acc: 62.930% | global_loss: 1.8313649892807007\n",
      "GSM-FedAvg\n",
      "313/313 [==============================] - 2s 7ms/step\n",
      "comm_round: 490 | global_acc: 60.670% | global_loss: 1.8525617122650146\n"
     ]
    },
    {
     "name": "stderr",
     "output_type": "stream",
     "text": [
      "Progress Bar: 100%|████████████████████████████████████████████████████████████████████| 10/10 [01:30<00:00,  9.07s/it]\n"
     ]
    },
    {
     "name": "stdout",
     "output_type": "stream",
     "text": [
      "Fedavg:\n",
      "313/313 [==============================] - 3s 8ms/step\n",
      "comm_round: 491 | global_acc: 62.420% | global_loss: 1.8332808017730713\n",
      "GSM-FedAvg\n",
      "313/313 [==============================] - 3s 9ms/step\n",
      "comm_round: 491 | global_acc: 60.660% | global_loss: 1.8524669408798218\n"
     ]
    },
    {
     "name": "stderr",
     "output_type": "stream",
     "text": [
      "Progress Bar: 100%|████████████████████████████████████████████████████████████████████| 10/10 [01:10<00:00,  7.04s/it]\n"
     ]
    },
    {
     "name": "stdout",
     "output_type": "stream",
     "text": [
      "Fedavg:\n",
      "313/313 [==============================] - 2s 6ms/step\n",
      "comm_round: 492 | global_acc: 62.710% | global_loss: 1.8320086002349854\n",
      "GSM-FedAvg\n",
      "313/313 [==============================] - 2s 7ms/step\n",
      "comm_round: 492 | global_acc: 60.710% | global_loss: 1.8521844148635864\n"
     ]
    },
    {
     "name": "stderr",
     "output_type": "stream",
     "text": [
      "Progress Bar: 100%|████████████████████████████████████████████████████████████████████| 10/10 [00:53<00:00,  5.34s/it]\n"
     ]
    },
    {
     "name": "stdout",
     "output_type": "stream",
     "text": [
      "Fedavg:\n",
      "313/313 [==============================] - 2s 6ms/step\n",
      "comm_round: 493 | global_acc: 62.790% | global_loss: 1.831332802772522\n",
      "GSM-FedAvg\n",
      "313/313 [==============================] - 2s 6ms/step\n",
      "comm_round: 493 | global_acc: 60.660% | global_loss: 1.8524264097213745\n"
     ]
    },
    {
     "name": "stderr",
     "output_type": "stream",
     "text": [
      "Progress Bar: 100%|████████████████████████████████████████████████████████████████████| 10/10 [00:56<00:00,  5.62s/it]\n"
     ]
    },
    {
     "name": "stdout",
     "output_type": "stream",
     "text": [
      "Fedavg:\n",
      "313/313 [==============================] - 2s 6ms/step\n",
      "comm_round: 494 | global_acc: 62.860% | global_loss: 1.8306492567062378\n",
      "GSM-FedAvg\n",
      "313/313 [==============================] - 2s 7ms/step\n",
      "comm_round: 494 | global_acc: 60.790% | global_loss: 1.8524913787841797\n"
     ]
    },
    {
     "name": "stderr",
     "output_type": "stream",
     "text": [
      "Progress Bar: 100%|████████████████████████████████████████████████████████████████████| 10/10 [00:51<00:00,  5.18s/it]\n"
     ]
    },
    {
     "name": "stdout",
     "output_type": "stream",
     "text": [
      "Fedavg:\n",
      "313/313 [==============================] - 2s 6ms/step\n",
      "comm_round: 495 | global_acc: 62.980% | global_loss: 1.8303877115249634\n",
      "GSM-FedAvg\n",
      "313/313 [==============================] - 2s 6ms/step\n",
      "comm_round: 495 | global_acc: 60.780% | global_loss: 1.8529778718948364\n"
     ]
    },
    {
     "name": "stderr",
     "output_type": "stream",
     "text": [
      "Progress Bar: 100%|████████████████████████████████████████████████████████████████████| 10/10 [00:52<00:00,  5.29s/it]\n"
     ]
    },
    {
     "name": "stdout",
     "output_type": "stream",
     "text": [
      "Fedavg:\n",
      "313/313 [==============================] - 2s 6ms/step\n",
      "comm_round: 496 | global_acc: 62.930% | global_loss: 1.830482840538025\n",
      "GSM-FedAvg\n",
      "313/313 [==============================] - 2s 7ms/step\n",
      "comm_round: 496 | global_acc: 60.660% | global_loss: 1.8525458574295044\n"
     ]
    },
    {
     "name": "stderr",
     "output_type": "stream",
     "text": [
      "Progress Bar: 100%|████████████████████████████████████████████████████████████████████| 10/10 [00:51<00:00,  5.19s/it]\n"
     ]
    },
    {
     "name": "stdout",
     "output_type": "stream",
     "text": [
      "Fedavg:\n",
      "313/313 [==============================] - 2s 6ms/step\n",
      "comm_round: 497 | global_acc: 62.820% | global_loss: 1.8308523893356323\n",
      "GSM-FedAvg\n",
      "313/313 [==============================] - 2s 6ms/step\n",
      "comm_round: 497 | global_acc: 60.690% | global_loss: 1.8527132272720337\n"
     ]
    },
    {
     "name": "stderr",
     "output_type": "stream",
     "text": [
      "Progress Bar: 100%|████████████████████████████████████████████████████████████████████| 10/10 [00:52<00:00,  5.26s/it]\n"
     ]
    },
    {
     "name": "stdout",
     "output_type": "stream",
     "text": [
      "Fedavg:\n",
      "313/313 [==============================] - 2s 5ms/step\n",
      "comm_round: 498 | global_acc: 62.940% | global_loss: 1.8301812410354614\n",
      "GSM-FedAvg\n",
      "313/313 [==============================] - 2s 5ms/step\n",
      "comm_round: 498 | global_acc: 60.700% | global_loss: 1.852312684059143\n"
     ]
    },
    {
     "name": "stderr",
     "output_type": "stream",
     "text": [
      "Progress Bar: 100%|████████████████████████████████████████████████████████████████████| 10/10 [00:56<00:00,  5.64s/it]\n"
     ]
    },
    {
     "name": "stdout",
     "output_type": "stream",
     "text": [
      "Fedavg:\n",
      "313/313 [==============================] - 2s 6ms/step\n",
      "comm_round: 499 | global_acc: 62.890% | global_loss: 1.8311877250671387\n",
      "GSM-FedAvg\n",
      "313/313 [==============================] - 2s 6ms/step\n",
      "comm_round: 499 | global_acc: 60.770% | global_loss: 1.8523156642913818\n"
     ]
    },
    {
     "name": "stderr",
     "output_type": "stream",
     "text": [
      "Progress Bar: 100%|████████████████████████████████████████████████████████████████████| 10/10 [00:50<00:00,  5.06s/it]\n"
     ]
    },
    {
     "name": "stdout",
     "output_type": "stream",
     "text": [
      "Fedavg:\n",
      "313/313 [==============================] - 2s 6ms/step\n",
      "comm_round: 500 | global_acc: 62.670% | global_loss: 1.8308041095733643\n",
      "GSM-FedAvg\n",
      "313/313 [==============================] - 2s 6ms/step\n",
      "comm_round: 500 | global_acc: 60.640% | global_loss: 1.8522968292236328\n"
     ]
    },
    {
     "name": "stderr",
     "output_type": "stream",
     "text": [
      "Progress Bar: 100%|████████████████████████████████████████████████████████████████████| 10/10 [00:50<00:00,  5.10s/it]\n"
     ]
    },
    {
     "name": "stdout",
     "output_type": "stream",
     "text": [
      "Fedavg:\n",
      "313/313 [==============================] - 2s 6ms/step\n",
      "comm_round: 501 | global_acc: 62.730% | global_loss: 1.8320866823196411\n",
      "GSM-FedAvg\n",
      "313/313 [==============================] - 2s 6ms/step\n",
      "comm_round: 501 | global_acc: 60.660% | global_loss: 1.8527746200561523\n"
     ]
    },
    {
     "name": "stderr",
     "output_type": "stream",
     "text": [
      "Progress Bar: 100%|████████████████████████████████████████████████████████████████████| 10/10 [00:51<00:00,  5.18s/it]\n"
     ]
    },
    {
     "name": "stdout",
     "output_type": "stream",
     "text": [
      "Fedavg:\n",
      "313/313 [==============================] - 2s 6ms/step\n",
      "comm_round: 502 | global_acc: 62.760% | global_loss: 1.8310743570327759\n",
      "GSM-FedAvg\n",
      "313/313 [==============================] - 2s 6ms/step\n",
      "comm_round: 502 | global_acc: 60.710% | global_loss: 1.8518723249435425\n"
     ]
    },
    {
     "name": "stderr",
     "output_type": "stream",
     "text": [
      "Progress Bar: 100%|████████████████████████████████████████████████████████████████████| 10/10 [00:51<00:00,  5.11s/it]\n"
     ]
    },
    {
     "name": "stdout",
     "output_type": "stream",
     "text": [
      "Fedavg:\n",
      "313/313 [==============================] - 2s 6ms/step\n",
      "comm_round: 503 | global_acc: 62.800% | global_loss: 1.831426978111267\n",
      "GSM-FedAvg\n",
      "313/313 [==============================] - 2s 6ms/step\n",
      "comm_round: 503 | global_acc: 60.670% | global_loss: 1.8522450923919678\n"
     ]
    },
    {
     "name": "stderr",
     "output_type": "stream",
     "text": [
      "Progress Bar: 100%|████████████████████████████████████████████████████████████████████| 10/10 [00:51<00:00,  5.10s/it]\n"
     ]
    },
    {
     "name": "stdout",
     "output_type": "stream",
     "text": [
      "Fedavg:\n",
      "313/313 [==============================] - 2s 6ms/step\n",
      "comm_round: 504 | global_acc: 62.890% | global_loss: 1.8304063081741333\n",
      "GSM-FedAvg\n",
      "313/313 [==============================] - 2s 6ms/step\n",
      "comm_round: 504 | global_acc: 60.660% | global_loss: 1.8524023294448853\n"
     ]
    },
    {
     "name": "stderr",
     "output_type": "stream",
     "text": [
      "Progress Bar: 100%|████████████████████████████████████████████████████████████████████| 10/10 [00:51<00:00,  5.11s/it]\n"
     ]
    },
    {
     "name": "stdout",
     "output_type": "stream",
     "text": [
      "Fedavg:\n",
      "313/313 [==============================] - 2s 6ms/step\n",
      "comm_round: 505 | global_acc: 62.890% | global_loss: 1.830678939819336\n",
      "GSM-FedAvg\n",
      "313/313 [==============================] - 2s 6ms/step\n",
      "comm_round: 505 | global_acc: 60.790% | global_loss: 1.8520033359527588\n"
     ]
    },
    {
     "name": "stderr",
     "output_type": "stream",
     "text": [
      "Progress Bar: 100%|████████████████████████████████████████████████████████████████████| 10/10 [00:52<00:00,  5.24s/it]\n"
     ]
    },
    {
     "name": "stdout",
     "output_type": "stream",
     "text": [
      "Fedavg:\n",
      "313/313 [==============================] - 2s 6ms/step\n",
      "comm_round: 506 | global_acc: 62.860% | global_loss: 1.8302745819091797\n",
      "GSM-FedAvg\n",
      "313/313 [==============================] - 2s 6ms/step\n",
      "comm_round: 506 | global_acc: 60.740% | global_loss: 1.8517847061157227\n"
     ]
    },
    {
     "name": "stderr",
     "output_type": "stream",
     "text": [
      "Progress Bar: 100%|████████████████████████████████████████████████████████████████████| 10/10 [00:51<00:00,  5.11s/it]\n"
     ]
    },
    {
     "name": "stdout",
     "output_type": "stream",
     "text": [
      "Fedavg:\n",
      "313/313 [==============================] - 2s 6ms/step\n",
      "comm_round: 507 | global_acc: 62.990% | global_loss: 1.8303048610687256\n",
      "GSM-FedAvg\n",
      "313/313 [==============================] - 2s 6ms/step\n",
      "comm_round: 507 | global_acc: 60.790% | global_loss: 1.852042555809021\n"
     ]
    },
    {
     "name": "stderr",
     "output_type": "stream",
     "text": [
      "Progress Bar: 100%|████████████████████████████████████████████████████████████████████| 10/10 [00:52<00:00,  5.26s/it]\n"
     ]
    },
    {
     "name": "stdout",
     "output_type": "stream",
     "text": [
      "Fedavg:\n",
      "313/313 [==============================] - 2s 6ms/step\n",
      "comm_round: 508 | global_acc: 63.000% | global_loss: 1.8302929401397705\n",
      "GSM-FedAvg\n",
      "313/313 [==============================] - 2s 6ms/step\n",
      "comm_round: 508 | global_acc: 60.730% | global_loss: 1.8520238399505615\n"
     ]
    },
    {
     "name": "stderr",
     "output_type": "stream",
     "text": [
      "Progress Bar: 100%|████████████████████████████████████████████████████████████████████| 10/10 [00:50<00:00,  5.06s/it]\n"
     ]
    },
    {
     "name": "stdout",
     "output_type": "stream",
     "text": [
      "Fedavg:\n",
      "313/313 [==============================] - 2s 6ms/step\n",
      "comm_round: 509 | global_acc: 62.740% | global_loss: 1.831404447555542\n",
      "GSM-FedAvg\n",
      "313/313 [==============================] - 2s 6ms/step\n",
      "comm_round: 509 | global_acc: 60.740% | global_loss: 1.8523533344268799\n"
     ]
    },
    {
     "name": "stderr",
     "output_type": "stream",
     "text": [
      "Progress Bar: 100%|████████████████████████████████████████████████████████████████████| 10/10 [00:50<00:00,  5.08s/it]\n"
     ]
    },
    {
     "name": "stdout",
     "output_type": "stream",
     "text": [
      "Fedavg:\n",
      "313/313 [==============================] - 2s 6ms/step\n",
      "comm_round: 510 | global_acc: 62.780% | global_loss: 1.830794095993042\n",
      "GSM-FedAvg\n",
      "313/313 [==============================] - 2s 6ms/step\n",
      "comm_round: 510 | global_acc: 60.770% | global_loss: 1.852421522140503\n"
     ]
    },
    {
     "name": "stderr",
     "output_type": "stream",
     "text": [
      "Progress Bar: 100%|████████████████████████████████████████████████████████████████████| 10/10 [00:50<00:00,  5.06s/it]\n"
     ]
    },
    {
     "name": "stdout",
     "output_type": "stream",
     "text": [
      "Fedavg:\n",
      "313/313 [==============================] - 2s 6ms/step\n",
      "comm_round: 511 | global_acc: 62.950% | global_loss: 1.8309234380722046\n",
      "GSM-FedAvg\n",
      "313/313 [==============================] - 2s 6ms/step\n",
      "comm_round: 511 | global_acc: 60.670% | global_loss: 1.8526538610458374\n"
     ]
    },
    {
     "name": "stderr",
     "output_type": "stream",
     "text": [
      "Progress Bar: 100%|████████████████████████████████████████████████████████████████████| 10/10 [00:50<00:00,  5.09s/it]\n"
     ]
    },
    {
     "name": "stdout",
     "output_type": "stream",
     "text": [
      "Fedavg:\n",
      "313/313 [==============================] - 2s 6ms/step\n",
      "comm_round: 512 | global_acc: 62.920% | global_loss: 1.8303394317626953\n",
      "GSM-FedAvg\n",
      "313/313 [==============================] - 2s 6ms/step\n",
      "comm_round: 512 | global_acc: 60.750% | global_loss: 1.8523496389389038\n"
     ]
    },
    {
     "name": "stderr",
     "output_type": "stream",
     "text": [
      "Progress Bar: 100%|████████████████████████████████████████████████████████████████████| 10/10 [00:50<00:00,  5.10s/it]\n"
     ]
    },
    {
     "name": "stdout",
     "output_type": "stream",
     "text": [
      "Fedavg:\n",
      "313/313 [==============================] - 2s 6ms/step\n",
      "comm_round: 513 | global_acc: 62.840% | global_loss: 1.8306453227996826\n",
      "GSM-FedAvg\n",
      "313/313 [==============================] - 2s 6ms/step\n",
      "comm_round: 513 | global_acc: 60.620% | global_loss: 1.8519648313522339\n"
     ]
    },
    {
     "name": "stderr",
     "output_type": "stream",
     "text": [
      "Progress Bar: 100%|████████████████████████████████████████████████████████████████████| 10/10 [00:51<00:00,  5.12s/it]\n"
     ]
    },
    {
     "name": "stdout",
     "output_type": "stream",
     "text": [
      "Fedavg:\n",
      "313/313 [==============================] - 2s 6ms/step\n",
      "comm_round: 514 | global_acc: 62.840% | global_loss: 1.8303312063217163\n",
      "GSM-FedAvg\n",
      "313/313 [==============================] - 2s 6ms/step\n",
      "comm_round: 514 | global_acc: 60.660% | global_loss: 1.852081298828125\n"
     ]
    },
    {
     "name": "stderr",
     "output_type": "stream",
     "text": [
      "Progress Bar: 100%|████████████████████████████████████████████████████████████████████| 10/10 [00:50<00:00,  5.06s/it]\n"
     ]
    },
    {
     "name": "stdout",
     "output_type": "stream",
     "text": [
      "Fedavg:\n",
      "313/313 [==============================] - 2s 6ms/step\n",
      "comm_round: 515 | global_acc: 63.040% | global_loss: 1.8303452730178833\n",
      "GSM-FedAvg\n",
      "313/313 [==============================] - 2s 6ms/step\n",
      "comm_round: 515 | global_acc: 60.640% | global_loss: 1.8521175384521484\n"
     ]
    },
    {
     "name": "stderr",
     "output_type": "stream",
     "text": [
      "Progress Bar: 100%|████████████████████████████████████████████████████████████████████| 10/10 [00:50<00:00,  5.07s/it]\n"
     ]
    },
    {
     "name": "stdout",
     "output_type": "stream",
     "text": [
      "Fedavg:\n",
      "313/313 [==============================] - 2s 6ms/step\n",
      "comm_round: 516 | global_acc: 62.950% | global_loss: 1.830880045890808\n",
      "GSM-FedAvg\n",
      "313/313 [==============================] - 2s 6ms/step\n",
      "comm_round: 516 | global_acc: 60.630% | global_loss: 1.8524882793426514\n"
     ]
    },
    {
     "name": "stderr",
     "output_type": "stream",
     "text": [
      "Progress Bar: 100%|████████████████████████████████████████████████████████████████████| 10/10 [00:50<00:00,  5.08s/it]\n"
     ]
    },
    {
     "name": "stdout",
     "output_type": "stream",
     "text": [
      "Fedavg:\n",
      "313/313 [==============================] - 2s 6ms/step\n",
      "comm_round: 517 | global_acc: 62.890% | global_loss: 1.8306320905685425\n",
      "GSM-FedAvg\n",
      "313/313 [==============================] - 2s 6ms/step\n",
      "comm_round: 517 | global_acc: 60.780% | global_loss: 1.851922631263733\n"
     ]
    },
    {
     "name": "stderr",
     "output_type": "stream",
     "text": [
      "Progress Bar: 100%|████████████████████████████████████████████████████████████████████| 10/10 [00:50<00:00,  5.05s/it]\n"
     ]
    },
    {
     "name": "stdout",
     "output_type": "stream",
     "text": [
      "Fedavg:\n",
      "313/313 [==============================] - 2s 6ms/step\n",
      "comm_round: 518 | global_acc: 62.850% | global_loss: 1.830683946609497\n",
      "GSM-FedAvg\n",
      "313/313 [==============================] - 2s 6ms/step\n",
      "comm_round: 518 | global_acc: 60.760% | global_loss: 1.8517882823944092\n"
     ]
    },
    {
     "name": "stderr",
     "output_type": "stream",
     "text": [
      "Progress Bar: 100%|████████████████████████████████████████████████████████████████████| 10/10 [00:52<00:00,  5.29s/it]\n"
     ]
    },
    {
     "name": "stdout",
     "output_type": "stream",
     "text": [
      "Fedavg:\n",
      "313/313 [==============================] - 2s 6ms/step\n",
      "comm_round: 519 | global_acc: 62.950% | global_loss: 1.830810785293579\n",
      "GSM-FedAvg\n",
      "313/313 [==============================] - 2s 6ms/step\n",
      "comm_round: 519 | global_acc: 60.660% | global_loss: 1.8520358800888062\n"
     ]
    },
    {
     "name": "stderr",
     "output_type": "stream",
     "text": [
      "Progress Bar: 100%|████████████████████████████████████████████████████████████████████| 10/10 [00:50<00:00,  5.07s/it]\n"
     ]
    },
    {
     "name": "stdout",
     "output_type": "stream",
     "text": [
      "Fedavg:\n",
      "313/313 [==============================] - 2s 6ms/step\n",
      "comm_round: 520 | global_acc: 62.850% | global_loss: 1.8306224346160889\n",
      "GSM-FedAvg\n",
      "313/313 [==============================] - 2s 6ms/step\n",
      "comm_round: 520 | global_acc: 60.740% | global_loss: 1.8521541357040405\n"
     ]
    },
    {
     "name": "stderr",
     "output_type": "stream",
     "text": [
      "Progress Bar: 100%|████████████████████████████████████████████████████████████████████| 10/10 [00:50<00:00,  5.08s/it]\n"
     ]
    },
    {
     "name": "stdout",
     "output_type": "stream",
     "text": [
      "Fedavg:\n",
      "313/313 [==============================] - 2s 6ms/step\n",
      "comm_round: 521 | global_acc: 62.880% | global_loss: 1.830902099609375\n",
      "GSM-FedAvg\n",
      "313/313 [==============================] - 2s 6ms/step\n",
      "comm_round: 521 | global_acc: 60.590% | global_loss: 1.852211356163025\n"
     ]
    },
    {
     "name": "stderr",
     "output_type": "stream",
     "text": [
      "Progress Bar: 100%|████████████████████████████████████████████████████████████████████| 10/10 [00:50<00:00,  5.10s/it]\n"
     ]
    },
    {
     "name": "stdout",
     "output_type": "stream",
     "text": [
      "Fedavg:\n",
      "313/313 [==============================] - 2s 6ms/step\n",
      "comm_round: 522 | global_acc: 62.860% | global_loss: 1.8302797079086304\n",
      "GSM-FedAvg\n",
      "313/313 [==============================] - 2s 6ms/step\n",
      "comm_round: 522 | global_acc: 60.730% | global_loss: 1.8520691394805908\n"
     ]
    },
    {
     "name": "stderr",
     "output_type": "stream",
     "text": [
      "Progress Bar: 100%|████████████████████████████████████████████████████████████████████| 10/10 [00:54<00:00,  5.40s/it]\n"
     ]
    },
    {
     "name": "stdout",
     "output_type": "stream",
     "text": [
      "Fedavg:\n",
      "313/313 [==============================] - 2s 6ms/step\n",
      "comm_round: 523 | global_acc: 63.050% | global_loss: 1.8296990394592285\n",
      "GSM-FedAvg\n",
      "313/313 [==============================] - 2s 6ms/step\n",
      "comm_round: 523 | global_acc: 60.770% | global_loss: 1.8522480726242065\n"
     ]
    },
    {
     "name": "stderr",
     "output_type": "stream",
     "text": [
      "Progress Bar: 100%|████████████████████████████████████████████████████████████████████| 10/10 [00:50<00:00,  5.03s/it]\n"
     ]
    },
    {
     "name": "stdout",
     "output_type": "stream",
     "text": [
      "Fedavg:\n",
      "313/313 [==============================] - 2s 6ms/step\n",
      "comm_round: 524 | global_acc: 62.760% | global_loss: 1.8311271667480469\n",
      "GSM-FedAvg\n",
      "313/313 [==============================] - 2s 6ms/step\n",
      "comm_round: 524 | global_acc: 60.630% | global_loss: 1.8523882627487183\n"
     ]
    },
    {
     "name": "stderr",
     "output_type": "stream",
     "text": [
      "Progress Bar: 100%|████████████████████████████████████████████████████████████████████| 10/10 [00:52<00:00,  5.21s/it]\n"
     ]
    },
    {
     "name": "stdout",
     "output_type": "stream",
     "text": [
      "Fedavg:\n",
      "313/313 [==============================] - 2s 6ms/step\n",
      "comm_round: 525 | global_acc: 62.980% | global_loss: 1.830252766609192\n",
      "GSM-FedAvg\n",
      "313/313 [==============================] - 2s 6ms/step\n",
      "comm_round: 525 | global_acc: 60.680% | global_loss: 1.8522664308547974\n"
     ]
    },
    {
     "name": "stderr",
     "output_type": "stream",
     "text": [
      "Progress Bar: 100%|████████████████████████████████████████████████████████████████████| 10/10 [00:50<00:00,  5.02s/it]\n"
     ]
    },
    {
     "name": "stdout",
     "output_type": "stream",
     "text": [
      "Fedavg:\n",
      "313/313 [==============================] - 2s 6ms/step\n",
      "comm_round: 526 | global_acc: 62.880% | global_loss: 1.8306539058685303\n",
      "GSM-FedAvg\n",
      "313/313 [==============================] - 2s 6ms/step\n",
      "comm_round: 526 | global_acc: 60.650% | global_loss: 1.8525044918060303\n"
     ]
    },
    {
     "name": "stderr",
     "output_type": "stream",
     "text": [
      "Progress Bar: 100%|████████████████████████████████████████████████████████████████████| 10/10 [00:50<00:00,  5.00s/it]\n"
     ]
    },
    {
     "name": "stdout",
     "output_type": "stream",
     "text": [
      "Fedavg:\n",
      "313/313 [==============================] - 2s 6ms/step\n",
      "comm_round: 527 | global_acc: 63.010% | global_loss: 1.8305293321609497\n",
      "GSM-FedAvg\n",
      "313/313 [==============================] - 2s 6ms/step\n",
      "comm_round: 527 | global_acc: 60.640% | global_loss: 1.8526078462600708\n"
     ]
    },
    {
     "name": "stderr",
     "output_type": "stream",
     "text": [
      "Progress Bar: 100%|████████████████████████████████████████████████████████████████████| 10/10 [00:49<00:00,  4.98s/it]\n"
     ]
    },
    {
     "name": "stdout",
     "output_type": "stream",
     "text": [
      "Fedavg:\n",
      "313/313 [==============================] - 2s 6ms/step\n",
      "comm_round: 528 | global_acc: 62.710% | global_loss: 1.831341028213501\n",
      "GSM-FedAvg\n",
      "313/313 [==============================] - 2s 6ms/step\n",
      "comm_round: 528 | global_acc: 60.650% | global_loss: 1.852705478668213\n"
     ]
    },
    {
     "name": "stderr",
     "output_type": "stream",
     "text": [
      "Progress Bar: 100%|████████████████████████████████████████████████████████████████████| 10/10 [00:51<00:00,  5.10s/it]\n"
     ]
    },
    {
     "name": "stdout",
     "output_type": "stream",
     "text": [
      "Fedavg:\n",
      "313/313 [==============================] - 2s 6ms/step\n",
      "comm_round: 529 | global_acc: 63.110% | global_loss: 1.8298972845077515\n",
      "GSM-FedAvg\n",
      "313/313 [==============================] - 2s 6ms/step\n",
      "comm_round: 529 | global_acc: 60.640% | global_loss: 1.8521456718444824\n"
     ]
    },
    {
     "name": "stderr",
     "output_type": "stream",
     "text": [
      "Progress Bar: 100%|████████████████████████████████████████████████████████████████████| 10/10 [00:50<00:00,  5.05s/it]\n"
     ]
    },
    {
     "name": "stdout",
     "output_type": "stream",
     "text": [
      "Fedavg:\n",
      "313/313 [==============================] - 2s 6ms/step\n",
      "comm_round: 530 | global_acc: 62.900% | global_loss: 1.8305305242538452\n",
      "GSM-FedAvg\n",
      "313/313 [==============================] - 2s 6ms/step\n",
      "comm_round: 530 | global_acc: 60.620% | global_loss: 1.8523410558700562\n"
     ]
    },
    {
     "name": "stderr",
     "output_type": "stream",
     "text": [
      "Progress Bar: 100%|████████████████████████████████████████████████████████████████████| 10/10 [00:50<00:00,  5.08s/it]\n"
     ]
    },
    {
     "name": "stdout",
     "output_type": "stream",
     "text": [
      "Fedavg:\n",
      "313/313 [==============================] - 2s 6ms/step\n",
      "comm_round: 531 | global_acc: 62.830% | global_loss: 1.8310593366622925\n",
      "GSM-FedAvg\n",
      "313/313 [==============================] - 2s 6ms/step\n",
      "comm_round: 531 | global_acc: 60.660% | global_loss: 1.8524788618087769\n"
     ]
    },
    {
     "name": "stderr",
     "output_type": "stream",
     "text": [
      "Progress Bar: 100%|████████████████████████████████████████████████████████████████████| 10/10 [00:51<00:00,  5.17s/it]\n"
     ]
    },
    {
     "name": "stdout",
     "output_type": "stream",
     "text": [
      "Fedavg:\n",
      "313/313 [==============================] - 2s 6ms/step\n",
      "comm_round: 532 | global_acc: 62.820% | global_loss: 1.8303014039993286\n",
      "GSM-FedAvg\n",
      "313/313 [==============================] - 2s 6ms/step\n",
      "comm_round: 532 | global_acc: 60.610% | global_loss: 1.8525851964950562\n"
     ]
    },
    {
     "name": "stderr",
     "output_type": "stream",
     "text": [
      "Progress Bar: 100%|████████████████████████████████████████████████████████████████████| 10/10 [00:52<00:00,  5.28s/it]\n"
     ]
    },
    {
     "name": "stdout",
     "output_type": "stream",
     "text": [
      "Fedavg:\n",
      "313/313 [==============================] - 2s 6ms/step\n",
      "comm_round: 533 | global_acc: 62.940% | global_loss: 1.831060528755188\n",
      "GSM-FedAvg\n",
      "313/313 [==============================] - 2s 6ms/step\n",
      "comm_round: 533 | global_acc: 60.680% | global_loss: 1.8523640632629395\n"
     ]
    },
    {
     "name": "stderr",
     "output_type": "stream",
     "text": [
      "Progress Bar: 100%|████████████████████████████████████████████████████████████████████| 10/10 [00:53<00:00,  5.34s/it]\n"
     ]
    },
    {
     "name": "stdout",
     "output_type": "stream",
     "text": [
      "Fedavg:\n",
      "313/313 [==============================] - 2s 6ms/step\n",
      "comm_round: 534 | global_acc: 62.930% | global_loss: 1.8313077688217163\n",
      "GSM-FedAvg\n",
      "313/313 [==============================] - 2s 7ms/step\n",
      "comm_round: 534 | global_acc: 60.670% | global_loss: 1.8524292707443237\n"
     ]
    },
    {
     "name": "stderr",
     "output_type": "stream",
     "text": [
      "Progress Bar: 100%|████████████████████████████████████████████████████████████████████| 10/10 [00:51<00:00,  5.15s/it]\n"
     ]
    },
    {
     "name": "stdout",
     "output_type": "stream",
     "text": [
      "Fedavg:\n",
      "313/313 [==============================] - 2s 6ms/step\n",
      "comm_round: 535 | global_acc: 62.760% | global_loss: 1.8310203552246094\n",
      "GSM-FedAvg\n",
      "313/313 [==============================] - 2s 6ms/step\n",
      "comm_round: 535 | global_acc: 60.680% | global_loss: 1.8525058031082153\n"
     ]
    },
    {
     "name": "stderr",
     "output_type": "stream",
     "text": [
      "Progress Bar: 100%|████████████████████████████████████████████████████████████████████| 10/10 [00:51<00:00,  5.16s/it]\n"
     ]
    },
    {
     "name": "stdout",
     "output_type": "stream",
     "text": [
      "Fedavg:\n",
      "313/313 [==============================] - 2s 6ms/step\n",
      "comm_round: 536 | global_acc: 62.790% | global_loss: 1.8315995931625366\n",
      "GSM-FedAvg\n",
      "313/313 [==============================] - 2s 6ms/step\n",
      "comm_round: 536 | global_acc: 60.620% | global_loss: 1.8527543544769287\n"
     ]
    },
    {
     "name": "stderr",
     "output_type": "stream",
     "text": [
      "Progress Bar: 100%|████████████████████████████████████████████████████████████████████| 10/10 [00:51<00:00,  5.14s/it]\n"
     ]
    },
    {
     "name": "stdout",
     "output_type": "stream",
     "text": [
      "Fedavg:\n",
      "313/313 [==============================] - 2s 6ms/step\n",
      "comm_round: 537 | global_acc: 62.840% | global_loss: 1.830721139907837\n",
      "GSM-FedAvg\n",
      "313/313 [==============================] - 2s 6ms/step\n",
      "comm_round: 537 | global_acc: 60.720% | global_loss: 1.8524320125579834\n"
     ]
    },
    {
     "name": "stderr",
     "output_type": "stream",
     "text": [
      "Progress Bar: 100%|████████████████████████████████████████████████████████████████████| 10/10 [00:53<00:00,  5.37s/it]\n"
     ]
    },
    {
     "name": "stdout",
     "output_type": "stream",
     "text": [
      "Fedavg:\n",
      "313/313 [==============================] - 2s 6ms/step\n",
      "comm_round: 538 | global_acc: 62.870% | global_loss: 1.8309472799301147\n",
      "GSM-FedAvg\n",
      "313/313 [==============================] - 2s 6ms/step\n",
      "comm_round: 538 | global_acc: 60.670% | global_loss: 1.8521593809127808\n"
     ]
    },
    {
     "name": "stderr",
     "output_type": "stream",
     "text": [
      "Progress Bar: 100%|████████████████████████████████████████████████████████████████████| 10/10 [00:51<00:00,  5.14s/it]\n"
     ]
    },
    {
     "name": "stdout",
     "output_type": "stream",
     "text": [
      "Fedavg:\n",
      "313/313 [==============================] - 2s 6ms/step\n",
      "comm_round: 539 | global_acc: 62.920% | global_loss: 1.830690622329712\n",
      "GSM-FedAvg\n",
      "313/313 [==============================] - 2s 6ms/step\n",
      "comm_round: 539 | global_acc: 60.770% | global_loss: 1.8522076606750488\n"
     ]
    },
    {
     "name": "stderr",
     "output_type": "stream",
     "text": [
      "Progress Bar: 100%|████████████████████████████████████████████████████████████████████| 10/10 [00:50<00:00,  5.10s/it]\n"
     ]
    },
    {
     "name": "stdout",
     "output_type": "stream",
     "text": [
      "Fedavg:\n",
      "313/313 [==============================] - 2s 6ms/step\n",
      "comm_round: 540 | global_acc: 62.890% | global_loss: 1.8311136960983276\n",
      "GSM-FedAvg\n",
      "313/313 [==============================] - 2s 6ms/step\n",
      "comm_round: 540 | global_acc: 60.660% | global_loss: 1.852432370185852\n"
     ]
    },
    {
     "name": "stderr",
     "output_type": "stream",
     "text": [
      "Progress Bar: 100%|████████████████████████████████████████████████████████████████████| 10/10 [00:51<00:00,  5.15s/it]\n"
     ]
    },
    {
     "name": "stdout",
     "output_type": "stream",
     "text": [
      "Fedavg:\n",
      "313/313 [==============================] - 2s 6ms/step\n",
      "comm_round: 541 | global_acc: 62.880% | global_loss: 1.8311917781829834\n",
      "GSM-FedAvg\n",
      "313/313 [==============================] - 2s 6ms/step\n",
      "comm_round: 541 | global_acc: 60.680% | global_loss: 1.8521147966384888\n"
     ]
    },
    {
     "name": "stderr",
     "output_type": "stream",
     "text": [
      "Progress Bar: 100%|████████████████████████████████████████████████████████████████████| 10/10 [00:53<00:00,  5.31s/it]\n"
     ]
    },
    {
     "name": "stdout",
     "output_type": "stream",
     "text": [
      "Fedavg:\n",
      "313/313 [==============================] - 2s 6ms/step\n",
      "comm_round: 542 | global_acc: 62.870% | global_loss: 1.8318672180175781\n",
      "GSM-FedAvg\n",
      "313/313 [==============================] - 2s 6ms/step\n",
      "comm_round: 542 | global_acc: 60.720% | global_loss: 1.8519859313964844\n"
     ]
    },
    {
     "name": "stderr",
     "output_type": "stream",
     "text": [
      "Progress Bar: 100%|████████████████████████████████████████████████████████████████████| 10/10 [00:51<00:00,  5.13s/it]\n"
     ]
    },
    {
     "name": "stdout",
     "output_type": "stream",
     "text": [
      "Fedavg:\n",
      "313/313 [==============================] - 2s 6ms/step\n",
      "comm_round: 543 | global_acc: 62.740% | global_loss: 1.8313648700714111\n",
      "GSM-FedAvg\n",
      "313/313 [==============================] - 2s 6ms/step\n",
      "comm_round: 543 | global_acc: 60.740% | global_loss: 1.851818323135376\n"
     ]
    },
    {
     "name": "stderr",
     "output_type": "stream",
     "text": [
      "Progress Bar: 100%|████████████████████████████████████████████████████████████████████| 10/10 [00:51<00:00,  5.18s/it]\n"
     ]
    },
    {
     "name": "stdout",
     "output_type": "stream",
     "text": [
      "Fedavg:\n",
      "313/313 [==============================] - 2s 6ms/step\n",
      "comm_round: 544 | global_acc: 62.850% | global_loss: 1.8308945894241333\n",
      "GSM-FedAvg\n",
      "313/313 [==============================] - 2s 6ms/step\n",
      "comm_round: 544 | global_acc: 60.590% | global_loss: 1.8526421785354614\n"
     ]
    },
    {
     "name": "stderr",
     "output_type": "stream",
     "text": [
      "Progress Bar: 100%|████████████████████████████████████████████████████████████████████| 10/10 [00:51<00:00,  5.11s/it]\n"
     ]
    },
    {
     "name": "stdout",
     "output_type": "stream",
     "text": [
      "Fedavg:\n",
      "313/313 [==============================] - 2s 6ms/step\n",
      "comm_round: 545 | global_acc: 62.830% | global_loss: 1.8307894468307495\n",
      "GSM-FedAvg\n",
      "313/313 [==============================] - 2s 6ms/step\n",
      "comm_round: 545 | global_acc: 60.750% | global_loss: 1.8523870706558228\n"
     ]
    },
    {
     "name": "stderr",
     "output_type": "stream",
     "text": [
      "Progress Bar: 100%|████████████████████████████████████████████████████████████████████| 10/10 [00:51<00:00,  5.13s/it]\n"
     ]
    },
    {
     "name": "stdout",
     "output_type": "stream",
     "text": [
      "Fedavg:\n",
      "313/313 [==============================] - 2s 6ms/step\n",
      "comm_round: 546 | global_acc: 62.890% | global_loss: 1.8312774896621704\n",
      "GSM-FedAvg\n",
      "313/313 [==============================] - 2s 6ms/step\n",
      "comm_round: 546 | global_acc: 60.720% | global_loss: 1.8523863554000854\n"
     ]
    },
    {
     "name": "stderr",
     "output_type": "stream",
     "text": [
      "Progress Bar: 100%|████████████████████████████████████████████████████████████████████| 10/10 [00:51<00:00,  5.10s/it]\n"
     ]
    },
    {
     "name": "stdout",
     "output_type": "stream",
     "text": [
      "Fedavg:\n",
      "313/313 [==============================] - 2s 6ms/step\n",
      "comm_round: 547 | global_acc: 62.890% | global_loss: 1.830946922302246\n",
      "GSM-FedAvg\n",
      "313/313 [==============================] - 2s 6ms/step\n",
      "comm_round: 547 | global_acc: 60.680% | global_loss: 1.8517355918884277\n"
     ]
    },
    {
     "name": "stderr",
     "output_type": "stream",
     "text": [
      "Progress Bar: 100%|████████████████████████████████████████████████████████████████████| 10/10 [00:51<00:00,  5.11s/it]\n"
     ]
    },
    {
     "name": "stdout",
     "output_type": "stream",
     "text": [
      "Fedavg:\n",
      "313/313 [==============================] - 2s 6ms/step\n",
      "comm_round: 548 | global_acc: 62.960% | global_loss: 1.8305644989013672\n",
      "GSM-FedAvg\n",
      "313/313 [==============================] - 2s 6ms/step\n",
      "comm_round: 548 | global_acc: 60.590% | global_loss: 1.8525145053863525\n"
     ]
    },
    {
     "name": "stderr",
     "output_type": "stream",
     "text": [
      "Progress Bar: 100%|████████████████████████████████████████████████████████████████████| 10/10 [00:51<00:00,  5.12s/it]\n"
     ]
    },
    {
     "name": "stdout",
     "output_type": "stream",
     "text": [
      "Fedavg:\n",
      "313/313 [==============================] - 2s 6ms/step\n",
      "comm_round: 549 | global_acc: 62.880% | global_loss: 1.8304023742675781\n",
      "GSM-FedAvg\n",
      "313/313 [==============================] - 2s 6ms/step\n",
      "comm_round: 549 | global_acc: 60.700% | global_loss: 1.8521499633789062\n"
     ]
    },
    {
     "name": "stderr",
     "output_type": "stream",
     "text": [
      "Progress Bar: 100%|████████████████████████████████████████████████████████████████████| 10/10 [00:51<00:00,  5.11s/it]\n"
     ]
    },
    {
     "name": "stdout",
     "output_type": "stream",
     "text": [
      "Fedavg:\n",
      "313/313 [==============================] - 2s 6ms/step\n",
      "comm_round: 550 | global_acc: 62.900% | global_loss: 1.830976128578186\n",
      "GSM-FedAvg\n",
      "313/313 [==============================] - 2s 6ms/step\n",
      "comm_round: 550 | global_acc: 60.670% | global_loss: 1.8523808717727661\n"
     ]
    },
    {
     "name": "stderr",
     "output_type": "stream",
     "text": [
      "Progress Bar: 100%|████████████████████████████████████████████████████████████████████| 10/10 [00:52<00:00,  5.21s/it]\n"
     ]
    },
    {
     "name": "stdout",
     "output_type": "stream",
     "text": [
      "Fedavg:\n",
      "313/313 [==============================] - 2s 7ms/step\n",
      "comm_round: 551 | global_acc: 63.020% | global_loss: 1.8306379318237305\n",
      "GSM-FedAvg\n",
      "313/313 [==============================] - 2s 7ms/step\n",
      "comm_round: 551 | global_acc: 60.630% | global_loss: 1.8525102138519287\n"
     ]
    },
    {
     "name": "stderr",
     "output_type": "stream",
     "text": [
      "Progress Bar: 100%|████████████████████████████████████████████████████████████████████| 10/10 [00:51<00:00,  5.14s/it]\n"
     ]
    },
    {
     "name": "stdout",
     "output_type": "stream",
     "text": [
      "Fedavg:\n",
      "313/313 [==============================] - 2s 6ms/step\n",
      "comm_round: 552 | global_acc: 62.960% | global_loss: 1.8304896354675293\n",
      "GSM-FedAvg\n",
      "313/313 [==============================] - 2s 6ms/step\n",
      "comm_round: 552 | global_acc: 60.740% | global_loss: 1.8521263599395752\n"
     ]
    },
    {
     "name": "stderr",
     "output_type": "stream",
     "text": [
      "Progress Bar: 100%|████████████████████████████████████████████████████████████████████| 10/10 [00:51<00:00,  5.14s/it]\n"
     ]
    },
    {
     "name": "stdout",
     "output_type": "stream",
     "text": [
      "Fedavg:\n",
      "313/313 [==============================] - 2s 7ms/step\n",
      "comm_round: 553 | global_acc: 62.930% | global_loss: 1.830688238143921\n",
      "GSM-FedAvg\n",
      "313/313 [==============================] - 2s 6ms/step\n",
      "comm_round: 553 | global_acc: 60.700% | global_loss: 1.8526558876037598\n"
     ]
    },
    {
     "name": "stderr",
     "output_type": "stream",
     "text": [
      "Progress Bar: 100%|████████████████████████████████████████████████████████████████████| 10/10 [00:51<00:00,  5.17s/it]\n"
     ]
    },
    {
     "name": "stdout",
     "output_type": "stream",
     "text": [
      "Fedavg:\n",
      "313/313 [==============================] - 2s 6ms/step\n",
      "comm_round: 554 | global_acc: 62.830% | global_loss: 1.8305201530456543\n",
      "GSM-FedAvg\n",
      "313/313 [==============================] - 2s 6ms/step\n",
      "comm_round: 554 | global_acc: 60.710% | global_loss: 1.8524549007415771\n"
     ]
    },
    {
     "name": "stderr",
     "output_type": "stream",
     "text": [
      "Progress Bar: 100%|████████████████████████████████████████████████████████████████████| 10/10 [00:52<00:00,  5.22s/it]\n"
     ]
    },
    {
     "name": "stdout",
     "output_type": "stream",
     "text": [
      "Fedavg:\n",
      "313/313 [==============================] - 2s 6ms/step\n",
      "comm_round: 555 | global_acc: 62.830% | global_loss: 1.8305808305740356\n",
      "GSM-FedAvg\n",
      "313/313 [==============================] - 2s 6ms/step\n",
      "comm_round: 555 | global_acc: 60.710% | global_loss: 1.8521908521652222\n"
     ]
    },
    {
     "name": "stderr",
     "output_type": "stream",
     "text": [
      "Progress Bar: 100%|████████████████████████████████████████████████████████████████████| 10/10 [00:53<00:00,  5.36s/it]\n"
     ]
    },
    {
     "name": "stdout",
     "output_type": "stream",
     "text": [
      "Fedavg:\n",
      "313/313 [==============================] - 2s 6ms/step\n",
      "comm_round: 556 | global_acc: 62.900% | global_loss: 1.8303922414779663\n",
      "GSM-FedAvg\n",
      "313/313 [==============================] - 2s 6ms/step\n",
      "comm_round: 556 | global_acc: 60.560% | global_loss: 1.8520445823669434\n"
     ]
    },
    {
     "name": "stderr",
     "output_type": "stream",
     "text": [
      "Progress Bar: 100%|████████████████████████████████████████████████████████████████████| 10/10 [00:53<00:00,  5.40s/it]\n"
     ]
    },
    {
     "name": "stdout",
     "output_type": "stream",
     "text": [
      "Fedavg:\n",
      "313/313 [==============================] - 2s 6ms/step\n",
      "comm_round: 557 | global_acc: 62.890% | global_loss: 1.830366611480713\n",
      "GSM-FedAvg\n",
      "313/313 [==============================] - 2s 6ms/step\n",
      "comm_round: 557 | global_acc: 60.600% | global_loss: 1.8527761697769165\n"
     ]
    },
    {
     "name": "stderr",
     "output_type": "stream",
     "text": [
      "Progress Bar: 100%|████████████████████████████████████████████████████████████████████| 10/10 [00:52<00:00,  5.25s/it]\n"
     ]
    },
    {
     "name": "stdout",
     "output_type": "stream",
     "text": [
      "Fedavg:\n",
      "313/313 [==============================] - 2s 6ms/step\n",
      "comm_round: 558 | global_acc: 62.840% | global_loss: 1.8301961421966553\n",
      "GSM-FedAvg\n",
      "313/313 [==============================] - 2s 6ms/step\n",
      "comm_round: 558 | global_acc: 60.620% | global_loss: 1.852157473564148\n"
     ]
    },
    {
     "name": "stderr",
     "output_type": "stream",
     "text": [
      "Progress Bar: 100%|████████████████████████████████████████████████████████████████████| 10/10 [00:55<00:00,  5.52s/it]\n"
     ]
    },
    {
     "name": "stdout",
     "output_type": "stream",
     "text": [
      "Fedavg:\n",
      "313/313 [==============================] - 2s 6ms/step\n",
      "comm_round: 559 | global_acc: 62.920% | global_loss: 1.8299309015274048\n",
      "GSM-FedAvg\n",
      "313/313 [==============================] - 2s 6ms/step\n",
      "comm_round: 559 | global_acc: 60.690% | global_loss: 1.85233736038208\n"
     ]
    },
    {
     "name": "stderr",
     "output_type": "stream",
     "text": [
      "Progress Bar: 100%|████████████████████████████████████████████████████████████████████| 10/10 [00:56<00:00,  5.69s/it]\n"
     ]
    },
    {
     "name": "stdout",
     "output_type": "stream",
     "text": [
      "Fedavg:\n",
      "313/313 [==============================] - 2s 7ms/step\n",
      "comm_round: 560 | global_acc: 62.850% | global_loss: 1.830802321434021\n",
      "GSM-FedAvg\n",
      "313/313 [==============================] - 2s 6ms/step\n",
      "comm_round: 560 | global_acc: 60.580% | global_loss: 1.8525415658950806\n"
     ]
    },
    {
     "name": "stderr",
     "output_type": "stream",
     "text": [
      "Progress Bar: 100%|████████████████████████████████████████████████████████████████████| 10/10 [00:53<00:00,  5.31s/it]\n"
     ]
    },
    {
     "name": "stdout",
     "output_type": "stream",
     "text": [
      "Fedavg:\n",
      "313/313 [==============================] - 2s 6ms/step\n",
      "comm_round: 561 | global_acc: 62.920% | global_loss: 1.8306692838668823\n",
      "GSM-FedAvg\n",
      "313/313 [==============================] - 2s 6ms/step\n",
      "comm_round: 561 | global_acc: 60.710% | global_loss: 1.8525390625\n"
     ]
    },
    {
     "name": "stderr",
     "output_type": "stream",
     "text": [
      "Progress Bar: 100%|████████████████████████████████████████████████████████████████████| 10/10 [00:51<00:00,  5.11s/it]\n"
     ]
    },
    {
     "name": "stdout",
     "output_type": "stream",
     "text": [
      "Fedavg:\n",
      "313/313 [==============================] - 2s 6ms/step\n",
      "comm_round: 562 | global_acc: 62.760% | global_loss: 1.831506609916687\n",
      "GSM-FedAvg\n",
      "313/313 [==============================] - 2s 6ms/step\n",
      "comm_round: 562 | global_acc: 60.700% | global_loss: 1.8522043228149414\n"
     ]
    },
    {
     "name": "stderr",
     "output_type": "stream",
     "text": [
      "Progress Bar: 100%|████████████████████████████████████████████████████████████████████| 10/10 [00:51<00:00,  5.12s/it]\n"
     ]
    },
    {
     "name": "stdout",
     "output_type": "stream",
     "text": [
      "Fedavg:\n",
      "313/313 [==============================] - 2s 6ms/step\n",
      "comm_round: 563 | global_acc: 62.800% | global_loss: 1.8313288688659668\n",
      "GSM-FedAvg\n",
      "313/313 [==============================] - 2s 6ms/step\n",
      "comm_round: 563 | global_acc: 60.650% | global_loss: 1.8523199558258057\n"
     ]
    },
    {
     "name": "stderr",
     "output_type": "stream",
     "text": [
      "Progress Bar: 100%|████████████████████████████████████████████████████████████████████| 10/10 [00:50<00:00,  5.07s/it]\n"
     ]
    },
    {
     "name": "stdout",
     "output_type": "stream",
     "text": [
      "Fedavg:\n",
      "313/313 [==============================] - 2s 6ms/step\n",
      "comm_round: 564 | global_acc: 62.720% | global_loss: 1.8307998180389404\n",
      "GSM-FedAvg\n",
      "313/313 [==============================] - 2s 7ms/step\n",
      "comm_round: 564 | global_acc: 60.660% | global_loss: 1.8520562648773193\n"
     ]
    },
    {
     "name": "stderr",
     "output_type": "stream",
     "text": [
      "Progress Bar: 100%|████████████████████████████████████████████████████████████████████| 10/10 [00:52<00:00,  5.22s/it]\n"
     ]
    },
    {
     "name": "stdout",
     "output_type": "stream",
     "text": [
      "Fedavg:\n",
      "313/313 [==============================] - 2s 6ms/step\n",
      "comm_round: 565 | global_acc: 62.610% | global_loss: 1.8316500186920166\n",
      "GSM-FedAvg\n",
      "313/313 [==============================] - 2s 6ms/step\n",
      "comm_round: 565 | global_acc: 60.660% | global_loss: 1.8520058393478394\n"
     ]
    },
    {
     "name": "stderr",
     "output_type": "stream",
     "text": [
      "Progress Bar: 100%|████████████████████████████████████████████████████████████████████| 10/10 [00:51<00:00,  5.15s/it]\n"
     ]
    },
    {
     "name": "stdout",
     "output_type": "stream",
     "text": [
      "Fedavg:\n",
      "313/313 [==============================] - 2s 6ms/step\n",
      "comm_round: 566 | global_acc: 62.660% | global_loss: 1.8317668437957764\n",
      "GSM-FedAvg\n",
      "313/313 [==============================] - 2s 6ms/step\n",
      "comm_round: 566 | global_acc: 60.640% | global_loss: 1.852155089378357\n"
     ]
    },
    {
     "name": "stderr",
     "output_type": "stream",
     "text": [
      "Progress Bar: 100%|████████████████████████████████████████████████████████████████████| 10/10 [00:51<00:00,  5.12s/it]\n"
     ]
    },
    {
     "name": "stdout",
     "output_type": "stream",
     "text": [
      "Fedavg:\n",
      "313/313 [==============================] - 2s 6ms/step\n",
      "comm_round: 567 | global_acc: 62.800% | global_loss: 1.8311635255813599\n",
      "GSM-FedAvg\n",
      "313/313 [==============================] - 2s 6ms/step\n",
      "comm_round: 567 | global_acc: 60.660% | global_loss: 1.852020263671875\n"
     ]
    },
    {
     "name": "stderr",
     "output_type": "stream",
     "text": [
      "Progress Bar: 100%|████████████████████████████████████████████████████████████████████| 10/10 [00:51<00:00,  5.17s/it]\n"
     ]
    },
    {
     "name": "stdout",
     "output_type": "stream",
     "text": [
      "Fedavg:\n",
      "313/313 [==============================] - 2s 6ms/step\n",
      "comm_round: 568 | global_acc: 62.740% | global_loss: 1.8314383029937744\n",
      "GSM-FedAvg\n",
      "313/313 [==============================] - 2s 6ms/step\n",
      "comm_round: 568 | global_acc: 60.600% | global_loss: 1.8525390625\n"
     ]
    },
    {
     "name": "stderr",
     "output_type": "stream",
     "text": [
      "Progress Bar: 100%|████████████████████████████████████████████████████████████████████| 10/10 [00:51<00:00,  5.11s/it]\n"
     ]
    },
    {
     "name": "stdout",
     "output_type": "stream",
     "text": [
      "Fedavg:\n",
      "313/313 [==============================] - 2s 6ms/step\n",
      "comm_round: 569 | global_acc: 62.790% | global_loss: 1.831220269203186\n",
      "GSM-FedAvg\n",
      "313/313 [==============================] - 2s 6ms/step\n",
      "comm_round: 569 | global_acc: 60.580% | global_loss: 1.8524072170257568\n"
     ]
    },
    {
     "name": "stderr",
     "output_type": "stream",
     "text": [
      "Progress Bar: 100%|████████████████████████████████████████████████████████████████████| 10/10 [00:51<00:00,  5.14s/it]\n"
     ]
    },
    {
     "name": "stdout",
     "output_type": "stream",
     "text": [
      "Fedavg:\n",
      "313/313 [==============================] - 2s 6ms/step\n",
      "comm_round: 570 | global_acc: 62.930% | global_loss: 1.831093192100525\n",
      "GSM-FedAvg\n",
      "313/313 [==============================] - 2s 6ms/step\n",
      "comm_round: 570 | global_acc: 60.530% | global_loss: 1.8526185750961304\n"
     ]
    },
    {
     "name": "stderr",
     "output_type": "stream",
     "text": [
      "Progress Bar: 100%|████████████████████████████████████████████████████████████████████| 10/10 [00:51<00:00,  5.14s/it]\n"
     ]
    },
    {
     "name": "stdout",
     "output_type": "stream",
     "text": [
      "Fedavg:\n",
      "313/313 [==============================] - 2s 6ms/step\n",
      "comm_round: 571 | global_acc: 62.810% | global_loss: 1.8301374912261963\n",
      "GSM-FedAvg\n",
      "313/313 [==============================] - 2s 6ms/step\n",
      "comm_round: 571 | global_acc: 60.520% | global_loss: 1.8521758317947388\n"
     ]
    },
    {
     "name": "stderr",
     "output_type": "stream",
     "text": [
      "Progress Bar: 100%|████████████████████████████████████████████████████████████████████| 10/10 [00:51<00:00,  5.13s/it]\n"
     ]
    },
    {
     "name": "stdout",
     "output_type": "stream",
     "text": [
      "Fedavg:\n",
      "313/313 [==============================] - 2s 7ms/step\n",
      "comm_round: 572 | global_acc: 62.940% | global_loss: 1.8303142786026\n",
      "GSM-FedAvg\n",
      "313/313 [==============================] - 2s 8ms/step\n",
      "comm_round: 572 | global_acc: 60.560% | global_loss: 1.8526115417480469\n"
     ]
    },
    {
     "name": "stderr",
     "output_type": "stream",
     "text": [
      "Progress Bar: 100%|████████████████████████████████████████████████████████████████████| 10/10 [00:53<00:00,  5.31s/it]\n"
     ]
    },
    {
     "name": "stdout",
     "output_type": "stream",
     "text": [
      "Fedavg:\n",
      "313/313 [==============================] - 2s 6ms/step\n",
      "comm_round: 573 | global_acc: 62.930% | global_loss: 1.8303651809692383\n",
      "GSM-FedAvg\n",
      "313/313 [==============================] - 2s 6ms/step\n",
      "comm_round: 573 | global_acc: 60.540% | global_loss: 1.8522472381591797\n"
     ]
    },
    {
     "name": "stderr",
     "output_type": "stream",
     "text": [
      "Progress Bar: 100%|████████████████████████████████████████████████████████████████████| 10/10 [00:51<00:00,  5.16s/it]\n"
     ]
    },
    {
     "name": "stdout",
     "output_type": "stream",
     "text": [
      "Fedavg:\n",
      "313/313 [==============================] - 2s 6ms/step\n",
      "comm_round: 574 | global_acc: 62.790% | global_loss: 1.8305385112762451\n",
      "GSM-FedAvg\n",
      "313/313 [==============================] - 2s 6ms/step\n",
      "comm_round: 574 | global_acc: 60.510% | global_loss: 1.8523316383361816\n"
     ]
    },
    {
     "name": "stderr",
     "output_type": "stream",
     "text": [
      "Progress Bar: 100%|████████████████████████████████████████████████████████████████████| 10/10 [00:51<00:00,  5.16s/it]\n"
     ]
    },
    {
     "name": "stdout",
     "output_type": "stream",
     "text": [
      "Fedavg:\n",
      "313/313 [==============================] - 2s 7ms/step\n",
      "comm_round: 575 | global_acc: 62.880% | global_loss: 1.8304381370544434\n",
      "GSM-FedAvg\n",
      "313/313 [==============================] - 2s 7ms/step\n",
      "comm_round: 575 | global_acc: 60.700% | global_loss: 1.8524253368377686\n"
     ]
    },
    {
     "name": "stderr",
     "output_type": "stream",
     "text": [
      "Progress Bar: 100%|████████████████████████████████████████████████████████████████████| 10/10 [00:52<00:00,  5.24s/it]\n"
     ]
    },
    {
     "name": "stdout",
     "output_type": "stream",
     "text": [
      "Fedavg:\n",
      "313/313 [==============================] - 2s 6ms/step\n",
      "comm_round: 576 | global_acc: 62.830% | global_loss: 1.8309788703918457\n",
      "GSM-FedAvg\n",
      "313/313 [==============================] - 2s 6ms/step\n",
      "comm_round: 576 | global_acc: 60.610% | global_loss: 1.8522554636001587\n"
     ]
    },
    {
     "name": "stderr",
     "output_type": "stream",
     "text": [
      "Progress Bar: 100%|████████████████████████████████████████████████████████████████████| 10/10 [00:52<00:00,  5.20s/it]\n"
     ]
    },
    {
     "name": "stdout",
     "output_type": "stream",
     "text": [
      "Fedavg:\n",
      "313/313 [==============================] - 2s 6ms/step\n",
      "comm_round: 577 | global_acc: 62.780% | global_loss: 1.8313413858413696\n",
      "GSM-FedAvg\n",
      "313/313 [==============================] - 2s 6ms/step\n",
      "comm_round: 577 | global_acc: 60.520% | global_loss: 1.8526947498321533\n"
     ]
    },
    {
     "name": "stderr",
     "output_type": "stream",
     "text": [
      "Progress Bar: 100%|████████████████████████████████████████████████████████████████████| 10/10 [00:51<00:00,  5.15s/it]\n"
     ]
    },
    {
     "name": "stdout",
     "output_type": "stream",
     "text": [
      "Fedavg:\n",
      "313/313 [==============================] - 2s 6ms/step\n",
      "comm_round: 578 | global_acc: 62.840% | global_loss: 1.831205129623413\n",
      "GSM-FedAvg\n",
      "313/313 [==============================] - 2s 6ms/step\n",
      "comm_round: 578 | global_acc: 60.640% | global_loss: 1.8525054454803467\n"
     ]
    },
    {
     "name": "stderr",
     "output_type": "stream",
     "text": [
      "Progress Bar: 100%|████████████████████████████████████████████████████████████████████| 10/10 [00:50<00:00,  5.10s/it]\n"
     ]
    },
    {
     "name": "stdout",
     "output_type": "stream",
     "text": [
      "Fedavg:\n",
      "313/313 [==============================] - 2s 6ms/step\n",
      "comm_round: 579 | global_acc: 62.900% | global_loss: 1.8305712938308716\n",
      "GSM-FedAvg\n",
      "313/313 [==============================] - 2s 6ms/step\n",
      "comm_round: 579 | global_acc: 60.600% | global_loss: 1.8520464897155762\n"
     ]
    },
    {
     "name": "stderr",
     "output_type": "stream",
     "text": [
      "Progress Bar: 100%|████████████████████████████████████████████████████████████████████| 10/10 [00:51<00:00,  5.15s/it]\n"
     ]
    },
    {
     "name": "stdout",
     "output_type": "stream",
     "text": [
      "Fedavg:\n",
      "313/313 [==============================] - 2s 6ms/step\n",
      "comm_round: 580 | global_acc: 62.780% | global_loss: 1.8306628465652466\n",
      "GSM-FedAvg\n",
      "313/313 [==============================] - 2s 6ms/step\n",
      "comm_round: 580 | global_acc: 60.600% | global_loss: 1.8523173332214355\n"
     ]
    },
    {
     "name": "stderr",
     "output_type": "stream",
     "text": [
      "Progress Bar: 100%|████████████████████████████████████████████████████████████████████| 10/10 [00:53<00:00,  5.34s/it]\n"
     ]
    },
    {
     "name": "stdout",
     "output_type": "stream",
     "text": [
      "Fedavg:\n",
      "313/313 [==============================] - 2s 6ms/step\n",
      "comm_round: 581 | global_acc: 62.810% | global_loss: 1.830576777458191\n",
      "GSM-FedAvg\n",
      "313/313 [==============================] - 2s 6ms/step\n",
      "comm_round: 581 | global_acc: 60.650% | global_loss: 1.8521193265914917\n"
     ]
    },
    {
     "name": "stderr",
     "output_type": "stream",
     "text": [
      "Progress Bar: 100%|████████████████████████████████████████████████████████████████████| 10/10 [00:51<00:00,  5.19s/it]\n"
     ]
    },
    {
     "name": "stdout",
     "output_type": "stream",
     "text": [
      "Fedavg:\n",
      "313/313 [==============================] - 2s 6ms/step\n",
      "comm_round: 582 | global_acc: 62.880% | global_loss: 1.8315324783325195\n",
      "GSM-FedAvg\n",
      "313/313 [==============================] - 2s 6ms/step\n",
      "comm_round: 582 | global_acc: 60.630% | global_loss: 1.8526544570922852\n"
     ]
    },
    {
     "name": "stderr",
     "output_type": "stream",
     "text": [
      "Progress Bar: 100%|████████████████████████████████████████████████████████████████████| 10/10 [00:51<00:00,  5.14s/it]\n"
     ]
    },
    {
     "name": "stdout",
     "output_type": "stream",
     "text": [
      "Fedavg:\n",
      "313/313 [==============================] - 2s 7ms/step\n",
      "comm_round: 583 | global_acc: 62.870% | global_loss: 1.8308402299880981\n",
      "GSM-FedAvg\n",
      "313/313 [==============================] - 2s 7ms/step\n",
      "comm_round: 583 | global_acc: 60.660% | global_loss: 1.852142572402954\n"
     ]
    },
    {
     "name": "stderr",
     "output_type": "stream",
     "text": [
      "Progress Bar: 100%|████████████████████████████████████████████████████████████████████| 10/10 [00:51<00:00,  5.13s/it]\n"
     ]
    },
    {
     "name": "stdout",
     "output_type": "stream",
     "text": [
      "Fedavg:\n",
      "313/313 [==============================] - 2s 6ms/step\n",
      "comm_round: 584 | global_acc: 62.890% | global_loss: 1.8305975198745728\n",
      "GSM-FedAvg\n",
      "313/313 [==============================] - 2s 6ms/step\n",
      "comm_round: 584 | global_acc: 60.680% | global_loss: 1.8524515628814697\n"
     ]
    },
    {
     "name": "stderr",
     "output_type": "stream",
     "text": [
      "Progress Bar: 100%|████████████████████████████████████████████████████████████████████| 10/10 [00:51<00:00,  5.11s/it]\n"
     ]
    },
    {
     "name": "stdout",
     "output_type": "stream",
     "text": [
      "Fedavg:\n",
      "313/313 [==============================] - 2s 6ms/step\n",
      "comm_round: 585 | global_acc: 62.890% | global_loss: 1.8303382396697998\n",
      "GSM-FedAvg\n",
      "313/313 [==============================] - 2s 6ms/step\n",
      "comm_round: 585 | global_acc: 60.620% | global_loss: 1.852033257484436\n"
     ]
    },
    {
     "name": "stderr",
     "output_type": "stream",
     "text": [
      "Progress Bar: 100%|████████████████████████████████████████████████████████████████████| 10/10 [00:52<00:00,  5.22s/it]\n"
     ]
    },
    {
     "name": "stdout",
     "output_type": "stream",
     "text": [
      "Fedavg:\n",
      "313/313 [==============================] - 2s 6ms/step\n",
      "comm_round: 586 | global_acc: 62.740% | global_loss: 1.8310779333114624\n",
      "GSM-FedAvg\n",
      "313/313 [==============================] - 2s 6ms/step\n",
      "comm_round: 586 | global_acc: 60.650% | global_loss: 1.852108359336853\n"
     ]
    },
    {
     "name": "stderr",
     "output_type": "stream",
     "text": [
      "Progress Bar: 100%|████████████████████████████████████████████████████████████████████| 10/10 [00:51<00:00,  5.12s/it]\n"
     ]
    },
    {
     "name": "stdout",
     "output_type": "stream",
     "text": [
      "Fedavg:\n",
      "313/313 [==============================] - 2s 6ms/step\n",
      "comm_round: 587 | global_acc: 62.870% | global_loss: 1.8307784795761108\n",
      "GSM-FedAvg\n",
      "313/313 [==============================] - 2s 6ms/step\n",
      "comm_round: 587 | global_acc: 60.680% | global_loss: 1.8519831895828247\n"
     ]
    },
    {
     "name": "stderr",
     "output_type": "stream",
     "text": [
      "Progress Bar: 100%|████████████████████████████████████████████████████████████████████| 10/10 [00:51<00:00,  5.14s/it]\n"
     ]
    },
    {
     "name": "stdout",
     "output_type": "stream",
     "text": [
      "Fedavg:\n",
      "313/313 [==============================] - 2s 6ms/step\n",
      "comm_round: 588 | global_acc: 62.920% | global_loss: 1.8300904035568237\n",
      "GSM-FedAvg\n",
      "313/313 [==============================] - 2s 6ms/step\n",
      "comm_round: 588 | global_acc: 60.660% | global_loss: 1.85188627243042\n"
     ]
    },
    {
     "name": "stderr",
     "output_type": "stream",
     "text": [
      "Progress Bar: 100%|████████████████████████████████████████████████████████████████████| 10/10 [00:51<00:00,  5.11s/it]\n"
     ]
    },
    {
     "name": "stdout",
     "output_type": "stream",
     "text": [
      "Fedavg:\n",
      "313/313 [==============================] - 2s 6ms/step\n",
      "comm_round: 589 | global_acc: 62.790% | global_loss: 1.831034541130066\n",
      "GSM-FedAvg\n",
      "313/313 [==============================] - 2s 6ms/step\n",
      "comm_round: 589 | global_acc: 60.530% | global_loss: 1.852555274963379\n"
     ]
    },
    {
     "name": "stderr",
     "output_type": "stream",
     "text": [
      "Progress Bar: 100%|████████████████████████████████████████████████████████████████████| 10/10 [00:51<00:00,  5.15s/it]\n"
     ]
    },
    {
     "name": "stdout",
     "output_type": "stream",
     "text": [
      "Fedavg:\n",
      "313/313 [==============================] - 2s 6ms/step\n",
      "comm_round: 590 | global_acc: 62.780% | global_loss: 1.8303711414337158\n",
      "GSM-FedAvg\n",
      "313/313 [==============================] - 2s 6ms/step\n",
      "comm_round: 590 | global_acc: 60.620% | global_loss: 1.8522719144821167\n"
     ]
    },
    {
     "name": "stderr",
     "output_type": "stream",
     "text": [
      "Progress Bar: 100%|████████████████████████████████████████████████████████████████████| 10/10 [00:51<00:00,  5.11s/it]\n"
     ]
    },
    {
     "name": "stdout",
     "output_type": "stream",
     "text": [
      "Fedavg:\n",
      "313/313 [==============================] - 2s 6ms/step\n",
      "comm_round: 591 | global_acc: 62.830% | global_loss: 1.8306710720062256\n",
      "GSM-FedAvg\n",
      "313/313 [==============================] - 2s 6ms/step\n",
      "comm_round: 591 | global_acc: 60.580% | global_loss: 1.85244882106781\n"
     ]
    },
    {
     "name": "stderr",
     "output_type": "stream",
     "text": [
      "Progress Bar: 100%|████████████████████████████████████████████████████████████████████| 10/10 [00:51<00:00,  5.11s/it]\n"
     ]
    },
    {
     "name": "stdout",
     "output_type": "stream",
     "text": [
      "Fedavg:\n",
      "313/313 [==============================] - 2s 6ms/step\n",
      "comm_round: 592 | global_acc: 62.830% | global_loss: 1.8307433128356934\n",
      "GSM-FedAvg\n",
      "313/313 [==============================] - 2s 6ms/step\n",
      "comm_round: 592 | global_acc: 60.600% | global_loss: 1.8526060581207275\n"
     ]
    },
    {
     "name": "stderr",
     "output_type": "stream",
     "text": [
      "Progress Bar: 100%|████████████████████████████████████████████████████████████████████| 10/10 [00:51<00:00,  5.14s/it]\n"
     ]
    },
    {
     "name": "stdout",
     "output_type": "stream",
     "text": [
      "Fedavg:\n",
      "313/313 [==============================] - 2s 6ms/step\n",
      "comm_round: 593 | global_acc: 62.790% | global_loss: 1.8310484886169434\n",
      "GSM-FedAvg\n",
      "313/313 [==============================] - 2s 6ms/step\n",
      "comm_round: 593 | global_acc: 60.570% | global_loss: 1.8525816202163696\n"
     ]
    },
    {
     "name": "stderr",
     "output_type": "stream",
     "text": [
      "Progress Bar: 100%|████████████████████████████████████████████████████████████████████| 10/10 [00:51<00:00,  5.11s/it]\n"
     ]
    },
    {
     "name": "stdout",
     "output_type": "stream",
     "text": [
      "Fedavg:\n",
      "313/313 [==============================] - 2s 6ms/step\n",
      "comm_round: 594 | global_acc: 62.720% | global_loss: 1.8312171697616577\n",
      "GSM-FedAvg\n",
      "313/313 [==============================] - 2s 6ms/step\n",
      "comm_round: 594 | global_acc: 60.560% | global_loss: 1.8525488376617432\n"
     ]
    },
    {
     "name": "stderr",
     "output_type": "stream",
     "text": [
      "Progress Bar: 100%|████████████████████████████████████████████████████████████████████| 10/10 [00:51<00:00,  5.10s/it]\n"
     ]
    },
    {
     "name": "stdout",
     "output_type": "stream",
     "text": [
      "Fedavg:\n",
      "313/313 [==============================] - 2s 6ms/step\n",
      "comm_round: 595 | global_acc: 62.800% | global_loss: 1.8309102058410645\n",
      "GSM-FedAvg\n",
      "313/313 [==============================] - 2s 6ms/step\n",
      "comm_round: 595 | global_acc: 60.600% | global_loss: 1.8521941900253296\n"
     ]
    },
    {
     "name": "stderr",
     "output_type": "stream",
     "text": [
      "Progress Bar: 100%|████████████████████████████████████████████████████████████████████| 10/10 [00:51<00:00,  5.12s/it]\n"
     ]
    },
    {
     "name": "stdout",
     "output_type": "stream",
     "text": [
      "Fedavg:\n",
      "313/313 [==============================] - 2s 6ms/step\n",
      "comm_round: 596 | global_acc: 62.690% | global_loss: 1.8309919834136963\n",
      "GSM-FedAvg\n",
      "313/313 [==============================] - 2s 6ms/step\n",
      "comm_round: 596 | global_acc: 60.690% | global_loss: 1.8521062135696411\n"
     ]
    },
    {
     "name": "stderr",
     "output_type": "stream",
     "text": [
      "Progress Bar: 100%|████████████████████████████████████████████████████████████████████| 10/10 [00:53<00:00,  5.39s/it]\n"
     ]
    },
    {
     "name": "stdout",
     "output_type": "stream",
     "text": [
      "Fedavg:\n",
      "313/313 [==============================] - 2s 7ms/step\n",
      "comm_round: 597 | global_acc: 62.740% | global_loss: 1.8309571743011475\n",
      "GSM-FedAvg\n",
      "313/313 [==============================] - 2s 7ms/step\n",
      "comm_round: 597 | global_acc: 60.640% | global_loss: 1.85210120677948\n"
     ]
    },
    {
     "name": "stderr",
     "output_type": "stream",
     "text": [
      "Progress Bar: 100%|████████████████████████████████████████████████████████████████████| 10/10 [00:54<00:00,  5.48s/it]\n"
     ]
    },
    {
     "name": "stdout",
     "output_type": "stream",
     "text": [
      "Fedavg:\n",
      "313/313 [==============================] - 2s 7ms/step\n",
      "comm_round: 598 | global_acc: 62.670% | global_loss: 1.8309025764465332\n",
      "GSM-FedAvg\n",
      "313/313 [==============================] - 2s 6ms/step\n",
      "comm_round: 598 | global_acc: 60.590% | global_loss: 1.85227632522583\n"
     ]
    },
    {
     "name": "stderr",
     "output_type": "stream",
     "text": [
      "Progress Bar: 100%|████████████████████████████████████████████████████████████████████| 10/10 [00:56<00:00,  5.61s/it]\n"
     ]
    },
    {
     "name": "stdout",
     "output_type": "stream",
     "text": [
      "Fedavg:\n",
      "313/313 [==============================] - 2s 6ms/step\n",
      "comm_round: 599 | global_acc: 62.800% | global_loss: 1.8309653997421265\n",
      "GSM-FedAvg\n",
      "313/313 [==============================] - 2s 6ms/step\n",
      "comm_round: 599 | global_acc: 60.660% | global_loss: 1.8524402379989624\n"
     ]
    }
   ],
   "source": [
    "#commence global training loop\n",
    "#participation ratio of clients at each round\n",
    "C=0.1\n",
    "X_com=[]\n",
    "Y_acc_avg_up=[]\n",
    "Y_loss_avg_up=[]\n",
    "Y_acc_avg=[]\n",
    "Y_loss_avg=[]\n",
    "\n",
    "for comm_round in range(comms_round):\n",
    "    \n",
    "    # get the global model's weights - will serve as the initial weights for all local models\n",
    "    #This function returns a list consisting of NumPy arrays. The first array gives the weights of the layer and \n",
    "    #the second array gives the biases.\n",
    "    global_weights1= global_model1.get_weights()\n",
    "    #initial list to collect local model weights after scalling\n",
    "    scaled_local_weight_list1 = list()\n",
    "    #randomize client data - using keys\n",
    "    client_names= list(clients_batched.keys()) #Here client name has been stored in client_names\n",
    "    random.shuffle(client_names)\n",
    "    client_names=client_names[0:int(max(C*len(clients),1))]\n",
    "    \n",
    "    #loop through each client and create new local model\n",
    "    for client in tqdm(client_names , desc = 'Progress Bar'):\n",
    "        #time.sleep(0.5)\n",
    "        local_model1 = global_model1\n",
    "        \n",
    "        #set local model weight to the weight of the global model\n",
    "        #local_model.set_weights(global_weights)\n",
    "        \n",
    "        # get the batched data for the client\n",
    "        client_data = clients_batched[client]\n",
    "        \n",
    "        # get the number of batches in the client's data\n",
    "        num_batches = tf.data.experimental.cardinality(client_data)\n",
    "            \n",
    "        for batch in client_data:\n",
    "            X, y = batch\n",
    "            bs = len(X)\n",
    "            local_model1.fit(X, y, epochs=E, verbose=0, batch_size=bs)\n",
    "            \n",
    "        #scale the model weights and add to list\n",
    "        scaling_factor = weight_scalling_factor(clients_batched, client,client_names)\n",
    "        #Now each attributes weights has been multiplied by scalling factor for each client\n",
    "        scaled_weights1 = scale_model_weights(local_model1.get_weights(), scaling_factor)\n",
    "        #scaled weight list now stored for each client\n",
    "        scaled_local_weight_list1.append(scaled_weights1)\n",
    "        #clear session to free memory after each communication round\n",
    "        K.clear_session()\n",
    "        \n",
    "    #to get the average over all the local model, we simply take the sum of the scaled weights\n",
    "    average_weights1 = sum_scaled_weights(scaled_local_weight_list1)\n",
    "        \n",
    "    #update global model \n",
    "    global_model1.set_weights(average_weights1)\n",
    "\n",
    "    #test global model and print out metrics after each communications round\n",
    "    for(X_test, Y_test) in test_batched:\n",
    "        print('Fedavg:')\n",
    "        global_acc, global_loss = test_model(X_test, Y_test, global_model1,comm_round)\n",
    "        X_com.append(comm_round)\n",
    "        Y_acc_avg_up.append(global_acc)\n",
    "        Y_loss_avg_up.append(global_loss)"
   ]
  },
  {
   "cell_type": "code",
   "execution_count": 31,
   "id": "8e8c2ceb",
   "metadata": {},
   "outputs": [
    {
     "data": {
      "image/png": "[encoded data removed]",
      "text/plain": [
       "<Figure size 504x504 with 1 Axes>"
      ]
     },
     "metadata": {
      "needs_background": "light"
     },
     "output_type": "display_data"
    }
   ],
   "source": [
    "f = plt.figure()\n",
    "f.set_figwidth(7)\n",
    "f.set_figheight(7)\n",
    "plt.plot(X_com,Y_acc_avg_up,color='orange')\n",
    "plt.title('CIFAR IID ACC')\n",
    "plt.ylabel('Accuracy')\n",
    "plt.xlabel('Communication round')\n",
    "plt.legend(['Fedavg\\nB=50\\nE=1\\nC=0.1'],loc='lower right')\n",
    "plt.savefig(\"Comparison acc.jpg\",dpi=300)\n",
    "plt.show()"
   ]
  },
  {
   "cell_type": "code",
   "execution_count": 32,
   "id": "07d40421",
   "metadata": {},
   "outputs": [
    {
     "data": {
      "image/png": "[encoded data removed]",
      "text/plain": [
       "<Figure size 504x504 with 1 Axes>"
      ]
     },
     "metadata": {
      "needs_background": "light"
     },
     "output_type": "display_data"
    }
   ],
   "source": [
    "f = plt.figure()\n",
    "f.set_figwidth(7)\n",
    "f.set_figheight(7)\n",
    "plt.plot(X_com,Y_loss_avg_up,color='orange')\n",
    "plt.plot(X_com,Y_loss_avg,color='blue')\n",
    "plt.title('CIFAR IID LOSS')\n",
    "plt.ylabel('Loss')\n",
    "plt.xlabel('Communication round')\n",
    "plt.legend(['Fedavg\\nB=50\\nE=1\\nC=0.1'],loc='upper right')\n",
    "plt.savefig(\"Comparison loss.jpg\",dpi=300)\n",
    "plt.show()"
   ]
  }
 ],
 "metadata": {
  "kernelspec": {
   "display_name": "Python 3 (ipykernel)",
   "language": "python",
   "name": "python3"
  },
  "language_info": {
   "codemirror_mode": {
    "name": "ipython",
    "version": 3
   },
   "file_extension": ".py",
   "mimetype": "text/x-python",
   "name": "python",
   "nbconvert_exporter": "python",
   "pygments_lexer": "ipython3",
   "version": "3.9.0"
  }
 },
 "nbformat": 4,
 "nbformat_minor": 5
}
