{
 "cells": [
  {
   "cell_type": "markdown",
   "id": "4c9b4a3f",
   "metadata": {},
   "source": [
    "# Here C[client fraction]=0.1 and E[local epoch on each client]=5 ,bs[batch size ]=50"
   ]
  },
  {
   "cell_type": "code",
   "execution_count": 1,
   "id": "9968fb05",
   "metadata": {},
   "outputs": [
    {
     "name": "stderr",
     "output_type": "stream",
     "text": [
      "c:\\users\\user\\appdata\\local\\programs\\python\\python39\\lib\\site-packages\\scipy\\__init__.py:146: UserWarning: A NumPy version >=1.16.5 and <1.23.0 is required for this version of SciPy (detected version 1.24.3\n",
      "  warnings.warn(f\"A NumPy version >={np_minversion} and <{np_maxversion}\"\n"
     ]
    }
   ],
   "source": [
    "import numpy as np\n",
    "import random\n",
    "import os\n",
    "import pickle \n",
    "%matplotlib inline\n",
    "import matplotlib as mpl \n",
    "import matplotlib.pyplot as plt\n",
    "from sklearn.model_selection import train_test_split\n",
    "from sklearn.preprocessing import LabelBinarizer \n",
    "from sklearn.model_selection import train_test_split\n",
    "from sklearn.utils import shuffle\n",
    "from sklearn.metrics import accuracy_score\n",
    "#tqdm is a package for Python that enables you to instantly \n",
    "#create progress bars and estimate TTC (Time To Completion) for your functions and loops!\n",
    "from tqdm import tqdm\n",
    "import time\n",
    "import tensorflow as tf\n",
    "from tensorflow.keras.models import Sequential\n",
    "from tensorflow.keras.layers import Conv2D\n",
    "from tensorflow.keras.layers import MaxPooling2D\n",
    "from tensorflow.keras.layers import Activation\n",
    "from tensorflow.keras.layers import Flatten\n",
    "from tensorflow.keras.layers import Dense\n",
    "#from tensorflow.keras.optimizers.legacy import SGD\n",
    "from tensorflow.keras import backend as K"
   ]
  },
  {
   "cell_type": "code",
   "execution_count": 2,
   "id": "91251e95",
   "metadata": {},
   "outputs": [],
   "source": [
    "#Federated_implementation_utils has been imported \n",
    "#from Federated_implementation_utils import *\n",
    "from Federated_implementation_utils_minmax_cifar import *"
   ]
  },
  {
   "cell_type": "code",
   "execution_count": 3,
   "id": "6a02dab1",
   "metadata": {},
   "outputs": [],
   "source": [
    "X_train = load('X_train.pkl')\n",
    "X_test=load('X_test.pkl')\n",
    "y_train=pickle.load(open('y_train.pkl','rb'))\n",
    "y_test=pickle.load(open('y_test.pkl','rb'))"
   ]
  },
  {
   "cell_type": "code",
   "execution_count": 4,
   "id": "84039ddc",
   "metadata": {},
   "outputs": [
    {
     "data": {
      "text/plain": [
       "array([[[ 49,  52,  52],\n",
       "        [ 40,  39,  36],\n",
       "        [ 61,  48,  36],\n",
       "        ...,\n",
       "        [153, 124,  97],\n",
       "        [149, 121,  96],\n",
       "        [144, 117,  95]],\n",
       "\n",
       "       [[ 18,  18,  17],\n",
       "        [ 20,  10,   2],\n",
       "        [ 61,  35,  13],\n",
       "        ...,\n",
       "        [129,  93,  57],\n",
       "        [120,  84,  51],\n",
       "        [116,  80,  49]],\n",
       "\n",
       "       [[ 32,  23,  15],\n",
       "        [ 57,  33,  12],\n",
       "        [ 98,  58,  26],\n",
       "        ...,\n",
       "        [128,  89,  51],\n",
       "        [122,  85,  49],\n",
       "        [100,  67,  38]],\n",
       "\n",
       "       ...,\n",
       "\n",
       "       [[215, 175,  80],\n",
       "        [194, 150,  24],\n",
       "        [177, 143,  27],\n",
       "        ...,\n",
       "        [176, 145,  90],\n",
       "        [113,  85,  46],\n",
       "        [ 39,  22,  10]],\n",
       "\n",
       "       [[192, 151,  86],\n",
       "        [189, 145,  33],\n",
       "        [192, 154,  26],\n",
       "        ...,\n",
       "        [140, 106,  62],\n",
       "        [124,  93,  51],\n",
       "        [ 69,  43,  25]],\n",
       "\n",
       "       [[176, 140, 108],\n",
       "        [174, 135,  81],\n",
       "        [187, 148,  62],\n",
       "        ...,\n",
       "        [171, 139, 102],\n",
       "        [176, 143, 104],\n",
       "        [120,  89,  67]]], dtype=uint8)"
      ]
     },
     "execution_count": 4,
     "metadata": {},
     "output_type": "execute_result"
    }
   ],
   "source": [
    "#see the pickle file\n",
    "with open('X_train.pkl','rb') as pickle_file: \n",
    "    new_data=pickle.load(pickle_file)\n",
    "\n",
    "new_data[0]"
   ]
  },
  {
   "cell_type": "code",
   "execution_count": 5,
   "id": "1ed630c6",
   "metadata": {},
   "outputs": [
    {
     "data": {
      "text/plain": [
       "array([[[0.19215686, 0.20392157, 0.20392157],\n",
       "        [0.15686275, 0.15294118, 0.14117647],\n",
       "        [0.23921569, 0.18823529, 0.14117647],\n",
       "        ...,\n",
       "        [0.6       , 0.48627451, 0.38039216],\n",
       "        [0.58431373, 0.4745098 , 0.37647059],\n",
       "        [0.56470588, 0.45882353, 0.37254902]],\n",
       "\n",
       "       [[0.07058824, 0.07058824, 0.06666667],\n",
       "        [0.07843137, 0.03921569, 0.00784314],\n",
       "        [0.23921569, 0.1372549 , 0.05098039],\n",
       "        ...,\n",
       "        [0.50588235, 0.36470588, 0.22352941],\n",
       "        [0.47058824, 0.32941176, 0.2       ],\n",
       "        [0.45490196, 0.31372549, 0.19215686]],\n",
       "\n",
       "       [[0.1254902 , 0.09019608, 0.05882353],\n",
       "        [0.22352941, 0.12941176, 0.04705882],\n",
       "        [0.38431373, 0.22745098, 0.10196078],\n",
       "        ...,\n",
       "        [0.50196078, 0.34901961, 0.2       ],\n",
       "        [0.47843137, 0.33333333, 0.19215686],\n",
       "        [0.39215686, 0.2627451 , 0.14901961]],\n",
       "\n",
       "       ...,\n",
       "\n",
       "       [[0.84313725, 0.68627451, 0.31372549],\n",
       "        [0.76078431, 0.58823529, 0.09411765],\n",
       "        [0.69411765, 0.56078431, 0.10588235],\n",
       "        ...,\n",
       "        [0.69019608, 0.56862745, 0.35294118],\n",
       "        [0.44313725, 0.33333333, 0.18039216],\n",
       "        [0.15294118, 0.08627451, 0.03921569]],\n",
       "\n",
       "       [[0.75294118, 0.59215686, 0.3372549 ],\n",
       "        [0.74117647, 0.56862745, 0.12941176],\n",
       "        [0.75294118, 0.60392157, 0.10196078],\n",
       "        ...,\n",
       "        [0.54901961, 0.41568627, 0.24313725],\n",
       "        [0.48627451, 0.36470588, 0.2       ],\n",
       "        [0.27058824, 0.16862745, 0.09803922]],\n",
       "\n",
       "       [[0.69019608, 0.54901961, 0.42352941],\n",
       "        [0.68235294, 0.52941176, 0.31764706],\n",
       "        [0.73333333, 0.58039216, 0.24313725],\n",
       "        ...,\n",
       "        [0.67058824, 0.54509804, 0.4       ],\n",
       "        [0.69019608, 0.56078431, 0.40784314],\n",
       "        [0.47058824, 0.34901961, 0.2627451 ]]])"
      ]
     },
     "execution_count": 5,
     "metadata": {},
     "output_type": "execute_result"
    }
   ],
   "source": [
    "X_train[0]"
   ]
  },
  {
   "cell_type": "code",
   "execution_count": 6,
   "id": "388f8a0c",
   "metadata": {},
   "outputs": [
    {
     "data": {
      "text/plain": [
       "array([[6],\n",
       "       [9],\n",
       "       [9],\n",
       "       ...,\n",
       "       [9],\n",
       "       [1],\n",
       "       [1]], dtype=uint8)"
      ]
     },
     "execution_count": 6,
     "metadata": {},
     "output_type": "execute_result"
    }
   ],
   "source": [
    "y_train"
   ]
  },
  {
   "cell_type": "code",
   "execution_count": 7,
   "id": "3cbe11eb",
   "metadata": {},
   "outputs": [
    {
     "data": {
      "text/plain": [
       "(50000, 1)"
      ]
     },
     "execution_count": 7,
     "metadata": {},
     "output_type": "execute_result"
    }
   ],
   "source": [
    "y_train.shape"
   ]
  },
  {
   "cell_type": "code",
   "execution_count": 8,
   "id": "e6453c82",
   "metadata": {},
   "outputs": [],
   "source": [
    "y_train=y_train.reshape(-1,)"
   ]
  },
  {
   "cell_type": "code",
   "execution_count": 9,
   "id": "25e8edf9",
   "metadata": {},
   "outputs": [
    {
     "name": "stdout",
     "output_type": "stream",
     "text": [
      "[0, 1, 2, 3, 4, 5, 6, 7, 8, 9]\n"
     ]
    }
   ],
   "source": [
    "#tolist(), used to convert the data elements of an array into a list. \n",
    "#This function returns the array as an a. ndim- levels deep nested list of Python scalars.\n",
    "labels = list(set(y_train.tolist())) #unique labels\n",
    "print(labels)"
   ]
  },
  {
   "cell_type": "code",
   "execution_count": 10,
   "id": "3a77eca1",
   "metadata": {},
   "outputs": [
    {
     "name": "stdout",
     "output_type": "stream",
     "text": [
      "[[0. 0. 0. ... 0. 0. 0.]\n",
      " [0. 0. 0. ... 0. 0. 1.]\n",
      " [0. 0. 0. ... 0. 0. 1.]\n",
      " ...\n",
      " [0. 0. 0. ... 0. 0. 1.]\n",
      " [0. 1. 0. ... 0. 0. 0.]\n",
      " [0. 1. 0. ... 0. 0. 0.]]\n"
     ]
    }
   ],
   "source": [
    "n_values = np.max(y_train)+1\n",
    "\n",
    "'''\n",
    "numpy.eye(R, C = None, k = 0, dtype = type <‘float’>) : –The eye tool returns a 2-D array with  1’s as the diagonal\n",
    "and  0’s elsewhere. The diagonal can be main, upper, or lower depending on the optional parameter k. \n",
    "A positive k is for the upper diagonal, a negative k is for the lower, and a  0 k (default) is for the main diagonal.\n",
    "'''\n",
    "#[[1 0]\n",
    "# [0 1]] is created and depending upon the class value 0 or 1 0 th or 1st row is selected and stored in label_list\n",
    "label_list = np.eye(n_values)[y_train]\n",
    "print(label_list)\n",
    "#Label_list is changed 1 0 when this means that 0 index should have high probabilty to be classified and 0 1 when 1 index \n",
    "#should have high probability to be classified .It is done as because MLP classifier picks up the index of highest probability"
   ]
  },
  {
   "cell_type": "code",
   "execution_count": 11,
   "id": "94752ede",
   "metadata": {},
   "outputs": [],
   "source": [
    "y_train=label_list"
   ]
  },
  {
   "cell_type": "code",
   "execution_count": 12,
   "id": "b48d14f8",
   "metadata": {},
   "outputs": [
    {
     "data": {
      "text/plain": [
       "array([[0., 0., 0., ..., 0., 0., 0.],\n",
       "       [0., 0., 0., ..., 0., 0., 1.],\n",
       "       [0., 0., 0., ..., 0., 0., 1.],\n",
       "       ...,\n",
       "       [0., 0., 0., ..., 0., 0., 1.],\n",
       "       [0., 1., 0., ..., 0., 0., 0.],\n",
       "       [0., 1., 0., ..., 0., 0., 0.]])"
      ]
     },
     "execution_count": 12,
     "metadata": {},
     "output_type": "execute_result"
    }
   ],
   "source": [
    "y_train"
   ]
  },
  {
   "cell_type": "code",
   "execution_count": 13,
   "id": "9312bb13",
   "metadata": {},
   "outputs": [
    {
     "data": {
      "text/plain": [
       "array([[3],\n",
       "       [8],\n",
       "       [8],\n",
       "       ...,\n",
       "       [5],\n",
       "       [1],\n",
       "       [7]], dtype=uint8)"
      ]
     },
     "execution_count": 13,
     "metadata": {},
     "output_type": "execute_result"
    }
   ],
   "source": [
    "y_test"
   ]
  },
  {
   "cell_type": "code",
   "execution_count": 14,
   "id": "8db9e9e4",
   "metadata": {},
   "outputs": [
    {
     "data": {
      "text/plain": [
       "(10000, 1)"
      ]
     },
     "execution_count": 14,
     "metadata": {},
     "output_type": "execute_result"
    }
   ],
   "source": [
    "y_test.shape"
   ]
  },
  {
   "cell_type": "code",
   "execution_count": 15,
   "id": "d2b87696",
   "metadata": {},
   "outputs": [],
   "source": [
    "y_test=y_test.reshape(-1,)"
   ]
  },
  {
   "cell_type": "code",
   "execution_count": 16,
   "id": "a338d278",
   "metadata": {},
   "outputs": [
    {
     "data": {
      "text/plain": [
       "array([3, 8, 8, ..., 5, 1, 7], dtype=uint8)"
      ]
     },
     "execution_count": 16,
     "metadata": {},
     "output_type": "execute_result"
    }
   ],
   "source": [
    "y_test"
   ]
  },
  {
   "cell_type": "code",
   "execution_count": 17,
   "id": "856a1823",
   "metadata": {},
   "outputs": [
    {
     "name": "stdout",
     "output_type": "stream",
     "text": [
      "[0, 1, 2, 3, 4, 5, 6, 7, 8, 9]\n"
     ]
    }
   ],
   "source": [
    "#tolist(), used to convert the data elements of an array into a list. \n",
    "#This function returns the array as an a. ndim- levels deep nested list of Python scalars.\n",
    "labels = list(set(y_test.tolist())) #unique labels\n",
    "print(labels)"
   ]
  },
  {
   "cell_type": "code",
   "execution_count": 18,
   "id": "6fa7accf",
   "metadata": {},
   "outputs": [
    {
     "name": "stdout",
     "output_type": "stream",
     "text": [
      "[[0. 0. 0. ... 0. 0. 0.]\n",
      " [0. 0. 0. ... 0. 1. 0.]\n",
      " [0. 0. 0. ... 0. 1. 0.]\n",
      " ...\n",
      " [0. 0. 0. ... 0. 0. 0.]\n",
      " [0. 1. 0. ... 0. 0. 0.]\n",
      " [0. 0. 0. ... 1. 0. 0.]]\n"
     ]
    }
   ],
   "source": [
    "n_values = np.max(y_test)+1\n",
    "\n",
    "'''\n",
    "numpy.eye(R, C = None, k = 0, dtype = type <‘float’>) : –The eye tool returns a 2-D array with  1’s as the diagonal\n",
    "and  0’s elsewhere. The diagonal can be main, upper, or lower depending on the optional parameter k. \n",
    "A positive k is for the upper diagonal, a negative k is for the lower, and a  0 k (default) is for the main diagonal.\n",
    "'''\n",
    "#[[1 0]\n",
    "# [0 1]] is created and depending upon the class value 0 or 1 0 th or 1st row is selected and stored in label_list\n",
    "label_list = np.eye(n_values)[y_test]\n",
    "print(label_list)\n",
    "#Label_list is changed 1 0 when this means that 0 index should have high probabilty to be classified and 0 1 when 1 index \n",
    "#should have high probability to be classified .It is done as because MLP classifier picks up the index of highest probability"
   ]
  },
  {
   "cell_type": "code",
   "execution_count": 19,
   "id": "21c9dbba",
   "metadata": {},
   "outputs": [],
   "source": [
    "y_test=label_list"
   ]
  },
  {
   "cell_type": "code",
   "execution_count": 20,
   "id": "ca2d5de3",
   "metadata": {},
   "outputs": [
    {
     "data": {
      "text/plain": [
       "array([[0., 0., 0., ..., 0., 0., 0.],\n",
       "       [0., 0., 0., ..., 0., 1., 0.],\n",
       "       [0., 0., 0., ..., 0., 1., 0.],\n",
       "       ...,\n",
       "       [0., 0., 0., ..., 0., 0., 0.],\n",
       "       [0., 1., 0., ..., 0., 0., 0.],\n",
       "       [0., 0., 0., ..., 1., 0., 0.]])"
      ]
     },
     "execution_count": 20,
     "metadata": {},
     "output_type": "execute_result"
    }
   ],
   "source": [
    "y_test"
   ]
  },
  {
   "cell_type": "code",
   "execution_count": 21,
   "id": "06bb6991",
   "metadata": {},
   "outputs": [],
   "source": [
    "#create clients\n",
    "#Here initial is for client1,client2,....clientK client name \n",
    "clients = create_clients_IID(X_train, y_train, num_clients=100, initial='client') "
   ]
  },
  {
   "cell_type": "code",
   "execution_count": 22,
   "id": "339a8374",
   "metadata": {},
   "outputs": [],
   "source": [
    "#clients[:2]"
   ]
  },
  {
   "cell_type": "code",
   "execution_count": 23,
   "id": "e895b2ab",
   "metadata": {},
   "outputs": [
    {
     "data": {
      "text/plain": [
       "100"
      ]
     },
     "execution_count": 23,
     "metadata": {},
     "output_type": "execute_result"
    }
   ],
   "source": [
    "len(clients)"
   ]
  },
  {
   "cell_type": "code",
   "execution_count": 24,
   "id": "0860ee88",
   "metadata": {},
   "outputs": [],
   "source": [
    "#process and batch the training data for each client\n",
    "#Dictionary of clients is created and the key will be client name and the value will be batched data set batch size is 32\n",
    "clients_batched = dict()\n",
    "for (client_name, data) in clients.items():\n",
    "    #Storing batched data on each client dictionary\n",
    "    #batch size is 50\n",
    "    clients_batched[client_name] = batch_data(data,50)"
   ]
  },
  {
   "cell_type": "code",
   "execution_count": 25,
   "id": "ff5c0a9a",
   "metadata": {},
   "outputs": [
    {
     "data": {
      "text/plain": [
       "{'client_1': <BatchDataset element_spec=(TensorSpec(shape=(None, 24, 24, 3), dtype=tf.float64, name=None), TensorSpec(shape=(None, 10), dtype=tf.float64, name=None))>,\n",
       " 'client_2': <BatchDataset element_spec=(TensorSpec(shape=(None, 24, 24, 3), dtype=tf.float64, name=None), TensorSpec(shape=(None, 10), dtype=tf.float64, name=None))>,\n",
       " 'client_3': <BatchDataset element_spec=(TensorSpec(shape=(None, 24, 24, 3), dtype=tf.float64, name=None), TensorSpec(shape=(None, 10), dtype=tf.float64, name=None))>,\n",
       " 'client_4': <BatchDataset element_spec=(TensorSpec(shape=(None, 24, 24, 3), dtype=tf.float64, name=None), TensorSpec(shape=(None, 10), dtype=tf.float64, name=None))>,\n",
       " 'client_5': <BatchDataset element_spec=(TensorSpec(shape=(None, 24, 24, 3), dtype=tf.float64, name=None), TensorSpec(shape=(None, 10), dtype=tf.float64, name=None))>,\n",
       " 'client_6': <BatchDataset element_spec=(TensorSpec(shape=(None, 24, 24, 3), dtype=tf.float64, name=None), TensorSpec(shape=(None, 10), dtype=tf.float64, name=None))>,\n",
       " 'client_7': <BatchDataset element_spec=(TensorSpec(shape=(None, 24, 24, 3), dtype=tf.float64, name=None), TensorSpec(shape=(None, 10), dtype=tf.float64, name=None))>,\n",
       " 'client_8': <BatchDataset element_spec=(TensorSpec(shape=(None, 24, 24, 3), dtype=tf.float64, name=None), TensorSpec(shape=(None, 10), dtype=tf.float64, name=None))>,\n",
       " 'client_9': <BatchDataset element_spec=(TensorSpec(shape=(None, 24, 24, 3), dtype=tf.float64, name=None), TensorSpec(shape=(None, 10), dtype=tf.float64, name=None))>,\n",
       " 'client_10': <BatchDataset element_spec=(TensorSpec(shape=(None, 24, 24, 3), dtype=tf.float64, name=None), TensorSpec(shape=(None, 10), dtype=tf.float64, name=None))>,\n",
       " 'client_11': <BatchDataset element_spec=(TensorSpec(shape=(None, 24, 24, 3), dtype=tf.float64, name=None), TensorSpec(shape=(None, 10), dtype=tf.float64, name=None))>,\n",
       " 'client_12': <BatchDataset element_spec=(TensorSpec(shape=(None, 24, 24, 3), dtype=tf.float64, name=None), TensorSpec(shape=(None, 10), dtype=tf.float64, name=None))>,\n",
       " 'client_13': <BatchDataset element_spec=(TensorSpec(shape=(None, 24, 24, 3), dtype=tf.float64, name=None), TensorSpec(shape=(None, 10), dtype=tf.float64, name=None))>,\n",
       " 'client_14': <BatchDataset element_spec=(TensorSpec(shape=(None, 24, 24, 3), dtype=tf.float64, name=None), TensorSpec(shape=(None, 10), dtype=tf.float64, name=None))>,\n",
       " 'client_15': <BatchDataset element_spec=(TensorSpec(shape=(None, 24, 24, 3), dtype=tf.float64, name=None), TensorSpec(shape=(None, 10), dtype=tf.float64, name=None))>,\n",
       " 'client_16': <BatchDataset element_spec=(TensorSpec(shape=(None, 24, 24, 3), dtype=tf.float64, name=None), TensorSpec(shape=(None, 10), dtype=tf.float64, name=None))>,\n",
       " 'client_17': <BatchDataset element_spec=(TensorSpec(shape=(None, 24, 24, 3), dtype=tf.float64, name=None), TensorSpec(shape=(None, 10), dtype=tf.float64, name=None))>,\n",
       " 'client_18': <BatchDataset element_spec=(TensorSpec(shape=(None, 24, 24, 3), dtype=tf.float64, name=None), TensorSpec(shape=(None, 10), dtype=tf.float64, name=None))>,\n",
       " 'client_19': <BatchDataset element_spec=(TensorSpec(shape=(None, 24, 24, 3), dtype=tf.float64, name=None), TensorSpec(shape=(None, 10), dtype=tf.float64, name=None))>,\n",
       " 'client_20': <BatchDataset element_spec=(TensorSpec(shape=(None, 24, 24, 3), dtype=tf.float64, name=None), TensorSpec(shape=(None, 10), dtype=tf.float64, name=None))>,\n",
       " 'client_21': <BatchDataset element_spec=(TensorSpec(shape=(None, 24, 24, 3), dtype=tf.float64, name=None), TensorSpec(shape=(None, 10), dtype=tf.float64, name=None))>,\n",
       " 'client_22': <BatchDataset element_spec=(TensorSpec(shape=(None, 24, 24, 3), dtype=tf.float64, name=None), TensorSpec(shape=(None, 10), dtype=tf.float64, name=None))>,\n",
       " 'client_23': <BatchDataset element_spec=(TensorSpec(shape=(None, 24, 24, 3), dtype=tf.float64, name=None), TensorSpec(shape=(None, 10), dtype=tf.float64, name=None))>,\n",
       " 'client_24': <BatchDataset element_spec=(TensorSpec(shape=(None, 24, 24, 3), dtype=tf.float64, name=None), TensorSpec(shape=(None, 10), dtype=tf.float64, name=None))>,\n",
       " 'client_25': <BatchDataset element_spec=(TensorSpec(shape=(None, 24, 24, 3), dtype=tf.float64, name=None), TensorSpec(shape=(None, 10), dtype=tf.float64, name=None))>,\n",
       " 'client_26': <BatchDataset element_spec=(TensorSpec(shape=(None, 24, 24, 3), dtype=tf.float64, name=None), TensorSpec(shape=(None, 10), dtype=tf.float64, name=None))>,\n",
       " 'client_27': <BatchDataset element_spec=(TensorSpec(shape=(None, 24, 24, 3), dtype=tf.float64, name=None), TensorSpec(shape=(None, 10), dtype=tf.float64, name=None))>,\n",
       " 'client_28': <BatchDataset element_spec=(TensorSpec(shape=(None, 24, 24, 3), dtype=tf.float64, name=None), TensorSpec(shape=(None, 10), dtype=tf.float64, name=None))>,\n",
       " 'client_29': <BatchDataset element_spec=(TensorSpec(shape=(None, 24, 24, 3), dtype=tf.float64, name=None), TensorSpec(shape=(None, 10), dtype=tf.float64, name=None))>,\n",
       " 'client_30': <BatchDataset element_spec=(TensorSpec(shape=(None, 24, 24, 3), dtype=tf.float64, name=None), TensorSpec(shape=(None, 10), dtype=tf.float64, name=None))>,\n",
       " 'client_31': <BatchDataset element_spec=(TensorSpec(shape=(None, 24, 24, 3), dtype=tf.float64, name=None), TensorSpec(shape=(None, 10), dtype=tf.float64, name=None))>,\n",
       " 'client_32': <BatchDataset element_spec=(TensorSpec(shape=(None, 24, 24, 3), dtype=tf.float64, name=None), TensorSpec(shape=(None, 10), dtype=tf.float64, name=None))>,\n",
       " 'client_33': <BatchDataset element_spec=(TensorSpec(shape=(None, 24, 24, 3), dtype=tf.float64, name=None), TensorSpec(shape=(None, 10), dtype=tf.float64, name=None))>,\n",
       " 'client_34': <BatchDataset element_spec=(TensorSpec(shape=(None, 24, 24, 3), dtype=tf.float64, name=None), TensorSpec(shape=(None, 10), dtype=tf.float64, name=None))>,\n",
       " 'client_35': <BatchDataset element_spec=(TensorSpec(shape=(None, 24, 24, 3), dtype=tf.float64, name=None), TensorSpec(shape=(None, 10), dtype=tf.float64, name=None))>,\n",
       " 'client_36': <BatchDataset element_spec=(TensorSpec(shape=(None, 24, 24, 3), dtype=tf.float64, name=None), TensorSpec(shape=(None, 10), dtype=tf.float64, name=None))>,\n",
       " 'client_37': <BatchDataset element_spec=(TensorSpec(shape=(None, 24, 24, 3), dtype=tf.float64, name=None), TensorSpec(shape=(None, 10), dtype=tf.float64, name=None))>,\n",
       " 'client_38': <BatchDataset element_spec=(TensorSpec(shape=(None, 24, 24, 3), dtype=tf.float64, name=None), TensorSpec(shape=(None, 10), dtype=tf.float64, name=None))>,\n",
       " 'client_39': <BatchDataset element_spec=(TensorSpec(shape=(None, 24, 24, 3), dtype=tf.float64, name=None), TensorSpec(shape=(None, 10), dtype=tf.float64, name=None))>,\n",
       " 'client_40': <BatchDataset element_spec=(TensorSpec(shape=(None, 24, 24, 3), dtype=tf.float64, name=None), TensorSpec(shape=(None, 10), dtype=tf.float64, name=None))>,\n",
       " 'client_41': <BatchDataset element_spec=(TensorSpec(shape=(None, 24, 24, 3), dtype=tf.float64, name=None), TensorSpec(shape=(None, 10), dtype=tf.float64, name=None))>,\n",
       " 'client_42': <BatchDataset element_spec=(TensorSpec(shape=(None, 24, 24, 3), dtype=tf.float64, name=None), TensorSpec(shape=(None, 10), dtype=tf.float64, name=None))>,\n",
       " 'client_43': <BatchDataset element_spec=(TensorSpec(shape=(None, 24, 24, 3), dtype=tf.float64, name=None), TensorSpec(shape=(None, 10), dtype=tf.float64, name=None))>,\n",
       " 'client_44': <BatchDataset element_spec=(TensorSpec(shape=(None, 24, 24, 3), dtype=tf.float64, name=None), TensorSpec(shape=(None, 10), dtype=tf.float64, name=None))>,\n",
       " 'client_45': <BatchDataset element_spec=(TensorSpec(shape=(None, 24, 24, 3), dtype=tf.float64, name=None), TensorSpec(shape=(None, 10), dtype=tf.float64, name=None))>,\n",
       " 'client_46': <BatchDataset element_spec=(TensorSpec(shape=(None, 24, 24, 3), dtype=tf.float64, name=None), TensorSpec(shape=(None, 10), dtype=tf.float64, name=None))>,\n",
       " 'client_47': <BatchDataset element_spec=(TensorSpec(shape=(None, 24, 24, 3), dtype=tf.float64, name=None), TensorSpec(shape=(None, 10), dtype=tf.float64, name=None))>,\n",
       " 'client_48': <BatchDataset element_spec=(TensorSpec(shape=(None, 24, 24, 3), dtype=tf.float64, name=None), TensorSpec(shape=(None, 10), dtype=tf.float64, name=None))>,\n",
       " 'client_49': <BatchDataset element_spec=(TensorSpec(shape=(None, 24, 24, 3), dtype=tf.float64, name=None), TensorSpec(shape=(None, 10), dtype=tf.float64, name=None))>,\n",
       " 'client_50': <BatchDataset element_spec=(TensorSpec(shape=(None, 24, 24, 3), dtype=tf.float64, name=None), TensorSpec(shape=(None, 10), dtype=tf.float64, name=None))>,\n",
       " 'client_51': <BatchDataset element_spec=(TensorSpec(shape=(None, 24, 24, 3), dtype=tf.float64, name=None), TensorSpec(shape=(None, 10), dtype=tf.float64, name=None))>,\n",
       " 'client_52': <BatchDataset element_spec=(TensorSpec(shape=(None, 24, 24, 3), dtype=tf.float64, name=None), TensorSpec(shape=(None, 10), dtype=tf.float64, name=None))>,\n",
       " 'client_53': <BatchDataset element_spec=(TensorSpec(shape=(None, 24, 24, 3), dtype=tf.float64, name=None), TensorSpec(shape=(None, 10), dtype=tf.float64, name=None))>,\n",
       " 'client_54': <BatchDataset element_spec=(TensorSpec(shape=(None, 24, 24, 3), dtype=tf.float64, name=None), TensorSpec(shape=(None, 10), dtype=tf.float64, name=None))>,\n",
       " 'client_55': <BatchDataset element_spec=(TensorSpec(shape=(None, 24, 24, 3), dtype=tf.float64, name=None), TensorSpec(shape=(None, 10), dtype=tf.float64, name=None))>,\n",
       " 'client_56': <BatchDataset element_spec=(TensorSpec(shape=(None, 24, 24, 3), dtype=tf.float64, name=None), TensorSpec(shape=(None, 10), dtype=tf.float64, name=None))>,\n",
       " 'client_57': <BatchDataset element_spec=(TensorSpec(shape=(None, 24, 24, 3), dtype=tf.float64, name=None), TensorSpec(shape=(None, 10), dtype=tf.float64, name=None))>,\n",
       " 'client_58': <BatchDataset element_spec=(TensorSpec(shape=(None, 24, 24, 3), dtype=tf.float64, name=None), TensorSpec(shape=(None, 10), dtype=tf.float64, name=None))>,\n",
       " 'client_59': <BatchDataset element_spec=(TensorSpec(shape=(None, 24, 24, 3), dtype=tf.float64, name=None), TensorSpec(shape=(None, 10), dtype=tf.float64, name=None))>,\n",
       " 'client_60': <BatchDataset element_spec=(TensorSpec(shape=(None, 24, 24, 3), dtype=tf.float64, name=None), TensorSpec(shape=(None, 10), dtype=tf.float64, name=None))>,\n",
       " 'client_61': <BatchDataset element_spec=(TensorSpec(shape=(None, 24, 24, 3), dtype=tf.float64, name=None), TensorSpec(shape=(None, 10), dtype=tf.float64, name=None))>,\n",
       " 'client_62': <BatchDataset element_spec=(TensorSpec(shape=(None, 24, 24, 3), dtype=tf.float64, name=None), TensorSpec(shape=(None, 10), dtype=tf.float64, name=None))>,\n",
       " 'client_63': <BatchDataset element_spec=(TensorSpec(shape=(None, 24, 24, 3), dtype=tf.float64, name=None), TensorSpec(shape=(None, 10), dtype=tf.float64, name=None))>,\n",
       " 'client_64': <BatchDataset element_spec=(TensorSpec(shape=(None, 24, 24, 3), dtype=tf.float64, name=None), TensorSpec(shape=(None, 10), dtype=tf.float64, name=None))>,\n",
       " 'client_65': <BatchDataset element_spec=(TensorSpec(shape=(None, 24, 24, 3), dtype=tf.float64, name=None), TensorSpec(shape=(None, 10), dtype=tf.float64, name=None))>,\n",
       " 'client_66': <BatchDataset element_spec=(TensorSpec(shape=(None, 24, 24, 3), dtype=tf.float64, name=None), TensorSpec(shape=(None, 10), dtype=tf.float64, name=None))>,\n",
       " 'client_67': <BatchDataset element_spec=(TensorSpec(shape=(None, 24, 24, 3), dtype=tf.float64, name=None), TensorSpec(shape=(None, 10), dtype=tf.float64, name=None))>,\n",
       " 'client_68': <BatchDataset element_spec=(TensorSpec(shape=(None, 24, 24, 3), dtype=tf.float64, name=None), TensorSpec(shape=(None, 10), dtype=tf.float64, name=None))>,\n",
       " 'client_69': <BatchDataset element_spec=(TensorSpec(shape=(None, 24, 24, 3), dtype=tf.float64, name=None), TensorSpec(shape=(None, 10), dtype=tf.float64, name=None))>,\n",
       " 'client_70': <BatchDataset element_spec=(TensorSpec(shape=(None, 24, 24, 3), dtype=tf.float64, name=None), TensorSpec(shape=(None, 10), dtype=tf.float64, name=None))>,\n",
       " 'client_71': <BatchDataset element_spec=(TensorSpec(shape=(None, 24, 24, 3), dtype=tf.float64, name=None), TensorSpec(shape=(None, 10), dtype=tf.float64, name=None))>,\n",
       " 'client_72': <BatchDataset element_spec=(TensorSpec(shape=(None, 24, 24, 3), dtype=tf.float64, name=None), TensorSpec(shape=(None, 10), dtype=tf.float64, name=None))>,\n",
       " 'client_73': <BatchDataset element_spec=(TensorSpec(shape=(None, 24, 24, 3), dtype=tf.float64, name=None), TensorSpec(shape=(None, 10), dtype=tf.float64, name=None))>,\n",
       " 'client_74': <BatchDataset element_spec=(TensorSpec(shape=(None, 24, 24, 3), dtype=tf.float64, name=None), TensorSpec(shape=(None, 10), dtype=tf.float64, name=None))>,\n",
       " 'client_75': <BatchDataset element_spec=(TensorSpec(shape=(None, 24, 24, 3), dtype=tf.float64, name=None), TensorSpec(shape=(None, 10), dtype=tf.float64, name=None))>,\n",
       " 'client_76': <BatchDataset element_spec=(TensorSpec(shape=(None, 24, 24, 3), dtype=tf.float64, name=None), TensorSpec(shape=(None, 10), dtype=tf.float64, name=None))>,\n",
       " 'client_77': <BatchDataset element_spec=(TensorSpec(shape=(None, 24, 24, 3), dtype=tf.float64, name=None), TensorSpec(shape=(None, 10), dtype=tf.float64, name=None))>,\n",
       " 'client_78': <BatchDataset element_spec=(TensorSpec(shape=(None, 24, 24, 3), dtype=tf.float64, name=None), TensorSpec(shape=(None, 10), dtype=tf.float64, name=None))>,\n",
       " 'client_79': <BatchDataset element_spec=(TensorSpec(shape=(None, 24, 24, 3), dtype=tf.float64, name=None), TensorSpec(shape=(None, 10), dtype=tf.float64, name=None))>,\n",
       " 'client_80': <BatchDataset element_spec=(TensorSpec(shape=(None, 24, 24, 3), dtype=tf.float64, name=None), TensorSpec(shape=(None, 10), dtype=tf.float64, name=None))>,\n",
       " 'client_81': <BatchDataset element_spec=(TensorSpec(shape=(None, 24, 24, 3), dtype=tf.float64, name=None), TensorSpec(shape=(None, 10), dtype=tf.float64, name=None))>,\n",
       " 'client_82': <BatchDataset element_spec=(TensorSpec(shape=(None, 24, 24, 3), dtype=tf.float64, name=None), TensorSpec(shape=(None, 10), dtype=tf.float64, name=None))>,\n",
       " 'client_83': <BatchDataset element_spec=(TensorSpec(shape=(None, 24, 24, 3), dtype=tf.float64, name=None), TensorSpec(shape=(None, 10), dtype=tf.float64, name=None))>,\n",
       " 'client_84': <BatchDataset element_spec=(TensorSpec(shape=(None, 24, 24, 3), dtype=tf.float64, name=None), TensorSpec(shape=(None, 10), dtype=tf.float64, name=None))>,\n",
       " 'client_85': <BatchDataset element_spec=(TensorSpec(shape=(None, 24, 24, 3), dtype=tf.float64, name=None), TensorSpec(shape=(None, 10), dtype=tf.float64, name=None))>,\n",
       " 'client_86': <BatchDataset element_spec=(TensorSpec(shape=(None, 24, 24, 3), dtype=tf.float64, name=None), TensorSpec(shape=(None, 10), dtype=tf.float64, name=None))>,\n",
       " 'client_87': <BatchDataset element_spec=(TensorSpec(shape=(None, 24, 24, 3), dtype=tf.float64, name=None), TensorSpec(shape=(None, 10), dtype=tf.float64, name=None))>,\n",
       " 'client_88': <BatchDataset element_spec=(TensorSpec(shape=(None, 24, 24, 3), dtype=tf.float64, name=None), TensorSpec(shape=(None, 10), dtype=tf.float64, name=None))>,\n",
       " 'client_89': <BatchDataset element_spec=(TensorSpec(shape=(None, 24, 24, 3), dtype=tf.float64, name=None), TensorSpec(shape=(None, 10), dtype=tf.float64, name=None))>,\n",
       " 'client_90': <BatchDataset element_spec=(TensorSpec(shape=(None, 24, 24, 3), dtype=tf.float64, name=None), TensorSpec(shape=(None, 10), dtype=tf.float64, name=None))>,\n",
       " 'client_91': <BatchDataset element_spec=(TensorSpec(shape=(None, 24, 24, 3), dtype=tf.float64, name=None), TensorSpec(shape=(None, 10), dtype=tf.float64, name=None))>,\n",
       " 'client_92': <BatchDataset element_spec=(TensorSpec(shape=(None, 24, 24, 3), dtype=tf.float64, name=None), TensorSpec(shape=(None, 10), dtype=tf.float64, name=None))>,\n",
       " 'client_93': <BatchDataset element_spec=(TensorSpec(shape=(None, 24, 24, 3), dtype=tf.float64, name=None), TensorSpec(shape=(None, 10), dtype=tf.float64, name=None))>,\n",
       " 'client_94': <BatchDataset element_spec=(TensorSpec(shape=(None, 24, 24, 3), dtype=tf.float64, name=None), TensorSpec(shape=(None, 10), dtype=tf.float64, name=None))>,\n",
       " 'client_95': <BatchDataset element_spec=(TensorSpec(shape=(None, 24, 24, 3), dtype=tf.float64, name=None), TensorSpec(shape=(None, 10), dtype=tf.float64, name=None))>,\n",
       " 'client_96': <BatchDataset element_spec=(TensorSpec(shape=(None, 24, 24, 3), dtype=tf.float64, name=None), TensorSpec(shape=(None, 10), dtype=tf.float64, name=None))>,\n",
       " 'client_97': <BatchDataset element_spec=(TensorSpec(shape=(None, 24, 24, 3), dtype=tf.float64, name=None), TensorSpec(shape=(None, 10), dtype=tf.float64, name=None))>,\n",
       " 'client_98': <BatchDataset element_spec=(TensorSpec(shape=(None, 24, 24, 3), dtype=tf.float64, name=None), TensorSpec(shape=(None, 10), dtype=tf.float64, name=None))>,\n",
       " 'client_99': <BatchDataset element_spec=(TensorSpec(shape=(None, 24, 24, 3), dtype=tf.float64, name=None), TensorSpec(shape=(None, 10), dtype=tf.float64, name=None))>,\n",
       " 'client_100': <BatchDataset element_spec=(TensorSpec(shape=(None, 24, 24, 3), dtype=tf.float64, name=None), TensorSpec(shape=(None, 10), dtype=tf.float64, name=None))>}"
      ]
     },
     "execution_count": 25,
     "metadata": {},
     "output_type": "execute_result"
    }
   ],
   "source": [
    "clients_batched"
   ]
  },
  {
   "cell_type": "code",
   "execution_count": 26,
   "id": "cdebbd04",
   "metadata": {},
   "outputs": [],
   "source": [
    "#process and batch the test set  \n",
    "test_batched = tf.data.Dataset.from_tensor_slices((X_test, y_test)).batch(len(y_test))"
   ]
  },
  {
   "cell_type": "code",
   "execution_count": 27,
   "id": "9d75d36a",
   "metadata": {},
   "outputs": [
    {
     "name": "stdout",
     "output_type": "stream",
     "text": [
      "<BatchDataset element_spec=(TensorSpec(shape=(None, 24, 24, 3), dtype=tf.float64, name=None), TensorSpec(shape=(None, 10), dtype=tf.float64, name=None))>\n"
     ]
    }
   ],
   "source": [
    "print(test_batched)"
   ]
  },
  {
   "cell_type": "markdown",
   "id": "0e49e527",
   "metadata": {},
   "source": [
    "### Creating global model"
   ]
  },
  {
   "cell_type": "code",
   "execution_count": 28,
   "id": "7b65a977",
   "metadata": {},
   "outputs": [],
   "source": [
    "def create_model():\n",
    "    global_model = tf.keras.models.Sequential()\n",
    "    global_model.add(tf.keras.layers.Conv2D(32, (3, 3), activation='relu', input_shape=(24,24,3)))\n",
    "    global_model.add(tf.keras.layers.MaxPooling2D((2, 2)))\n",
    "    global_model.add(tf.keras.layers.Conv2D(64, (3, 3), activation='relu'))\n",
    "    global_model.add(tf.keras.layers.Flatten())\n",
    "    global_model.add(tf.keras.layers.Dense(180, activation='relu'))\n",
    "    global_model.add(tf.keras.layers.Dense(90, activation='relu'))\n",
    "    global_model.add(tf.keras.layers.Dense(10, activation='softmax'))\n",
    "    global_model.compile(loss='categorical_crossentropy', optimizer='sgd', metrics=['accuracy'])\n",
    "    return global_model"
   ]
  },
  {
   "cell_type": "code",
   "execution_count": 29,
   "id": "4ae42750",
   "metadata": {},
   "outputs": [],
   "source": [
    "comms_round = 100\n",
    "E=5\n",
    "global_model1=create_model()\n",
    "global_model1.compile(loss='categorical_crossentropy', optimizer='sgd', metrics=['accuracy'])"
   ]
  },
  {
   "cell_type": "markdown",
   "id": "1335b5f7",
   "metadata": {},
   "source": [
    "### Enhancing  fedavg through global shared model[GSM Fedavg]"
   ]
  },
  {
   "cell_type": "code",
   "execution_count": 30,
   "id": "936301d6",
   "metadata": {
    "scrolled": true
   },
   "outputs": [
    {
     "name": "stderr",
     "output_type": "stream",
     "text": [
      "Progress Bar: 100%|████████████████████████████████████████████████████████████████████| 10/10 [00:25<00:00,  2.57s/it]\n"
     ]
    },
    {
     "name": "stdout",
     "output_type": "stream",
     "text": [
      "Fedavg:\n",
      "313/313 [==============================] - 2s 6ms/step\n",
      "comm_round: 0 | global_acc: 23.730% | global_loss: 2.2816200256347656\n"
     ]
    },
    {
     "name": "stderr",
     "output_type": "stream",
     "text": [
      "Progress Bar: 100%|████████████████████████████████████████████████████████████████████| 10/10 [00:21<00:00,  2.16s/it]\n"
     ]
    },
    {
     "name": "stdout",
     "output_type": "stream",
     "text": [
      "Fedavg:\n",
      "313/313 [==============================] - 3s 8ms/step\n",
      "comm_round: 1 | global_acc: 29.080% | global_loss: 2.234252691268921\n"
     ]
    },
    {
     "name": "stderr",
     "output_type": "stream",
     "text": [
      "Progress Bar: 100%|████████████████████████████████████████████████████████████████████| 10/10 [00:22<00:00,  2.30s/it]\n"
     ]
    },
    {
     "name": "stdout",
     "output_type": "stream",
     "text": [
      "Fedavg:\n",
      "313/313 [==============================] - 6s 6ms/step\n",
      "comm_round: 2 | global_acc: 33.070% | global_loss: 2.2114992141723633\n"
     ]
    },
    {
     "name": "stderr",
     "output_type": "stream",
     "text": [
      "Progress Bar: 100%|████████████████████████████████████████████████████████████████████| 10/10 [00:25<00:00,  2.59s/it]\n"
     ]
    },
    {
     "name": "stdout",
     "output_type": "stream",
     "text": [
      "Fedavg:\n",
      "313/313 [==============================] - 2s 6ms/step\n",
      "comm_round: 3 | global_acc: 35.090% | global_loss: 2.1878387928009033\n"
     ]
    },
    {
     "name": "stderr",
     "output_type": "stream",
     "text": [
      "Progress Bar: 100%|████████████████████████████████████████████████████████████████████| 10/10 [00:21<00:00,  2.13s/it]\n"
     ]
    },
    {
     "name": "stdout",
     "output_type": "stream",
     "text": [
      "Fedavg:\n",
      "313/313 [==============================] - 2s 6ms/step\n",
      "comm_round: 4 | global_acc: 37.730% | global_loss: 2.1698765754699707\n"
     ]
    },
    {
     "name": "stderr",
     "output_type": "stream",
     "text": [
      "Progress Bar: 100%|████████████████████████████████████████████████████████████████████| 10/10 [00:28<00:00,  2.86s/it]\n"
     ]
    },
    {
     "name": "stdout",
     "output_type": "stream",
     "text": [
      "Fedavg:\n",
      "313/313 [==============================] - 2s 8ms/step\n",
      "comm_round: 5 | global_acc: 41.290% | global_loss: 2.1456778049468994\n"
     ]
    },
    {
     "name": "stderr",
     "output_type": "stream",
     "text": [
      "Progress Bar: 100%|████████████████████████████████████████████████████████████████████| 10/10 [00:22<00:00,  2.26s/it]\n"
     ]
    },
    {
     "name": "stdout",
     "output_type": "stream",
     "text": [
      "Fedavg:\n",
      "313/313 [==============================] - 2s 6ms/step\n",
      "comm_round: 6 | global_acc: 42.750% | global_loss: 2.1301567554473877\n"
     ]
    },
    {
     "name": "stderr",
     "output_type": "stream",
     "text": [
      "Progress Bar: 100%|████████████████████████████████████████████████████████████████████| 10/10 [00:24<00:00,  2.46s/it]\n"
     ]
    },
    {
     "name": "stdout",
     "output_type": "stream",
     "text": [
      "Fedavg:\n",
      "313/313 [==============================] - 2s 5ms/step\n",
      "comm_round: 7 | global_acc: 43.970% | global_loss: 2.1047933101654053\n"
     ]
    },
    {
     "name": "stderr",
     "output_type": "stream",
     "text": [
      "Progress Bar: 100%|████████████████████████████████████████████████████████████████████| 10/10 [00:33<00:00,  3.35s/it]\n"
     ]
    },
    {
     "name": "stdout",
     "output_type": "stream",
     "text": [
      "Fedavg:\n",
      "313/313 [==============================] - 2s 6ms/step\n",
      "comm_round: 8 | global_acc: 45.250% | global_loss: 2.0933377742767334\n"
     ]
    },
    {
     "name": "stderr",
     "output_type": "stream",
     "text": [
      "Progress Bar: 100%|████████████████████████████████████████████████████████████████████| 10/10 [00:28<00:00,  2.82s/it]\n"
     ]
    },
    {
     "name": "stdout",
     "output_type": "stream",
     "text": [
      "Fedavg:\n",
      "313/313 [==============================] - 5s 15ms/step\n",
      "comm_round: 9 | global_acc: 45.770% | global_loss: 2.0773532390594482\n"
     ]
    },
    {
     "name": "stderr",
     "output_type": "stream",
     "text": [
      "Progress Bar: 100%|████████████████████████████████████████████████████████████████████| 10/10 [00:36<00:00,  3.66s/it]\n"
     ]
    },
    {
     "name": "stdout",
     "output_type": "stream",
     "text": [
      "Fedavg:\n",
      "313/313 [==============================] - 3s 8ms/step\n",
      "comm_round: 10 | global_acc: 47.470% | global_loss: 2.070577383041382\n"
     ]
    },
    {
     "name": "stderr",
     "output_type": "stream",
     "text": [
      "Progress Bar: 100%|████████████████████████████████████████████████████████████████████| 10/10 [00:28<00:00,  2.81s/it]\n"
     ]
    },
    {
     "name": "stdout",
     "output_type": "stream",
     "text": [
      "Fedavg:\n",
      "313/313 [==============================] - 3s 8ms/step\n",
      "comm_round: 11 | global_acc: 48.250% | global_loss: 2.0594842433929443\n"
     ]
    },
    {
     "name": "stderr",
     "output_type": "stream",
     "text": [
      "Progress Bar: 100%|████████████████████████████████████████████████████████████████████| 10/10 [00:46<00:00,  4.60s/it]\n"
     ]
    },
    {
     "name": "stdout",
     "output_type": "stream",
     "text": [
      "Fedavg:\n",
      "313/313 [==============================] - 2s 7ms/step\n",
      "comm_round: 12 | global_acc: 48.450% | global_loss: 2.05338978767395\n"
     ]
    },
    {
     "name": "stderr",
     "output_type": "stream",
     "text": [
      "Progress Bar: 100%|████████████████████████████████████████████████████████████████████| 10/10 [00:25<00:00,  2.54s/it]\n"
     ]
    },
    {
     "name": "stdout",
     "output_type": "stream",
     "text": [
      "Fedavg:\n",
      "313/313 [==============================] - 2s 6ms/step\n",
      "comm_round: 13 | global_acc: 49.680% | global_loss: 2.04290771484375\n"
     ]
    },
    {
     "name": "stderr",
     "output_type": "stream",
     "text": [
      "Progress Bar: 100%|████████████████████████████████████████████████████████████████████| 10/10 [00:25<00:00,  2.58s/it]\n"
     ]
    },
    {
     "name": "stdout",
     "output_type": "stream",
     "text": [
      "Fedavg:\n",
      "313/313 [==============================] - 2s 7ms/step\n",
      "comm_round: 14 | global_acc: 50.120% | global_loss: 2.0347518920898438\n"
     ]
    },
    {
     "name": "stderr",
     "output_type": "stream",
     "text": [
      "Progress Bar: 100%|████████████████████████████████████████████████████████████████████| 10/10 [00:29<00:00,  2.94s/it]\n"
     ]
    },
    {
     "name": "stdout",
     "output_type": "stream",
     "text": [
      "Fedavg:\n",
      "313/313 [==============================] - 2s 7ms/step\n",
      "comm_round: 15 | global_acc: 50.970% | global_loss: 2.027512550354004\n"
     ]
    },
    {
     "name": "stderr",
     "output_type": "stream",
     "text": [
      "Progress Bar: 100%|████████████████████████████████████████████████████████████████████| 10/10 [00:23<00:00,  2.35s/it]\n"
     ]
    },
    {
     "name": "stdout",
     "output_type": "stream",
     "text": [
      "Fedavg:\n",
      "313/313 [==============================] - 2s 6ms/step\n",
      "comm_round: 16 | global_acc: 51.870% | global_loss: 2.021228551864624\n"
     ]
    },
    {
     "name": "stderr",
     "output_type": "stream",
     "text": [
      "Progress Bar: 100%|████████████████████████████████████████████████████████████████████| 10/10 [00:22<00:00,  2.23s/it]\n"
     ]
    },
    {
     "name": "stdout",
     "output_type": "stream",
     "text": [
      "Fedavg:\n",
      "313/313 [==============================] - 2s 6ms/step\n",
      "comm_round: 17 | global_acc: 52.260% | global_loss: 2.016460418701172\n"
     ]
    },
    {
     "name": "stderr",
     "output_type": "stream",
     "text": [
      "Progress Bar: 100%|████████████████████████████████████████████████████████████████████| 10/10 [00:22<00:00,  2.24s/it]\n"
     ]
    },
    {
     "name": "stdout",
     "output_type": "stream",
     "text": [
      "Fedavg:\n",
      "313/313 [==============================] - 2s 6ms/step\n",
      "comm_round: 18 | global_acc: 52.800% | global_loss: 2.0043797492980957\n"
     ]
    },
    {
     "name": "stderr",
     "output_type": "stream",
     "text": [
      "Progress Bar: 100%|████████████████████████████████████████████████████████████████████| 10/10 [00:22<00:00,  2.23s/it]\n"
     ]
    },
    {
     "name": "stdout",
     "output_type": "stream",
     "text": [
      "Fedavg:\n",
      "313/313 [==============================] - 2s 6ms/step\n",
      "comm_round: 19 | global_acc: 53.760% | global_loss: 2.0021770000457764\n"
     ]
    },
    {
     "name": "stderr",
     "output_type": "stream",
     "text": [
      "Progress Bar: 100%|████████████████████████████████████████████████████████████████████| 10/10 [00:21<00:00,  2.15s/it]\n"
     ]
    },
    {
     "name": "stdout",
     "output_type": "stream",
     "text": [
      "Fedavg:\n",
      "313/313 [==============================] - 2s 6ms/step\n",
      "comm_round: 20 | global_acc: 53.850% | global_loss: 1.9903656244277954\n"
     ]
    },
    {
     "name": "stderr",
     "output_type": "stream",
     "text": [
      "Progress Bar: 100%|████████████████████████████████████████████████████████████████████| 10/10 [00:21<00:00,  2.18s/it]\n"
     ]
    },
    {
     "name": "stdout",
     "output_type": "stream",
     "text": [
      "Fedavg:\n",
      "313/313 [==============================] - 2s 6ms/step\n",
      "comm_round: 21 | global_acc: 54.430% | global_loss: 1.9894734621047974\n"
     ]
    },
    {
     "name": "stderr",
     "output_type": "stream",
     "text": [
      "Progress Bar: 100%|████████████████████████████████████████████████████████████████████| 10/10 [00:30<00:00,  3.04s/it]\n"
     ]
    },
    {
     "name": "stdout",
     "output_type": "stream",
     "text": [
      "Fedavg:\n",
      "313/313 [==============================] - 2s 7ms/step\n",
      "comm_round: 22 | global_acc: 54.670% | global_loss: 1.9851261377334595\n"
     ]
    },
    {
     "name": "stderr",
     "output_type": "stream",
     "text": [
      "Progress Bar: 100%|████████████████████████████████████████████████████████████████████| 10/10 [00:24<00:00,  2.48s/it]\n"
     ]
    },
    {
     "name": "stdout",
     "output_type": "stream",
     "text": [
      "Fedavg:\n",
      "313/313 [==============================] - 2s 5ms/step\n",
      "comm_round: 23 | global_acc: 54.620% | global_loss: 1.980840802192688\n"
     ]
    },
    {
     "name": "stderr",
     "output_type": "stream",
     "text": [
      "Progress Bar: 100%|████████████████████████████████████████████████████████████████████| 10/10 [00:21<00:00,  2.14s/it]\n"
     ]
    },
    {
     "name": "stdout",
     "output_type": "stream",
     "text": [
      "Fedavg:\n",
      "313/313 [==============================] - 2s 6ms/step\n",
      "comm_round: 24 | global_acc: 55.490% | global_loss: 1.9724377393722534\n"
     ]
    },
    {
     "name": "stderr",
     "output_type": "stream",
     "text": [
      "Progress Bar: 100%|████████████████████████████████████████████████████████████████████| 10/10 [00:22<00:00,  2.27s/it]\n"
     ]
    },
    {
     "name": "stdout",
     "output_type": "stream",
     "text": [
      "Fedavg:\n",
      "313/313 [==============================] - 2s 6ms/step\n",
      "comm_round: 25 | global_acc: 55.560% | global_loss: 1.971245288848877\n"
     ]
    },
    {
     "name": "stderr",
     "output_type": "stream",
     "text": [
      "Progress Bar: 100%|████████████████████████████████████████████████████████████████████| 10/10 [00:37<00:00,  3.79s/it]\n"
     ]
    },
    {
     "name": "stdout",
     "output_type": "stream",
     "text": [
      "Fedavg:\n",
      "313/313 [==============================] - 2s 8ms/step\n",
      "comm_round: 26 | global_acc: 55.170% | global_loss: 1.967731237411499\n"
     ]
    },
    {
     "name": "stderr",
     "output_type": "stream",
     "text": [
      "Progress Bar: 100%|████████████████████████████████████████████████████████████████████| 10/10 [00:26<00:00,  2.65s/it]\n"
     ]
    },
    {
     "name": "stdout",
     "output_type": "stream",
     "text": [
      "Fedavg:\n",
      "313/313 [==============================] - 2s 8ms/step\n",
      "comm_round: 27 | global_acc: 56.240% | global_loss: 1.9566246271133423\n"
     ]
    },
    {
     "name": "stderr",
     "output_type": "stream",
     "text": [
      "Progress Bar: 100%|████████████████████████████████████████████████████████████████████| 10/10 [00:24<00:00,  2.44s/it]\n"
     ]
    },
    {
     "name": "stdout",
     "output_type": "stream",
     "text": [
      "Fedavg:\n",
      "313/313 [==============================] - 2s 6ms/step\n",
      "comm_round: 28 | global_acc: 56.160% | global_loss: 1.9522178173065186\n"
     ]
    },
    {
     "name": "stderr",
     "output_type": "stream",
     "text": [
      "Progress Bar: 100%|████████████████████████████████████████████████████████████████████| 10/10 [00:24<00:00,  2.47s/it]\n"
     ]
    },
    {
     "name": "stdout",
     "output_type": "stream",
     "text": [
      "Fedavg:\n",
      "313/313 [==============================] - 2s 6ms/step\n",
      "comm_round: 29 | global_acc: 55.710% | global_loss: 1.9556492567062378\n"
     ]
    },
    {
     "name": "stderr",
     "output_type": "stream",
     "text": [
      "Progress Bar: 100%|████████████████████████████████████████████████████████████████████| 10/10 [00:21<00:00,  2.11s/it]\n"
     ]
    },
    {
     "name": "stdout",
     "output_type": "stream",
     "text": [
      "Fedavg:\n",
      "313/313 [==============================] - 2s 7ms/step\n",
      "comm_round: 30 | global_acc: 56.860% | global_loss: 1.9457136392593384\n"
     ]
    },
    {
     "name": "stderr",
     "output_type": "stream",
     "text": [
      "Progress Bar: 100%|████████████████████████████████████████████████████████████████████| 10/10 [00:21<00:00,  2.13s/it]\n"
     ]
    },
    {
     "name": "stdout",
     "output_type": "stream",
     "text": [
      "Fedavg:\n",
      "313/313 [==============================] - 2s 6ms/step\n",
      "comm_round: 31 | global_acc: 57.060% | global_loss: 1.9413362741470337\n"
     ]
    },
    {
     "name": "stderr",
     "output_type": "stream",
     "text": [
      "Progress Bar: 100%|████████████████████████████████████████████████████████████████████| 10/10 [00:22<00:00,  2.23s/it]\n"
     ]
    },
    {
     "name": "stdout",
     "output_type": "stream",
     "text": [
      "Fedavg:\n",
      "313/313 [==============================] - 2s 6ms/step\n",
      "comm_round: 32 | global_acc: 57.760% | global_loss: 1.9374101161956787\n"
     ]
    },
    {
     "name": "stderr",
     "output_type": "stream",
     "text": [
      "Progress Bar: 100%|████████████████████████████████████████████████████████████████████| 10/10 [00:21<00:00,  2.18s/it]\n"
     ]
    },
    {
     "name": "stdout",
     "output_type": "stream",
     "text": [
      "Fedavg:\n",
      "313/313 [==============================] - 2s 6ms/step\n",
      "comm_round: 33 | global_acc: 57.210% | global_loss: 1.9374537467956543\n"
     ]
    },
    {
     "name": "stderr",
     "output_type": "stream",
     "text": [
      "Progress Bar: 100%|████████████████████████████████████████████████████████████████████| 10/10 [00:21<00:00,  2.12s/it]\n"
     ]
    },
    {
     "name": "stdout",
     "output_type": "stream",
     "text": [
      "Fedavg:\n",
      "313/313 [==============================] - 2s 6ms/step\n",
      "comm_round: 34 | global_acc: 58.240% | global_loss: 1.931100606918335\n"
     ]
    },
    {
     "name": "stderr",
     "output_type": "stream",
     "text": [
      "Progress Bar: 100%|████████████████████████████████████████████████████████████████████| 10/10 [00:22<00:00,  2.29s/it]\n"
     ]
    },
    {
     "name": "stdout",
     "output_type": "stream",
     "text": [
      "Fedavg:\n",
      "313/313 [==============================] - 2s 7ms/step\n",
      "comm_round: 35 | global_acc: 58.360% | global_loss: 1.9254109859466553\n"
     ]
    },
    {
     "name": "stderr",
     "output_type": "stream",
     "text": [
      "Progress Bar: 100%|████████████████████████████████████████████████████████████████████| 10/10 [00:19<00:00,  1.96s/it]\n"
     ]
    },
    {
     "name": "stdout",
     "output_type": "stream",
     "text": [
      "Fedavg:\n",
      "313/313 [==============================] - 2s 5ms/step\n",
      "comm_round: 36 | global_acc: 59.030% | global_loss: 1.9188663959503174\n"
     ]
    },
    {
     "name": "stderr",
     "output_type": "stream",
     "text": [
      "Progress Bar: 100%|████████████████████████████████████████████████████████████████████| 10/10 [00:19<00:00,  1.96s/it]\n"
     ]
    },
    {
     "name": "stdout",
     "output_type": "stream",
     "text": [
      "Fedavg:\n",
      "313/313 [==============================] - 2s 5ms/step\n",
      "comm_round: 37 | global_acc: 58.680% | global_loss: 1.9193724393844604\n"
     ]
    },
    {
     "name": "stderr",
     "output_type": "stream",
     "text": [
      "Progress Bar: 100%|████████████████████████████████████████████████████████████████████| 10/10 [00:19<00:00,  1.97s/it]\n"
     ]
    },
    {
     "name": "stdout",
     "output_type": "stream",
     "text": [
      "Fedavg:\n",
      "313/313 [==============================] - 2s 6ms/step\n",
      "comm_round: 38 | global_acc: 58.430% | global_loss: 1.9238532781600952\n"
     ]
    },
    {
     "name": "stderr",
     "output_type": "stream",
     "text": [
      "Progress Bar: 100%|████████████████████████████████████████████████████████████████████| 10/10 [00:20<00:00,  2.01s/it]\n"
     ]
    },
    {
     "name": "stdout",
     "output_type": "stream",
     "text": [
      "Fedavg:\n",
      "313/313 [==============================] - 2s 7ms/step\n",
      "comm_round: 39 | global_acc: 59.080% | global_loss: 1.913922667503357\n"
     ]
    },
    {
     "name": "stderr",
     "output_type": "stream",
     "text": [
      "Progress Bar: 100%|████████████████████████████████████████████████████████████████████| 10/10 [00:19<00:00,  1.96s/it]\n"
     ]
    },
    {
     "name": "stdout",
     "output_type": "stream",
     "text": [
      "Fedavg:\n",
      "313/313 [==============================] - 2s 7ms/step\n",
      "comm_round: 40 | global_acc: 59.160% | global_loss: 1.9124191999435425\n"
     ]
    },
    {
     "name": "stderr",
     "output_type": "stream",
     "text": [
      "Progress Bar: 100%|████████████████████████████████████████████████████████████████████| 10/10 [00:19<00:00,  1.98s/it]\n"
     ]
    },
    {
     "name": "stdout",
     "output_type": "stream",
     "text": [
      "Fedavg:\n",
      "313/313 [==============================] - 2s 5ms/step\n",
      "comm_round: 41 | global_acc: 58.630% | global_loss: 1.9117921590805054\n"
     ]
    },
    {
     "name": "stderr",
     "output_type": "stream",
     "text": [
      "Progress Bar: 100%|████████████████████████████████████████████████████████████████████| 10/10 [00:20<00:00,  2.07s/it]\n"
     ]
    },
    {
     "name": "stdout",
     "output_type": "stream",
     "text": [
      "Fedavg:\n",
      "313/313 [==============================] - 2s 6ms/step\n",
      "comm_round: 42 | global_acc: 59.320% | global_loss: 1.9065648317337036\n"
     ]
    },
    {
     "name": "stderr",
     "output_type": "stream",
     "text": [
      "Progress Bar: 100%|████████████████████████████████████████████████████████████████████| 10/10 [00:19<00:00,  1.92s/it]\n"
     ]
    },
    {
     "name": "stdout",
     "output_type": "stream",
     "text": [
      "Fedavg:\n",
      "313/313 [==============================] - 2s 6ms/step\n",
      "comm_round: 43 | global_acc: 59.560% | global_loss: 1.9082363843917847\n"
     ]
    },
    {
     "name": "stderr",
     "output_type": "stream",
     "text": [
      "Progress Bar: 100%|████████████████████████████████████████████████████████████████████| 10/10 [00:19<00:00,  1.92s/it]\n"
     ]
    },
    {
     "name": "stdout",
     "output_type": "stream",
     "text": [
      "Fedavg:\n",
      "313/313 [==============================] - 2s 6ms/step\n",
      "comm_round: 44 | global_acc: 59.340% | global_loss: 1.90413498878479\n"
     ]
    },
    {
     "name": "stderr",
     "output_type": "stream",
     "text": [
      "Progress Bar: 100%|████████████████████████████████████████████████████████████████████| 10/10 [00:19<00:00,  1.92s/it]\n"
     ]
    },
    {
     "name": "stdout",
     "output_type": "stream",
     "text": [
      "Fedavg:\n",
      "313/313 [==============================] - 2s 6ms/step\n",
      "comm_round: 45 | global_acc: 59.890% | global_loss: 1.9010519981384277\n"
     ]
    },
    {
     "name": "stderr",
     "output_type": "stream",
     "text": [
      "Progress Bar: 100%|████████████████████████████████████████████████████████████████████| 10/10 [00:19<00:00,  1.92s/it]\n"
     ]
    },
    {
     "name": "stdout",
     "output_type": "stream",
     "text": [
      "Fedavg:\n",
      "313/313 [==============================] - 2s 6ms/step\n",
      "comm_round: 46 | global_acc: 59.760% | global_loss: 1.8979119062423706\n"
     ]
    },
    {
     "name": "stderr",
     "output_type": "stream",
     "text": [
      "Progress Bar: 100%|████████████████████████████████████████████████████████████████████| 10/10 [00:19<00:00,  1.91s/it]\n"
     ]
    },
    {
     "name": "stdout",
     "output_type": "stream",
     "text": [
      "Fedavg:\n",
      "313/313 [==============================] - 2s 6ms/step\n",
      "comm_round: 47 | global_acc: 59.450% | global_loss: 1.8989884853363037\n"
     ]
    },
    {
     "name": "stderr",
     "output_type": "stream",
     "text": [
      "Progress Bar: 100%|████████████████████████████████████████████████████████████████████| 10/10 [00:19<00:00,  1.90s/it]\n"
     ]
    },
    {
     "name": "stdout",
     "output_type": "stream",
     "text": [
      "Fedavg:\n",
      "313/313 [==============================] - 2s 6ms/step\n",
      "comm_round: 48 | global_acc: 59.870% | global_loss: 1.8984215259552002\n"
     ]
    },
    {
     "name": "stderr",
     "output_type": "stream",
     "text": [
      "Progress Bar: 100%|████████████████████████████████████████████████████████████████████| 10/10 [00:19<00:00,  1.91s/it]\n"
     ]
    },
    {
     "name": "stdout",
     "output_type": "stream",
     "text": [
      "Fedavg:\n",
      "313/313 [==============================] - 2s 6ms/step\n",
      "comm_round: 49 | global_acc: 60.270% | global_loss: 1.8945034742355347\n"
     ]
    },
    {
     "name": "stderr",
     "output_type": "stream",
     "text": [
      "Progress Bar: 100%|████████████████████████████████████████████████████████████████████| 10/10 [00:19<00:00,  1.94s/it]\n"
     ]
    },
    {
     "name": "stdout",
     "output_type": "stream",
     "text": [
      "Fedavg:\n",
      "313/313 [==============================] - 2s 6ms/step\n",
      "comm_round: 50 | global_acc: 60.450% | global_loss: 1.8915791511535645\n"
     ]
    },
    {
     "name": "stderr",
     "output_type": "stream",
     "text": [
      "Progress Bar: 100%|████████████████████████████████████████████████████████████████████| 10/10 [00:19<00:00,  1.91s/it]\n"
     ]
    },
    {
     "name": "stdout",
     "output_type": "stream",
     "text": [
      "Fedavg:\n",
      "313/313 [==============================] - 2s 6ms/step\n",
      "comm_round: 51 | global_acc: 59.860% | global_loss: 1.8926726579666138\n"
     ]
    },
    {
     "name": "stderr",
     "output_type": "stream",
     "text": [
      "Progress Bar: 100%|████████████████████████████████████████████████████████████████████| 10/10 [00:19<00:00,  1.93s/it]\n"
     ]
    },
    {
     "name": "stdout",
     "output_type": "stream",
     "text": [
      "Fedavg:\n",
      "313/313 [==============================] - 2s 6ms/step\n",
      "comm_round: 52 | global_acc: 60.370% | global_loss: 1.8871017694473267\n"
     ]
    },
    {
     "name": "stderr",
     "output_type": "stream",
     "text": [
      "Progress Bar: 100%|████████████████████████████████████████████████████████████████████| 10/10 [00:20<00:00,  2.03s/it]\n"
     ]
    },
    {
     "name": "stdout",
     "output_type": "stream",
     "text": [
      "Fedavg:\n",
      "313/313 [==============================] - 2s 7ms/step\n",
      "comm_round: 53 | global_acc: 60.800% | global_loss: 1.8844929933547974\n"
     ]
    },
    {
     "name": "stderr",
     "output_type": "stream",
     "text": [
      "Progress Bar: 100%|████████████████████████████████████████████████████████████████████| 10/10 [00:22<00:00,  2.22s/it]\n"
     ]
    },
    {
     "name": "stdout",
     "output_type": "stream",
     "text": [
      "Fedavg:\n",
      "313/313 [==============================] - 2s 6ms/step\n",
      "comm_round: 54 | global_acc: 60.530% | global_loss: 1.8845347166061401\n"
     ]
    },
    {
     "name": "stderr",
     "output_type": "stream",
     "text": [
      "Progress Bar: 100%|████████████████████████████████████████████████████████████████████| 10/10 [00:19<00:00,  1.94s/it]\n"
     ]
    },
    {
     "name": "stdout",
     "output_type": "stream",
     "text": [
      "Fedavg:\n",
      "313/313 [==============================] - 2s 6ms/step\n",
      "comm_round: 55 | global_acc: 60.930% | global_loss: 1.8824222087860107\n"
     ]
    },
    {
     "name": "stderr",
     "output_type": "stream",
     "text": [
      "Progress Bar: 100%|████████████████████████████████████████████████████████████████████| 10/10 [00:19<00:00,  1.96s/it]\n"
     ]
    },
    {
     "name": "stdout",
     "output_type": "stream",
     "text": [
      "Fedavg:\n",
      "313/313 [==============================] - 2s 6ms/step\n",
      "comm_round: 56 | global_acc: 61.200% | global_loss: 1.881210207939148\n"
     ]
    },
    {
     "name": "stderr",
     "output_type": "stream",
     "text": [
      "Progress Bar: 100%|████████████████████████████████████████████████████████████████████| 10/10 [00:20<00:00,  2.00s/it]\n"
     ]
    },
    {
     "name": "stdout",
     "output_type": "stream",
     "text": [
      "Fedavg:\n",
      "313/313 [==============================] - 2s 6ms/step\n",
      "comm_round: 57 | global_acc: 61.040% | global_loss: 1.8818527460098267\n"
     ]
    },
    {
     "name": "stderr",
     "output_type": "stream",
     "text": [
      "Progress Bar: 100%|████████████████████████████████████████████████████████████████████| 10/10 [00:21<00:00,  2.12s/it]\n"
     ]
    },
    {
     "name": "stdout",
     "output_type": "stream",
     "text": [
      "Fedavg:\n",
      "313/313 [==============================] - 2s 7ms/step\n",
      "comm_round: 58 | global_acc: 61.410% | global_loss: 1.8732622861862183\n"
     ]
    },
    {
     "name": "stderr",
     "output_type": "stream",
     "text": [
      "Progress Bar: 100%|████████████████████████████████████████████████████████████████████| 10/10 [00:20<00:00,  2.05s/it]\n"
     ]
    },
    {
     "name": "stdout",
     "output_type": "stream",
     "text": [
      "Fedavg:\n",
      "313/313 [==============================] - 2s 6ms/step\n",
      "comm_round: 59 | global_acc: 61.250% | global_loss: 1.880266785621643\n"
     ]
    },
    {
     "name": "stderr",
     "output_type": "stream",
     "text": [
      "Progress Bar: 100%|████████████████████████████████████████████████████████████████████| 10/10 [00:20<00:00,  2.03s/it]\n"
     ]
    },
    {
     "name": "stdout",
     "output_type": "stream",
     "text": [
      "Fedavg:\n",
      "313/313 [==============================] - 2s 7ms/step\n",
      "comm_round: 60 | global_acc: 60.980% | global_loss: 1.8776167631149292\n"
     ]
    },
    {
     "name": "stderr",
     "output_type": "stream",
     "text": [
      "Progress Bar: 100%|████████████████████████████████████████████████████████████████████| 10/10 [00:20<00:00,  2.07s/it]\n"
     ]
    },
    {
     "name": "stdout",
     "output_type": "stream",
     "text": [
      "Fedavg:\n",
      "313/313 [==============================] - 2s 6ms/step\n",
      "comm_round: 61 | global_acc: 61.250% | global_loss: 1.8728468418121338\n"
     ]
    },
    {
     "name": "stderr",
     "output_type": "stream",
     "text": [
      "Progress Bar: 100%|████████████████████████████████████████████████████████████████████| 10/10 [00:19<00:00,  1.96s/it]\n"
     ]
    },
    {
     "name": "stdout",
     "output_type": "stream",
     "text": [
      "Fedavg:\n",
      "313/313 [==============================] - 2s 6ms/step\n",
      "comm_round: 62 | global_acc: 61.330% | global_loss: 1.872310996055603\n"
     ]
    },
    {
     "name": "stderr",
     "output_type": "stream",
     "text": [
      "Progress Bar: 100%|████████████████████████████████████████████████████████████████████| 10/10 [00:20<00:00,  2.10s/it]\n"
     ]
    },
    {
     "name": "stdout",
     "output_type": "stream",
     "text": [
      "Fedavg:\n",
      "313/313 [==============================] - 2s 6ms/step\n",
      "comm_round: 63 | global_acc: 60.820% | global_loss: 1.874997615814209\n"
     ]
    },
    {
     "name": "stderr",
     "output_type": "stream",
     "text": [
      "Progress Bar: 100%|████████████████████████████████████████████████████████████████████| 10/10 [00:21<00:00,  2.15s/it]\n"
     ]
    },
    {
     "name": "stdout",
     "output_type": "stream",
     "text": [
      "Fedavg:\n",
      "313/313 [==============================] - 2s 7ms/step\n",
      "comm_round: 64 | global_acc: 61.350% | global_loss: 1.8722140789031982\n"
     ]
    },
    {
     "name": "stderr",
     "output_type": "stream",
     "text": [
      "Progress Bar: 100%|████████████████████████████████████████████████████████████████████| 10/10 [00:21<00:00,  2.19s/it]\n"
     ]
    },
    {
     "name": "stdout",
     "output_type": "stream",
     "text": [
      "Fedavg:\n",
      "313/313 [==============================] - 2s 7ms/step\n",
      "comm_round: 65 | global_acc: 61.190% | global_loss: 1.8746273517608643\n"
     ]
    },
    {
     "name": "stderr",
     "output_type": "stream",
     "text": [
      "Progress Bar: 100%|████████████████████████████████████████████████████████████████████| 10/10 [00:20<00:00,  2.09s/it]\n"
     ]
    },
    {
     "name": "stdout",
     "output_type": "stream",
     "text": [
      "Fedavg:\n",
      "313/313 [==============================] - 2s 6ms/step\n",
      "comm_round: 66 | global_acc: 61.370% | global_loss: 1.8703162670135498\n"
     ]
    },
    {
     "name": "stderr",
     "output_type": "stream",
     "text": [
      "Progress Bar: 100%|████████████████████████████████████████████████████████████████████| 10/10 [00:21<00:00,  2.11s/it]\n"
     ]
    },
    {
     "name": "stdout",
     "output_type": "stream",
     "text": [
      "Fedavg:\n",
      "313/313 [==============================] - 2s 7ms/step\n",
      "comm_round: 67 | global_acc: 61.840% | global_loss: 1.8669641017913818\n"
     ]
    },
    {
     "name": "stderr",
     "output_type": "stream",
     "text": [
      "Progress Bar: 100%|████████████████████████████████████████████████████████████████████| 10/10 [00:22<00:00,  2.27s/it]\n"
     ]
    },
    {
     "name": "stdout",
     "output_type": "stream",
     "text": [
      "Fedavg:\n",
      "313/313 [==============================] - 2s 7ms/step\n",
      "comm_round: 68 | global_acc: 61.420% | global_loss: 1.8683515787124634\n"
     ]
    },
    {
     "name": "stderr",
     "output_type": "stream",
     "text": [
      "Progress Bar: 100%|████████████████████████████████████████████████████████████████████| 10/10 [00:21<00:00,  2.14s/it]\n"
     ]
    },
    {
     "name": "stdout",
     "output_type": "stream",
     "text": [
      "Fedavg:\n",
      "313/313 [==============================] - 2s 7ms/step\n",
      "comm_round: 69 | global_acc: 61.920% | global_loss: 1.8632537126541138\n"
     ]
    },
    {
     "name": "stderr",
     "output_type": "stream",
     "text": [
      "Progress Bar: 100%|████████████████████████████████████████████████████████████████████| 10/10 [00:22<00:00,  2.21s/it]\n"
     ]
    },
    {
     "name": "stdout",
     "output_type": "stream",
     "text": [
      "Fedavg:\n",
      "313/313 [==============================] - 2s 6ms/step\n",
      "comm_round: 70 | global_acc: 61.910% | global_loss: 1.8699980974197388\n"
     ]
    },
    {
     "name": "stderr",
     "output_type": "stream",
     "text": [
      "Progress Bar: 100%|████████████████████████████████████████████████████████████████████| 10/10 [00:22<00:00,  2.28s/it]\n"
     ]
    },
    {
     "name": "stdout",
     "output_type": "stream",
     "text": [
      "Fedavg:\n",
      "313/313 [==============================] - 2s 7ms/step\n",
      "comm_round: 71 | global_acc: 62.070% | global_loss: 1.8626999855041504\n"
     ]
    },
    {
     "name": "stderr",
     "output_type": "stream",
     "text": [
      "Progress Bar: 100%|████████████████████████████████████████████████████████████████████| 10/10 [00:22<00:00,  2.23s/it]\n"
     ]
    },
    {
     "name": "stdout",
     "output_type": "stream",
     "text": [
      "Fedavg:\n",
      "313/313 [==============================] - 2s 7ms/step\n",
      "comm_round: 72 | global_acc: 62.010% | global_loss: 1.8604862689971924\n"
     ]
    },
    {
     "name": "stderr",
     "output_type": "stream",
     "text": [
      "Progress Bar: 100%|████████████████████████████████████████████████████████████████████| 10/10 [00:21<00:00,  2.15s/it]\n"
     ]
    },
    {
     "name": "stdout",
     "output_type": "stream",
     "text": [
      "Fedavg:\n",
      "313/313 [==============================] - 2s 7ms/step\n",
      "comm_round: 73 | global_acc: 62.140% | global_loss: 1.8574738502502441\n"
     ]
    },
    {
     "name": "stderr",
     "output_type": "stream",
     "text": [
      "Progress Bar: 100%|████████████████████████████████████████████████████████████████████| 10/10 [00:22<00:00,  2.21s/it]\n"
     ]
    },
    {
     "name": "stdout",
     "output_type": "stream",
     "text": [
      "Fedavg:\n",
      "313/313 [==============================] - 2s 7ms/step\n",
      "comm_round: 74 | global_acc: 62.720% | global_loss: 1.8574340343475342\n"
     ]
    },
    {
     "name": "stderr",
     "output_type": "stream",
     "text": [
      "Progress Bar: 100%|████████████████████████████████████████████████████████████████████| 10/10 [00:22<00:00,  2.27s/it]\n"
     ]
    },
    {
     "name": "stdout",
     "output_type": "stream",
     "text": [
      "Fedavg:\n",
      "313/313 [==============================] - 2s 7ms/step\n",
      "comm_round: 75 | global_acc: 62.870% | global_loss: 1.8569470643997192\n"
     ]
    },
    {
     "name": "stderr",
     "output_type": "stream",
     "text": [
      "Progress Bar: 100%|████████████████████████████████████████████████████████████████████| 10/10 [00:22<00:00,  2.28s/it]\n"
     ]
    },
    {
     "name": "stdout",
     "output_type": "stream",
     "text": [
      "Fedavg:\n",
      "313/313 [==============================] - 2s 7ms/step\n",
      "comm_round: 76 | global_acc: 62.650% | global_loss: 1.8593088388442993\n"
     ]
    },
    {
     "name": "stderr",
     "output_type": "stream",
     "text": [
      "Progress Bar: 100%|████████████████████████████████████████████████████████████████████| 10/10 [00:22<00:00,  2.27s/it]\n"
     ]
    },
    {
     "name": "stdout",
     "output_type": "stream",
     "text": [
      "Fedavg:\n",
      "313/313 [==============================] - 2s 6ms/step\n",
      "comm_round: 77 | global_acc: 62.450% | global_loss: 1.8544585704803467\n"
     ]
    },
    {
     "name": "stderr",
     "output_type": "stream",
     "text": [
      "Progress Bar: 100%|████████████████████████████████████████████████████████████████████| 10/10 [00:23<00:00,  2.31s/it]\n"
     ]
    },
    {
     "name": "stdout",
     "output_type": "stream",
     "text": [
      "Fedavg:\n",
      "313/313 [==============================] - 2s 8ms/step\n",
      "comm_round: 78 | global_acc: 61.720% | global_loss: 1.8602070808410645\n"
     ]
    },
    {
     "name": "stderr",
     "output_type": "stream",
     "text": [
      "Progress Bar: 100%|████████████████████████████████████████████████████████████████████| 10/10 [00:23<00:00,  2.37s/it]\n"
     ]
    },
    {
     "name": "stdout",
     "output_type": "stream",
     "text": [
      "Fedavg:\n",
      "313/313 [==============================] - 2s 7ms/step\n",
      "comm_round: 79 | global_acc: 62.540% | global_loss: 1.855621099472046\n"
     ]
    },
    {
     "name": "stderr",
     "output_type": "stream",
     "text": [
      "Progress Bar: 100%|████████████████████████████████████████████████████████████████████| 10/10 [00:23<00:00,  2.34s/it]\n"
     ]
    },
    {
     "name": "stdout",
     "output_type": "stream",
     "text": [
      "Fedavg:\n",
      "313/313 [==============================] - 2s 7ms/step\n",
      "comm_round: 80 | global_acc: 62.590% | global_loss: 1.8568583726882935\n"
     ]
    },
    {
     "name": "stderr",
     "output_type": "stream",
     "text": [
      "Progress Bar: 100%|████████████████████████████████████████████████████████████████████| 10/10 [00:23<00:00,  2.33s/it]\n"
     ]
    },
    {
     "name": "stdout",
     "output_type": "stream",
     "text": [
      "Fedavg:\n",
      "313/313 [==============================] - 2s 7ms/step\n",
      "comm_round: 81 | global_acc: 62.260% | global_loss: 1.8563193082809448\n"
     ]
    },
    {
     "name": "stderr",
     "output_type": "stream",
     "text": [
      "Progress Bar: 100%|████████████████████████████████████████████████████████████████████| 10/10 [00:21<00:00,  2.12s/it]\n"
     ]
    },
    {
     "name": "stdout",
     "output_type": "stream",
     "text": [
      "Fedavg:\n",
      "313/313 [==============================] - 2s 6ms/step\n",
      "comm_round: 82 | global_acc: 62.760% | global_loss: 1.8563721179962158\n"
     ]
    },
    {
     "name": "stderr",
     "output_type": "stream",
     "text": [
      "Progress Bar: 100%|████████████████████████████████████████████████████████████████████| 10/10 [00:20<00:00,  2.06s/it]\n"
     ]
    },
    {
     "name": "stdout",
     "output_type": "stream",
     "text": [
      "Fedavg:\n",
      "313/313 [==============================] - 2s 6ms/step\n",
      "comm_round: 83 | global_acc: 62.410% | global_loss: 1.8524812459945679\n"
     ]
    },
    {
     "name": "stderr",
     "output_type": "stream",
     "text": [
      "Progress Bar: 100%|████████████████████████████████████████████████████████████████████| 10/10 [00:21<00:00,  2.11s/it]\n"
     ]
    },
    {
     "name": "stdout",
     "output_type": "stream",
     "text": [
      "Fedavg:\n",
      "313/313 [==============================] - 2s 6ms/step\n",
      "comm_round: 84 | global_acc: 62.740% | global_loss: 1.8513211011886597\n"
     ]
    },
    {
     "name": "stderr",
     "output_type": "stream",
     "text": [
      "Progress Bar: 100%|████████████████████████████████████████████████████████████████████| 10/10 [00:24<00:00,  2.41s/it]\n"
     ]
    },
    {
     "name": "stdout",
     "output_type": "stream",
     "text": [
      "Fedavg:\n",
      "313/313 [==============================] - 2s 6ms/step\n",
      "comm_round: 85 | global_acc: 62.300% | global_loss: 1.8519392013549805\n"
     ]
    },
    {
     "name": "stderr",
     "output_type": "stream",
     "text": [
      "Progress Bar: 100%|████████████████████████████████████████████████████████████████████| 10/10 [00:24<00:00,  2.44s/it]\n"
     ]
    },
    {
     "name": "stdout",
     "output_type": "stream",
     "text": [
      "Fedavg:\n",
      "313/313 [==============================] - 2s 7ms/step\n",
      "comm_round: 86 | global_acc: 62.920% | global_loss: 1.853255271911621\n"
     ]
    },
    {
     "name": "stderr",
     "output_type": "stream",
     "text": [
      "Progress Bar: 100%|████████████████████████████████████████████████████████████████████| 10/10 [00:24<00:00,  2.41s/it]\n"
     ]
    },
    {
     "name": "stdout",
     "output_type": "stream",
     "text": [
      "Fedavg:\n",
      "313/313 [==============================] - 3s 8ms/step\n",
      "comm_round: 87 | global_acc: 63.180% | global_loss: 1.8484853506088257\n"
     ]
    },
    {
     "name": "stderr",
     "output_type": "stream",
     "text": [
      "Progress Bar: 100%|████████████████████████████████████████████████████████████████████| 10/10 [00:23<00:00,  2.38s/it]\n"
     ]
    },
    {
     "name": "stdout",
     "output_type": "stream",
     "text": [
      "Fedavg:\n",
      "313/313 [==============================] - 2s 6ms/step\n",
      "comm_round: 88 | global_acc: 62.910% | global_loss: 1.8526427745819092\n"
     ]
    },
    {
     "name": "stderr",
     "output_type": "stream",
     "text": [
      "Progress Bar: 100%|████████████████████████████████████████████████████████████████████| 10/10 [00:26<00:00,  2.60s/it]\n"
     ]
    },
    {
     "name": "stdout",
     "output_type": "stream",
     "text": [
      "Fedavg:\n",
      "313/313 [==============================] - 2s 7ms/step\n",
      "comm_round: 89 | global_acc: 62.800% | global_loss: 1.8493359088897705\n"
     ]
    },
    {
     "name": "stderr",
     "output_type": "stream",
     "text": [
      "Progress Bar: 100%|████████████████████████████████████████████████████████████████████| 10/10 [00:22<00:00,  2.24s/it]\n"
     ]
    },
    {
     "name": "stdout",
     "output_type": "stream",
     "text": [
      "Fedavg:\n",
      "313/313 [==============================] - 2s 6ms/step\n",
      "comm_round: 90 | global_acc: 63.160% | global_loss: 1.84773850440979\n"
     ]
    },
    {
     "name": "stderr",
     "output_type": "stream",
     "text": [
      "Progress Bar: 100%|████████████████████████████████████████████████████████████████████| 10/10 [00:20<00:00,  2.01s/it]\n"
     ]
    },
    {
     "name": "stdout",
     "output_type": "stream",
     "text": [
      "Fedavg:\n",
      "313/313 [==============================] - 2s 6ms/step\n",
      "comm_round: 91 | global_acc: 63.440% | global_loss: 1.845346450805664\n"
     ]
    },
    {
     "name": "stderr",
     "output_type": "stream",
     "text": [
      "Progress Bar: 100%|████████████████████████████████████████████████████████████████████| 10/10 [00:21<00:00,  2.14s/it]\n"
     ]
    },
    {
     "name": "stdout",
     "output_type": "stream",
     "text": [
      "Fedavg:\n",
      "313/313 [==============================] - 2s 6ms/step\n",
      "comm_round: 92 | global_acc: 62.920% | global_loss: 1.8512179851531982\n"
     ]
    },
    {
     "name": "stderr",
     "output_type": "stream",
     "text": [
      "Progress Bar: 100%|████████████████████████████████████████████████████████████████████| 10/10 [00:23<00:00,  2.40s/it]\n"
     ]
    },
    {
     "name": "stdout",
     "output_type": "stream",
     "text": [
      "Fedavg:\n",
      "313/313 [==============================] - 2s 5ms/step\n",
      "comm_round: 93 | global_acc: 63.090% | global_loss: 1.850061297416687\n"
     ]
    },
    {
     "name": "stderr",
     "output_type": "stream",
     "text": [
      "Progress Bar: 100%|████████████████████████████████████████████████████████████████████| 10/10 [00:21<00:00,  2.18s/it]\n"
     ]
    },
    {
     "name": "stdout",
     "output_type": "stream",
     "text": [
      "Fedavg:\n",
      "313/313 [==============================] - 2s 7ms/step\n",
      "comm_round: 94 | global_acc: 63.070% | global_loss: 1.8480398654937744\n"
     ]
    },
    {
     "name": "stderr",
     "output_type": "stream",
     "text": [
      "Progress Bar: 100%|████████████████████████████████████████████████████████████████████| 10/10 [00:25<00:00,  2.59s/it]\n"
     ]
    },
    {
     "name": "stdout",
     "output_type": "stream",
     "text": [
      "Fedavg:\n",
      "313/313 [==============================] - 2s 7ms/step\n",
      "comm_round: 95 | global_acc: 62.820% | global_loss: 1.850721836090088\n"
     ]
    },
    {
     "name": "stderr",
     "output_type": "stream",
     "text": [
      "Progress Bar: 100%|████████████████████████████████████████████████████████████████████| 10/10 [00:25<00:00,  2.52s/it]\n"
     ]
    },
    {
     "name": "stdout",
     "output_type": "stream",
     "text": [
      "Fedavg:\n",
      "313/313 [==============================] - 2s 7ms/step\n",
      "comm_round: 96 | global_acc: 62.980% | global_loss: 1.8463562726974487\n"
     ]
    },
    {
     "name": "stderr",
     "output_type": "stream",
     "text": [
      "Progress Bar: 100%|████████████████████████████████████████████████████████████████████| 10/10 [00:24<00:00,  2.50s/it]\n"
     ]
    },
    {
     "name": "stdout",
     "output_type": "stream",
     "text": [
      "Fedavg:\n",
      "313/313 [==============================] - 2s 7ms/step\n",
      "comm_round: 97 | global_acc: 63.200% | global_loss: 1.846519112586975\n"
     ]
    },
    {
     "name": "stderr",
     "output_type": "stream",
     "text": [
      "Progress Bar: 100%|████████████████████████████████████████████████████████████████████| 10/10 [00:23<00:00,  2.32s/it]\n"
     ]
    },
    {
     "name": "stdout",
     "output_type": "stream",
     "text": [
      "Fedavg:\n",
      "313/313 [==============================] - 2s 7ms/step\n",
      "comm_round: 98 | global_acc: 62.980% | global_loss: 1.8436193466186523\n"
     ]
    },
    {
     "name": "stderr",
     "output_type": "stream",
     "text": [
      "Progress Bar: 100%|████████████████████████████████████████████████████████████████████| 10/10 [00:22<00:00,  2.30s/it]\n"
     ]
    },
    {
     "name": "stdout",
     "output_type": "stream",
     "text": [
      "Fedavg:\n",
      "313/313 [==============================] - 2s 6ms/step\n",
      "comm_round: 99 | global_acc: 63.300% | global_loss: 1.8423453569412231\n"
     ]
    }
   ],
   "source": [
    "#commence global training loop\n",
    "#participation ratio of clients at each round\n",
    "C=0.1\n",
    "X_com=[]\n",
    "Y_acc_avg_up=[]\n",
    "Y_loss_avg_up=[]\n",
    "Y_acc_avg=[]\n",
    "Y_loss_avg=[]\n",
    "\n",
    "for comm_round in range(comms_round):\n",
    "    \n",
    "    # get the global model's weights - will serve as the initial weights for all local models\n",
    "    #This function returns a list consisting of NumPy arrays. The first array gives the weights of the layer and \n",
    "    #the second array gives the biases.\n",
    "    global_weights1= global_model1.get_weights()\n",
    "    #initial list to collect local model weights after scalling\n",
    "    scaled_local_weight_list1 = list()\n",
    "    #randomize client data - using keys\n",
    "    client_names= list(clients_batched.keys()) #Here client name has been stored in client_names\n",
    "    random.shuffle(client_names)\n",
    "    client_names=client_names[0:int(max(C*len(clients),1))]\n",
    "    \n",
    "    #loop through each client and create new local model\n",
    "    for client in tqdm(client_names , desc = 'Progress Bar'):\n",
    "        #time.sleep(0.5)\n",
    "        local_model1 = global_model1\n",
    "        \n",
    "        #set local model weight to the weight of the global model\n",
    "        #local_model.set_weights(global_weights)\n",
    "        \n",
    "        # get the batched data for the client\n",
    "        client_data = clients_batched[client]\n",
    "        \n",
    "        # get the number of batches in the client's data\n",
    "        num_batches = tf.data.experimental.cardinality(client_data)\n",
    "            \n",
    "        for batch in client_data:\n",
    "            X, y = batch\n",
    "            bs = len(X)\n",
    "            local_model1.fit(X, y, epochs=E, verbose=0, batch_size=bs)\n",
    "            \n",
    "        #scale the model weights and add to list\n",
    "        scaling_factor = weight_scalling_factor(clients_batched, client,client_names)\n",
    "        #Now each attributes weights has been multiplied by scalling factor for each client\n",
    "        scaled_weights1 = scale_model_weights(local_model1.get_weights(), scaling_factor)\n",
    "        #scaled weight list now stored for each client\n",
    "        scaled_local_weight_list1.append(scaled_weights1)\n",
    "        #clear session to free memory after each communication round\n",
    "        K.clear_session()\n",
    "        \n",
    "    #to get the average over all the local model, we simply take the sum of the scaled weights\n",
    "    average_weights1 = sum_scaled_weights(scaled_local_weight_list1)\n",
    "        \n",
    "    #update global model \n",
    "    global_model1.set_weights(average_weights1)\n",
    "\n",
    "    #test global model and print out metrics after each communications round\n",
    "    for(X_test, Y_test) in test_batched:\n",
    "        print('Fedavg:')\n",
    "        global_acc, global_loss = test_model(X_test, Y_test, global_model1,comm_round)\n",
    "        X_com.append(comm_round)\n",
    "        Y_acc_avg_up.append(global_acc)\n",
    "        Y_loss_avg_up.append(global_loss)"
   ]
  },
  {
   "cell_type": "code",
   "execution_count": 34,
   "id": "8e8c2ceb",
   "metadata": {},
   "outputs": [
    {
     "data": {
      "image/png": "[encoded data removed]",
      "text/plain": [
       "<Figure size 504x504 with 1 Axes>"
      ]
     },
     "metadata": {
      "needs_background": "light"
     },
     "output_type": "display_data"
    }
   ],
   "source": [
    "f = plt.figure()\n",
    "f.set_figwidth(7)\n",
    "f.set_figheight(7)\n",
    "plt.plot(X_com,Y_acc_avg_up,color='orange')\n",
    "plt.title('CIFAR IID ACC')\n",
    "plt.ylabel('Accuracy')\n",
    "plt.xlabel('Communication round')\n",
    "plt.legend(['Fedavg\\nB=50\\nE=1\\nC=0.1'],loc='lower right')\n",
    "plt.show()"
   ]
  },
  {
   "cell_type": "code",
   "execution_count": 35,
   "id": "07d40421",
   "metadata": {},
   "outputs": [
    {
     "data": {
      "image/png": "[encoded data removed]",
      "text/plain": [
       "<Figure size 504x504 with 1 Axes>"
      ]
     },
     "metadata": {
      "needs_background": "light"
     },
     "output_type": "display_data"
    }
   ],
   "source": [
    "f = plt.figure()\n",
    "f.set_figwidth(7)\n",
    "f.set_figheight(7)\n",
    "plt.plot(X_com,Y_loss_avg_up,color='orange')\n",
    "plt.title('CIFAR IID LOSS')\n",
    "plt.ylabel('Loss')\n",
    "plt.xlabel('Communication round')\n",
    "plt.legend(['Fedavg\\nB=50\\nE=1\\nC=0.1'],loc='upper right')\n",
    "plt.show()"
   ]
  },
  {
   "cell_type": "code",
   "execution_count": null,
   "id": "a39909ad",
   "metadata": {},
   "outputs": [],
   "source": []
  }
 ],
 "metadata": {
  "kernelspec": {
   "display_name": "Python 3 (ipykernel)",
   "language": "python",
   "name": "python3"
  },
  "language_info": {
   "codemirror_mode": {
    "name": "ipython",
    "version": 3
   },
   "file_extension": ".py",
   "mimetype": "text/x-python",
   "name": "python",
   "nbconvert_exporter": "python",
   "pygments_lexer": "ipython3",
   "version": "3.9.0"
  }
 },
 "nbformat": 4,
 "nbformat_minor": 5
}
